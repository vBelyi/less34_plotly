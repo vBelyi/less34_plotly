{
 "cells": [
  {
   "cell_type": "code",
   "execution_count": 16,
   "id": "52d2df31",
   "metadata": {},
   "outputs": [
    {
     "name": "stdout",
     "output_type": "stream",
     "text": [
      "Defaulting to user installation because normal site-packages is not writeable\n",
      "Requirement already satisfied: plotly in c:\\anaconda3\\lib\\site-packages (5.9.0)\n",
      "Requirement already satisfied: tenacity>=6.2.0 in c:\\anaconda3\\lib\\site-packages (from plotly) (8.0.1)\n"
     ]
    }
   ],
   "source": [
    "!pip install plotly"
   ]
  },
  {
   "cell_type": "code",
   "execution_count": 17,
   "id": "11b921b9",
   "metadata": {},
   "outputs": [],
   "source": [
    "import plotly.express as px\n",
    "import pandas as pd\n",
    "from plotly.subplots import make_subplots\n",
    "import plotly.graph_objects as go"
   ]
  },
  {
   "cell_type": "code",
   "execution_count": 19,
   "id": "3401dc36",
   "metadata": {},
   "outputs": [
    {
     "data": {
      "text/html": [
       "<div>\n",
       "<style scoped>\n",
       "    .dataframe tbody tr th:only-of-type {\n",
       "        vertical-align: middle;\n",
       "    }\n",
       "\n",
       "    .dataframe tbody tr th {\n",
       "        vertical-align: top;\n",
       "    }\n",
       "\n",
       "    .dataframe thead th {\n",
       "        text-align: right;\n",
       "    }\n",
       "</style>\n",
       "<table border=\"1\" class=\"dataframe\">\n",
       "  <thead>\n",
       "    <tr style=\"text-align: right;\">\n",
       "      <th></th>\n",
       "      <th>Штат</th>\n",
       "      <th>Столиця</th>\n",
       "      <th>Населення</th>\n",
       "      <th>Дохід на душу населення $ на рік</th>\n",
       "      <th>Площа території км.кв.</th>\n",
       "      <th>Наявність метрополітену</th>\n",
       "    </tr>\n",
       "  </thead>\n",
       "  <tbody>\n",
       "    <tr>\n",
       "      <th>0</th>\n",
       "      <td>Алабама</td>\n",
       "      <td>Монтгомері</td>\n",
       "      <td>198218</td>\n",
       "      <td>51113</td>\n",
       "      <td>160.44</td>\n",
       "      <td>Ні</td>\n",
       "    </tr>\n",
       "    <tr>\n",
       "      <th>1</th>\n",
       "      <td>Аляска</td>\n",
       "      <td>Джуно</td>\n",
       "      <td>32113</td>\n",
       "      <td>85296</td>\n",
       "      <td>8.43</td>\n",
       "      <td>Ні</td>\n",
       "    </tr>\n",
       "    <tr>\n",
       "      <th>2</th>\n",
       "      <td>Аризона</td>\n",
       "      <td>Фінікс</td>\n",
       "      <td>1752316</td>\n",
       "      <td>65057</td>\n",
       "      <td>1338.28</td>\n",
       "      <td>Так</td>\n",
       "    </tr>\n",
       "    <tr>\n",
       "      <th>3</th>\n",
       "      <td>Арканзас</td>\n",
       "      <td>Літл-Рок</td>\n",
       "      <td>197312</td>\n",
       "      <td>48892</td>\n",
       "      <td>303.26</td>\n",
       "      <td>Так</td>\n",
       "    </tr>\n",
       "    <tr>\n",
       "      <th>4</th>\n",
       "      <td>Каліфорнія</td>\n",
       "      <td>Сакраменто</td>\n",
       "      <td>524943</td>\n",
       "      <td>76662</td>\n",
       "      <td>259.27</td>\n",
       "      <td>Так</td>\n",
       "    </tr>\n",
       "    <tr>\n",
       "      <th>5</th>\n",
       "      <td>Колорадо</td>\n",
       "      <td>Денвер</td>\n",
       "      <td>735538</td>\n",
       "      <td>77398</td>\n",
       "      <td>401.27</td>\n",
       "      <td>Так</td>\n",
       "    </tr>\n",
       "    <tr>\n",
       "      <th>6</th>\n",
       "      <td>Коннектикут</td>\n",
       "      <td>Гартфорд</td>\n",
       "      <td>122105</td>\n",
       "      <td>44162</td>\n",
       "      <td>46.25</td>\n",
       "      <td>Так</td>\n",
       "    </tr>\n",
       "    <tr>\n",
       "      <th>7</th>\n",
       "      <td>Делавер</td>\n",
       "      <td>Дувер</td>\n",
       "      <td>38142</td>\n",
       "      <td>63273</td>\n",
       "      <td>60.03</td>\n",
       "      <td>Ні</td>\n",
       "    </tr>\n",
       "    <tr>\n",
       "      <th>8</th>\n",
       "      <td>Флорида</td>\n",
       "      <td>Таллахассі</td>\n",
       "      <td>199926</td>\n",
       "      <td>46411</td>\n",
       "      <td>254.52</td>\n",
       "      <td>Ні</td>\n",
       "    </tr>\n",
       "    <tr>\n",
       "      <th>9</th>\n",
       "      <td>Джорджія</td>\n",
       "      <td>Атланта</td>\n",
       "      <td>498715</td>\n",
       "      <td>65345</td>\n",
       "      <td>347.10</td>\n",
       "      <td>Так</td>\n",
       "    </tr>\n",
       "    <tr>\n",
       "      <th>10</th>\n",
       "      <td>Гаваї</td>\n",
       "      <td>Гонолулу</td>\n",
       "      <td>347397</td>\n",
       "      <td>80513</td>\n",
       "      <td>177.22</td>\n",
       "      <td>Так</td>\n",
       "    </tr>\n",
       "    <tr>\n",
       "      <th>11</th>\n",
       "      <td>Айдахо</td>\n",
       "      <td>Бойсе</td>\n",
       "      <td>240380</td>\n",
       "      <td>63918</td>\n",
       "      <td>247.05</td>\n",
       "      <td>Так</td>\n",
       "    </tr>\n",
       "    <tr>\n",
       "      <th>12</th>\n",
       "      <td>Іллінойс</td>\n",
       "      <td>Спрінгфілд</td>\n",
       "      <td>115715</td>\n",
       "      <td>59285</td>\n",
       "      <td>160.03</td>\n",
       "      <td>Ні</td>\n",
       "    </tr>\n",
       "    <tr>\n",
       "      <th>13</th>\n",
       "      <td>Індіана</td>\n",
       "      <td>Індіанаполіс</td>\n",
       "      <td>876384</td>\n",
       "      <td>55752</td>\n",
       "      <td>953.18</td>\n",
       "      <td>Так</td>\n",
       "    </tr>\n",
       "    <tr>\n",
       "      <th>14</th>\n",
       "      <td>Айова</td>\n",
       "      <td>Де-Мойн</td>\n",
       "      <td>217891</td>\n",
       "      <td>65579</td>\n",
       "      <td>222.36</td>\n",
       "      <td>Так</td>\n",
       "    </tr>\n",
       "    <tr>\n",
       "      <th>15</th>\n",
       "      <td>Канзас</td>\n",
       "      <td>Топіка</td>\n",
       "      <td>126587</td>\n",
       "      <td>58197</td>\n",
       "      <td>159.81</td>\n",
       "      <td>Ні</td>\n",
       "    </tr>\n",
       "    <tr>\n",
       "      <th>16</th>\n",
       "      <td>Кентуккі</td>\n",
       "      <td>Франкфорт</td>\n",
       "      <td>28283</td>\n",
       "      <td>46237</td>\n",
       "      <td>37.31</td>\n",
       "      <td>Ні</td>\n",
       "    </tr>\n",
       "    <tr>\n",
       "      <th>17</th>\n",
       "      <td>Луїзіана</td>\n",
       "      <td>Батон-Руж</td>\n",
       "      <td>219531</td>\n",
       "      <td>45426</td>\n",
       "      <td>200.91</td>\n",
       "      <td>Ні</td>\n",
       "    </tr>\n",
       "    <tr>\n",
       "      <th>18</th>\n",
       "      <td>Меріленд</td>\n",
       "      <td>Аннаполіс</td>\n",
       "      <td>39139</td>\n",
       "      <td>102199</td>\n",
       "      <td>19.12</td>\n",
       "      <td>Ні</td>\n",
       "    </tr>\n",
       "    <tr>\n",
       "      <th>19</th>\n",
       "      <td>Массачусетс</td>\n",
       "      <td>Бостон</td>\n",
       "      <td>692600</td>\n",
       "      <td>81827</td>\n",
       "      <td>89.63</td>\n",
       "      <td>Так</td>\n",
       "    </tr>\n",
       "    <tr>\n",
       "      <th>20</th>\n",
       "      <td>Мічиган</td>\n",
       "      <td>Лансінг</td>\n",
       "      <td>119128</td>\n",
       "      <td>53579</td>\n",
       "      <td>95.68</td>\n",
       "      <td>Ні</td>\n",
       "    </tr>\n",
       "    <tr>\n",
       "      <th>21</th>\n",
       "      <td>Міннесота</td>\n",
       "      <td>Сент-Пол</td>\n",
       "      <td>307695</td>\n",
       "      <td>72629</td>\n",
       "      <td>145.98</td>\n",
       "      <td>Так</td>\n",
       "    </tr>\n",
       "    <tr>\n",
       "      <th>22</th>\n",
       "      <td>Міссісіпі</td>\n",
       "      <td>Джексон</td>\n",
       "      <td>143617</td>\n",
       "      <td>38057</td>\n",
       "      <td>276.69</td>\n",
       "      <td>Ні</td>\n",
       "    </tr>\n",
       "    <tr>\n",
       "      <th>23</th>\n",
       "      <td>Міссурі</td>\n",
       "      <td>Джефферсон-Сіті</td>\n",
       "      <td>43079</td>\n",
       "      <td>57348</td>\n",
       "      <td>27.28</td>\n",
       "      <td>Так</td>\n",
       "    </tr>\n",
       "    <tr>\n",
       "      <th>24</th>\n",
       "      <td>Монтана</td>\n",
       "      <td>Гелена</td>\n",
       "      <td>33188</td>\n",
       "      <td>57134</td>\n",
       "      <td>16.47</td>\n",
       "      <td>Ні</td>\n",
       "    </tr>\n",
       "    <tr>\n",
       "      <th>25</th>\n",
       "      <td>Небраска</td>\n",
       "      <td>Лінкольн</td>\n",
       "      <td>287401</td>\n",
       "      <td>60753</td>\n",
       "      <td>202.74</td>\n",
       "      <td>Ні</td>\n",
       "    </tr>\n",
       "    <tr>\n",
       "      <th>26</th>\n",
       "      <td>Невада</td>\n",
       "      <td>Карсон-Сіті</td>\n",
       "      <td>55414</td>\n",
       "      <td>58507</td>\n",
       "      <td>168.68</td>\n",
       "      <td>Ні</td>\n",
       "    </tr>\n",
       "    <tr>\n",
       "      <th>27</th>\n",
       "      <td>Нью-Гемпшир</td>\n",
       "      <td>Конкорд</td>\n",
       "      <td>43167</td>\n",
       "      <td>66825</td>\n",
       "      <td>67.53</td>\n",
       "      <td>Ні</td>\n",
       "    </tr>\n",
       "    <tr>\n",
       "      <th>28</th>\n",
       "      <td>Нью-Джерсі</td>\n",
       "      <td>Трентон</td>\n",
       "      <td>83974</td>\n",
       "      <td>37022</td>\n",
       "      <td>21.15</td>\n",
       "      <td>Ні</td>\n",
       "    </tr>\n",
       "    <tr>\n",
       "      <th>29</th>\n",
       "      <td>Нью-Мексико</td>\n",
       "      <td>Санта-Фе</td>\n",
       "      <td>87521</td>\n",
       "      <td>58618</td>\n",
       "      <td>37.97</td>\n",
       "      <td>Ні</td>\n",
       "    </tr>\n",
       "    <tr>\n",
       "      <th>30</th>\n",
       "      <td>Нью-Йорк</td>\n",
       "      <td>Албані</td>\n",
       "      <td>97856</td>\n",
       "      <td>50405</td>\n",
       "      <td>21.86</td>\n",
       "      <td>Так</td>\n",
       "    </tr>\n",
       "    <tr>\n",
       "      <th>31</th>\n",
       "      <td>Північна Кароліна</td>\n",
       "      <td>Ролі</td>\n",
       "      <td>474069</td>\n",
       "      <td>67146</td>\n",
       "      <td>359.38</td>\n",
       "      <td>Так</td>\n",
       "    </tr>\n",
       "    <tr>\n",
       "      <th>32</th>\n",
       "      <td>Північна Дакота</td>\n",
       "      <td>Бісмарк</td>\n",
       "      <td>73112</td>\n",
       "      <td>66714</td>\n",
       "      <td>31.22</td>\n",
       "      <td>Ні</td>\n",
       "    </tr>\n",
       "    <tr>\n",
       "      <th>33</th>\n",
       "      <td>Огайо</td>\n",
       "      <td>Колумбус</td>\n",
       "      <td>898553</td>\n",
       "      <td>56273</td>\n",
       "      <td>576.95</td>\n",
       "      <td>Так</td>\n",
       "    </tr>\n",
       "    <tr>\n",
       "      <th>34</th>\n",
       "      <td>Оклахома</td>\n",
       "      <td>Оклахома-Сіті</td>\n",
       "      <td>655057</td>\n",
       "      <td>56132</td>\n",
       "      <td>1571.18</td>\n",
       "      <td>Так</td>\n",
       "    </tr>\n",
       "    <tr>\n",
       "      <th>35</th>\n",
       "      <td>Орегон</td>\n",
       "      <td>Сейлем</td>\n",
       "      <td>174365</td>\n",
       "      <td>56137</td>\n",
       "      <td>126.05</td>\n",
       "      <td>Ні</td>\n",
       "    </tr>\n",
       "    <tr>\n",
       "      <th>36</th>\n",
       "      <td>Пенсільванія</td>\n",
       "      <td>Гаррісбург</td>\n",
       "      <td>49229</td>\n",
       "      <td>37923</td>\n",
       "      <td>21.76</td>\n",
       "      <td>Ні</td>\n",
       "    </tr>\n",
       "    <tr>\n",
       "      <th>37</th>\n",
       "      <td>Род-Айленд</td>\n",
       "      <td>Провіденс</td>\n",
       "      <td>179335</td>\n",
       "      <td>47825</td>\n",
       "      <td>53.13</td>\n",
       "      <td>Так</td>\n",
       "    </tr>\n",
       "    <tr>\n",
       "      <th>38</th>\n",
       "      <td>Південна Кароліна</td>\n",
       "      <td>Колумбія</td>\n",
       "      <td>133273</td>\n",
       "      <td>53246</td>\n",
       "      <td>133.13</td>\n",
       "      <td>Ні</td>\n",
       "    </tr>\n",
       "    <tr>\n",
       "      <th>39</th>\n",
       "      <td>Південна Дакота</td>\n",
       "      <td>П'єр</td>\n",
       "      <td>14177</td>\n",
       "      <td>60615</td>\n",
       "      <td>17.07</td>\n",
       "      <td>Ні</td>\n",
       "    </tr>\n",
       "    <tr>\n",
       "      <th>40</th>\n",
       "      <td>Теннессі</td>\n",
       "      <td>Нешвілл</td>\n",
       "      <td>694144</td>\n",
       "      <td>65776</td>\n",
       "      <td>1362.19</td>\n",
       "      <td>Так</td>\n",
       "    </tr>\n",
       "    <tr>\n",
       "      <th>41</th>\n",
       "      <td>Техас</td>\n",
       "      <td>Остін</td>\n",
       "      <td>1012695</td>\n",
       "      <td>65579</td>\n",
       "      <td>332.21</td>\n",
       "      <td>Так</td>\n",
       "    </tr>\n",
       "    <tr>\n",
       "      <th>42</th>\n",
       "      <td>Юта</td>\n",
       "      <td>Солт-Лейк-Сіті</td>\n",
       "      <td>200567</td>\n",
       "      <td>68743</td>\n",
       "      <td>285.91</td>\n",
       "      <td>Так</td>\n",
       "    </tr>\n",
       "    <tr>\n",
       "      <th>43</th>\n",
       "      <td>Вермонт</td>\n",
       "      <td>Монтпельєр</td>\n",
       "      <td>7436</td>\n",
       "      <td>57065</td>\n",
       "      <td>10.33</td>\n",
       "      <td>Ні</td>\n",
       "    </tr>\n",
       "    <tr>\n",
       "      <th>44</th>\n",
       "      <td>Вірджинія</td>\n",
       "      <td>Річмонд</td>\n",
       "      <td>233170</td>\n",
       "      <td>77378</td>\n",
       "      <td>162.08</td>\n",
       "      <td>Так</td>\n",
       "    </tr>\n",
       "    <tr>\n",
       "      <th>45</th>\n",
       "      <td>Вашингтон</td>\n",
       "      <td>Олімпія</td>\n",
       "      <td>54905</td>\n",
       "      <td>62577</td>\n",
       "      <td>50.67</td>\n",
       "      <td>Ні</td>\n",
       "    </tr>\n",
       "    <tr>\n",
       "      <th>46</th>\n",
       "      <td>Західна Вірджинія</td>\n",
       "      <td>Чарлстон</td>\n",
       "      <td>45879</td>\n",
       "      <td>51809</td>\n",
       "      <td>33.87</td>\n",
       "      <td>Ні</td>\n",
       "    </tr>\n",
       "    <tr>\n",
       "      <th>47</th>\n",
       "      <td>Вісконсин</td>\n",
       "      <td>Медісон</td>\n",
       "      <td>259680</td>\n",
       "      <td>68947</td>\n",
       "      <td>148.63</td>\n",
       "      <td>Так</td>\n",
       "    </tr>\n",
       "    <tr>\n",
       "      <th>48</th>\n",
       "      <td>Вайомінг</td>\n",
       "      <td>Шайєнн</td>\n",
       "      <td>64019</td>\n",
       "      <td>63094</td>\n",
       "      <td>61.56</td>\n",
       "      <td>Ні</td>\n",
       "    </tr>\n",
       "  </tbody>\n",
       "</table>\n",
       "</div>"
      ],
      "text/plain": [
       "                 Штат          Столиця  Населення  \\\n",
       "0             Алабама       Монтгомері     198218   \n",
       "1              Аляска            Джуно      32113   \n",
       "2             Аризона           Фінікс    1752316   \n",
       "3            Арканзас         Літл-Рок     197312   \n",
       "4          Каліфорнія       Сакраменто     524943   \n",
       "5            Колорадо           Денвер     735538   \n",
       "6         Коннектикут         Гартфорд     122105   \n",
       "7             Делавер            Дувер      38142   \n",
       "8             Флорида       Таллахассі     199926   \n",
       "9            Джорджія          Атланта     498715   \n",
       "10              Гаваї         Гонолулу     347397   \n",
       "11             Айдахо            Бойсе     240380   \n",
       "12           Іллінойс       Спрінгфілд     115715   \n",
       "13            Індіана     Індіанаполіс     876384   \n",
       "14              Айова          Де-Мойн     217891   \n",
       "15             Канзас           Топіка     126587   \n",
       "16           Кентуккі        Франкфорт      28283   \n",
       "17           Луїзіана        Батон-Руж     219531   \n",
       "18           Меріленд        Аннаполіс      39139   \n",
       "19        Массачусетс           Бостон     692600   \n",
       "20            Мічиган          Лансінг     119128   \n",
       "21          Міннесота         Сент-Пол     307695   \n",
       "22          Міссісіпі          Джексон     143617   \n",
       "23            Міссурі  Джефферсон-Сіті      43079   \n",
       "24            Монтана           Гелена      33188   \n",
       "25           Небраска         Лінкольн     287401   \n",
       "26             Невада      Карсон-Сіті      55414   \n",
       "27        Нью-Гемпшир          Конкорд      43167   \n",
       "28         Нью-Джерсі          Трентон      83974   \n",
       "29        Нью-Мексико         Санта-Фе      87521   \n",
       "30           Нью-Йорк           Албані      97856   \n",
       "31  Північна Кароліна             Ролі     474069   \n",
       "32    Північна Дакота          Бісмарк      73112   \n",
       "33              Огайо         Колумбус     898553   \n",
       "34           Оклахома    Оклахома-Сіті     655057   \n",
       "35             Орегон           Сейлем     174365   \n",
       "36       Пенсільванія       Гаррісбург      49229   \n",
       "37         Род-Айленд        Провіденс     179335   \n",
       "38  Південна Кароліна         Колумбія     133273   \n",
       "39    Південна Дакота             П'єр      14177   \n",
       "40           Теннессі          Нешвілл     694144   \n",
       "41              Техас            Остін    1012695   \n",
       "42                Юта   Солт-Лейк-Сіті     200567   \n",
       "43            Вермонт       Монтпельєр       7436   \n",
       "44          Вірджинія          Річмонд     233170   \n",
       "45          Вашингтон          Олімпія      54905   \n",
       "46  Західна Вірджинія         Чарлстон      45879   \n",
       "47          Вісконсин          Медісон     259680   \n",
       "48           Вайомінг           Шайєнн      64019   \n",
       "\n",
       "    Дохід на душу населення $ на рік  Площа території км.кв.  \\\n",
       "0                              51113                  160.44   \n",
       "1                              85296                    8.43   \n",
       "2                              65057                 1338.28   \n",
       "3                              48892                  303.26   \n",
       "4                              76662                  259.27   \n",
       "5                              77398                  401.27   \n",
       "6                              44162                   46.25   \n",
       "7                              63273                   60.03   \n",
       "8                              46411                  254.52   \n",
       "9                              65345                  347.10   \n",
       "10                             80513                  177.22   \n",
       "11                             63918                  247.05   \n",
       "12                             59285                  160.03   \n",
       "13                             55752                  953.18   \n",
       "14                             65579                  222.36   \n",
       "15                             58197                  159.81   \n",
       "16                             46237                   37.31   \n",
       "17                             45426                  200.91   \n",
       "18                            102199                   19.12   \n",
       "19                             81827                   89.63   \n",
       "20                             53579                   95.68   \n",
       "21                             72629                  145.98   \n",
       "22                             38057                  276.69   \n",
       "23                             57348                   27.28   \n",
       "24                             57134                   16.47   \n",
       "25                             60753                  202.74   \n",
       "26                             58507                  168.68   \n",
       "27                             66825                   67.53   \n",
       "28                             37022                   21.15   \n",
       "29                             58618                   37.97   \n",
       "30                             50405                   21.86   \n",
       "31                             67146                  359.38   \n",
       "32                             66714                   31.22   \n",
       "33                             56273                  576.95   \n",
       "34                             56132                 1571.18   \n",
       "35                             56137                  126.05   \n",
       "36                             37923                   21.76   \n",
       "37                             47825                   53.13   \n",
       "38                             53246                  133.13   \n",
       "39                             60615                   17.07   \n",
       "40                             65776                 1362.19   \n",
       "41                             65579                  332.21   \n",
       "42                             68743                  285.91   \n",
       "43                             57065                   10.33   \n",
       "44                             77378                  162.08   \n",
       "45                             62577                   50.67   \n",
       "46                             51809                   33.87   \n",
       "47                             68947                  148.63   \n",
       "48                             63094                   61.56   \n",
       "\n",
       "   Наявність метрополітену  \n",
       "0                       Ні  \n",
       "1                       Ні  \n",
       "2                      Так  \n",
       "3                      Так  \n",
       "4                      Так  \n",
       "5                      Так  \n",
       "6                      Так  \n",
       "7                       Ні  \n",
       "8                       Ні  \n",
       "9                      Так  \n",
       "10                     Так  \n",
       "11                     Так  \n",
       "12                      Ні  \n",
       "13                     Так  \n",
       "14                     Так  \n",
       "15                      Ні  \n",
       "16                      Ні  \n",
       "17                      Ні  \n",
       "18                      Ні  \n",
       "19                     Так  \n",
       "20                      Ні  \n",
       "21                     Так  \n",
       "22                      Ні  \n",
       "23                     Так  \n",
       "24                      Ні  \n",
       "25                      Ні  \n",
       "26                      Ні  \n",
       "27                      Ні  \n",
       "28                      Ні  \n",
       "29                      Ні  \n",
       "30                     Так  \n",
       "31                     Так  \n",
       "32                      Ні  \n",
       "33                     Так  \n",
       "34                     Так  \n",
       "35                      Ні  \n",
       "36                      Ні  \n",
       "37                     Так  \n",
       "38                      Ні  \n",
       "39                      Ні  \n",
       "40                     Так  \n",
       "41                     Так  \n",
       "42                     Так  \n",
       "43                      Ні  \n",
       "44                     Так  \n",
       "45                      Ні  \n",
       "46                      Ні  \n",
       "47                     Так  \n",
       "48                      Ні  "
      ]
     },
     "execution_count": 19,
     "metadata": {},
     "output_type": "execute_result"
    }
   ],
   "source": [
    "#Зробив таблицю по столицям штатів США\n",
    "data = pd.read_excel('cities.xlsx')\n",
    "data"
   ]
  },
  {
   "cell_type": "code",
   "execution_count": 20,
   "id": "78b0f8aa",
   "metadata": {},
   "outputs": [
    {
     "data": {
      "application/vnd.plotly.v1+json": {
       "config": {
        "plotlyServerURL": "https://plot.ly"
       },
       "data": [
        {
         "hovertemplate": "Столиця=Монтгомері<br>Населення=%{x}<br>Площа території км.кв.=%{y}<extra></extra>",
         "legendgroup": "Монтгомері",
         "marker": {
          "color": "#636efa",
          "symbol": "circle"
         },
         "mode": "markers",
         "name": "Монтгомері",
         "orientation": "v",
         "showlegend": true,
         "type": "scatter",
         "x": [
          198218
         ],
         "xaxis": "x",
         "y": [
          160.44
         ],
         "yaxis": "y"
        },
        {
         "hovertemplate": "Столиця=Джуно<br>Населення=%{x}<br>Площа території км.кв.=%{y}<extra></extra>",
         "legendgroup": "Джуно",
         "marker": {
          "color": "#EF553B",
          "symbol": "circle"
         },
         "mode": "markers",
         "name": "Джуно",
         "orientation": "v",
         "showlegend": true,
         "type": "scatter",
         "x": [
          32113
         ],
         "xaxis": "x",
         "y": [
          8.43
         ],
         "yaxis": "y"
        },
        {
         "hovertemplate": "Столиця=Фінікс<br>Населення=%{x}<br>Площа території км.кв.=%{y}<extra></extra>",
         "legendgroup": "Фінікс",
         "marker": {
          "color": "#00cc96",
          "symbol": "circle"
         },
         "mode": "markers",
         "name": "Фінікс",
         "orientation": "v",
         "showlegend": true,
         "type": "scatter",
         "x": [
          1752316
         ],
         "xaxis": "x",
         "y": [
          1338.28
         ],
         "yaxis": "y"
        },
        {
         "hovertemplate": "Столиця=Літл-Рок<br>Населення=%{x}<br>Площа території км.кв.=%{y}<extra></extra>",
         "legendgroup": "Літл-Рок",
         "marker": {
          "color": "#ab63fa",
          "symbol": "circle"
         },
         "mode": "markers",
         "name": "Літл-Рок",
         "orientation": "v",
         "showlegend": true,
         "type": "scatter",
         "x": [
          197312
         ],
         "xaxis": "x",
         "y": [
          303.26
         ],
         "yaxis": "y"
        },
        {
         "hovertemplate": "Столиця=Сакраменто<br>Населення=%{x}<br>Площа території км.кв.=%{y}<extra></extra>",
         "legendgroup": "Сакраменто",
         "marker": {
          "color": "#FFA15A",
          "symbol": "circle"
         },
         "mode": "markers",
         "name": "Сакраменто",
         "orientation": "v",
         "showlegend": true,
         "type": "scatter",
         "x": [
          524943
         ],
         "xaxis": "x",
         "y": [
          259.27
         ],
         "yaxis": "y"
        },
        {
         "hovertemplate": "Столиця=Денвер<br>Населення=%{x}<br>Площа території км.кв.=%{y}<extra></extra>",
         "legendgroup": "Денвер",
         "marker": {
          "color": "#19d3f3",
          "symbol": "circle"
         },
         "mode": "markers",
         "name": "Денвер",
         "orientation": "v",
         "showlegend": true,
         "type": "scatter",
         "x": [
          735538
         ],
         "xaxis": "x",
         "y": [
          401.27
         ],
         "yaxis": "y"
        },
        {
         "hovertemplate": "Столиця=Гартфорд<br>Населення=%{x}<br>Площа території км.кв.=%{y}<extra></extra>",
         "legendgroup": "Гартфорд",
         "marker": {
          "color": "#FF6692",
          "symbol": "circle"
         },
         "mode": "markers",
         "name": "Гартфорд",
         "orientation": "v",
         "showlegend": true,
         "type": "scatter",
         "x": [
          122105
         ],
         "xaxis": "x",
         "y": [
          46.25
         ],
         "yaxis": "y"
        },
        {
         "hovertemplate": "Столиця=Дувер<br>Населення=%{x}<br>Площа території км.кв.=%{y}<extra></extra>",
         "legendgroup": "Дувер",
         "marker": {
          "color": "#B6E880",
          "symbol": "circle"
         },
         "mode": "markers",
         "name": "Дувер",
         "orientation": "v",
         "showlegend": true,
         "type": "scatter",
         "x": [
          38142
         ],
         "xaxis": "x",
         "y": [
          60.03
         ],
         "yaxis": "y"
        },
        {
         "hovertemplate": "Столиця=Таллахассі<br>Населення=%{x}<br>Площа території км.кв.=%{y}<extra></extra>",
         "legendgroup": "Таллахассі",
         "marker": {
          "color": "#FF97FF",
          "symbol": "circle"
         },
         "mode": "markers",
         "name": "Таллахассі",
         "orientation": "v",
         "showlegend": true,
         "type": "scatter",
         "x": [
          199926
         ],
         "xaxis": "x",
         "y": [
          254.52
         ],
         "yaxis": "y"
        },
        {
         "hovertemplate": "Столиця=Атланта<br>Населення=%{x}<br>Площа території км.кв.=%{y}<extra></extra>",
         "legendgroup": "Атланта",
         "marker": {
          "color": "#FECB52",
          "symbol": "circle"
         },
         "mode": "markers",
         "name": "Атланта",
         "orientation": "v",
         "showlegend": true,
         "type": "scatter",
         "x": [
          498715
         ],
         "xaxis": "x",
         "y": [
          347.1
         ],
         "yaxis": "y"
        },
        {
         "hovertemplate": "Столиця=Гонолулу<br>Населення=%{x}<br>Площа території км.кв.=%{y}<extra></extra>",
         "legendgroup": "Гонолулу",
         "marker": {
          "color": "#636efa",
          "symbol": "circle"
         },
         "mode": "markers",
         "name": "Гонолулу",
         "orientation": "v",
         "showlegend": true,
         "type": "scatter",
         "x": [
          347397
         ],
         "xaxis": "x",
         "y": [
          177.22
         ],
         "yaxis": "y"
        },
        {
         "hovertemplate": "Столиця=Бойсе<br>Населення=%{x}<br>Площа території км.кв.=%{y}<extra></extra>",
         "legendgroup": "Бойсе",
         "marker": {
          "color": "#EF553B",
          "symbol": "circle"
         },
         "mode": "markers",
         "name": "Бойсе",
         "orientation": "v",
         "showlegend": true,
         "type": "scatter",
         "x": [
          240380
         ],
         "xaxis": "x",
         "y": [
          247.05
         ],
         "yaxis": "y"
        },
        {
         "hovertemplate": "Столиця=Спрінгфілд<br>Населення=%{x}<br>Площа території км.кв.=%{y}<extra></extra>",
         "legendgroup": "Спрінгфілд",
         "marker": {
          "color": "#00cc96",
          "symbol": "circle"
         },
         "mode": "markers",
         "name": "Спрінгфілд",
         "orientation": "v",
         "showlegend": true,
         "type": "scatter",
         "x": [
          115715
         ],
         "xaxis": "x",
         "y": [
          160.03
         ],
         "yaxis": "y"
        },
        {
         "hovertemplate": "Столиця=Індіанаполіс<br>Населення=%{x}<br>Площа території км.кв.=%{y}<extra></extra>",
         "legendgroup": "Індіанаполіс",
         "marker": {
          "color": "#ab63fa",
          "symbol": "circle"
         },
         "mode": "markers",
         "name": "Індіанаполіс",
         "orientation": "v",
         "showlegend": true,
         "type": "scatter",
         "x": [
          876384
         ],
         "xaxis": "x",
         "y": [
          953.18
         ],
         "yaxis": "y"
        },
        {
         "hovertemplate": "Столиця=Де-Мойн<br>Населення=%{x}<br>Площа території км.кв.=%{y}<extra></extra>",
         "legendgroup": "Де-Мойн",
         "marker": {
          "color": "#FFA15A",
          "symbol": "circle"
         },
         "mode": "markers",
         "name": "Де-Мойн",
         "orientation": "v",
         "showlegend": true,
         "type": "scatter",
         "x": [
          217891
         ],
         "xaxis": "x",
         "y": [
          222.36
         ],
         "yaxis": "y"
        },
        {
         "hovertemplate": "Столиця=Топіка<br>Населення=%{x}<br>Площа території км.кв.=%{y}<extra></extra>",
         "legendgroup": "Топіка",
         "marker": {
          "color": "#19d3f3",
          "symbol": "circle"
         },
         "mode": "markers",
         "name": "Топіка",
         "orientation": "v",
         "showlegend": true,
         "type": "scatter",
         "x": [
          126587
         ],
         "xaxis": "x",
         "y": [
          159.81
         ],
         "yaxis": "y"
        },
        {
         "hovertemplate": "Столиця=Франкфорт<br>Населення=%{x}<br>Площа території км.кв.=%{y}<extra></extra>",
         "legendgroup": "Франкфорт",
         "marker": {
          "color": "#FF6692",
          "symbol": "circle"
         },
         "mode": "markers",
         "name": "Франкфорт",
         "orientation": "v",
         "showlegend": true,
         "type": "scatter",
         "x": [
          28283
         ],
         "xaxis": "x",
         "y": [
          37.31
         ],
         "yaxis": "y"
        },
        {
         "hovertemplate": "Столиця=Батон-Руж<br>Населення=%{x}<br>Площа території км.кв.=%{y}<extra></extra>",
         "legendgroup": "Батон-Руж",
         "marker": {
          "color": "#B6E880",
          "symbol": "circle"
         },
         "mode": "markers",
         "name": "Батон-Руж",
         "orientation": "v",
         "showlegend": true,
         "type": "scatter",
         "x": [
          219531
         ],
         "xaxis": "x",
         "y": [
          200.91
         ],
         "yaxis": "y"
        },
        {
         "hovertemplate": "Столиця=Аннаполіс<br>Населення=%{x}<br>Площа території км.кв.=%{y}<extra></extra>",
         "legendgroup": "Аннаполіс",
         "marker": {
          "color": "#FF97FF",
          "symbol": "circle"
         },
         "mode": "markers",
         "name": "Аннаполіс",
         "orientation": "v",
         "showlegend": true,
         "type": "scatter",
         "x": [
          39139
         ],
         "xaxis": "x",
         "y": [
          19.12
         ],
         "yaxis": "y"
        },
        {
         "hovertemplate": "Столиця=Бостон<br>Населення=%{x}<br>Площа території км.кв.=%{y}<extra></extra>",
         "legendgroup": "Бостон",
         "marker": {
          "color": "#FECB52",
          "symbol": "circle"
         },
         "mode": "markers",
         "name": "Бостон",
         "orientation": "v",
         "showlegend": true,
         "type": "scatter",
         "x": [
          692600
         ],
         "xaxis": "x",
         "y": [
          89.63
         ],
         "yaxis": "y"
        },
        {
         "hovertemplate": "Столиця=Лансінг<br>Населення=%{x}<br>Площа території км.кв.=%{y}<extra></extra>",
         "legendgroup": "Лансінг",
         "marker": {
          "color": "#636efa",
          "symbol": "circle"
         },
         "mode": "markers",
         "name": "Лансінг",
         "orientation": "v",
         "showlegend": true,
         "type": "scatter",
         "x": [
          119128
         ],
         "xaxis": "x",
         "y": [
          95.68
         ],
         "yaxis": "y"
        },
        {
         "hovertemplate": "Столиця=Сент-Пол<br>Населення=%{x}<br>Площа території км.кв.=%{y}<extra></extra>",
         "legendgroup": "Сент-Пол",
         "marker": {
          "color": "#EF553B",
          "symbol": "circle"
         },
         "mode": "markers",
         "name": "Сент-Пол",
         "orientation": "v",
         "showlegend": true,
         "type": "scatter",
         "x": [
          307695
         ],
         "xaxis": "x",
         "y": [
          145.98
         ],
         "yaxis": "y"
        },
        {
         "hovertemplate": "Столиця=Джексон<br>Населення=%{x}<br>Площа території км.кв.=%{y}<extra></extra>",
         "legendgroup": "Джексон",
         "marker": {
          "color": "#00cc96",
          "symbol": "circle"
         },
         "mode": "markers",
         "name": "Джексон",
         "orientation": "v",
         "showlegend": true,
         "type": "scatter",
         "x": [
          143617
         ],
         "xaxis": "x",
         "y": [
          276.69
         ],
         "yaxis": "y"
        },
        {
         "hovertemplate": "Столиця=Джефферсон-Сіті<br>Населення=%{x}<br>Площа території км.кв.=%{y}<extra></extra>",
         "legendgroup": "Джефферсон-Сіті",
         "marker": {
          "color": "#ab63fa",
          "symbol": "circle"
         },
         "mode": "markers",
         "name": "Джефферсон-Сіті",
         "orientation": "v",
         "showlegend": true,
         "type": "scatter",
         "x": [
          43079
         ],
         "xaxis": "x",
         "y": [
          27.28
         ],
         "yaxis": "y"
        },
        {
         "hovertemplate": "Столиця=Гелена<br>Населення=%{x}<br>Площа території км.кв.=%{y}<extra></extra>",
         "legendgroup": "Гелена",
         "marker": {
          "color": "#FFA15A",
          "symbol": "circle"
         },
         "mode": "markers",
         "name": "Гелена",
         "orientation": "v",
         "showlegend": true,
         "type": "scatter",
         "x": [
          33188
         ],
         "xaxis": "x",
         "y": [
          16.47
         ],
         "yaxis": "y"
        },
        {
         "hovertemplate": "Столиця=Лінкольн<br>Населення=%{x}<br>Площа території км.кв.=%{y}<extra></extra>",
         "legendgroup": "Лінкольн",
         "marker": {
          "color": "#19d3f3",
          "symbol": "circle"
         },
         "mode": "markers",
         "name": "Лінкольн",
         "orientation": "v",
         "showlegend": true,
         "type": "scatter",
         "x": [
          287401
         ],
         "xaxis": "x",
         "y": [
          202.74
         ],
         "yaxis": "y"
        },
        {
         "hovertemplate": "Столиця=Карсон-Сіті<br>Населення=%{x}<br>Площа території км.кв.=%{y}<extra></extra>",
         "legendgroup": "Карсон-Сіті",
         "marker": {
          "color": "#FF6692",
          "symbol": "circle"
         },
         "mode": "markers",
         "name": "Карсон-Сіті",
         "orientation": "v",
         "showlegend": true,
         "type": "scatter",
         "x": [
          55414
         ],
         "xaxis": "x",
         "y": [
          168.68
         ],
         "yaxis": "y"
        },
        {
         "hovertemplate": "Столиця=Конкорд<br>Населення=%{x}<br>Площа території км.кв.=%{y}<extra></extra>",
         "legendgroup": "Конкорд",
         "marker": {
          "color": "#B6E880",
          "symbol": "circle"
         },
         "mode": "markers",
         "name": "Конкорд",
         "orientation": "v",
         "showlegend": true,
         "type": "scatter",
         "x": [
          43167
         ],
         "xaxis": "x",
         "y": [
          67.53
         ],
         "yaxis": "y"
        },
        {
         "hovertemplate": "Столиця=Трентон<br>Населення=%{x}<br>Площа території км.кв.=%{y}<extra></extra>",
         "legendgroup": "Трентон",
         "marker": {
          "color": "#FF97FF",
          "symbol": "circle"
         },
         "mode": "markers",
         "name": "Трентон",
         "orientation": "v",
         "showlegend": true,
         "type": "scatter",
         "x": [
          83974
         ],
         "xaxis": "x",
         "y": [
          21.15
         ],
         "yaxis": "y"
        },
        {
         "hovertemplate": "Столиця=Санта-Фе<br>Населення=%{x}<br>Площа території км.кв.=%{y}<extra></extra>",
         "legendgroup": "Санта-Фе",
         "marker": {
          "color": "#FECB52",
          "symbol": "circle"
         },
         "mode": "markers",
         "name": "Санта-Фе",
         "orientation": "v",
         "showlegend": true,
         "type": "scatter",
         "x": [
          87521
         ],
         "xaxis": "x",
         "y": [
          37.97
         ],
         "yaxis": "y"
        },
        {
         "hovertemplate": "Столиця=Албані<br>Населення=%{x}<br>Площа території км.кв.=%{y}<extra></extra>",
         "legendgroup": "Албані",
         "marker": {
          "color": "#636efa",
          "symbol": "circle"
         },
         "mode": "markers",
         "name": "Албані",
         "orientation": "v",
         "showlegend": true,
         "type": "scatter",
         "x": [
          97856
         ],
         "xaxis": "x",
         "y": [
          21.86
         ],
         "yaxis": "y"
        },
        {
         "hovertemplate": "Столиця=Ролі<br>Населення=%{x}<br>Площа території км.кв.=%{y}<extra></extra>",
         "legendgroup": "Ролі",
         "marker": {
          "color": "#EF553B",
          "symbol": "circle"
         },
         "mode": "markers",
         "name": "Ролі",
         "orientation": "v",
         "showlegend": true,
         "type": "scatter",
         "x": [
          474069
         ],
         "xaxis": "x",
         "y": [
          359.38
         ],
         "yaxis": "y"
        },
        {
         "hovertemplate": "Столиця=Бісмарк<br>Населення=%{x}<br>Площа території км.кв.=%{y}<extra></extra>",
         "legendgroup": "Бісмарк",
         "marker": {
          "color": "#00cc96",
          "symbol": "circle"
         },
         "mode": "markers",
         "name": "Бісмарк",
         "orientation": "v",
         "showlegend": true,
         "type": "scatter",
         "x": [
          73112
         ],
         "xaxis": "x",
         "y": [
          31.22
         ],
         "yaxis": "y"
        },
        {
         "hovertemplate": "Столиця=Колумбус<br>Населення=%{x}<br>Площа території км.кв.=%{y}<extra></extra>",
         "legendgroup": "Колумбус",
         "marker": {
          "color": "#ab63fa",
          "symbol": "circle"
         },
         "mode": "markers",
         "name": "Колумбус",
         "orientation": "v",
         "showlegend": true,
         "type": "scatter",
         "x": [
          898553
         ],
         "xaxis": "x",
         "y": [
          576.95
         ],
         "yaxis": "y"
        },
        {
         "hovertemplate": "Столиця=Оклахома-Сіті<br>Населення=%{x}<br>Площа території км.кв.=%{y}<extra></extra>",
         "legendgroup": "Оклахома-Сіті",
         "marker": {
          "color": "#FFA15A",
          "symbol": "circle"
         },
         "mode": "markers",
         "name": "Оклахома-Сіті",
         "orientation": "v",
         "showlegend": true,
         "type": "scatter",
         "x": [
          655057
         ],
         "xaxis": "x",
         "y": [
          1571.18
         ],
         "yaxis": "y"
        },
        {
         "hovertemplate": "Столиця=Сейлем<br>Населення=%{x}<br>Площа території км.кв.=%{y}<extra></extra>",
         "legendgroup": "Сейлем",
         "marker": {
          "color": "#19d3f3",
          "symbol": "circle"
         },
         "mode": "markers",
         "name": "Сейлем",
         "orientation": "v",
         "showlegend": true,
         "type": "scatter",
         "x": [
          174365
         ],
         "xaxis": "x",
         "y": [
          126.05
         ],
         "yaxis": "y"
        },
        {
         "hovertemplate": "Столиця=Гаррісбург<br>Населення=%{x}<br>Площа території км.кв.=%{y}<extra></extra>",
         "legendgroup": "Гаррісбург",
         "marker": {
          "color": "#FF6692",
          "symbol": "circle"
         },
         "mode": "markers",
         "name": "Гаррісбург",
         "orientation": "v",
         "showlegend": true,
         "type": "scatter",
         "x": [
          49229
         ],
         "xaxis": "x",
         "y": [
          21.76
         ],
         "yaxis": "y"
        },
        {
         "hovertemplate": "Столиця=Провіденс<br>Населення=%{x}<br>Площа території км.кв.=%{y}<extra></extra>",
         "legendgroup": "Провіденс",
         "marker": {
          "color": "#B6E880",
          "symbol": "circle"
         },
         "mode": "markers",
         "name": "Провіденс",
         "orientation": "v",
         "showlegend": true,
         "type": "scatter",
         "x": [
          179335
         ],
         "xaxis": "x",
         "y": [
          53.13
         ],
         "yaxis": "y"
        },
        {
         "hovertemplate": "Столиця=Колумбія<br>Населення=%{x}<br>Площа території км.кв.=%{y}<extra></extra>",
         "legendgroup": "Колумбія",
         "marker": {
          "color": "#FF97FF",
          "symbol": "circle"
         },
         "mode": "markers",
         "name": "Колумбія",
         "orientation": "v",
         "showlegend": true,
         "type": "scatter",
         "x": [
          133273
         ],
         "xaxis": "x",
         "y": [
          133.13
         ],
         "yaxis": "y"
        },
        {
         "hovertemplate": "Столиця=П'єр<br>Населення=%{x}<br>Площа території км.кв.=%{y}<extra></extra>",
         "legendgroup": "П'єр",
         "marker": {
          "color": "#FECB52",
          "symbol": "circle"
         },
         "mode": "markers",
         "name": "П'єр",
         "orientation": "v",
         "showlegend": true,
         "type": "scatter",
         "x": [
          14177
         ],
         "xaxis": "x",
         "y": [
          17.07
         ],
         "yaxis": "y"
        },
        {
         "hovertemplate": "Столиця=Нешвілл<br>Населення=%{x}<br>Площа території км.кв.=%{y}<extra></extra>",
         "legendgroup": "Нешвілл",
         "marker": {
          "color": "#636efa",
          "symbol": "circle"
         },
         "mode": "markers",
         "name": "Нешвілл",
         "orientation": "v",
         "showlegend": true,
         "type": "scatter",
         "x": [
          694144
         ],
         "xaxis": "x",
         "y": [
          1362.19
         ],
         "yaxis": "y"
        },
        {
         "hovertemplate": "Столиця=Остін<br>Населення=%{x}<br>Площа території км.кв.=%{y}<extra></extra>",
         "legendgroup": "Остін",
         "marker": {
          "color": "#EF553B",
          "symbol": "circle"
         },
         "mode": "markers",
         "name": "Остін",
         "orientation": "v",
         "showlegend": true,
         "type": "scatter",
         "x": [
          1012695
         ],
         "xaxis": "x",
         "y": [
          332.21
         ],
         "yaxis": "y"
        },
        {
         "hovertemplate": "Столиця=Солт-Лейк-Сіті<br>Населення=%{x}<br>Площа території км.кв.=%{y}<extra></extra>",
         "legendgroup": "Солт-Лейк-Сіті",
         "marker": {
          "color": "#00cc96",
          "symbol": "circle"
         },
         "mode": "markers",
         "name": "Солт-Лейк-Сіті",
         "orientation": "v",
         "showlegend": true,
         "type": "scatter",
         "x": [
          200567
         ],
         "xaxis": "x",
         "y": [
          285.91
         ],
         "yaxis": "y"
        },
        {
         "hovertemplate": "Столиця=Монтпельєр<br>Населення=%{x}<br>Площа території км.кв.=%{y}<extra></extra>",
         "legendgroup": "Монтпельєр",
         "marker": {
          "color": "#ab63fa",
          "symbol": "circle"
         },
         "mode": "markers",
         "name": "Монтпельєр",
         "orientation": "v",
         "showlegend": true,
         "type": "scatter",
         "x": [
          7436
         ],
         "xaxis": "x",
         "y": [
          10.33
         ],
         "yaxis": "y"
        },
        {
         "hovertemplate": "Столиця=Річмонд<br>Населення=%{x}<br>Площа території км.кв.=%{y}<extra></extra>",
         "legendgroup": "Річмонд",
         "marker": {
          "color": "#FFA15A",
          "symbol": "circle"
         },
         "mode": "markers",
         "name": "Річмонд",
         "orientation": "v",
         "showlegend": true,
         "type": "scatter",
         "x": [
          233170
         ],
         "xaxis": "x",
         "y": [
          162.08
         ],
         "yaxis": "y"
        },
        {
         "hovertemplate": "Столиця=Олімпія<br>Населення=%{x}<br>Площа території км.кв.=%{y}<extra></extra>",
         "legendgroup": "Олімпія",
         "marker": {
          "color": "#19d3f3",
          "symbol": "circle"
         },
         "mode": "markers",
         "name": "Олімпія",
         "orientation": "v",
         "showlegend": true,
         "type": "scatter",
         "x": [
          54905
         ],
         "xaxis": "x",
         "y": [
          50.67
         ],
         "yaxis": "y"
        },
        {
         "hovertemplate": "Столиця=Чарлстон<br>Населення=%{x}<br>Площа території км.кв.=%{y}<extra></extra>",
         "legendgroup": "Чарлстон",
         "marker": {
          "color": "#FF6692",
          "symbol": "circle"
         },
         "mode": "markers",
         "name": "Чарлстон",
         "orientation": "v",
         "showlegend": true,
         "type": "scatter",
         "x": [
          45879
         ],
         "xaxis": "x",
         "y": [
          33.87
         ],
         "yaxis": "y"
        },
        {
         "hovertemplate": "Столиця=Медісон<br>Населення=%{x}<br>Площа території км.кв.=%{y}<extra></extra>",
         "legendgroup": "Медісон",
         "marker": {
          "color": "#B6E880",
          "symbol": "circle"
         },
         "mode": "markers",
         "name": "Медісон",
         "orientation": "v",
         "showlegend": true,
         "type": "scatter",
         "x": [
          259680
         ],
         "xaxis": "x",
         "y": [
          148.63
         ],
         "yaxis": "y"
        },
        {
         "hovertemplate": "Столиця=Шайєнн<br>Населення=%{x}<br>Площа території км.кв.=%{y}<extra></extra>",
         "legendgroup": "Шайєнн",
         "marker": {
          "color": "#FF97FF",
          "symbol": "circle"
         },
         "mode": "markers",
         "name": "Шайєнн",
         "orientation": "v",
         "showlegend": true,
         "type": "scatter",
         "x": [
          64019
         ],
         "xaxis": "x",
         "y": [
          61.56
         ],
         "yaxis": "y"
        }
       ],
       "layout": {
        "legend": {
         "title": {
          "text": "Столиця"
         },
         "tracegroupgap": 0
        },
        "template": {
         "data": {
          "bar": [
           {
            "error_x": {
             "color": "#2a3f5f"
            },
            "error_y": {
             "color": "#2a3f5f"
            },
            "marker": {
             "line": {
              "color": "#E5ECF6",
              "width": 0.5
             },
             "pattern": {
              "fillmode": "overlay",
              "size": 10,
              "solidity": 0.2
             }
            },
            "type": "bar"
           }
          ],
          "barpolar": [
           {
            "marker": {
             "line": {
              "color": "#E5ECF6",
              "width": 0.5
             },
             "pattern": {
              "fillmode": "overlay",
              "size": 10,
              "solidity": 0.2
             }
            },
            "type": "barpolar"
           }
          ],
          "carpet": [
           {
            "aaxis": {
             "endlinecolor": "#2a3f5f",
             "gridcolor": "white",
             "linecolor": "white",
             "minorgridcolor": "white",
             "startlinecolor": "#2a3f5f"
            },
            "baxis": {
             "endlinecolor": "#2a3f5f",
             "gridcolor": "white",
             "linecolor": "white",
             "minorgridcolor": "white",
             "startlinecolor": "#2a3f5f"
            },
            "type": "carpet"
           }
          ],
          "choropleth": [
           {
            "colorbar": {
             "outlinewidth": 0,
             "ticks": ""
            },
            "type": "choropleth"
           }
          ],
          "contour": [
           {
            "colorbar": {
             "outlinewidth": 0,
             "ticks": ""
            },
            "colorscale": [
             [
              0,
              "#0d0887"
             ],
             [
              0.1111111111111111,
              "#46039f"
             ],
             [
              0.2222222222222222,
              "#7201a8"
             ],
             [
              0.3333333333333333,
              "#9c179e"
             ],
             [
              0.4444444444444444,
              "#bd3786"
             ],
             [
              0.5555555555555556,
              "#d8576b"
             ],
             [
              0.6666666666666666,
              "#ed7953"
             ],
             [
              0.7777777777777778,
              "#fb9f3a"
             ],
             [
              0.8888888888888888,
              "#fdca26"
             ],
             [
              1,
              "#f0f921"
             ]
            ],
            "type": "contour"
           }
          ],
          "contourcarpet": [
           {
            "colorbar": {
             "outlinewidth": 0,
             "ticks": ""
            },
            "type": "contourcarpet"
           }
          ],
          "heatmap": [
           {
            "colorbar": {
             "outlinewidth": 0,
             "ticks": ""
            },
            "colorscale": [
             [
              0,
              "#0d0887"
             ],
             [
              0.1111111111111111,
              "#46039f"
             ],
             [
              0.2222222222222222,
              "#7201a8"
             ],
             [
              0.3333333333333333,
              "#9c179e"
             ],
             [
              0.4444444444444444,
              "#bd3786"
             ],
             [
              0.5555555555555556,
              "#d8576b"
             ],
             [
              0.6666666666666666,
              "#ed7953"
             ],
             [
              0.7777777777777778,
              "#fb9f3a"
             ],
             [
              0.8888888888888888,
              "#fdca26"
             ],
             [
              1,
              "#f0f921"
             ]
            ],
            "type": "heatmap"
           }
          ],
          "heatmapgl": [
           {
            "colorbar": {
             "outlinewidth": 0,
             "ticks": ""
            },
            "colorscale": [
             [
              0,
              "#0d0887"
             ],
             [
              0.1111111111111111,
              "#46039f"
             ],
             [
              0.2222222222222222,
              "#7201a8"
             ],
             [
              0.3333333333333333,
              "#9c179e"
             ],
             [
              0.4444444444444444,
              "#bd3786"
             ],
             [
              0.5555555555555556,
              "#d8576b"
             ],
             [
              0.6666666666666666,
              "#ed7953"
             ],
             [
              0.7777777777777778,
              "#fb9f3a"
             ],
             [
              0.8888888888888888,
              "#fdca26"
             ],
             [
              1,
              "#f0f921"
             ]
            ],
            "type": "heatmapgl"
           }
          ],
          "histogram": [
           {
            "marker": {
             "pattern": {
              "fillmode": "overlay",
              "size": 10,
              "solidity": 0.2
             }
            },
            "type": "histogram"
           }
          ],
          "histogram2d": [
           {
            "colorbar": {
             "outlinewidth": 0,
             "ticks": ""
            },
            "colorscale": [
             [
              0,
              "#0d0887"
             ],
             [
              0.1111111111111111,
              "#46039f"
             ],
             [
              0.2222222222222222,
              "#7201a8"
             ],
             [
              0.3333333333333333,
              "#9c179e"
             ],
             [
              0.4444444444444444,
              "#bd3786"
             ],
             [
              0.5555555555555556,
              "#d8576b"
             ],
             [
              0.6666666666666666,
              "#ed7953"
             ],
             [
              0.7777777777777778,
              "#fb9f3a"
             ],
             [
              0.8888888888888888,
              "#fdca26"
             ],
             [
              1,
              "#f0f921"
             ]
            ],
            "type": "histogram2d"
           }
          ],
          "histogram2dcontour": [
           {
            "colorbar": {
             "outlinewidth": 0,
             "ticks": ""
            },
            "colorscale": [
             [
              0,
              "#0d0887"
             ],
             [
              0.1111111111111111,
              "#46039f"
             ],
             [
              0.2222222222222222,
              "#7201a8"
             ],
             [
              0.3333333333333333,
              "#9c179e"
             ],
             [
              0.4444444444444444,
              "#bd3786"
             ],
             [
              0.5555555555555556,
              "#d8576b"
             ],
             [
              0.6666666666666666,
              "#ed7953"
             ],
             [
              0.7777777777777778,
              "#fb9f3a"
             ],
             [
              0.8888888888888888,
              "#fdca26"
             ],
             [
              1,
              "#f0f921"
             ]
            ],
            "type": "histogram2dcontour"
           }
          ],
          "mesh3d": [
           {
            "colorbar": {
             "outlinewidth": 0,
             "ticks": ""
            },
            "type": "mesh3d"
           }
          ],
          "parcoords": [
           {
            "line": {
             "colorbar": {
              "outlinewidth": 0,
              "ticks": ""
             }
            },
            "type": "parcoords"
           }
          ],
          "pie": [
           {
            "automargin": true,
            "type": "pie"
           }
          ],
          "scatter": [
           {
            "fillpattern": {
             "fillmode": "overlay",
             "size": 10,
             "solidity": 0.2
            },
            "type": "scatter"
           }
          ],
          "scatter3d": [
           {
            "line": {
             "colorbar": {
              "outlinewidth": 0,
              "ticks": ""
             }
            },
            "marker": {
             "colorbar": {
              "outlinewidth": 0,
              "ticks": ""
             }
            },
            "type": "scatter3d"
           }
          ],
          "scattercarpet": [
           {
            "marker": {
             "colorbar": {
              "outlinewidth": 0,
              "ticks": ""
             }
            },
            "type": "scattercarpet"
           }
          ],
          "scattergeo": [
           {
            "marker": {
             "colorbar": {
              "outlinewidth": 0,
              "ticks": ""
             }
            },
            "type": "scattergeo"
           }
          ],
          "scattergl": [
           {
            "marker": {
             "colorbar": {
              "outlinewidth": 0,
              "ticks": ""
             }
            },
            "type": "scattergl"
           }
          ],
          "scattermapbox": [
           {
            "marker": {
             "colorbar": {
              "outlinewidth": 0,
              "ticks": ""
             }
            },
            "type": "scattermapbox"
           }
          ],
          "scatterpolar": [
           {
            "marker": {
             "colorbar": {
              "outlinewidth": 0,
              "ticks": ""
             }
            },
            "type": "scatterpolar"
           }
          ],
          "scatterpolargl": [
           {
            "marker": {
             "colorbar": {
              "outlinewidth": 0,
              "ticks": ""
             }
            },
            "type": "scatterpolargl"
           }
          ],
          "scatterternary": [
           {
            "marker": {
             "colorbar": {
              "outlinewidth": 0,
              "ticks": ""
             }
            },
            "type": "scatterternary"
           }
          ],
          "surface": [
           {
            "colorbar": {
             "outlinewidth": 0,
             "ticks": ""
            },
            "colorscale": [
             [
              0,
              "#0d0887"
             ],
             [
              0.1111111111111111,
              "#46039f"
             ],
             [
              0.2222222222222222,
              "#7201a8"
             ],
             [
              0.3333333333333333,
              "#9c179e"
             ],
             [
              0.4444444444444444,
              "#bd3786"
             ],
             [
              0.5555555555555556,
              "#d8576b"
             ],
             [
              0.6666666666666666,
              "#ed7953"
             ],
             [
              0.7777777777777778,
              "#fb9f3a"
             ],
             [
              0.8888888888888888,
              "#fdca26"
             ],
             [
              1,
              "#f0f921"
             ]
            ],
            "type": "surface"
           }
          ],
          "table": [
           {
            "cells": {
             "fill": {
              "color": "#EBF0F8"
             },
             "line": {
              "color": "white"
             }
            },
            "header": {
             "fill": {
              "color": "#C8D4E3"
             },
             "line": {
              "color": "white"
             }
            },
            "type": "table"
           }
          ]
         },
         "layout": {
          "annotationdefaults": {
           "arrowcolor": "#2a3f5f",
           "arrowhead": 0,
           "arrowwidth": 1
          },
          "autotypenumbers": "strict",
          "coloraxis": {
           "colorbar": {
            "outlinewidth": 0,
            "ticks": ""
           }
          },
          "colorscale": {
           "diverging": [
            [
             0,
             "#8e0152"
            ],
            [
             0.1,
             "#c51b7d"
            ],
            [
             0.2,
             "#de77ae"
            ],
            [
             0.3,
             "#f1b6da"
            ],
            [
             0.4,
             "#fde0ef"
            ],
            [
             0.5,
             "#f7f7f7"
            ],
            [
             0.6,
             "#e6f5d0"
            ],
            [
             0.7,
             "#b8e186"
            ],
            [
             0.8,
             "#7fbc41"
            ],
            [
             0.9,
             "#4d9221"
            ],
            [
             1,
             "#276419"
            ]
           ],
           "sequential": [
            [
             0,
             "#0d0887"
            ],
            [
             0.1111111111111111,
             "#46039f"
            ],
            [
             0.2222222222222222,
             "#7201a8"
            ],
            [
             0.3333333333333333,
             "#9c179e"
            ],
            [
             0.4444444444444444,
             "#bd3786"
            ],
            [
             0.5555555555555556,
             "#d8576b"
            ],
            [
             0.6666666666666666,
             "#ed7953"
            ],
            [
             0.7777777777777778,
             "#fb9f3a"
            ],
            [
             0.8888888888888888,
             "#fdca26"
            ],
            [
             1,
             "#f0f921"
            ]
           ],
           "sequentialminus": [
            [
             0,
             "#0d0887"
            ],
            [
             0.1111111111111111,
             "#46039f"
            ],
            [
             0.2222222222222222,
             "#7201a8"
            ],
            [
             0.3333333333333333,
             "#9c179e"
            ],
            [
             0.4444444444444444,
             "#bd3786"
            ],
            [
             0.5555555555555556,
             "#d8576b"
            ],
            [
             0.6666666666666666,
             "#ed7953"
            ],
            [
             0.7777777777777778,
             "#fb9f3a"
            ],
            [
             0.8888888888888888,
             "#fdca26"
            ],
            [
             1,
             "#f0f921"
            ]
           ]
          },
          "colorway": [
           "#636efa",
           "#EF553B",
           "#00cc96",
           "#ab63fa",
           "#FFA15A",
           "#19d3f3",
           "#FF6692",
           "#B6E880",
           "#FF97FF",
           "#FECB52"
          ],
          "font": {
           "color": "#2a3f5f"
          },
          "geo": {
           "bgcolor": "white",
           "lakecolor": "white",
           "landcolor": "#E5ECF6",
           "showlakes": true,
           "showland": true,
           "subunitcolor": "white"
          },
          "hoverlabel": {
           "align": "left"
          },
          "hovermode": "closest",
          "mapbox": {
           "style": "light"
          },
          "paper_bgcolor": "white",
          "plot_bgcolor": "#E5ECF6",
          "polar": {
           "angularaxis": {
            "gridcolor": "white",
            "linecolor": "white",
            "ticks": ""
           },
           "bgcolor": "#E5ECF6",
           "radialaxis": {
            "gridcolor": "white",
            "linecolor": "white",
            "ticks": ""
           }
          },
          "scene": {
           "xaxis": {
            "backgroundcolor": "#E5ECF6",
            "gridcolor": "white",
            "gridwidth": 2,
            "linecolor": "white",
            "showbackground": true,
            "ticks": "",
            "zerolinecolor": "white"
           },
           "yaxis": {
            "backgroundcolor": "#E5ECF6",
            "gridcolor": "white",
            "gridwidth": 2,
            "linecolor": "white",
            "showbackground": true,
            "ticks": "",
            "zerolinecolor": "white"
           },
           "zaxis": {
            "backgroundcolor": "#E5ECF6",
            "gridcolor": "white",
            "gridwidth": 2,
            "linecolor": "white",
            "showbackground": true,
            "ticks": "",
            "zerolinecolor": "white"
           }
          },
          "shapedefaults": {
           "line": {
            "color": "#2a3f5f"
           }
          },
          "ternary": {
           "aaxis": {
            "gridcolor": "white",
            "linecolor": "white",
            "ticks": ""
           },
           "baxis": {
            "gridcolor": "white",
            "linecolor": "white",
            "ticks": ""
           },
           "bgcolor": "#E5ECF6",
           "caxis": {
            "gridcolor": "white",
            "linecolor": "white",
            "ticks": ""
           }
          },
          "title": {
           "x": 0.05
          },
          "xaxis": {
           "automargin": true,
           "gridcolor": "white",
           "linecolor": "white",
           "ticks": "",
           "title": {
            "standoff": 15
           },
           "zerolinecolor": "white",
           "zerolinewidth": 2
          },
          "yaxis": {
           "automargin": true,
           "gridcolor": "white",
           "linecolor": "white",
           "ticks": "",
           "title": {
            "standoff": 15
           },
           "zerolinecolor": "white",
           "zerolinewidth": 2
          }
         }
        },
        "title": {
         "text": "Залежність населення міста від його площі"
        },
        "xaxis": {
         "anchor": "y",
         "domain": [
          0,
          1
         ],
         "title": {
          "text": "Населення"
         }
        },
        "yaxis": {
         "anchor": "x",
         "domain": [
          0,
          1
         ],
         "title": {
          "text": "Площа території км.кв."
         }
        }
       }
      },
      "text/html": [
       "<div>                            <div id=\"f15d96e0-6adc-4592-bd89-fa7dc701669d\" class=\"plotly-graph-div\" style=\"height:525px; width:100%;\"></div>            <script type=\"text/javascript\">                require([\"plotly\"], function(Plotly) {                    window.PLOTLYENV=window.PLOTLYENV || {};                                    if (document.getElementById(\"f15d96e0-6adc-4592-bd89-fa7dc701669d\")) {                    Plotly.newPlot(                        \"f15d96e0-6adc-4592-bd89-fa7dc701669d\",                        [{\"hovertemplate\":\"\\u0421\\u0442\\u043e\\u043b\\u0438\\u0446\\u044f=\\u041c\\u043e\\u043d\\u0442\\u0433\\u043e\\u043c\\u0435\\u0440\\u0456<br>\\u041d\\u0430\\u0441\\u0435\\u043b\\u0435\\u043d\\u043d\\u044f=%{x}<br>\\u041f\\u043b\\u043e\\u0449\\u0430 \\u0442\\u0435\\u0440\\u0438\\u0442\\u043e\\u0440\\u0456\\u0457 \\u043a\\u043c.\\u043a\\u0432.=%{y}<extra></extra>\",\"legendgroup\":\"\\u041c\\u043e\\u043d\\u0442\\u0433\\u043e\\u043c\\u0435\\u0440\\u0456\",\"marker\":{\"color\":\"#636efa\",\"symbol\":\"circle\"},\"mode\":\"markers\",\"name\":\"\\u041c\\u043e\\u043d\\u0442\\u0433\\u043e\\u043c\\u0435\\u0440\\u0456\",\"orientation\":\"v\",\"showlegend\":true,\"x\":[198218],\"xaxis\":\"x\",\"y\":[160.44],\"yaxis\":\"y\",\"type\":\"scatter\"},{\"hovertemplate\":\"\\u0421\\u0442\\u043e\\u043b\\u0438\\u0446\\u044f=\\u0414\\u0436\\u0443\\u043d\\u043e<br>\\u041d\\u0430\\u0441\\u0435\\u043b\\u0435\\u043d\\u043d\\u044f=%{x}<br>\\u041f\\u043b\\u043e\\u0449\\u0430 \\u0442\\u0435\\u0440\\u0438\\u0442\\u043e\\u0440\\u0456\\u0457 \\u043a\\u043c.\\u043a\\u0432.=%{y}<extra></extra>\",\"legendgroup\":\"\\u0414\\u0436\\u0443\\u043d\\u043e\",\"marker\":{\"color\":\"#EF553B\",\"symbol\":\"circle\"},\"mode\":\"markers\",\"name\":\"\\u0414\\u0436\\u0443\\u043d\\u043e\",\"orientation\":\"v\",\"showlegend\":true,\"x\":[32113],\"xaxis\":\"x\",\"y\":[8.43],\"yaxis\":\"y\",\"type\":\"scatter\"},{\"hovertemplate\":\"\\u0421\\u0442\\u043e\\u043b\\u0438\\u0446\\u044f=\\u0424\\u0456\\u043d\\u0456\\u043a\\u0441<br>\\u041d\\u0430\\u0441\\u0435\\u043b\\u0435\\u043d\\u043d\\u044f=%{x}<br>\\u041f\\u043b\\u043e\\u0449\\u0430 \\u0442\\u0435\\u0440\\u0438\\u0442\\u043e\\u0440\\u0456\\u0457 \\u043a\\u043c.\\u043a\\u0432.=%{y}<extra></extra>\",\"legendgroup\":\"\\u0424\\u0456\\u043d\\u0456\\u043a\\u0441\",\"marker\":{\"color\":\"#00cc96\",\"symbol\":\"circle\"},\"mode\":\"markers\",\"name\":\"\\u0424\\u0456\\u043d\\u0456\\u043a\\u0441\",\"orientation\":\"v\",\"showlegend\":true,\"x\":[1752316],\"xaxis\":\"x\",\"y\":[1338.28],\"yaxis\":\"y\",\"type\":\"scatter\"},{\"hovertemplate\":\"\\u0421\\u0442\\u043e\\u043b\\u0438\\u0446\\u044f=\\u041b\\u0456\\u0442\\u043b-\\u0420\\u043e\\u043a<br>\\u041d\\u0430\\u0441\\u0435\\u043b\\u0435\\u043d\\u043d\\u044f=%{x}<br>\\u041f\\u043b\\u043e\\u0449\\u0430 \\u0442\\u0435\\u0440\\u0438\\u0442\\u043e\\u0440\\u0456\\u0457 \\u043a\\u043c.\\u043a\\u0432.=%{y}<extra></extra>\",\"legendgroup\":\"\\u041b\\u0456\\u0442\\u043b-\\u0420\\u043e\\u043a\",\"marker\":{\"color\":\"#ab63fa\",\"symbol\":\"circle\"},\"mode\":\"markers\",\"name\":\"\\u041b\\u0456\\u0442\\u043b-\\u0420\\u043e\\u043a\",\"orientation\":\"v\",\"showlegend\":true,\"x\":[197312],\"xaxis\":\"x\",\"y\":[303.26],\"yaxis\":\"y\",\"type\":\"scatter\"},{\"hovertemplate\":\"\\u0421\\u0442\\u043e\\u043b\\u0438\\u0446\\u044f=\\u0421\\u0430\\u043a\\u0440\\u0430\\u043c\\u0435\\u043d\\u0442\\u043e<br>\\u041d\\u0430\\u0441\\u0435\\u043b\\u0435\\u043d\\u043d\\u044f=%{x}<br>\\u041f\\u043b\\u043e\\u0449\\u0430 \\u0442\\u0435\\u0440\\u0438\\u0442\\u043e\\u0440\\u0456\\u0457 \\u043a\\u043c.\\u043a\\u0432.=%{y}<extra></extra>\",\"legendgroup\":\"\\u0421\\u0430\\u043a\\u0440\\u0430\\u043c\\u0435\\u043d\\u0442\\u043e\",\"marker\":{\"color\":\"#FFA15A\",\"symbol\":\"circle\"},\"mode\":\"markers\",\"name\":\"\\u0421\\u0430\\u043a\\u0440\\u0430\\u043c\\u0435\\u043d\\u0442\\u043e\",\"orientation\":\"v\",\"showlegend\":true,\"x\":[524943],\"xaxis\":\"x\",\"y\":[259.27],\"yaxis\":\"y\",\"type\":\"scatter\"},{\"hovertemplate\":\"\\u0421\\u0442\\u043e\\u043b\\u0438\\u0446\\u044f=\\u0414\\u0435\\u043d\\u0432\\u0435\\u0440<br>\\u041d\\u0430\\u0441\\u0435\\u043b\\u0435\\u043d\\u043d\\u044f=%{x}<br>\\u041f\\u043b\\u043e\\u0449\\u0430 \\u0442\\u0435\\u0440\\u0438\\u0442\\u043e\\u0440\\u0456\\u0457 \\u043a\\u043c.\\u043a\\u0432.=%{y}<extra></extra>\",\"legendgroup\":\"\\u0414\\u0435\\u043d\\u0432\\u0435\\u0440\",\"marker\":{\"color\":\"#19d3f3\",\"symbol\":\"circle\"},\"mode\":\"markers\",\"name\":\"\\u0414\\u0435\\u043d\\u0432\\u0435\\u0440\",\"orientation\":\"v\",\"showlegend\":true,\"x\":[735538],\"xaxis\":\"x\",\"y\":[401.27],\"yaxis\":\"y\",\"type\":\"scatter\"},{\"hovertemplate\":\"\\u0421\\u0442\\u043e\\u043b\\u0438\\u0446\\u044f=\\u0413\\u0430\\u0440\\u0442\\u0444\\u043e\\u0440\\u0434<br>\\u041d\\u0430\\u0441\\u0435\\u043b\\u0435\\u043d\\u043d\\u044f=%{x}<br>\\u041f\\u043b\\u043e\\u0449\\u0430 \\u0442\\u0435\\u0440\\u0438\\u0442\\u043e\\u0440\\u0456\\u0457 \\u043a\\u043c.\\u043a\\u0432.=%{y}<extra></extra>\",\"legendgroup\":\"\\u0413\\u0430\\u0440\\u0442\\u0444\\u043e\\u0440\\u0434\",\"marker\":{\"color\":\"#FF6692\",\"symbol\":\"circle\"},\"mode\":\"markers\",\"name\":\"\\u0413\\u0430\\u0440\\u0442\\u0444\\u043e\\u0440\\u0434\",\"orientation\":\"v\",\"showlegend\":true,\"x\":[122105],\"xaxis\":\"x\",\"y\":[46.25],\"yaxis\":\"y\",\"type\":\"scatter\"},{\"hovertemplate\":\"\\u0421\\u0442\\u043e\\u043b\\u0438\\u0446\\u044f=\\u0414\\u0443\\u0432\\u0435\\u0440<br>\\u041d\\u0430\\u0441\\u0435\\u043b\\u0435\\u043d\\u043d\\u044f=%{x}<br>\\u041f\\u043b\\u043e\\u0449\\u0430 \\u0442\\u0435\\u0440\\u0438\\u0442\\u043e\\u0440\\u0456\\u0457 \\u043a\\u043c.\\u043a\\u0432.=%{y}<extra></extra>\",\"legendgroup\":\"\\u0414\\u0443\\u0432\\u0435\\u0440\",\"marker\":{\"color\":\"#B6E880\",\"symbol\":\"circle\"},\"mode\":\"markers\",\"name\":\"\\u0414\\u0443\\u0432\\u0435\\u0440\",\"orientation\":\"v\",\"showlegend\":true,\"x\":[38142],\"xaxis\":\"x\",\"y\":[60.03],\"yaxis\":\"y\",\"type\":\"scatter\"},{\"hovertemplate\":\"\\u0421\\u0442\\u043e\\u043b\\u0438\\u0446\\u044f=\\u0422\\u0430\\u043b\\u043b\\u0430\\u0445\\u0430\\u0441\\u0441\\u0456<br>\\u041d\\u0430\\u0441\\u0435\\u043b\\u0435\\u043d\\u043d\\u044f=%{x}<br>\\u041f\\u043b\\u043e\\u0449\\u0430 \\u0442\\u0435\\u0440\\u0438\\u0442\\u043e\\u0440\\u0456\\u0457 \\u043a\\u043c.\\u043a\\u0432.=%{y}<extra></extra>\",\"legendgroup\":\"\\u0422\\u0430\\u043b\\u043b\\u0430\\u0445\\u0430\\u0441\\u0441\\u0456\",\"marker\":{\"color\":\"#FF97FF\",\"symbol\":\"circle\"},\"mode\":\"markers\",\"name\":\"\\u0422\\u0430\\u043b\\u043b\\u0430\\u0445\\u0430\\u0441\\u0441\\u0456\",\"orientation\":\"v\",\"showlegend\":true,\"x\":[199926],\"xaxis\":\"x\",\"y\":[254.52],\"yaxis\":\"y\",\"type\":\"scatter\"},{\"hovertemplate\":\"\\u0421\\u0442\\u043e\\u043b\\u0438\\u0446\\u044f=\\u0410\\u0442\\u043b\\u0430\\u043d\\u0442\\u0430<br>\\u041d\\u0430\\u0441\\u0435\\u043b\\u0435\\u043d\\u043d\\u044f=%{x}<br>\\u041f\\u043b\\u043e\\u0449\\u0430 \\u0442\\u0435\\u0440\\u0438\\u0442\\u043e\\u0440\\u0456\\u0457 \\u043a\\u043c.\\u043a\\u0432.=%{y}<extra></extra>\",\"legendgroup\":\"\\u0410\\u0442\\u043b\\u0430\\u043d\\u0442\\u0430\",\"marker\":{\"color\":\"#FECB52\",\"symbol\":\"circle\"},\"mode\":\"markers\",\"name\":\"\\u0410\\u0442\\u043b\\u0430\\u043d\\u0442\\u0430\",\"orientation\":\"v\",\"showlegend\":true,\"x\":[498715],\"xaxis\":\"x\",\"y\":[347.1],\"yaxis\":\"y\",\"type\":\"scatter\"},{\"hovertemplate\":\"\\u0421\\u0442\\u043e\\u043b\\u0438\\u0446\\u044f=\\u0413\\u043e\\u043d\\u043e\\u043b\\u0443\\u043b\\u0443<br>\\u041d\\u0430\\u0441\\u0435\\u043b\\u0435\\u043d\\u043d\\u044f=%{x}<br>\\u041f\\u043b\\u043e\\u0449\\u0430 \\u0442\\u0435\\u0440\\u0438\\u0442\\u043e\\u0440\\u0456\\u0457 \\u043a\\u043c.\\u043a\\u0432.=%{y}<extra></extra>\",\"legendgroup\":\"\\u0413\\u043e\\u043d\\u043e\\u043b\\u0443\\u043b\\u0443\",\"marker\":{\"color\":\"#636efa\",\"symbol\":\"circle\"},\"mode\":\"markers\",\"name\":\"\\u0413\\u043e\\u043d\\u043e\\u043b\\u0443\\u043b\\u0443\",\"orientation\":\"v\",\"showlegend\":true,\"x\":[347397],\"xaxis\":\"x\",\"y\":[177.22],\"yaxis\":\"y\",\"type\":\"scatter\"},{\"hovertemplate\":\"\\u0421\\u0442\\u043e\\u043b\\u0438\\u0446\\u044f=\\u0411\\u043e\\u0439\\u0441\\u0435<br>\\u041d\\u0430\\u0441\\u0435\\u043b\\u0435\\u043d\\u043d\\u044f=%{x}<br>\\u041f\\u043b\\u043e\\u0449\\u0430 \\u0442\\u0435\\u0440\\u0438\\u0442\\u043e\\u0440\\u0456\\u0457 \\u043a\\u043c.\\u043a\\u0432.=%{y}<extra></extra>\",\"legendgroup\":\"\\u0411\\u043e\\u0439\\u0441\\u0435\",\"marker\":{\"color\":\"#EF553B\",\"symbol\":\"circle\"},\"mode\":\"markers\",\"name\":\"\\u0411\\u043e\\u0439\\u0441\\u0435\",\"orientation\":\"v\",\"showlegend\":true,\"x\":[240380],\"xaxis\":\"x\",\"y\":[247.05],\"yaxis\":\"y\",\"type\":\"scatter\"},{\"hovertemplate\":\"\\u0421\\u0442\\u043e\\u043b\\u0438\\u0446\\u044f=\\u0421\\u043f\\u0440\\u0456\\u043d\\u0433\\u0444\\u0456\\u043b\\u0434<br>\\u041d\\u0430\\u0441\\u0435\\u043b\\u0435\\u043d\\u043d\\u044f=%{x}<br>\\u041f\\u043b\\u043e\\u0449\\u0430 \\u0442\\u0435\\u0440\\u0438\\u0442\\u043e\\u0440\\u0456\\u0457 \\u043a\\u043c.\\u043a\\u0432.=%{y}<extra></extra>\",\"legendgroup\":\"\\u0421\\u043f\\u0440\\u0456\\u043d\\u0433\\u0444\\u0456\\u043b\\u0434\",\"marker\":{\"color\":\"#00cc96\",\"symbol\":\"circle\"},\"mode\":\"markers\",\"name\":\"\\u0421\\u043f\\u0440\\u0456\\u043d\\u0433\\u0444\\u0456\\u043b\\u0434\",\"orientation\":\"v\",\"showlegend\":true,\"x\":[115715],\"xaxis\":\"x\",\"y\":[160.03],\"yaxis\":\"y\",\"type\":\"scatter\"},{\"hovertemplate\":\"\\u0421\\u0442\\u043e\\u043b\\u0438\\u0446\\u044f=\\u0406\\u043d\\u0434\\u0456\\u0430\\u043d\\u0430\\u043f\\u043e\\u043b\\u0456\\u0441<br>\\u041d\\u0430\\u0441\\u0435\\u043b\\u0435\\u043d\\u043d\\u044f=%{x}<br>\\u041f\\u043b\\u043e\\u0449\\u0430 \\u0442\\u0435\\u0440\\u0438\\u0442\\u043e\\u0440\\u0456\\u0457 \\u043a\\u043c.\\u043a\\u0432.=%{y}<extra></extra>\",\"legendgroup\":\"\\u0406\\u043d\\u0434\\u0456\\u0430\\u043d\\u0430\\u043f\\u043e\\u043b\\u0456\\u0441\",\"marker\":{\"color\":\"#ab63fa\",\"symbol\":\"circle\"},\"mode\":\"markers\",\"name\":\"\\u0406\\u043d\\u0434\\u0456\\u0430\\u043d\\u0430\\u043f\\u043e\\u043b\\u0456\\u0441\",\"orientation\":\"v\",\"showlegend\":true,\"x\":[876384],\"xaxis\":\"x\",\"y\":[953.18],\"yaxis\":\"y\",\"type\":\"scatter\"},{\"hovertemplate\":\"\\u0421\\u0442\\u043e\\u043b\\u0438\\u0446\\u044f=\\u0414\\u0435-\\u041c\\u043e\\u0439\\u043d<br>\\u041d\\u0430\\u0441\\u0435\\u043b\\u0435\\u043d\\u043d\\u044f=%{x}<br>\\u041f\\u043b\\u043e\\u0449\\u0430 \\u0442\\u0435\\u0440\\u0438\\u0442\\u043e\\u0440\\u0456\\u0457 \\u043a\\u043c.\\u043a\\u0432.=%{y}<extra></extra>\",\"legendgroup\":\"\\u0414\\u0435-\\u041c\\u043e\\u0439\\u043d\",\"marker\":{\"color\":\"#FFA15A\",\"symbol\":\"circle\"},\"mode\":\"markers\",\"name\":\"\\u0414\\u0435-\\u041c\\u043e\\u0439\\u043d\",\"orientation\":\"v\",\"showlegend\":true,\"x\":[217891],\"xaxis\":\"x\",\"y\":[222.36],\"yaxis\":\"y\",\"type\":\"scatter\"},{\"hovertemplate\":\"\\u0421\\u0442\\u043e\\u043b\\u0438\\u0446\\u044f=\\u0422\\u043e\\u043f\\u0456\\u043a\\u0430<br>\\u041d\\u0430\\u0441\\u0435\\u043b\\u0435\\u043d\\u043d\\u044f=%{x}<br>\\u041f\\u043b\\u043e\\u0449\\u0430 \\u0442\\u0435\\u0440\\u0438\\u0442\\u043e\\u0440\\u0456\\u0457 \\u043a\\u043c.\\u043a\\u0432.=%{y}<extra></extra>\",\"legendgroup\":\"\\u0422\\u043e\\u043f\\u0456\\u043a\\u0430\",\"marker\":{\"color\":\"#19d3f3\",\"symbol\":\"circle\"},\"mode\":\"markers\",\"name\":\"\\u0422\\u043e\\u043f\\u0456\\u043a\\u0430\",\"orientation\":\"v\",\"showlegend\":true,\"x\":[126587],\"xaxis\":\"x\",\"y\":[159.81],\"yaxis\":\"y\",\"type\":\"scatter\"},{\"hovertemplate\":\"\\u0421\\u0442\\u043e\\u043b\\u0438\\u0446\\u044f=\\u0424\\u0440\\u0430\\u043d\\u043a\\u0444\\u043e\\u0440\\u0442<br>\\u041d\\u0430\\u0441\\u0435\\u043b\\u0435\\u043d\\u043d\\u044f=%{x}<br>\\u041f\\u043b\\u043e\\u0449\\u0430 \\u0442\\u0435\\u0440\\u0438\\u0442\\u043e\\u0440\\u0456\\u0457 \\u043a\\u043c.\\u043a\\u0432.=%{y}<extra></extra>\",\"legendgroup\":\"\\u0424\\u0440\\u0430\\u043d\\u043a\\u0444\\u043e\\u0440\\u0442\",\"marker\":{\"color\":\"#FF6692\",\"symbol\":\"circle\"},\"mode\":\"markers\",\"name\":\"\\u0424\\u0440\\u0430\\u043d\\u043a\\u0444\\u043e\\u0440\\u0442\",\"orientation\":\"v\",\"showlegend\":true,\"x\":[28283],\"xaxis\":\"x\",\"y\":[37.31],\"yaxis\":\"y\",\"type\":\"scatter\"},{\"hovertemplate\":\"\\u0421\\u0442\\u043e\\u043b\\u0438\\u0446\\u044f=\\u0411\\u0430\\u0442\\u043e\\u043d-\\u0420\\u0443\\u0436<br>\\u041d\\u0430\\u0441\\u0435\\u043b\\u0435\\u043d\\u043d\\u044f=%{x}<br>\\u041f\\u043b\\u043e\\u0449\\u0430 \\u0442\\u0435\\u0440\\u0438\\u0442\\u043e\\u0440\\u0456\\u0457 \\u043a\\u043c.\\u043a\\u0432.=%{y}<extra></extra>\",\"legendgroup\":\"\\u0411\\u0430\\u0442\\u043e\\u043d-\\u0420\\u0443\\u0436\",\"marker\":{\"color\":\"#B6E880\",\"symbol\":\"circle\"},\"mode\":\"markers\",\"name\":\"\\u0411\\u0430\\u0442\\u043e\\u043d-\\u0420\\u0443\\u0436\",\"orientation\":\"v\",\"showlegend\":true,\"x\":[219531],\"xaxis\":\"x\",\"y\":[200.91],\"yaxis\":\"y\",\"type\":\"scatter\"},{\"hovertemplate\":\"\\u0421\\u0442\\u043e\\u043b\\u0438\\u0446\\u044f=\\u0410\\u043d\\u043d\\u0430\\u043f\\u043e\\u043b\\u0456\\u0441<br>\\u041d\\u0430\\u0441\\u0435\\u043b\\u0435\\u043d\\u043d\\u044f=%{x}<br>\\u041f\\u043b\\u043e\\u0449\\u0430 \\u0442\\u0435\\u0440\\u0438\\u0442\\u043e\\u0440\\u0456\\u0457 \\u043a\\u043c.\\u043a\\u0432.=%{y}<extra></extra>\",\"legendgroup\":\"\\u0410\\u043d\\u043d\\u0430\\u043f\\u043e\\u043b\\u0456\\u0441\",\"marker\":{\"color\":\"#FF97FF\",\"symbol\":\"circle\"},\"mode\":\"markers\",\"name\":\"\\u0410\\u043d\\u043d\\u0430\\u043f\\u043e\\u043b\\u0456\\u0441\",\"orientation\":\"v\",\"showlegend\":true,\"x\":[39139],\"xaxis\":\"x\",\"y\":[19.12],\"yaxis\":\"y\",\"type\":\"scatter\"},{\"hovertemplate\":\"\\u0421\\u0442\\u043e\\u043b\\u0438\\u0446\\u044f=\\u0411\\u043e\\u0441\\u0442\\u043e\\u043d<br>\\u041d\\u0430\\u0441\\u0435\\u043b\\u0435\\u043d\\u043d\\u044f=%{x}<br>\\u041f\\u043b\\u043e\\u0449\\u0430 \\u0442\\u0435\\u0440\\u0438\\u0442\\u043e\\u0440\\u0456\\u0457 \\u043a\\u043c.\\u043a\\u0432.=%{y}<extra></extra>\",\"legendgroup\":\"\\u0411\\u043e\\u0441\\u0442\\u043e\\u043d\",\"marker\":{\"color\":\"#FECB52\",\"symbol\":\"circle\"},\"mode\":\"markers\",\"name\":\"\\u0411\\u043e\\u0441\\u0442\\u043e\\u043d\",\"orientation\":\"v\",\"showlegend\":true,\"x\":[692600],\"xaxis\":\"x\",\"y\":[89.63],\"yaxis\":\"y\",\"type\":\"scatter\"},{\"hovertemplate\":\"\\u0421\\u0442\\u043e\\u043b\\u0438\\u0446\\u044f=\\u041b\\u0430\\u043d\\u0441\\u0456\\u043d\\u0433<br>\\u041d\\u0430\\u0441\\u0435\\u043b\\u0435\\u043d\\u043d\\u044f=%{x}<br>\\u041f\\u043b\\u043e\\u0449\\u0430 \\u0442\\u0435\\u0440\\u0438\\u0442\\u043e\\u0440\\u0456\\u0457 \\u043a\\u043c.\\u043a\\u0432.=%{y}<extra></extra>\",\"legendgroup\":\"\\u041b\\u0430\\u043d\\u0441\\u0456\\u043d\\u0433\",\"marker\":{\"color\":\"#636efa\",\"symbol\":\"circle\"},\"mode\":\"markers\",\"name\":\"\\u041b\\u0430\\u043d\\u0441\\u0456\\u043d\\u0433\",\"orientation\":\"v\",\"showlegend\":true,\"x\":[119128],\"xaxis\":\"x\",\"y\":[95.68],\"yaxis\":\"y\",\"type\":\"scatter\"},{\"hovertemplate\":\"\\u0421\\u0442\\u043e\\u043b\\u0438\\u0446\\u044f=\\u0421\\u0435\\u043d\\u0442-\\u041f\\u043e\\u043b<br>\\u041d\\u0430\\u0441\\u0435\\u043b\\u0435\\u043d\\u043d\\u044f=%{x}<br>\\u041f\\u043b\\u043e\\u0449\\u0430 \\u0442\\u0435\\u0440\\u0438\\u0442\\u043e\\u0440\\u0456\\u0457 \\u043a\\u043c.\\u043a\\u0432.=%{y}<extra></extra>\",\"legendgroup\":\"\\u0421\\u0435\\u043d\\u0442-\\u041f\\u043e\\u043b\",\"marker\":{\"color\":\"#EF553B\",\"symbol\":\"circle\"},\"mode\":\"markers\",\"name\":\"\\u0421\\u0435\\u043d\\u0442-\\u041f\\u043e\\u043b\",\"orientation\":\"v\",\"showlegend\":true,\"x\":[307695],\"xaxis\":\"x\",\"y\":[145.98],\"yaxis\":\"y\",\"type\":\"scatter\"},{\"hovertemplate\":\"\\u0421\\u0442\\u043e\\u043b\\u0438\\u0446\\u044f=\\u0414\\u0436\\u0435\\u043a\\u0441\\u043e\\u043d<br>\\u041d\\u0430\\u0441\\u0435\\u043b\\u0435\\u043d\\u043d\\u044f=%{x}<br>\\u041f\\u043b\\u043e\\u0449\\u0430 \\u0442\\u0435\\u0440\\u0438\\u0442\\u043e\\u0440\\u0456\\u0457 \\u043a\\u043c.\\u043a\\u0432.=%{y}<extra></extra>\",\"legendgroup\":\"\\u0414\\u0436\\u0435\\u043a\\u0441\\u043e\\u043d\",\"marker\":{\"color\":\"#00cc96\",\"symbol\":\"circle\"},\"mode\":\"markers\",\"name\":\"\\u0414\\u0436\\u0435\\u043a\\u0441\\u043e\\u043d\",\"orientation\":\"v\",\"showlegend\":true,\"x\":[143617],\"xaxis\":\"x\",\"y\":[276.69],\"yaxis\":\"y\",\"type\":\"scatter\"},{\"hovertemplate\":\"\\u0421\\u0442\\u043e\\u043b\\u0438\\u0446\\u044f=\\u0414\\u0436\\u0435\\u0444\\u0444\\u0435\\u0440\\u0441\\u043e\\u043d-\\u0421\\u0456\\u0442\\u0456<br>\\u041d\\u0430\\u0441\\u0435\\u043b\\u0435\\u043d\\u043d\\u044f=%{x}<br>\\u041f\\u043b\\u043e\\u0449\\u0430 \\u0442\\u0435\\u0440\\u0438\\u0442\\u043e\\u0440\\u0456\\u0457 \\u043a\\u043c.\\u043a\\u0432.=%{y}<extra></extra>\",\"legendgroup\":\"\\u0414\\u0436\\u0435\\u0444\\u0444\\u0435\\u0440\\u0441\\u043e\\u043d-\\u0421\\u0456\\u0442\\u0456\",\"marker\":{\"color\":\"#ab63fa\",\"symbol\":\"circle\"},\"mode\":\"markers\",\"name\":\"\\u0414\\u0436\\u0435\\u0444\\u0444\\u0435\\u0440\\u0441\\u043e\\u043d-\\u0421\\u0456\\u0442\\u0456\",\"orientation\":\"v\",\"showlegend\":true,\"x\":[43079],\"xaxis\":\"x\",\"y\":[27.28],\"yaxis\":\"y\",\"type\":\"scatter\"},{\"hovertemplate\":\"\\u0421\\u0442\\u043e\\u043b\\u0438\\u0446\\u044f=\\u0413\\u0435\\u043b\\u0435\\u043d\\u0430<br>\\u041d\\u0430\\u0441\\u0435\\u043b\\u0435\\u043d\\u043d\\u044f=%{x}<br>\\u041f\\u043b\\u043e\\u0449\\u0430 \\u0442\\u0435\\u0440\\u0438\\u0442\\u043e\\u0440\\u0456\\u0457 \\u043a\\u043c.\\u043a\\u0432.=%{y}<extra></extra>\",\"legendgroup\":\"\\u0413\\u0435\\u043b\\u0435\\u043d\\u0430\",\"marker\":{\"color\":\"#FFA15A\",\"symbol\":\"circle\"},\"mode\":\"markers\",\"name\":\"\\u0413\\u0435\\u043b\\u0435\\u043d\\u0430\",\"orientation\":\"v\",\"showlegend\":true,\"x\":[33188],\"xaxis\":\"x\",\"y\":[16.47],\"yaxis\":\"y\",\"type\":\"scatter\"},{\"hovertemplate\":\"\\u0421\\u0442\\u043e\\u043b\\u0438\\u0446\\u044f=\\u041b\\u0456\\u043d\\u043a\\u043e\\u043b\\u044c\\u043d<br>\\u041d\\u0430\\u0441\\u0435\\u043b\\u0435\\u043d\\u043d\\u044f=%{x}<br>\\u041f\\u043b\\u043e\\u0449\\u0430 \\u0442\\u0435\\u0440\\u0438\\u0442\\u043e\\u0440\\u0456\\u0457 \\u043a\\u043c.\\u043a\\u0432.=%{y}<extra></extra>\",\"legendgroup\":\"\\u041b\\u0456\\u043d\\u043a\\u043e\\u043b\\u044c\\u043d\",\"marker\":{\"color\":\"#19d3f3\",\"symbol\":\"circle\"},\"mode\":\"markers\",\"name\":\"\\u041b\\u0456\\u043d\\u043a\\u043e\\u043b\\u044c\\u043d\",\"orientation\":\"v\",\"showlegend\":true,\"x\":[287401],\"xaxis\":\"x\",\"y\":[202.74],\"yaxis\":\"y\",\"type\":\"scatter\"},{\"hovertemplate\":\"\\u0421\\u0442\\u043e\\u043b\\u0438\\u0446\\u044f=\\u041a\\u0430\\u0440\\u0441\\u043e\\u043d-\\u0421\\u0456\\u0442\\u0456<br>\\u041d\\u0430\\u0441\\u0435\\u043b\\u0435\\u043d\\u043d\\u044f=%{x}<br>\\u041f\\u043b\\u043e\\u0449\\u0430 \\u0442\\u0435\\u0440\\u0438\\u0442\\u043e\\u0440\\u0456\\u0457 \\u043a\\u043c.\\u043a\\u0432.=%{y}<extra></extra>\",\"legendgroup\":\"\\u041a\\u0430\\u0440\\u0441\\u043e\\u043d-\\u0421\\u0456\\u0442\\u0456\",\"marker\":{\"color\":\"#FF6692\",\"symbol\":\"circle\"},\"mode\":\"markers\",\"name\":\"\\u041a\\u0430\\u0440\\u0441\\u043e\\u043d-\\u0421\\u0456\\u0442\\u0456\",\"orientation\":\"v\",\"showlegend\":true,\"x\":[55414],\"xaxis\":\"x\",\"y\":[168.68],\"yaxis\":\"y\",\"type\":\"scatter\"},{\"hovertemplate\":\"\\u0421\\u0442\\u043e\\u043b\\u0438\\u0446\\u044f=\\u041a\\u043e\\u043d\\u043a\\u043e\\u0440\\u0434<br>\\u041d\\u0430\\u0441\\u0435\\u043b\\u0435\\u043d\\u043d\\u044f=%{x}<br>\\u041f\\u043b\\u043e\\u0449\\u0430 \\u0442\\u0435\\u0440\\u0438\\u0442\\u043e\\u0440\\u0456\\u0457 \\u043a\\u043c.\\u043a\\u0432.=%{y}<extra></extra>\",\"legendgroup\":\"\\u041a\\u043e\\u043d\\u043a\\u043e\\u0440\\u0434\",\"marker\":{\"color\":\"#B6E880\",\"symbol\":\"circle\"},\"mode\":\"markers\",\"name\":\"\\u041a\\u043e\\u043d\\u043a\\u043e\\u0440\\u0434\",\"orientation\":\"v\",\"showlegend\":true,\"x\":[43167],\"xaxis\":\"x\",\"y\":[67.53],\"yaxis\":\"y\",\"type\":\"scatter\"},{\"hovertemplate\":\"\\u0421\\u0442\\u043e\\u043b\\u0438\\u0446\\u044f=\\u0422\\u0440\\u0435\\u043d\\u0442\\u043e\\u043d<br>\\u041d\\u0430\\u0441\\u0435\\u043b\\u0435\\u043d\\u043d\\u044f=%{x}<br>\\u041f\\u043b\\u043e\\u0449\\u0430 \\u0442\\u0435\\u0440\\u0438\\u0442\\u043e\\u0440\\u0456\\u0457 \\u043a\\u043c.\\u043a\\u0432.=%{y}<extra></extra>\",\"legendgroup\":\"\\u0422\\u0440\\u0435\\u043d\\u0442\\u043e\\u043d\",\"marker\":{\"color\":\"#FF97FF\",\"symbol\":\"circle\"},\"mode\":\"markers\",\"name\":\"\\u0422\\u0440\\u0435\\u043d\\u0442\\u043e\\u043d\",\"orientation\":\"v\",\"showlegend\":true,\"x\":[83974],\"xaxis\":\"x\",\"y\":[21.15],\"yaxis\":\"y\",\"type\":\"scatter\"},{\"hovertemplate\":\"\\u0421\\u0442\\u043e\\u043b\\u0438\\u0446\\u044f=\\u0421\\u0430\\u043d\\u0442\\u0430-\\u0424\\u0435<br>\\u041d\\u0430\\u0441\\u0435\\u043b\\u0435\\u043d\\u043d\\u044f=%{x}<br>\\u041f\\u043b\\u043e\\u0449\\u0430 \\u0442\\u0435\\u0440\\u0438\\u0442\\u043e\\u0440\\u0456\\u0457 \\u043a\\u043c.\\u043a\\u0432.=%{y}<extra></extra>\",\"legendgroup\":\"\\u0421\\u0430\\u043d\\u0442\\u0430-\\u0424\\u0435\",\"marker\":{\"color\":\"#FECB52\",\"symbol\":\"circle\"},\"mode\":\"markers\",\"name\":\"\\u0421\\u0430\\u043d\\u0442\\u0430-\\u0424\\u0435\",\"orientation\":\"v\",\"showlegend\":true,\"x\":[87521],\"xaxis\":\"x\",\"y\":[37.97],\"yaxis\":\"y\",\"type\":\"scatter\"},{\"hovertemplate\":\"\\u0421\\u0442\\u043e\\u043b\\u0438\\u0446\\u044f=\\u0410\\u043b\\u0431\\u0430\\u043d\\u0456<br>\\u041d\\u0430\\u0441\\u0435\\u043b\\u0435\\u043d\\u043d\\u044f=%{x}<br>\\u041f\\u043b\\u043e\\u0449\\u0430 \\u0442\\u0435\\u0440\\u0438\\u0442\\u043e\\u0440\\u0456\\u0457 \\u043a\\u043c.\\u043a\\u0432.=%{y}<extra></extra>\",\"legendgroup\":\"\\u0410\\u043b\\u0431\\u0430\\u043d\\u0456\",\"marker\":{\"color\":\"#636efa\",\"symbol\":\"circle\"},\"mode\":\"markers\",\"name\":\"\\u0410\\u043b\\u0431\\u0430\\u043d\\u0456\",\"orientation\":\"v\",\"showlegend\":true,\"x\":[97856],\"xaxis\":\"x\",\"y\":[21.86],\"yaxis\":\"y\",\"type\":\"scatter\"},{\"hovertemplate\":\"\\u0421\\u0442\\u043e\\u043b\\u0438\\u0446\\u044f=\\u0420\\u043e\\u043b\\u0456<br>\\u041d\\u0430\\u0441\\u0435\\u043b\\u0435\\u043d\\u043d\\u044f=%{x}<br>\\u041f\\u043b\\u043e\\u0449\\u0430 \\u0442\\u0435\\u0440\\u0438\\u0442\\u043e\\u0440\\u0456\\u0457 \\u043a\\u043c.\\u043a\\u0432.=%{y}<extra></extra>\",\"legendgroup\":\"\\u0420\\u043e\\u043b\\u0456\",\"marker\":{\"color\":\"#EF553B\",\"symbol\":\"circle\"},\"mode\":\"markers\",\"name\":\"\\u0420\\u043e\\u043b\\u0456\",\"orientation\":\"v\",\"showlegend\":true,\"x\":[474069],\"xaxis\":\"x\",\"y\":[359.38],\"yaxis\":\"y\",\"type\":\"scatter\"},{\"hovertemplate\":\"\\u0421\\u0442\\u043e\\u043b\\u0438\\u0446\\u044f=\\u0411\\u0456\\u0441\\u043c\\u0430\\u0440\\u043a<br>\\u041d\\u0430\\u0441\\u0435\\u043b\\u0435\\u043d\\u043d\\u044f=%{x}<br>\\u041f\\u043b\\u043e\\u0449\\u0430 \\u0442\\u0435\\u0440\\u0438\\u0442\\u043e\\u0440\\u0456\\u0457 \\u043a\\u043c.\\u043a\\u0432.=%{y}<extra></extra>\",\"legendgroup\":\"\\u0411\\u0456\\u0441\\u043c\\u0430\\u0440\\u043a\",\"marker\":{\"color\":\"#00cc96\",\"symbol\":\"circle\"},\"mode\":\"markers\",\"name\":\"\\u0411\\u0456\\u0441\\u043c\\u0430\\u0440\\u043a\",\"orientation\":\"v\",\"showlegend\":true,\"x\":[73112],\"xaxis\":\"x\",\"y\":[31.22],\"yaxis\":\"y\",\"type\":\"scatter\"},{\"hovertemplate\":\"\\u0421\\u0442\\u043e\\u043b\\u0438\\u0446\\u044f=\\u041a\\u043e\\u043b\\u0443\\u043c\\u0431\\u0443\\u0441<br>\\u041d\\u0430\\u0441\\u0435\\u043b\\u0435\\u043d\\u043d\\u044f=%{x}<br>\\u041f\\u043b\\u043e\\u0449\\u0430 \\u0442\\u0435\\u0440\\u0438\\u0442\\u043e\\u0440\\u0456\\u0457 \\u043a\\u043c.\\u043a\\u0432.=%{y}<extra></extra>\",\"legendgroup\":\"\\u041a\\u043e\\u043b\\u0443\\u043c\\u0431\\u0443\\u0441\",\"marker\":{\"color\":\"#ab63fa\",\"symbol\":\"circle\"},\"mode\":\"markers\",\"name\":\"\\u041a\\u043e\\u043b\\u0443\\u043c\\u0431\\u0443\\u0441\",\"orientation\":\"v\",\"showlegend\":true,\"x\":[898553],\"xaxis\":\"x\",\"y\":[576.95],\"yaxis\":\"y\",\"type\":\"scatter\"},{\"hovertemplate\":\"\\u0421\\u0442\\u043e\\u043b\\u0438\\u0446\\u044f=\\u041e\\u043a\\u043b\\u0430\\u0445\\u043e\\u043c\\u0430-\\u0421\\u0456\\u0442\\u0456<br>\\u041d\\u0430\\u0441\\u0435\\u043b\\u0435\\u043d\\u043d\\u044f=%{x}<br>\\u041f\\u043b\\u043e\\u0449\\u0430 \\u0442\\u0435\\u0440\\u0438\\u0442\\u043e\\u0440\\u0456\\u0457 \\u043a\\u043c.\\u043a\\u0432.=%{y}<extra></extra>\",\"legendgroup\":\"\\u041e\\u043a\\u043b\\u0430\\u0445\\u043e\\u043c\\u0430-\\u0421\\u0456\\u0442\\u0456\",\"marker\":{\"color\":\"#FFA15A\",\"symbol\":\"circle\"},\"mode\":\"markers\",\"name\":\"\\u041e\\u043a\\u043b\\u0430\\u0445\\u043e\\u043c\\u0430-\\u0421\\u0456\\u0442\\u0456\",\"orientation\":\"v\",\"showlegend\":true,\"x\":[655057],\"xaxis\":\"x\",\"y\":[1571.18],\"yaxis\":\"y\",\"type\":\"scatter\"},{\"hovertemplate\":\"\\u0421\\u0442\\u043e\\u043b\\u0438\\u0446\\u044f=\\u0421\\u0435\\u0439\\u043b\\u0435\\u043c<br>\\u041d\\u0430\\u0441\\u0435\\u043b\\u0435\\u043d\\u043d\\u044f=%{x}<br>\\u041f\\u043b\\u043e\\u0449\\u0430 \\u0442\\u0435\\u0440\\u0438\\u0442\\u043e\\u0440\\u0456\\u0457 \\u043a\\u043c.\\u043a\\u0432.=%{y}<extra></extra>\",\"legendgroup\":\"\\u0421\\u0435\\u0439\\u043b\\u0435\\u043c\",\"marker\":{\"color\":\"#19d3f3\",\"symbol\":\"circle\"},\"mode\":\"markers\",\"name\":\"\\u0421\\u0435\\u0439\\u043b\\u0435\\u043c\",\"orientation\":\"v\",\"showlegend\":true,\"x\":[174365],\"xaxis\":\"x\",\"y\":[126.05],\"yaxis\":\"y\",\"type\":\"scatter\"},{\"hovertemplate\":\"\\u0421\\u0442\\u043e\\u043b\\u0438\\u0446\\u044f=\\u0413\\u0430\\u0440\\u0440\\u0456\\u0441\\u0431\\u0443\\u0440\\u0433<br>\\u041d\\u0430\\u0441\\u0435\\u043b\\u0435\\u043d\\u043d\\u044f=%{x}<br>\\u041f\\u043b\\u043e\\u0449\\u0430 \\u0442\\u0435\\u0440\\u0438\\u0442\\u043e\\u0440\\u0456\\u0457 \\u043a\\u043c.\\u043a\\u0432.=%{y}<extra></extra>\",\"legendgroup\":\"\\u0413\\u0430\\u0440\\u0440\\u0456\\u0441\\u0431\\u0443\\u0440\\u0433\",\"marker\":{\"color\":\"#FF6692\",\"symbol\":\"circle\"},\"mode\":\"markers\",\"name\":\"\\u0413\\u0430\\u0440\\u0440\\u0456\\u0441\\u0431\\u0443\\u0440\\u0433\",\"orientation\":\"v\",\"showlegend\":true,\"x\":[49229],\"xaxis\":\"x\",\"y\":[21.76],\"yaxis\":\"y\",\"type\":\"scatter\"},{\"hovertemplate\":\"\\u0421\\u0442\\u043e\\u043b\\u0438\\u0446\\u044f=\\u041f\\u0440\\u043e\\u0432\\u0456\\u0434\\u0435\\u043d\\u0441<br>\\u041d\\u0430\\u0441\\u0435\\u043b\\u0435\\u043d\\u043d\\u044f=%{x}<br>\\u041f\\u043b\\u043e\\u0449\\u0430 \\u0442\\u0435\\u0440\\u0438\\u0442\\u043e\\u0440\\u0456\\u0457 \\u043a\\u043c.\\u043a\\u0432.=%{y}<extra></extra>\",\"legendgroup\":\"\\u041f\\u0440\\u043e\\u0432\\u0456\\u0434\\u0435\\u043d\\u0441\",\"marker\":{\"color\":\"#B6E880\",\"symbol\":\"circle\"},\"mode\":\"markers\",\"name\":\"\\u041f\\u0440\\u043e\\u0432\\u0456\\u0434\\u0435\\u043d\\u0441\",\"orientation\":\"v\",\"showlegend\":true,\"x\":[179335],\"xaxis\":\"x\",\"y\":[53.13],\"yaxis\":\"y\",\"type\":\"scatter\"},{\"hovertemplate\":\"\\u0421\\u0442\\u043e\\u043b\\u0438\\u0446\\u044f=\\u041a\\u043e\\u043b\\u0443\\u043c\\u0431\\u0456\\u044f<br>\\u041d\\u0430\\u0441\\u0435\\u043b\\u0435\\u043d\\u043d\\u044f=%{x}<br>\\u041f\\u043b\\u043e\\u0449\\u0430 \\u0442\\u0435\\u0440\\u0438\\u0442\\u043e\\u0440\\u0456\\u0457 \\u043a\\u043c.\\u043a\\u0432.=%{y}<extra></extra>\",\"legendgroup\":\"\\u041a\\u043e\\u043b\\u0443\\u043c\\u0431\\u0456\\u044f\",\"marker\":{\"color\":\"#FF97FF\",\"symbol\":\"circle\"},\"mode\":\"markers\",\"name\":\"\\u041a\\u043e\\u043b\\u0443\\u043c\\u0431\\u0456\\u044f\",\"orientation\":\"v\",\"showlegend\":true,\"x\":[133273],\"xaxis\":\"x\",\"y\":[133.13],\"yaxis\":\"y\",\"type\":\"scatter\"},{\"hovertemplate\":\"\\u0421\\u0442\\u043e\\u043b\\u0438\\u0446\\u044f=\\u041f'\\u0454\\u0440<br>\\u041d\\u0430\\u0441\\u0435\\u043b\\u0435\\u043d\\u043d\\u044f=%{x}<br>\\u041f\\u043b\\u043e\\u0449\\u0430 \\u0442\\u0435\\u0440\\u0438\\u0442\\u043e\\u0440\\u0456\\u0457 \\u043a\\u043c.\\u043a\\u0432.=%{y}<extra></extra>\",\"legendgroup\":\"\\u041f'\\u0454\\u0440\",\"marker\":{\"color\":\"#FECB52\",\"symbol\":\"circle\"},\"mode\":\"markers\",\"name\":\"\\u041f'\\u0454\\u0440\",\"orientation\":\"v\",\"showlegend\":true,\"x\":[14177],\"xaxis\":\"x\",\"y\":[17.07],\"yaxis\":\"y\",\"type\":\"scatter\"},{\"hovertemplate\":\"\\u0421\\u0442\\u043e\\u043b\\u0438\\u0446\\u044f=\\u041d\\u0435\\u0448\\u0432\\u0456\\u043b\\u043b<br>\\u041d\\u0430\\u0441\\u0435\\u043b\\u0435\\u043d\\u043d\\u044f=%{x}<br>\\u041f\\u043b\\u043e\\u0449\\u0430 \\u0442\\u0435\\u0440\\u0438\\u0442\\u043e\\u0440\\u0456\\u0457 \\u043a\\u043c.\\u043a\\u0432.=%{y}<extra></extra>\",\"legendgroup\":\"\\u041d\\u0435\\u0448\\u0432\\u0456\\u043b\\u043b\",\"marker\":{\"color\":\"#636efa\",\"symbol\":\"circle\"},\"mode\":\"markers\",\"name\":\"\\u041d\\u0435\\u0448\\u0432\\u0456\\u043b\\u043b\",\"orientation\":\"v\",\"showlegend\":true,\"x\":[694144],\"xaxis\":\"x\",\"y\":[1362.19],\"yaxis\":\"y\",\"type\":\"scatter\"},{\"hovertemplate\":\"\\u0421\\u0442\\u043e\\u043b\\u0438\\u0446\\u044f=\\u041e\\u0441\\u0442\\u0456\\u043d<br>\\u041d\\u0430\\u0441\\u0435\\u043b\\u0435\\u043d\\u043d\\u044f=%{x}<br>\\u041f\\u043b\\u043e\\u0449\\u0430 \\u0442\\u0435\\u0440\\u0438\\u0442\\u043e\\u0440\\u0456\\u0457 \\u043a\\u043c.\\u043a\\u0432.=%{y}<extra></extra>\",\"legendgroup\":\"\\u041e\\u0441\\u0442\\u0456\\u043d\",\"marker\":{\"color\":\"#EF553B\",\"symbol\":\"circle\"},\"mode\":\"markers\",\"name\":\"\\u041e\\u0441\\u0442\\u0456\\u043d\",\"orientation\":\"v\",\"showlegend\":true,\"x\":[1012695],\"xaxis\":\"x\",\"y\":[332.21],\"yaxis\":\"y\",\"type\":\"scatter\"},{\"hovertemplate\":\"\\u0421\\u0442\\u043e\\u043b\\u0438\\u0446\\u044f=\\u0421\\u043e\\u043b\\u0442-\\u041b\\u0435\\u0439\\u043a-\\u0421\\u0456\\u0442\\u0456<br>\\u041d\\u0430\\u0441\\u0435\\u043b\\u0435\\u043d\\u043d\\u044f=%{x}<br>\\u041f\\u043b\\u043e\\u0449\\u0430 \\u0442\\u0435\\u0440\\u0438\\u0442\\u043e\\u0440\\u0456\\u0457 \\u043a\\u043c.\\u043a\\u0432.=%{y}<extra></extra>\",\"legendgroup\":\"\\u0421\\u043e\\u043b\\u0442-\\u041b\\u0435\\u0439\\u043a-\\u0421\\u0456\\u0442\\u0456\",\"marker\":{\"color\":\"#00cc96\",\"symbol\":\"circle\"},\"mode\":\"markers\",\"name\":\"\\u0421\\u043e\\u043b\\u0442-\\u041b\\u0435\\u0439\\u043a-\\u0421\\u0456\\u0442\\u0456\",\"orientation\":\"v\",\"showlegend\":true,\"x\":[200567],\"xaxis\":\"x\",\"y\":[285.91],\"yaxis\":\"y\",\"type\":\"scatter\"},{\"hovertemplate\":\"\\u0421\\u0442\\u043e\\u043b\\u0438\\u0446\\u044f=\\u041c\\u043e\\u043d\\u0442\\u043f\\u0435\\u043b\\u044c\\u0454\\u0440<br>\\u041d\\u0430\\u0441\\u0435\\u043b\\u0435\\u043d\\u043d\\u044f=%{x}<br>\\u041f\\u043b\\u043e\\u0449\\u0430 \\u0442\\u0435\\u0440\\u0438\\u0442\\u043e\\u0440\\u0456\\u0457 \\u043a\\u043c.\\u043a\\u0432.=%{y}<extra></extra>\",\"legendgroup\":\"\\u041c\\u043e\\u043d\\u0442\\u043f\\u0435\\u043b\\u044c\\u0454\\u0440\",\"marker\":{\"color\":\"#ab63fa\",\"symbol\":\"circle\"},\"mode\":\"markers\",\"name\":\"\\u041c\\u043e\\u043d\\u0442\\u043f\\u0435\\u043b\\u044c\\u0454\\u0440\",\"orientation\":\"v\",\"showlegend\":true,\"x\":[7436],\"xaxis\":\"x\",\"y\":[10.33],\"yaxis\":\"y\",\"type\":\"scatter\"},{\"hovertemplate\":\"\\u0421\\u0442\\u043e\\u043b\\u0438\\u0446\\u044f=\\u0420\\u0456\\u0447\\u043c\\u043e\\u043d\\u0434<br>\\u041d\\u0430\\u0441\\u0435\\u043b\\u0435\\u043d\\u043d\\u044f=%{x}<br>\\u041f\\u043b\\u043e\\u0449\\u0430 \\u0442\\u0435\\u0440\\u0438\\u0442\\u043e\\u0440\\u0456\\u0457 \\u043a\\u043c.\\u043a\\u0432.=%{y}<extra></extra>\",\"legendgroup\":\"\\u0420\\u0456\\u0447\\u043c\\u043e\\u043d\\u0434\",\"marker\":{\"color\":\"#FFA15A\",\"symbol\":\"circle\"},\"mode\":\"markers\",\"name\":\"\\u0420\\u0456\\u0447\\u043c\\u043e\\u043d\\u0434\",\"orientation\":\"v\",\"showlegend\":true,\"x\":[233170],\"xaxis\":\"x\",\"y\":[162.08],\"yaxis\":\"y\",\"type\":\"scatter\"},{\"hovertemplate\":\"\\u0421\\u0442\\u043e\\u043b\\u0438\\u0446\\u044f=\\u041e\\u043b\\u0456\\u043c\\u043f\\u0456\\u044f<br>\\u041d\\u0430\\u0441\\u0435\\u043b\\u0435\\u043d\\u043d\\u044f=%{x}<br>\\u041f\\u043b\\u043e\\u0449\\u0430 \\u0442\\u0435\\u0440\\u0438\\u0442\\u043e\\u0440\\u0456\\u0457 \\u043a\\u043c.\\u043a\\u0432.=%{y}<extra></extra>\",\"legendgroup\":\"\\u041e\\u043b\\u0456\\u043c\\u043f\\u0456\\u044f\",\"marker\":{\"color\":\"#19d3f3\",\"symbol\":\"circle\"},\"mode\":\"markers\",\"name\":\"\\u041e\\u043b\\u0456\\u043c\\u043f\\u0456\\u044f\",\"orientation\":\"v\",\"showlegend\":true,\"x\":[54905],\"xaxis\":\"x\",\"y\":[50.67],\"yaxis\":\"y\",\"type\":\"scatter\"},{\"hovertemplate\":\"\\u0421\\u0442\\u043e\\u043b\\u0438\\u0446\\u044f=\\u0427\\u0430\\u0440\\u043b\\u0441\\u0442\\u043e\\u043d<br>\\u041d\\u0430\\u0441\\u0435\\u043b\\u0435\\u043d\\u043d\\u044f=%{x}<br>\\u041f\\u043b\\u043e\\u0449\\u0430 \\u0442\\u0435\\u0440\\u0438\\u0442\\u043e\\u0440\\u0456\\u0457 \\u043a\\u043c.\\u043a\\u0432.=%{y}<extra></extra>\",\"legendgroup\":\"\\u0427\\u0430\\u0440\\u043b\\u0441\\u0442\\u043e\\u043d\",\"marker\":{\"color\":\"#FF6692\",\"symbol\":\"circle\"},\"mode\":\"markers\",\"name\":\"\\u0427\\u0430\\u0440\\u043b\\u0441\\u0442\\u043e\\u043d\",\"orientation\":\"v\",\"showlegend\":true,\"x\":[45879],\"xaxis\":\"x\",\"y\":[33.87],\"yaxis\":\"y\",\"type\":\"scatter\"},{\"hovertemplate\":\"\\u0421\\u0442\\u043e\\u043b\\u0438\\u0446\\u044f=\\u041c\\u0435\\u0434\\u0456\\u0441\\u043e\\u043d<br>\\u041d\\u0430\\u0441\\u0435\\u043b\\u0435\\u043d\\u043d\\u044f=%{x}<br>\\u041f\\u043b\\u043e\\u0449\\u0430 \\u0442\\u0435\\u0440\\u0438\\u0442\\u043e\\u0440\\u0456\\u0457 \\u043a\\u043c.\\u043a\\u0432.=%{y}<extra></extra>\",\"legendgroup\":\"\\u041c\\u0435\\u0434\\u0456\\u0441\\u043e\\u043d\",\"marker\":{\"color\":\"#B6E880\",\"symbol\":\"circle\"},\"mode\":\"markers\",\"name\":\"\\u041c\\u0435\\u0434\\u0456\\u0441\\u043e\\u043d\",\"orientation\":\"v\",\"showlegend\":true,\"x\":[259680],\"xaxis\":\"x\",\"y\":[148.63],\"yaxis\":\"y\",\"type\":\"scatter\"},{\"hovertemplate\":\"\\u0421\\u0442\\u043e\\u043b\\u0438\\u0446\\u044f=\\u0428\\u0430\\u0439\\u0454\\u043d\\u043d<br>\\u041d\\u0430\\u0441\\u0435\\u043b\\u0435\\u043d\\u043d\\u044f=%{x}<br>\\u041f\\u043b\\u043e\\u0449\\u0430 \\u0442\\u0435\\u0440\\u0438\\u0442\\u043e\\u0440\\u0456\\u0457 \\u043a\\u043c.\\u043a\\u0432.=%{y}<extra></extra>\",\"legendgroup\":\"\\u0428\\u0430\\u0439\\u0454\\u043d\\u043d\",\"marker\":{\"color\":\"#FF97FF\",\"symbol\":\"circle\"},\"mode\":\"markers\",\"name\":\"\\u0428\\u0430\\u0439\\u0454\\u043d\\u043d\",\"orientation\":\"v\",\"showlegend\":true,\"x\":[64019],\"xaxis\":\"x\",\"y\":[61.56],\"yaxis\":\"y\",\"type\":\"scatter\"}],                        {\"template\":{\"data\":{\"histogram2dcontour\":[{\"type\":\"histogram2dcontour\",\"colorbar\":{\"outlinewidth\":0,\"ticks\":\"\"},\"colorscale\":[[0.0,\"#0d0887\"],[0.1111111111111111,\"#46039f\"],[0.2222222222222222,\"#7201a8\"],[0.3333333333333333,\"#9c179e\"],[0.4444444444444444,\"#bd3786\"],[0.5555555555555556,\"#d8576b\"],[0.6666666666666666,\"#ed7953\"],[0.7777777777777778,\"#fb9f3a\"],[0.8888888888888888,\"#fdca26\"],[1.0,\"#f0f921\"]]}],\"choropleth\":[{\"type\":\"choropleth\",\"colorbar\":{\"outlinewidth\":0,\"ticks\":\"\"}}],\"histogram2d\":[{\"type\":\"histogram2d\",\"colorbar\":{\"outlinewidth\":0,\"ticks\":\"\"},\"colorscale\":[[0.0,\"#0d0887\"],[0.1111111111111111,\"#46039f\"],[0.2222222222222222,\"#7201a8\"],[0.3333333333333333,\"#9c179e\"],[0.4444444444444444,\"#bd3786\"],[0.5555555555555556,\"#d8576b\"],[0.6666666666666666,\"#ed7953\"],[0.7777777777777778,\"#fb9f3a\"],[0.8888888888888888,\"#fdca26\"],[1.0,\"#f0f921\"]]}],\"heatmap\":[{\"type\":\"heatmap\",\"colorbar\":{\"outlinewidth\":0,\"ticks\":\"\"},\"colorscale\":[[0.0,\"#0d0887\"],[0.1111111111111111,\"#46039f\"],[0.2222222222222222,\"#7201a8\"],[0.3333333333333333,\"#9c179e\"],[0.4444444444444444,\"#bd3786\"],[0.5555555555555556,\"#d8576b\"],[0.6666666666666666,\"#ed7953\"],[0.7777777777777778,\"#fb9f3a\"],[0.8888888888888888,\"#fdca26\"],[1.0,\"#f0f921\"]]}],\"heatmapgl\":[{\"type\":\"heatmapgl\",\"colorbar\":{\"outlinewidth\":0,\"ticks\":\"\"},\"colorscale\":[[0.0,\"#0d0887\"],[0.1111111111111111,\"#46039f\"],[0.2222222222222222,\"#7201a8\"],[0.3333333333333333,\"#9c179e\"],[0.4444444444444444,\"#bd3786\"],[0.5555555555555556,\"#d8576b\"],[0.6666666666666666,\"#ed7953\"],[0.7777777777777778,\"#fb9f3a\"],[0.8888888888888888,\"#fdca26\"],[1.0,\"#f0f921\"]]}],\"contourcarpet\":[{\"type\":\"contourcarpet\",\"colorbar\":{\"outlinewidth\":0,\"ticks\":\"\"}}],\"contour\":[{\"type\":\"contour\",\"colorbar\":{\"outlinewidth\":0,\"ticks\":\"\"},\"colorscale\":[[0.0,\"#0d0887\"],[0.1111111111111111,\"#46039f\"],[0.2222222222222222,\"#7201a8\"],[0.3333333333333333,\"#9c179e\"],[0.4444444444444444,\"#bd3786\"],[0.5555555555555556,\"#d8576b\"],[0.6666666666666666,\"#ed7953\"],[0.7777777777777778,\"#fb9f3a\"],[0.8888888888888888,\"#fdca26\"],[1.0,\"#f0f921\"]]}],\"surface\":[{\"type\":\"surface\",\"colorbar\":{\"outlinewidth\":0,\"ticks\":\"\"},\"colorscale\":[[0.0,\"#0d0887\"],[0.1111111111111111,\"#46039f\"],[0.2222222222222222,\"#7201a8\"],[0.3333333333333333,\"#9c179e\"],[0.4444444444444444,\"#bd3786\"],[0.5555555555555556,\"#d8576b\"],[0.6666666666666666,\"#ed7953\"],[0.7777777777777778,\"#fb9f3a\"],[0.8888888888888888,\"#fdca26\"],[1.0,\"#f0f921\"]]}],\"mesh3d\":[{\"type\":\"mesh3d\",\"colorbar\":{\"outlinewidth\":0,\"ticks\":\"\"}}],\"scatter\":[{\"fillpattern\":{\"fillmode\":\"overlay\",\"size\":10,\"solidity\":0.2},\"type\":\"scatter\"}],\"parcoords\":[{\"type\":\"parcoords\",\"line\":{\"colorbar\":{\"outlinewidth\":0,\"ticks\":\"\"}}}],\"scatterpolargl\":[{\"type\":\"scatterpolargl\",\"marker\":{\"colorbar\":{\"outlinewidth\":0,\"ticks\":\"\"}}}],\"bar\":[{\"error_x\":{\"color\":\"#2a3f5f\"},\"error_y\":{\"color\":\"#2a3f5f\"},\"marker\":{\"line\":{\"color\":\"#E5ECF6\",\"width\":0.5},\"pattern\":{\"fillmode\":\"overlay\",\"size\":10,\"solidity\":0.2}},\"type\":\"bar\"}],\"scattergeo\":[{\"type\":\"scattergeo\",\"marker\":{\"colorbar\":{\"outlinewidth\":0,\"ticks\":\"\"}}}],\"scatterpolar\":[{\"type\":\"scatterpolar\",\"marker\":{\"colorbar\":{\"outlinewidth\":0,\"ticks\":\"\"}}}],\"histogram\":[{\"marker\":{\"pattern\":{\"fillmode\":\"overlay\",\"size\":10,\"solidity\":0.2}},\"type\":\"histogram\"}],\"scattergl\":[{\"type\":\"scattergl\",\"marker\":{\"colorbar\":{\"outlinewidth\":0,\"ticks\":\"\"}}}],\"scatter3d\":[{\"type\":\"scatter3d\",\"line\":{\"colorbar\":{\"outlinewidth\":0,\"ticks\":\"\"}},\"marker\":{\"colorbar\":{\"outlinewidth\":0,\"ticks\":\"\"}}}],\"scattermapbox\":[{\"type\":\"scattermapbox\",\"marker\":{\"colorbar\":{\"outlinewidth\":0,\"ticks\":\"\"}}}],\"scatterternary\":[{\"type\":\"scatterternary\",\"marker\":{\"colorbar\":{\"outlinewidth\":0,\"ticks\":\"\"}}}],\"scattercarpet\":[{\"type\":\"scattercarpet\",\"marker\":{\"colorbar\":{\"outlinewidth\":0,\"ticks\":\"\"}}}],\"carpet\":[{\"aaxis\":{\"endlinecolor\":\"#2a3f5f\",\"gridcolor\":\"white\",\"linecolor\":\"white\",\"minorgridcolor\":\"white\",\"startlinecolor\":\"#2a3f5f\"},\"baxis\":{\"endlinecolor\":\"#2a3f5f\",\"gridcolor\":\"white\",\"linecolor\":\"white\",\"minorgridcolor\":\"white\",\"startlinecolor\":\"#2a3f5f\"},\"type\":\"carpet\"}],\"table\":[{\"cells\":{\"fill\":{\"color\":\"#EBF0F8\"},\"line\":{\"color\":\"white\"}},\"header\":{\"fill\":{\"color\":\"#C8D4E3\"},\"line\":{\"color\":\"white\"}},\"type\":\"table\"}],\"barpolar\":[{\"marker\":{\"line\":{\"color\":\"#E5ECF6\",\"width\":0.5},\"pattern\":{\"fillmode\":\"overlay\",\"size\":10,\"solidity\":0.2}},\"type\":\"barpolar\"}],\"pie\":[{\"automargin\":true,\"type\":\"pie\"}]},\"layout\":{\"autotypenumbers\":\"strict\",\"colorway\":[\"#636efa\",\"#EF553B\",\"#00cc96\",\"#ab63fa\",\"#FFA15A\",\"#19d3f3\",\"#FF6692\",\"#B6E880\",\"#FF97FF\",\"#FECB52\"],\"font\":{\"color\":\"#2a3f5f\"},\"hovermode\":\"closest\",\"hoverlabel\":{\"align\":\"left\"},\"paper_bgcolor\":\"white\",\"plot_bgcolor\":\"#E5ECF6\",\"polar\":{\"bgcolor\":\"#E5ECF6\",\"angularaxis\":{\"gridcolor\":\"white\",\"linecolor\":\"white\",\"ticks\":\"\"},\"radialaxis\":{\"gridcolor\":\"white\",\"linecolor\":\"white\",\"ticks\":\"\"}},\"ternary\":{\"bgcolor\":\"#E5ECF6\",\"aaxis\":{\"gridcolor\":\"white\",\"linecolor\":\"white\",\"ticks\":\"\"},\"baxis\":{\"gridcolor\":\"white\",\"linecolor\":\"white\",\"ticks\":\"\"},\"caxis\":{\"gridcolor\":\"white\",\"linecolor\":\"white\",\"ticks\":\"\"}},\"coloraxis\":{\"colorbar\":{\"outlinewidth\":0,\"ticks\":\"\"}},\"colorscale\":{\"sequential\":[[0.0,\"#0d0887\"],[0.1111111111111111,\"#46039f\"],[0.2222222222222222,\"#7201a8\"],[0.3333333333333333,\"#9c179e\"],[0.4444444444444444,\"#bd3786\"],[0.5555555555555556,\"#d8576b\"],[0.6666666666666666,\"#ed7953\"],[0.7777777777777778,\"#fb9f3a\"],[0.8888888888888888,\"#fdca26\"],[1.0,\"#f0f921\"]],\"sequentialminus\":[[0.0,\"#0d0887\"],[0.1111111111111111,\"#46039f\"],[0.2222222222222222,\"#7201a8\"],[0.3333333333333333,\"#9c179e\"],[0.4444444444444444,\"#bd3786\"],[0.5555555555555556,\"#d8576b\"],[0.6666666666666666,\"#ed7953\"],[0.7777777777777778,\"#fb9f3a\"],[0.8888888888888888,\"#fdca26\"],[1.0,\"#f0f921\"]],\"diverging\":[[0,\"#8e0152\"],[0.1,\"#c51b7d\"],[0.2,\"#de77ae\"],[0.3,\"#f1b6da\"],[0.4,\"#fde0ef\"],[0.5,\"#f7f7f7\"],[0.6,\"#e6f5d0\"],[0.7,\"#b8e186\"],[0.8,\"#7fbc41\"],[0.9,\"#4d9221\"],[1,\"#276419\"]]},\"xaxis\":{\"gridcolor\":\"white\",\"linecolor\":\"white\",\"ticks\":\"\",\"title\":{\"standoff\":15},\"zerolinecolor\":\"white\",\"automargin\":true,\"zerolinewidth\":2},\"yaxis\":{\"gridcolor\":\"white\",\"linecolor\":\"white\",\"ticks\":\"\",\"title\":{\"standoff\":15},\"zerolinecolor\":\"white\",\"automargin\":true,\"zerolinewidth\":2},\"scene\":{\"xaxis\":{\"backgroundcolor\":\"#E5ECF6\",\"gridcolor\":\"white\",\"linecolor\":\"white\",\"showbackground\":true,\"ticks\":\"\",\"zerolinecolor\":\"white\",\"gridwidth\":2},\"yaxis\":{\"backgroundcolor\":\"#E5ECF6\",\"gridcolor\":\"white\",\"linecolor\":\"white\",\"showbackground\":true,\"ticks\":\"\",\"zerolinecolor\":\"white\",\"gridwidth\":2},\"zaxis\":{\"backgroundcolor\":\"#E5ECF6\",\"gridcolor\":\"white\",\"linecolor\":\"white\",\"showbackground\":true,\"ticks\":\"\",\"zerolinecolor\":\"white\",\"gridwidth\":2}},\"shapedefaults\":{\"line\":{\"color\":\"#2a3f5f\"}},\"annotationdefaults\":{\"arrowcolor\":\"#2a3f5f\",\"arrowhead\":0,\"arrowwidth\":1},\"geo\":{\"bgcolor\":\"white\",\"landcolor\":\"#E5ECF6\",\"subunitcolor\":\"white\",\"showland\":true,\"showlakes\":true,\"lakecolor\":\"white\"},\"title\":{\"x\":0.05},\"mapbox\":{\"style\":\"light\"}}},\"xaxis\":{\"anchor\":\"y\",\"domain\":[0.0,1.0],\"title\":{\"text\":\"\\u041d\\u0430\\u0441\\u0435\\u043b\\u0435\\u043d\\u043d\\u044f\"}},\"yaxis\":{\"anchor\":\"x\",\"domain\":[0.0,1.0],\"title\":{\"text\":\"\\u041f\\u043b\\u043e\\u0449\\u0430 \\u0442\\u0435\\u0440\\u0438\\u0442\\u043e\\u0440\\u0456\\u0457 \\u043a\\u043c.\\u043a\\u0432.\"}},\"legend\":{\"title\":{\"text\":\"\\u0421\\u0442\\u043e\\u043b\\u0438\\u0446\\u044f\"},\"tracegroupgap\":0},\"title\":{\"text\":\"\\u0417\\u0430\\u043b\\u0435\\u0436\\u043d\\u0456\\u0441\\u0442\\u044c \\u043d\\u0430\\u0441\\u0435\\u043b\\u0435\\u043d\\u043d\\u044f \\u043c\\u0456\\u0441\\u0442\\u0430 \\u0432\\u0456\\u0434 \\u0439\\u043e\\u0433\\u043e \\u043f\\u043b\\u043e\\u0449\\u0456\"}},                        {\"responsive\": true}                    ).then(function(){\n",
       "                            \n",
       "var gd = document.getElementById('f15d96e0-6adc-4592-bd89-fa7dc701669d');\n",
       "var x = new MutationObserver(function (mutations, observer) {{\n",
       "        var display = window.getComputedStyle(gd).display;\n",
       "        if (!display || display === 'none') {{\n",
       "            console.log([gd, 'removed!']);\n",
       "            Plotly.purge(gd);\n",
       "            observer.disconnect();\n",
       "        }}\n",
       "}});\n",
       "\n",
       "// Listen for the removal of the full notebook cells\n",
       "var notebookContainer = gd.closest('#notebook-container');\n",
       "if (notebookContainer) {{\n",
       "    x.observe(notebookContainer, {childList: true});\n",
       "}}\n",
       "\n",
       "// Listen for the clearing of the current output cell\n",
       "var outputEl = gd.closest('.output');\n",
       "if (outputEl) {{\n",
       "    x.observe(outputEl, {childList: true});\n",
       "}}\n",
       "\n",
       "                        })                };                });            </script>        </div>"
      ]
     },
     "metadata": {},
     "output_type": "display_data"
    }
   ],
   "source": [
    "#Візуалізація залежності міста від його площі\n",
    "px.scatter(data, x = 'Населення', y = 'Площа території км.кв.', title = 'Залежність населення міста від його площі', color='Столиця')"
   ]
  },
  {
   "cell_type": "code",
   "execution_count": 21,
   "id": "ec5e38d0",
   "metadata": {},
   "outputs": [
    {
     "data": {
      "application/vnd.plotly.v1+json": {
       "config": {
        "plotlyServerURL": "https://plot.ly"
       },
       "data": [
        {
         "hovertemplate": "Столиця=Монтгомері<br>Населення=%{x}<br>Дохід на душу населення $ на рік=%{y}<extra></extra>",
         "legendgroup": "Монтгомері",
         "marker": {
          "color": "#636efa",
          "symbol": "circle"
         },
         "mode": "markers",
         "name": "Монтгомері",
         "orientation": "v",
         "showlegend": true,
         "type": "scatter",
         "x": [
          198218
         ],
         "xaxis": "x",
         "y": [
          51113
         ],
         "yaxis": "y"
        },
        {
         "hovertemplate": "Столиця=Джуно<br>Населення=%{x}<br>Дохід на душу населення $ на рік=%{y}<extra></extra>",
         "legendgroup": "Джуно",
         "marker": {
          "color": "#EF553B",
          "symbol": "circle"
         },
         "mode": "markers",
         "name": "Джуно",
         "orientation": "v",
         "showlegend": true,
         "type": "scatter",
         "x": [
          32113
         ],
         "xaxis": "x",
         "y": [
          85296
         ],
         "yaxis": "y"
        },
        {
         "hovertemplate": "Столиця=Фінікс<br>Населення=%{x}<br>Дохід на душу населення $ на рік=%{y}<extra></extra>",
         "legendgroup": "Фінікс",
         "marker": {
          "color": "#00cc96",
          "symbol": "circle"
         },
         "mode": "markers",
         "name": "Фінікс",
         "orientation": "v",
         "showlegend": true,
         "type": "scatter",
         "x": [
          1752316
         ],
         "xaxis": "x",
         "y": [
          65057
         ],
         "yaxis": "y"
        },
        {
         "hovertemplate": "Столиця=Літл-Рок<br>Населення=%{x}<br>Дохід на душу населення $ на рік=%{y}<extra></extra>",
         "legendgroup": "Літл-Рок",
         "marker": {
          "color": "#ab63fa",
          "symbol": "circle"
         },
         "mode": "markers",
         "name": "Літл-Рок",
         "orientation": "v",
         "showlegend": true,
         "type": "scatter",
         "x": [
          197312
         ],
         "xaxis": "x",
         "y": [
          48892
         ],
         "yaxis": "y"
        },
        {
         "hovertemplate": "Столиця=Сакраменто<br>Населення=%{x}<br>Дохід на душу населення $ на рік=%{y}<extra></extra>",
         "legendgroup": "Сакраменто",
         "marker": {
          "color": "#FFA15A",
          "symbol": "circle"
         },
         "mode": "markers",
         "name": "Сакраменто",
         "orientation": "v",
         "showlegend": true,
         "type": "scatter",
         "x": [
          524943
         ],
         "xaxis": "x",
         "y": [
          76662
         ],
         "yaxis": "y"
        },
        {
         "hovertemplate": "Столиця=Денвер<br>Населення=%{x}<br>Дохід на душу населення $ на рік=%{y}<extra></extra>",
         "legendgroup": "Денвер",
         "marker": {
          "color": "#19d3f3",
          "symbol": "circle"
         },
         "mode": "markers",
         "name": "Денвер",
         "orientation": "v",
         "showlegend": true,
         "type": "scatter",
         "x": [
          735538
         ],
         "xaxis": "x",
         "y": [
          77398
         ],
         "yaxis": "y"
        },
        {
         "hovertemplate": "Столиця=Гартфорд<br>Населення=%{x}<br>Дохід на душу населення $ на рік=%{y}<extra></extra>",
         "legendgroup": "Гартфорд",
         "marker": {
          "color": "#FF6692",
          "symbol": "circle"
         },
         "mode": "markers",
         "name": "Гартфорд",
         "orientation": "v",
         "showlegend": true,
         "type": "scatter",
         "x": [
          122105
         ],
         "xaxis": "x",
         "y": [
          44162
         ],
         "yaxis": "y"
        },
        {
         "hovertemplate": "Столиця=Дувер<br>Населення=%{x}<br>Дохід на душу населення $ на рік=%{y}<extra></extra>",
         "legendgroup": "Дувер",
         "marker": {
          "color": "#B6E880",
          "symbol": "circle"
         },
         "mode": "markers",
         "name": "Дувер",
         "orientation": "v",
         "showlegend": true,
         "type": "scatter",
         "x": [
          38142
         ],
         "xaxis": "x",
         "y": [
          63273
         ],
         "yaxis": "y"
        },
        {
         "hovertemplate": "Столиця=Таллахассі<br>Населення=%{x}<br>Дохід на душу населення $ на рік=%{y}<extra></extra>",
         "legendgroup": "Таллахассі",
         "marker": {
          "color": "#FF97FF",
          "symbol": "circle"
         },
         "mode": "markers",
         "name": "Таллахассі",
         "orientation": "v",
         "showlegend": true,
         "type": "scatter",
         "x": [
          199926
         ],
         "xaxis": "x",
         "y": [
          46411
         ],
         "yaxis": "y"
        },
        {
         "hovertemplate": "Столиця=Атланта<br>Населення=%{x}<br>Дохід на душу населення $ на рік=%{y}<extra></extra>",
         "legendgroup": "Атланта",
         "marker": {
          "color": "#FECB52",
          "symbol": "circle"
         },
         "mode": "markers",
         "name": "Атланта",
         "orientation": "v",
         "showlegend": true,
         "type": "scatter",
         "x": [
          498715
         ],
         "xaxis": "x",
         "y": [
          65345
         ],
         "yaxis": "y"
        },
        {
         "hovertemplate": "Столиця=Гонолулу<br>Населення=%{x}<br>Дохід на душу населення $ на рік=%{y}<extra></extra>",
         "legendgroup": "Гонолулу",
         "marker": {
          "color": "#636efa",
          "symbol": "circle"
         },
         "mode": "markers",
         "name": "Гонолулу",
         "orientation": "v",
         "showlegend": true,
         "type": "scatter",
         "x": [
          347397
         ],
         "xaxis": "x",
         "y": [
          80513
         ],
         "yaxis": "y"
        },
        {
         "hovertemplate": "Столиця=Бойсе<br>Населення=%{x}<br>Дохід на душу населення $ на рік=%{y}<extra></extra>",
         "legendgroup": "Бойсе",
         "marker": {
          "color": "#EF553B",
          "symbol": "circle"
         },
         "mode": "markers",
         "name": "Бойсе",
         "orientation": "v",
         "showlegend": true,
         "type": "scatter",
         "x": [
          240380
         ],
         "xaxis": "x",
         "y": [
          63918
         ],
         "yaxis": "y"
        },
        {
         "hovertemplate": "Столиця=Спрінгфілд<br>Населення=%{x}<br>Дохід на душу населення $ на рік=%{y}<extra></extra>",
         "legendgroup": "Спрінгфілд",
         "marker": {
          "color": "#00cc96",
          "symbol": "circle"
         },
         "mode": "markers",
         "name": "Спрінгфілд",
         "orientation": "v",
         "showlegend": true,
         "type": "scatter",
         "x": [
          115715
         ],
         "xaxis": "x",
         "y": [
          59285
         ],
         "yaxis": "y"
        },
        {
         "hovertemplate": "Столиця=Індіанаполіс<br>Населення=%{x}<br>Дохід на душу населення $ на рік=%{y}<extra></extra>",
         "legendgroup": "Індіанаполіс",
         "marker": {
          "color": "#ab63fa",
          "symbol": "circle"
         },
         "mode": "markers",
         "name": "Індіанаполіс",
         "orientation": "v",
         "showlegend": true,
         "type": "scatter",
         "x": [
          876384
         ],
         "xaxis": "x",
         "y": [
          55752
         ],
         "yaxis": "y"
        },
        {
         "hovertemplate": "Столиця=Де-Мойн<br>Населення=%{x}<br>Дохід на душу населення $ на рік=%{y}<extra></extra>",
         "legendgroup": "Де-Мойн",
         "marker": {
          "color": "#FFA15A",
          "symbol": "circle"
         },
         "mode": "markers",
         "name": "Де-Мойн",
         "orientation": "v",
         "showlegend": true,
         "type": "scatter",
         "x": [
          217891
         ],
         "xaxis": "x",
         "y": [
          65579
         ],
         "yaxis": "y"
        },
        {
         "hovertemplate": "Столиця=Топіка<br>Населення=%{x}<br>Дохід на душу населення $ на рік=%{y}<extra></extra>",
         "legendgroup": "Топіка",
         "marker": {
          "color": "#19d3f3",
          "symbol": "circle"
         },
         "mode": "markers",
         "name": "Топіка",
         "orientation": "v",
         "showlegend": true,
         "type": "scatter",
         "x": [
          126587
         ],
         "xaxis": "x",
         "y": [
          58197
         ],
         "yaxis": "y"
        },
        {
         "hovertemplate": "Столиця=Франкфорт<br>Населення=%{x}<br>Дохід на душу населення $ на рік=%{y}<extra></extra>",
         "legendgroup": "Франкфорт",
         "marker": {
          "color": "#FF6692",
          "symbol": "circle"
         },
         "mode": "markers",
         "name": "Франкфорт",
         "orientation": "v",
         "showlegend": true,
         "type": "scatter",
         "x": [
          28283
         ],
         "xaxis": "x",
         "y": [
          46237
         ],
         "yaxis": "y"
        },
        {
         "hovertemplate": "Столиця=Батон-Руж<br>Населення=%{x}<br>Дохід на душу населення $ на рік=%{y}<extra></extra>",
         "legendgroup": "Батон-Руж",
         "marker": {
          "color": "#B6E880",
          "symbol": "circle"
         },
         "mode": "markers",
         "name": "Батон-Руж",
         "orientation": "v",
         "showlegend": true,
         "type": "scatter",
         "x": [
          219531
         ],
         "xaxis": "x",
         "y": [
          45426
         ],
         "yaxis": "y"
        },
        {
         "hovertemplate": "Столиця=Аннаполіс<br>Населення=%{x}<br>Дохід на душу населення $ на рік=%{y}<extra></extra>",
         "legendgroup": "Аннаполіс",
         "marker": {
          "color": "#FF97FF",
          "symbol": "circle"
         },
         "mode": "markers",
         "name": "Аннаполіс",
         "orientation": "v",
         "showlegend": true,
         "type": "scatter",
         "x": [
          39139
         ],
         "xaxis": "x",
         "y": [
          102199
         ],
         "yaxis": "y"
        },
        {
         "hovertemplate": "Столиця=Бостон<br>Населення=%{x}<br>Дохід на душу населення $ на рік=%{y}<extra></extra>",
         "legendgroup": "Бостон",
         "marker": {
          "color": "#FECB52",
          "symbol": "circle"
         },
         "mode": "markers",
         "name": "Бостон",
         "orientation": "v",
         "showlegend": true,
         "type": "scatter",
         "x": [
          692600
         ],
         "xaxis": "x",
         "y": [
          81827
         ],
         "yaxis": "y"
        },
        {
         "hovertemplate": "Столиця=Лансінг<br>Населення=%{x}<br>Дохід на душу населення $ на рік=%{y}<extra></extra>",
         "legendgroup": "Лансінг",
         "marker": {
          "color": "#636efa",
          "symbol": "circle"
         },
         "mode": "markers",
         "name": "Лансінг",
         "orientation": "v",
         "showlegend": true,
         "type": "scatter",
         "x": [
          119128
         ],
         "xaxis": "x",
         "y": [
          53579
         ],
         "yaxis": "y"
        },
        {
         "hovertemplate": "Столиця=Сент-Пол<br>Населення=%{x}<br>Дохід на душу населення $ на рік=%{y}<extra></extra>",
         "legendgroup": "Сент-Пол",
         "marker": {
          "color": "#EF553B",
          "symbol": "circle"
         },
         "mode": "markers",
         "name": "Сент-Пол",
         "orientation": "v",
         "showlegend": true,
         "type": "scatter",
         "x": [
          307695
         ],
         "xaxis": "x",
         "y": [
          72629
         ],
         "yaxis": "y"
        },
        {
         "hovertemplate": "Столиця=Джексон<br>Населення=%{x}<br>Дохід на душу населення $ на рік=%{y}<extra></extra>",
         "legendgroup": "Джексон",
         "marker": {
          "color": "#00cc96",
          "symbol": "circle"
         },
         "mode": "markers",
         "name": "Джексон",
         "orientation": "v",
         "showlegend": true,
         "type": "scatter",
         "x": [
          143617
         ],
         "xaxis": "x",
         "y": [
          38057
         ],
         "yaxis": "y"
        },
        {
         "hovertemplate": "Столиця=Джефферсон-Сіті<br>Населення=%{x}<br>Дохід на душу населення $ на рік=%{y}<extra></extra>",
         "legendgroup": "Джефферсон-Сіті",
         "marker": {
          "color": "#ab63fa",
          "symbol": "circle"
         },
         "mode": "markers",
         "name": "Джефферсон-Сіті",
         "orientation": "v",
         "showlegend": true,
         "type": "scatter",
         "x": [
          43079
         ],
         "xaxis": "x",
         "y": [
          57348
         ],
         "yaxis": "y"
        },
        {
         "hovertemplate": "Столиця=Гелена<br>Населення=%{x}<br>Дохід на душу населення $ на рік=%{y}<extra></extra>",
         "legendgroup": "Гелена",
         "marker": {
          "color": "#FFA15A",
          "symbol": "circle"
         },
         "mode": "markers",
         "name": "Гелена",
         "orientation": "v",
         "showlegend": true,
         "type": "scatter",
         "x": [
          33188
         ],
         "xaxis": "x",
         "y": [
          57134
         ],
         "yaxis": "y"
        },
        {
         "hovertemplate": "Столиця=Лінкольн<br>Населення=%{x}<br>Дохід на душу населення $ на рік=%{y}<extra></extra>",
         "legendgroup": "Лінкольн",
         "marker": {
          "color": "#19d3f3",
          "symbol": "circle"
         },
         "mode": "markers",
         "name": "Лінкольн",
         "orientation": "v",
         "showlegend": true,
         "type": "scatter",
         "x": [
          287401
         ],
         "xaxis": "x",
         "y": [
          60753
         ],
         "yaxis": "y"
        },
        {
         "hovertemplate": "Столиця=Карсон-Сіті<br>Населення=%{x}<br>Дохід на душу населення $ на рік=%{y}<extra></extra>",
         "legendgroup": "Карсон-Сіті",
         "marker": {
          "color": "#FF6692",
          "symbol": "circle"
         },
         "mode": "markers",
         "name": "Карсон-Сіті",
         "orientation": "v",
         "showlegend": true,
         "type": "scatter",
         "x": [
          55414
         ],
         "xaxis": "x",
         "y": [
          58507
         ],
         "yaxis": "y"
        },
        {
         "hovertemplate": "Столиця=Конкорд<br>Населення=%{x}<br>Дохід на душу населення $ на рік=%{y}<extra></extra>",
         "legendgroup": "Конкорд",
         "marker": {
          "color": "#B6E880",
          "symbol": "circle"
         },
         "mode": "markers",
         "name": "Конкорд",
         "orientation": "v",
         "showlegend": true,
         "type": "scatter",
         "x": [
          43167
         ],
         "xaxis": "x",
         "y": [
          66825
         ],
         "yaxis": "y"
        },
        {
         "hovertemplate": "Столиця=Трентон<br>Населення=%{x}<br>Дохід на душу населення $ на рік=%{y}<extra></extra>",
         "legendgroup": "Трентон",
         "marker": {
          "color": "#FF97FF",
          "symbol": "circle"
         },
         "mode": "markers",
         "name": "Трентон",
         "orientation": "v",
         "showlegend": true,
         "type": "scatter",
         "x": [
          83974
         ],
         "xaxis": "x",
         "y": [
          37022
         ],
         "yaxis": "y"
        },
        {
         "hovertemplate": "Столиця=Санта-Фе<br>Населення=%{x}<br>Дохід на душу населення $ на рік=%{y}<extra></extra>",
         "legendgroup": "Санта-Фе",
         "marker": {
          "color": "#FECB52",
          "symbol": "circle"
         },
         "mode": "markers",
         "name": "Санта-Фе",
         "orientation": "v",
         "showlegend": true,
         "type": "scatter",
         "x": [
          87521
         ],
         "xaxis": "x",
         "y": [
          58618
         ],
         "yaxis": "y"
        },
        {
         "hovertemplate": "Столиця=Албані<br>Населення=%{x}<br>Дохід на душу населення $ на рік=%{y}<extra></extra>",
         "legendgroup": "Албані",
         "marker": {
          "color": "#636efa",
          "symbol": "circle"
         },
         "mode": "markers",
         "name": "Албані",
         "orientation": "v",
         "showlegend": true,
         "type": "scatter",
         "x": [
          97856
         ],
         "xaxis": "x",
         "y": [
          50405
         ],
         "yaxis": "y"
        },
        {
         "hovertemplate": "Столиця=Ролі<br>Населення=%{x}<br>Дохід на душу населення $ на рік=%{y}<extra></extra>",
         "legendgroup": "Ролі",
         "marker": {
          "color": "#EF553B",
          "symbol": "circle"
         },
         "mode": "markers",
         "name": "Ролі",
         "orientation": "v",
         "showlegend": true,
         "type": "scatter",
         "x": [
          474069
         ],
         "xaxis": "x",
         "y": [
          67146
         ],
         "yaxis": "y"
        },
        {
         "hovertemplate": "Столиця=Бісмарк<br>Населення=%{x}<br>Дохід на душу населення $ на рік=%{y}<extra></extra>",
         "legendgroup": "Бісмарк",
         "marker": {
          "color": "#00cc96",
          "symbol": "circle"
         },
         "mode": "markers",
         "name": "Бісмарк",
         "orientation": "v",
         "showlegend": true,
         "type": "scatter",
         "x": [
          73112
         ],
         "xaxis": "x",
         "y": [
          66714
         ],
         "yaxis": "y"
        },
        {
         "hovertemplate": "Столиця=Колумбус<br>Населення=%{x}<br>Дохід на душу населення $ на рік=%{y}<extra></extra>",
         "legendgroup": "Колумбус",
         "marker": {
          "color": "#ab63fa",
          "symbol": "circle"
         },
         "mode": "markers",
         "name": "Колумбус",
         "orientation": "v",
         "showlegend": true,
         "type": "scatter",
         "x": [
          898553
         ],
         "xaxis": "x",
         "y": [
          56273
         ],
         "yaxis": "y"
        },
        {
         "hovertemplate": "Столиця=Оклахома-Сіті<br>Населення=%{x}<br>Дохід на душу населення $ на рік=%{y}<extra></extra>",
         "legendgroup": "Оклахома-Сіті",
         "marker": {
          "color": "#FFA15A",
          "symbol": "circle"
         },
         "mode": "markers",
         "name": "Оклахома-Сіті",
         "orientation": "v",
         "showlegend": true,
         "type": "scatter",
         "x": [
          655057
         ],
         "xaxis": "x",
         "y": [
          56132
         ],
         "yaxis": "y"
        },
        {
         "hovertemplate": "Столиця=Сейлем<br>Населення=%{x}<br>Дохід на душу населення $ на рік=%{y}<extra></extra>",
         "legendgroup": "Сейлем",
         "marker": {
          "color": "#19d3f3",
          "symbol": "circle"
         },
         "mode": "markers",
         "name": "Сейлем",
         "orientation": "v",
         "showlegend": true,
         "type": "scatter",
         "x": [
          174365
         ],
         "xaxis": "x",
         "y": [
          56137
         ],
         "yaxis": "y"
        },
        {
         "hovertemplate": "Столиця=Гаррісбург<br>Населення=%{x}<br>Дохід на душу населення $ на рік=%{y}<extra></extra>",
         "legendgroup": "Гаррісбург",
         "marker": {
          "color": "#FF6692",
          "symbol": "circle"
         },
         "mode": "markers",
         "name": "Гаррісбург",
         "orientation": "v",
         "showlegend": true,
         "type": "scatter",
         "x": [
          49229
         ],
         "xaxis": "x",
         "y": [
          37923
         ],
         "yaxis": "y"
        },
        {
         "hovertemplate": "Столиця=Провіденс<br>Населення=%{x}<br>Дохід на душу населення $ на рік=%{y}<extra></extra>",
         "legendgroup": "Провіденс",
         "marker": {
          "color": "#B6E880",
          "symbol": "circle"
         },
         "mode": "markers",
         "name": "Провіденс",
         "orientation": "v",
         "showlegend": true,
         "type": "scatter",
         "x": [
          179335
         ],
         "xaxis": "x",
         "y": [
          47825
         ],
         "yaxis": "y"
        },
        {
         "hovertemplate": "Столиця=Колумбія<br>Населення=%{x}<br>Дохід на душу населення $ на рік=%{y}<extra></extra>",
         "legendgroup": "Колумбія",
         "marker": {
          "color": "#FF97FF",
          "symbol": "circle"
         },
         "mode": "markers",
         "name": "Колумбія",
         "orientation": "v",
         "showlegend": true,
         "type": "scatter",
         "x": [
          133273
         ],
         "xaxis": "x",
         "y": [
          53246
         ],
         "yaxis": "y"
        },
        {
         "hovertemplate": "Столиця=П'єр<br>Населення=%{x}<br>Дохід на душу населення $ на рік=%{y}<extra></extra>",
         "legendgroup": "П'єр",
         "marker": {
          "color": "#FECB52",
          "symbol": "circle"
         },
         "mode": "markers",
         "name": "П'єр",
         "orientation": "v",
         "showlegend": true,
         "type": "scatter",
         "x": [
          14177
         ],
         "xaxis": "x",
         "y": [
          60615
         ],
         "yaxis": "y"
        },
        {
         "hovertemplate": "Столиця=Нешвілл<br>Населення=%{x}<br>Дохід на душу населення $ на рік=%{y}<extra></extra>",
         "legendgroup": "Нешвілл",
         "marker": {
          "color": "#636efa",
          "symbol": "circle"
         },
         "mode": "markers",
         "name": "Нешвілл",
         "orientation": "v",
         "showlegend": true,
         "type": "scatter",
         "x": [
          694144
         ],
         "xaxis": "x",
         "y": [
          65776
         ],
         "yaxis": "y"
        },
        {
         "hovertemplate": "Столиця=Остін<br>Населення=%{x}<br>Дохід на душу населення $ на рік=%{y}<extra></extra>",
         "legendgroup": "Остін",
         "marker": {
          "color": "#EF553B",
          "symbol": "circle"
         },
         "mode": "markers",
         "name": "Остін",
         "orientation": "v",
         "showlegend": true,
         "type": "scatter",
         "x": [
          1012695
         ],
         "xaxis": "x",
         "y": [
          65579
         ],
         "yaxis": "y"
        },
        {
         "hovertemplate": "Столиця=Солт-Лейк-Сіті<br>Населення=%{x}<br>Дохід на душу населення $ на рік=%{y}<extra></extra>",
         "legendgroup": "Солт-Лейк-Сіті",
         "marker": {
          "color": "#00cc96",
          "symbol": "circle"
         },
         "mode": "markers",
         "name": "Солт-Лейк-Сіті",
         "orientation": "v",
         "showlegend": true,
         "type": "scatter",
         "x": [
          200567
         ],
         "xaxis": "x",
         "y": [
          68743
         ],
         "yaxis": "y"
        },
        {
         "hovertemplate": "Столиця=Монтпельєр<br>Населення=%{x}<br>Дохід на душу населення $ на рік=%{y}<extra></extra>",
         "legendgroup": "Монтпельєр",
         "marker": {
          "color": "#ab63fa",
          "symbol": "circle"
         },
         "mode": "markers",
         "name": "Монтпельєр",
         "orientation": "v",
         "showlegend": true,
         "type": "scatter",
         "x": [
          7436
         ],
         "xaxis": "x",
         "y": [
          57065
         ],
         "yaxis": "y"
        },
        {
         "hovertemplate": "Столиця=Річмонд<br>Населення=%{x}<br>Дохід на душу населення $ на рік=%{y}<extra></extra>",
         "legendgroup": "Річмонд",
         "marker": {
          "color": "#FFA15A",
          "symbol": "circle"
         },
         "mode": "markers",
         "name": "Річмонд",
         "orientation": "v",
         "showlegend": true,
         "type": "scatter",
         "x": [
          233170
         ],
         "xaxis": "x",
         "y": [
          77378
         ],
         "yaxis": "y"
        },
        {
         "hovertemplate": "Столиця=Олімпія<br>Населення=%{x}<br>Дохід на душу населення $ на рік=%{y}<extra></extra>",
         "legendgroup": "Олімпія",
         "marker": {
          "color": "#19d3f3",
          "symbol": "circle"
         },
         "mode": "markers",
         "name": "Олімпія",
         "orientation": "v",
         "showlegend": true,
         "type": "scatter",
         "x": [
          54905
         ],
         "xaxis": "x",
         "y": [
          62577
         ],
         "yaxis": "y"
        },
        {
         "hovertemplate": "Столиця=Чарлстон<br>Населення=%{x}<br>Дохід на душу населення $ на рік=%{y}<extra></extra>",
         "legendgroup": "Чарлстон",
         "marker": {
          "color": "#FF6692",
          "symbol": "circle"
         },
         "mode": "markers",
         "name": "Чарлстон",
         "orientation": "v",
         "showlegend": true,
         "type": "scatter",
         "x": [
          45879
         ],
         "xaxis": "x",
         "y": [
          51809
         ],
         "yaxis": "y"
        },
        {
         "hovertemplate": "Столиця=Медісон<br>Населення=%{x}<br>Дохід на душу населення $ на рік=%{y}<extra></extra>",
         "legendgroup": "Медісон",
         "marker": {
          "color": "#B6E880",
          "symbol": "circle"
         },
         "mode": "markers",
         "name": "Медісон",
         "orientation": "v",
         "showlegend": true,
         "type": "scatter",
         "x": [
          259680
         ],
         "xaxis": "x",
         "y": [
          68947
         ],
         "yaxis": "y"
        },
        {
         "hovertemplate": "Столиця=Шайєнн<br>Населення=%{x}<br>Дохід на душу населення $ на рік=%{y}<extra></extra>",
         "legendgroup": "Шайєнн",
         "marker": {
          "color": "#FF97FF",
          "symbol": "circle"
         },
         "mode": "markers",
         "name": "Шайєнн",
         "orientation": "v",
         "showlegend": true,
         "type": "scatter",
         "x": [
          64019
         ],
         "xaxis": "x",
         "y": [
          63094
         ],
         "yaxis": "y"
        }
       ],
       "layout": {
        "legend": {
         "title": {
          "text": "Столиця"
         },
         "tracegroupgap": 0
        },
        "template": {
         "data": {
          "bar": [
           {
            "error_x": {
             "color": "#2a3f5f"
            },
            "error_y": {
             "color": "#2a3f5f"
            },
            "marker": {
             "line": {
              "color": "#E5ECF6",
              "width": 0.5
             },
             "pattern": {
              "fillmode": "overlay",
              "size": 10,
              "solidity": 0.2
             }
            },
            "type": "bar"
           }
          ],
          "barpolar": [
           {
            "marker": {
             "line": {
              "color": "#E5ECF6",
              "width": 0.5
             },
             "pattern": {
              "fillmode": "overlay",
              "size": 10,
              "solidity": 0.2
             }
            },
            "type": "barpolar"
           }
          ],
          "carpet": [
           {
            "aaxis": {
             "endlinecolor": "#2a3f5f",
             "gridcolor": "white",
             "linecolor": "white",
             "minorgridcolor": "white",
             "startlinecolor": "#2a3f5f"
            },
            "baxis": {
             "endlinecolor": "#2a3f5f",
             "gridcolor": "white",
             "linecolor": "white",
             "minorgridcolor": "white",
             "startlinecolor": "#2a3f5f"
            },
            "type": "carpet"
           }
          ],
          "choropleth": [
           {
            "colorbar": {
             "outlinewidth": 0,
             "ticks": ""
            },
            "type": "choropleth"
           }
          ],
          "contour": [
           {
            "colorbar": {
             "outlinewidth": 0,
             "ticks": ""
            },
            "colorscale": [
             [
              0,
              "#0d0887"
             ],
             [
              0.1111111111111111,
              "#46039f"
             ],
             [
              0.2222222222222222,
              "#7201a8"
             ],
             [
              0.3333333333333333,
              "#9c179e"
             ],
             [
              0.4444444444444444,
              "#bd3786"
             ],
             [
              0.5555555555555556,
              "#d8576b"
             ],
             [
              0.6666666666666666,
              "#ed7953"
             ],
             [
              0.7777777777777778,
              "#fb9f3a"
             ],
             [
              0.8888888888888888,
              "#fdca26"
             ],
             [
              1,
              "#f0f921"
             ]
            ],
            "type": "contour"
           }
          ],
          "contourcarpet": [
           {
            "colorbar": {
             "outlinewidth": 0,
             "ticks": ""
            },
            "type": "contourcarpet"
           }
          ],
          "heatmap": [
           {
            "colorbar": {
             "outlinewidth": 0,
             "ticks": ""
            },
            "colorscale": [
             [
              0,
              "#0d0887"
             ],
             [
              0.1111111111111111,
              "#46039f"
             ],
             [
              0.2222222222222222,
              "#7201a8"
             ],
             [
              0.3333333333333333,
              "#9c179e"
             ],
             [
              0.4444444444444444,
              "#bd3786"
             ],
             [
              0.5555555555555556,
              "#d8576b"
             ],
             [
              0.6666666666666666,
              "#ed7953"
             ],
             [
              0.7777777777777778,
              "#fb9f3a"
             ],
             [
              0.8888888888888888,
              "#fdca26"
             ],
             [
              1,
              "#f0f921"
             ]
            ],
            "type": "heatmap"
           }
          ],
          "heatmapgl": [
           {
            "colorbar": {
             "outlinewidth": 0,
             "ticks": ""
            },
            "colorscale": [
             [
              0,
              "#0d0887"
             ],
             [
              0.1111111111111111,
              "#46039f"
             ],
             [
              0.2222222222222222,
              "#7201a8"
             ],
             [
              0.3333333333333333,
              "#9c179e"
             ],
             [
              0.4444444444444444,
              "#bd3786"
             ],
             [
              0.5555555555555556,
              "#d8576b"
             ],
             [
              0.6666666666666666,
              "#ed7953"
             ],
             [
              0.7777777777777778,
              "#fb9f3a"
             ],
             [
              0.8888888888888888,
              "#fdca26"
             ],
             [
              1,
              "#f0f921"
             ]
            ],
            "type": "heatmapgl"
           }
          ],
          "histogram": [
           {
            "marker": {
             "pattern": {
              "fillmode": "overlay",
              "size": 10,
              "solidity": 0.2
             }
            },
            "type": "histogram"
           }
          ],
          "histogram2d": [
           {
            "colorbar": {
             "outlinewidth": 0,
             "ticks": ""
            },
            "colorscale": [
             [
              0,
              "#0d0887"
             ],
             [
              0.1111111111111111,
              "#46039f"
             ],
             [
              0.2222222222222222,
              "#7201a8"
             ],
             [
              0.3333333333333333,
              "#9c179e"
             ],
             [
              0.4444444444444444,
              "#bd3786"
             ],
             [
              0.5555555555555556,
              "#d8576b"
             ],
             [
              0.6666666666666666,
              "#ed7953"
             ],
             [
              0.7777777777777778,
              "#fb9f3a"
             ],
             [
              0.8888888888888888,
              "#fdca26"
             ],
             [
              1,
              "#f0f921"
             ]
            ],
            "type": "histogram2d"
           }
          ],
          "histogram2dcontour": [
           {
            "colorbar": {
             "outlinewidth": 0,
             "ticks": ""
            },
            "colorscale": [
             [
              0,
              "#0d0887"
             ],
             [
              0.1111111111111111,
              "#46039f"
             ],
             [
              0.2222222222222222,
              "#7201a8"
             ],
             [
              0.3333333333333333,
              "#9c179e"
             ],
             [
              0.4444444444444444,
              "#bd3786"
             ],
             [
              0.5555555555555556,
              "#d8576b"
             ],
             [
              0.6666666666666666,
              "#ed7953"
             ],
             [
              0.7777777777777778,
              "#fb9f3a"
             ],
             [
              0.8888888888888888,
              "#fdca26"
             ],
             [
              1,
              "#f0f921"
             ]
            ],
            "type": "histogram2dcontour"
           }
          ],
          "mesh3d": [
           {
            "colorbar": {
             "outlinewidth": 0,
             "ticks": ""
            },
            "type": "mesh3d"
           }
          ],
          "parcoords": [
           {
            "line": {
             "colorbar": {
              "outlinewidth": 0,
              "ticks": ""
             }
            },
            "type": "parcoords"
           }
          ],
          "pie": [
           {
            "automargin": true,
            "type": "pie"
           }
          ],
          "scatter": [
           {
            "fillpattern": {
             "fillmode": "overlay",
             "size": 10,
             "solidity": 0.2
            },
            "type": "scatter"
           }
          ],
          "scatter3d": [
           {
            "line": {
             "colorbar": {
              "outlinewidth": 0,
              "ticks": ""
             }
            },
            "marker": {
             "colorbar": {
              "outlinewidth": 0,
              "ticks": ""
             }
            },
            "type": "scatter3d"
           }
          ],
          "scattercarpet": [
           {
            "marker": {
             "colorbar": {
              "outlinewidth": 0,
              "ticks": ""
             }
            },
            "type": "scattercarpet"
           }
          ],
          "scattergeo": [
           {
            "marker": {
             "colorbar": {
              "outlinewidth": 0,
              "ticks": ""
             }
            },
            "type": "scattergeo"
           }
          ],
          "scattergl": [
           {
            "marker": {
             "colorbar": {
              "outlinewidth": 0,
              "ticks": ""
             }
            },
            "type": "scattergl"
           }
          ],
          "scattermapbox": [
           {
            "marker": {
             "colorbar": {
              "outlinewidth": 0,
              "ticks": ""
             }
            },
            "type": "scattermapbox"
           }
          ],
          "scatterpolar": [
           {
            "marker": {
             "colorbar": {
              "outlinewidth": 0,
              "ticks": ""
             }
            },
            "type": "scatterpolar"
           }
          ],
          "scatterpolargl": [
           {
            "marker": {
             "colorbar": {
              "outlinewidth": 0,
              "ticks": ""
             }
            },
            "type": "scatterpolargl"
           }
          ],
          "scatterternary": [
           {
            "marker": {
             "colorbar": {
              "outlinewidth": 0,
              "ticks": ""
             }
            },
            "type": "scatterternary"
           }
          ],
          "surface": [
           {
            "colorbar": {
             "outlinewidth": 0,
             "ticks": ""
            },
            "colorscale": [
             [
              0,
              "#0d0887"
             ],
             [
              0.1111111111111111,
              "#46039f"
             ],
             [
              0.2222222222222222,
              "#7201a8"
             ],
             [
              0.3333333333333333,
              "#9c179e"
             ],
             [
              0.4444444444444444,
              "#bd3786"
             ],
             [
              0.5555555555555556,
              "#d8576b"
             ],
             [
              0.6666666666666666,
              "#ed7953"
             ],
             [
              0.7777777777777778,
              "#fb9f3a"
             ],
             [
              0.8888888888888888,
              "#fdca26"
             ],
             [
              1,
              "#f0f921"
             ]
            ],
            "type": "surface"
           }
          ],
          "table": [
           {
            "cells": {
             "fill": {
              "color": "#EBF0F8"
             },
             "line": {
              "color": "white"
             }
            },
            "header": {
             "fill": {
              "color": "#C8D4E3"
             },
             "line": {
              "color": "white"
             }
            },
            "type": "table"
           }
          ]
         },
         "layout": {
          "annotationdefaults": {
           "arrowcolor": "#2a3f5f",
           "arrowhead": 0,
           "arrowwidth": 1
          },
          "autotypenumbers": "strict",
          "coloraxis": {
           "colorbar": {
            "outlinewidth": 0,
            "ticks": ""
           }
          },
          "colorscale": {
           "diverging": [
            [
             0,
             "#8e0152"
            ],
            [
             0.1,
             "#c51b7d"
            ],
            [
             0.2,
             "#de77ae"
            ],
            [
             0.3,
             "#f1b6da"
            ],
            [
             0.4,
             "#fde0ef"
            ],
            [
             0.5,
             "#f7f7f7"
            ],
            [
             0.6,
             "#e6f5d0"
            ],
            [
             0.7,
             "#b8e186"
            ],
            [
             0.8,
             "#7fbc41"
            ],
            [
             0.9,
             "#4d9221"
            ],
            [
             1,
             "#276419"
            ]
           ],
           "sequential": [
            [
             0,
             "#0d0887"
            ],
            [
             0.1111111111111111,
             "#46039f"
            ],
            [
             0.2222222222222222,
             "#7201a8"
            ],
            [
             0.3333333333333333,
             "#9c179e"
            ],
            [
             0.4444444444444444,
             "#bd3786"
            ],
            [
             0.5555555555555556,
             "#d8576b"
            ],
            [
             0.6666666666666666,
             "#ed7953"
            ],
            [
             0.7777777777777778,
             "#fb9f3a"
            ],
            [
             0.8888888888888888,
             "#fdca26"
            ],
            [
             1,
             "#f0f921"
            ]
           ],
           "sequentialminus": [
            [
             0,
             "#0d0887"
            ],
            [
             0.1111111111111111,
             "#46039f"
            ],
            [
             0.2222222222222222,
             "#7201a8"
            ],
            [
             0.3333333333333333,
             "#9c179e"
            ],
            [
             0.4444444444444444,
             "#bd3786"
            ],
            [
             0.5555555555555556,
             "#d8576b"
            ],
            [
             0.6666666666666666,
             "#ed7953"
            ],
            [
             0.7777777777777778,
             "#fb9f3a"
            ],
            [
             0.8888888888888888,
             "#fdca26"
            ],
            [
             1,
             "#f0f921"
            ]
           ]
          },
          "colorway": [
           "#636efa",
           "#EF553B",
           "#00cc96",
           "#ab63fa",
           "#FFA15A",
           "#19d3f3",
           "#FF6692",
           "#B6E880",
           "#FF97FF",
           "#FECB52"
          ],
          "font": {
           "color": "#2a3f5f"
          },
          "geo": {
           "bgcolor": "white",
           "lakecolor": "white",
           "landcolor": "#E5ECF6",
           "showlakes": true,
           "showland": true,
           "subunitcolor": "white"
          },
          "hoverlabel": {
           "align": "left"
          },
          "hovermode": "closest",
          "mapbox": {
           "style": "light"
          },
          "paper_bgcolor": "white",
          "plot_bgcolor": "#E5ECF6",
          "polar": {
           "angularaxis": {
            "gridcolor": "white",
            "linecolor": "white",
            "ticks": ""
           },
           "bgcolor": "#E5ECF6",
           "radialaxis": {
            "gridcolor": "white",
            "linecolor": "white",
            "ticks": ""
           }
          },
          "scene": {
           "xaxis": {
            "backgroundcolor": "#E5ECF6",
            "gridcolor": "white",
            "gridwidth": 2,
            "linecolor": "white",
            "showbackground": true,
            "ticks": "",
            "zerolinecolor": "white"
           },
           "yaxis": {
            "backgroundcolor": "#E5ECF6",
            "gridcolor": "white",
            "gridwidth": 2,
            "linecolor": "white",
            "showbackground": true,
            "ticks": "",
            "zerolinecolor": "white"
           },
           "zaxis": {
            "backgroundcolor": "#E5ECF6",
            "gridcolor": "white",
            "gridwidth": 2,
            "linecolor": "white",
            "showbackground": true,
            "ticks": "",
            "zerolinecolor": "white"
           }
          },
          "shapedefaults": {
           "line": {
            "color": "#2a3f5f"
           }
          },
          "ternary": {
           "aaxis": {
            "gridcolor": "white",
            "linecolor": "white",
            "ticks": ""
           },
           "baxis": {
            "gridcolor": "white",
            "linecolor": "white",
            "ticks": ""
           },
           "bgcolor": "#E5ECF6",
           "caxis": {
            "gridcolor": "white",
            "linecolor": "white",
            "ticks": ""
           }
          },
          "title": {
           "x": 0.05
          },
          "xaxis": {
           "automargin": true,
           "gridcolor": "white",
           "linecolor": "white",
           "ticks": "",
           "title": {
            "standoff": 15
           },
           "zerolinecolor": "white",
           "zerolinewidth": 2
          },
          "yaxis": {
           "automargin": true,
           "gridcolor": "white",
           "linecolor": "white",
           "ticks": "",
           "title": {
            "standoff": 15
           },
           "zerolinecolor": "white",
           "zerolinewidth": 2
          }
         }
        },
        "title": {
         "text": "Залежність населення міста від середнього доходу"
        },
        "xaxis": {
         "anchor": "y",
         "domain": [
          0,
          1
         ],
         "title": {
          "text": "Населення"
         }
        },
        "yaxis": {
         "anchor": "x",
         "domain": [
          0,
          1
         ],
         "title": {
          "text": "Дохід на душу населення $ на рік"
         }
        }
       }
      },
      "text/html": [
       "<div>                            <div id=\"73468954-5799-4d2b-96ed-0d741544e05d\" class=\"plotly-graph-div\" style=\"height:525px; width:100%;\"></div>            <script type=\"text/javascript\">                require([\"plotly\"], function(Plotly) {                    window.PLOTLYENV=window.PLOTLYENV || {};                                    if (document.getElementById(\"73468954-5799-4d2b-96ed-0d741544e05d\")) {                    Plotly.newPlot(                        \"73468954-5799-4d2b-96ed-0d741544e05d\",                        [{\"hovertemplate\":\"\\u0421\\u0442\\u043e\\u043b\\u0438\\u0446\\u044f=\\u041c\\u043e\\u043d\\u0442\\u0433\\u043e\\u043c\\u0435\\u0440\\u0456<br>\\u041d\\u0430\\u0441\\u0435\\u043b\\u0435\\u043d\\u043d\\u044f=%{x}<br>\\u0414\\u043e\\u0445\\u0456\\u0434 \\u043d\\u0430 \\u0434\\u0443\\u0448\\u0443 \\u043d\\u0430\\u0441\\u0435\\u043b\\u0435\\u043d\\u043d\\u044f $ \\u043d\\u0430 \\u0440\\u0456\\u043a=%{y}<extra></extra>\",\"legendgroup\":\"\\u041c\\u043e\\u043d\\u0442\\u0433\\u043e\\u043c\\u0435\\u0440\\u0456\",\"marker\":{\"color\":\"#636efa\",\"symbol\":\"circle\"},\"mode\":\"markers\",\"name\":\"\\u041c\\u043e\\u043d\\u0442\\u0433\\u043e\\u043c\\u0435\\u0440\\u0456\",\"orientation\":\"v\",\"showlegend\":true,\"x\":[198218],\"xaxis\":\"x\",\"y\":[51113],\"yaxis\":\"y\",\"type\":\"scatter\"},{\"hovertemplate\":\"\\u0421\\u0442\\u043e\\u043b\\u0438\\u0446\\u044f=\\u0414\\u0436\\u0443\\u043d\\u043e<br>\\u041d\\u0430\\u0441\\u0435\\u043b\\u0435\\u043d\\u043d\\u044f=%{x}<br>\\u0414\\u043e\\u0445\\u0456\\u0434 \\u043d\\u0430 \\u0434\\u0443\\u0448\\u0443 \\u043d\\u0430\\u0441\\u0435\\u043b\\u0435\\u043d\\u043d\\u044f $ \\u043d\\u0430 \\u0440\\u0456\\u043a=%{y}<extra></extra>\",\"legendgroup\":\"\\u0414\\u0436\\u0443\\u043d\\u043e\",\"marker\":{\"color\":\"#EF553B\",\"symbol\":\"circle\"},\"mode\":\"markers\",\"name\":\"\\u0414\\u0436\\u0443\\u043d\\u043e\",\"orientation\":\"v\",\"showlegend\":true,\"x\":[32113],\"xaxis\":\"x\",\"y\":[85296],\"yaxis\":\"y\",\"type\":\"scatter\"},{\"hovertemplate\":\"\\u0421\\u0442\\u043e\\u043b\\u0438\\u0446\\u044f=\\u0424\\u0456\\u043d\\u0456\\u043a\\u0441<br>\\u041d\\u0430\\u0441\\u0435\\u043b\\u0435\\u043d\\u043d\\u044f=%{x}<br>\\u0414\\u043e\\u0445\\u0456\\u0434 \\u043d\\u0430 \\u0434\\u0443\\u0448\\u0443 \\u043d\\u0430\\u0441\\u0435\\u043b\\u0435\\u043d\\u043d\\u044f $ \\u043d\\u0430 \\u0440\\u0456\\u043a=%{y}<extra></extra>\",\"legendgroup\":\"\\u0424\\u0456\\u043d\\u0456\\u043a\\u0441\",\"marker\":{\"color\":\"#00cc96\",\"symbol\":\"circle\"},\"mode\":\"markers\",\"name\":\"\\u0424\\u0456\\u043d\\u0456\\u043a\\u0441\",\"orientation\":\"v\",\"showlegend\":true,\"x\":[1752316],\"xaxis\":\"x\",\"y\":[65057],\"yaxis\":\"y\",\"type\":\"scatter\"},{\"hovertemplate\":\"\\u0421\\u0442\\u043e\\u043b\\u0438\\u0446\\u044f=\\u041b\\u0456\\u0442\\u043b-\\u0420\\u043e\\u043a<br>\\u041d\\u0430\\u0441\\u0435\\u043b\\u0435\\u043d\\u043d\\u044f=%{x}<br>\\u0414\\u043e\\u0445\\u0456\\u0434 \\u043d\\u0430 \\u0434\\u0443\\u0448\\u0443 \\u043d\\u0430\\u0441\\u0435\\u043b\\u0435\\u043d\\u043d\\u044f $ \\u043d\\u0430 \\u0440\\u0456\\u043a=%{y}<extra></extra>\",\"legendgroup\":\"\\u041b\\u0456\\u0442\\u043b-\\u0420\\u043e\\u043a\",\"marker\":{\"color\":\"#ab63fa\",\"symbol\":\"circle\"},\"mode\":\"markers\",\"name\":\"\\u041b\\u0456\\u0442\\u043b-\\u0420\\u043e\\u043a\",\"orientation\":\"v\",\"showlegend\":true,\"x\":[197312],\"xaxis\":\"x\",\"y\":[48892],\"yaxis\":\"y\",\"type\":\"scatter\"},{\"hovertemplate\":\"\\u0421\\u0442\\u043e\\u043b\\u0438\\u0446\\u044f=\\u0421\\u0430\\u043a\\u0440\\u0430\\u043c\\u0435\\u043d\\u0442\\u043e<br>\\u041d\\u0430\\u0441\\u0435\\u043b\\u0435\\u043d\\u043d\\u044f=%{x}<br>\\u0414\\u043e\\u0445\\u0456\\u0434 \\u043d\\u0430 \\u0434\\u0443\\u0448\\u0443 \\u043d\\u0430\\u0441\\u0435\\u043b\\u0435\\u043d\\u043d\\u044f $ \\u043d\\u0430 \\u0440\\u0456\\u043a=%{y}<extra></extra>\",\"legendgroup\":\"\\u0421\\u0430\\u043a\\u0440\\u0430\\u043c\\u0435\\u043d\\u0442\\u043e\",\"marker\":{\"color\":\"#FFA15A\",\"symbol\":\"circle\"},\"mode\":\"markers\",\"name\":\"\\u0421\\u0430\\u043a\\u0440\\u0430\\u043c\\u0435\\u043d\\u0442\\u043e\",\"orientation\":\"v\",\"showlegend\":true,\"x\":[524943],\"xaxis\":\"x\",\"y\":[76662],\"yaxis\":\"y\",\"type\":\"scatter\"},{\"hovertemplate\":\"\\u0421\\u0442\\u043e\\u043b\\u0438\\u0446\\u044f=\\u0414\\u0435\\u043d\\u0432\\u0435\\u0440<br>\\u041d\\u0430\\u0441\\u0435\\u043b\\u0435\\u043d\\u043d\\u044f=%{x}<br>\\u0414\\u043e\\u0445\\u0456\\u0434 \\u043d\\u0430 \\u0434\\u0443\\u0448\\u0443 \\u043d\\u0430\\u0441\\u0435\\u043b\\u0435\\u043d\\u043d\\u044f $ \\u043d\\u0430 \\u0440\\u0456\\u043a=%{y}<extra></extra>\",\"legendgroup\":\"\\u0414\\u0435\\u043d\\u0432\\u0435\\u0440\",\"marker\":{\"color\":\"#19d3f3\",\"symbol\":\"circle\"},\"mode\":\"markers\",\"name\":\"\\u0414\\u0435\\u043d\\u0432\\u0435\\u0440\",\"orientation\":\"v\",\"showlegend\":true,\"x\":[735538],\"xaxis\":\"x\",\"y\":[77398],\"yaxis\":\"y\",\"type\":\"scatter\"},{\"hovertemplate\":\"\\u0421\\u0442\\u043e\\u043b\\u0438\\u0446\\u044f=\\u0413\\u0430\\u0440\\u0442\\u0444\\u043e\\u0440\\u0434<br>\\u041d\\u0430\\u0441\\u0435\\u043b\\u0435\\u043d\\u043d\\u044f=%{x}<br>\\u0414\\u043e\\u0445\\u0456\\u0434 \\u043d\\u0430 \\u0434\\u0443\\u0448\\u0443 \\u043d\\u0430\\u0441\\u0435\\u043b\\u0435\\u043d\\u043d\\u044f $ \\u043d\\u0430 \\u0440\\u0456\\u043a=%{y}<extra></extra>\",\"legendgroup\":\"\\u0413\\u0430\\u0440\\u0442\\u0444\\u043e\\u0440\\u0434\",\"marker\":{\"color\":\"#FF6692\",\"symbol\":\"circle\"},\"mode\":\"markers\",\"name\":\"\\u0413\\u0430\\u0440\\u0442\\u0444\\u043e\\u0440\\u0434\",\"orientation\":\"v\",\"showlegend\":true,\"x\":[122105],\"xaxis\":\"x\",\"y\":[44162],\"yaxis\":\"y\",\"type\":\"scatter\"},{\"hovertemplate\":\"\\u0421\\u0442\\u043e\\u043b\\u0438\\u0446\\u044f=\\u0414\\u0443\\u0432\\u0435\\u0440<br>\\u041d\\u0430\\u0441\\u0435\\u043b\\u0435\\u043d\\u043d\\u044f=%{x}<br>\\u0414\\u043e\\u0445\\u0456\\u0434 \\u043d\\u0430 \\u0434\\u0443\\u0448\\u0443 \\u043d\\u0430\\u0441\\u0435\\u043b\\u0435\\u043d\\u043d\\u044f $ \\u043d\\u0430 \\u0440\\u0456\\u043a=%{y}<extra></extra>\",\"legendgroup\":\"\\u0414\\u0443\\u0432\\u0435\\u0440\",\"marker\":{\"color\":\"#B6E880\",\"symbol\":\"circle\"},\"mode\":\"markers\",\"name\":\"\\u0414\\u0443\\u0432\\u0435\\u0440\",\"orientation\":\"v\",\"showlegend\":true,\"x\":[38142],\"xaxis\":\"x\",\"y\":[63273],\"yaxis\":\"y\",\"type\":\"scatter\"},{\"hovertemplate\":\"\\u0421\\u0442\\u043e\\u043b\\u0438\\u0446\\u044f=\\u0422\\u0430\\u043b\\u043b\\u0430\\u0445\\u0430\\u0441\\u0441\\u0456<br>\\u041d\\u0430\\u0441\\u0435\\u043b\\u0435\\u043d\\u043d\\u044f=%{x}<br>\\u0414\\u043e\\u0445\\u0456\\u0434 \\u043d\\u0430 \\u0434\\u0443\\u0448\\u0443 \\u043d\\u0430\\u0441\\u0435\\u043b\\u0435\\u043d\\u043d\\u044f $ \\u043d\\u0430 \\u0440\\u0456\\u043a=%{y}<extra></extra>\",\"legendgroup\":\"\\u0422\\u0430\\u043b\\u043b\\u0430\\u0445\\u0430\\u0441\\u0441\\u0456\",\"marker\":{\"color\":\"#FF97FF\",\"symbol\":\"circle\"},\"mode\":\"markers\",\"name\":\"\\u0422\\u0430\\u043b\\u043b\\u0430\\u0445\\u0430\\u0441\\u0441\\u0456\",\"orientation\":\"v\",\"showlegend\":true,\"x\":[199926],\"xaxis\":\"x\",\"y\":[46411],\"yaxis\":\"y\",\"type\":\"scatter\"},{\"hovertemplate\":\"\\u0421\\u0442\\u043e\\u043b\\u0438\\u0446\\u044f=\\u0410\\u0442\\u043b\\u0430\\u043d\\u0442\\u0430<br>\\u041d\\u0430\\u0441\\u0435\\u043b\\u0435\\u043d\\u043d\\u044f=%{x}<br>\\u0414\\u043e\\u0445\\u0456\\u0434 \\u043d\\u0430 \\u0434\\u0443\\u0448\\u0443 \\u043d\\u0430\\u0441\\u0435\\u043b\\u0435\\u043d\\u043d\\u044f $ \\u043d\\u0430 \\u0440\\u0456\\u043a=%{y}<extra></extra>\",\"legendgroup\":\"\\u0410\\u0442\\u043b\\u0430\\u043d\\u0442\\u0430\",\"marker\":{\"color\":\"#FECB52\",\"symbol\":\"circle\"},\"mode\":\"markers\",\"name\":\"\\u0410\\u0442\\u043b\\u0430\\u043d\\u0442\\u0430\",\"orientation\":\"v\",\"showlegend\":true,\"x\":[498715],\"xaxis\":\"x\",\"y\":[65345],\"yaxis\":\"y\",\"type\":\"scatter\"},{\"hovertemplate\":\"\\u0421\\u0442\\u043e\\u043b\\u0438\\u0446\\u044f=\\u0413\\u043e\\u043d\\u043e\\u043b\\u0443\\u043b\\u0443<br>\\u041d\\u0430\\u0441\\u0435\\u043b\\u0435\\u043d\\u043d\\u044f=%{x}<br>\\u0414\\u043e\\u0445\\u0456\\u0434 \\u043d\\u0430 \\u0434\\u0443\\u0448\\u0443 \\u043d\\u0430\\u0441\\u0435\\u043b\\u0435\\u043d\\u043d\\u044f $ \\u043d\\u0430 \\u0440\\u0456\\u043a=%{y}<extra></extra>\",\"legendgroup\":\"\\u0413\\u043e\\u043d\\u043e\\u043b\\u0443\\u043b\\u0443\",\"marker\":{\"color\":\"#636efa\",\"symbol\":\"circle\"},\"mode\":\"markers\",\"name\":\"\\u0413\\u043e\\u043d\\u043e\\u043b\\u0443\\u043b\\u0443\",\"orientation\":\"v\",\"showlegend\":true,\"x\":[347397],\"xaxis\":\"x\",\"y\":[80513],\"yaxis\":\"y\",\"type\":\"scatter\"},{\"hovertemplate\":\"\\u0421\\u0442\\u043e\\u043b\\u0438\\u0446\\u044f=\\u0411\\u043e\\u0439\\u0441\\u0435<br>\\u041d\\u0430\\u0441\\u0435\\u043b\\u0435\\u043d\\u043d\\u044f=%{x}<br>\\u0414\\u043e\\u0445\\u0456\\u0434 \\u043d\\u0430 \\u0434\\u0443\\u0448\\u0443 \\u043d\\u0430\\u0441\\u0435\\u043b\\u0435\\u043d\\u043d\\u044f $ \\u043d\\u0430 \\u0440\\u0456\\u043a=%{y}<extra></extra>\",\"legendgroup\":\"\\u0411\\u043e\\u0439\\u0441\\u0435\",\"marker\":{\"color\":\"#EF553B\",\"symbol\":\"circle\"},\"mode\":\"markers\",\"name\":\"\\u0411\\u043e\\u0439\\u0441\\u0435\",\"orientation\":\"v\",\"showlegend\":true,\"x\":[240380],\"xaxis\":\"x\",\"y\":[63918],\"yaxis\":\"y\",\"type\":\"scatter\"},{\"hovertemplate\":\"\\u0421\\u0442\\u043e\\u043b\\u0438\\u0446\\u044f=\\u0421\\u043f\\u0440\\u0456\\u043d\\u0433\\u0444\\u0456\\u043b\\u0434<br>\\u041d\\u0430\\u0441\\u0435\\u043b\\u0435\\u043d\\u043d\\u044f=%{x}<br>\\u0414\\u043e\\u0445\\u0456\\u0434 \\u043d\\u0430 \\u0434\\u0443\\u0448\\u0443 \\u043d\\u0430\\u0441\\u0435\\u043b\\u0435\\u043d\\u043d\\u044f $ \\u043d\\u0430 \\u0440\\u0456\\u043a=%{y}<extra></extra>\",\"legendgroup\":\"\\u0421\\u043f\\u0440\\u0456\\u043d\\u0433\\u0444\\u0456\\u043b\\u0434\",\"marker\":{\"color\":\"#00cc96\",\"symbol\":\"circle\"},\"mode\":\"markers\",\"name\":\"\\u0421\\u043f\\u0440\\u0456\\u043d\\u0433\\u0444\\u0456\\u043b\\u0434\",\"orientation\":\"v\",\"showlegend\":true,\"x\":[115715],\"xaxis\":\"x\",\"y\":[59285],\"yaxis\":\"y\",\"type\":\"scatter\"},{\"hovertemplate\":\"\\u0421\\u0442\\u043e\\u043b\\u0438\\u0446\\u044f=\\u0406\\u043d\\u0434\\u0456\\u0430\\u043d\\u0430\\u043f\\u043e\\u043b\\u0456\\u0441<br>\\u041d\\u0430\\u0441\\u0435\\u043b\\u0435\\u043d\\u043d\\u044f=%{x}<br>\\u0414\\u043e\\u0445\\u0456\\u0434 \\u043d\\u0430 \\u0434\\u0443\\u0448\\u0443 \\u043d\\u0430\\u0441\\u0435\\u043b\\u0435\\u043d\\u043d\\u044f $ \\u043d\\u0430 \\u0440\\u0456\\u043a=%{y}<extra></extra>\",\"legendgroup\":\"\\u0406\\u043d\\u0434\\u0456\\u0430\\u043d\\u0430\\u043f\\u043e\\u043b\\u0456\\u0441\",\"marker\":{\"color\":\"#ab63fa\",\"symbol\":\"circle\"},\"mode\":\"markers\",\"name\":\"\\u0406\\u043d\\u0434\\u0456\\u0430\\u043d\\u0430\\u043f\\u043e\\u043b\\u0456\\u0441\",\"orientation\":\"v\",\"showlegend\":true,\"x\":[876384],\"xaxis\":\"x\",\"y\":[55752],\"yaxis\":\"y\",\"type\":\"scatter\"},{\"hovertemplate\":\"\\u0421\\u0442\\u043e\\u043b\\u0438\\u0446\\u044f=\\u0414\\u0435-\\u041c\\u043e\\u0439\\u043d<br>\\u041d\\u0430\\u0441\\u0435\\u043b\\u0435\\u043d\\u043d\\u044f=%{x}<br>\\u0414\\u043e\\u0445\\u0456\\u0434 \\u043d\\u0430 \\u0434\\u0443\\u0448\\u0443 \\u043d\\u0430\\u0441\\u0435\\u043b\\u0435\\u043d\\u043d\\u044f $ \\u043d\\u0430 \\u0440\\u0456\\u043a=%{y}<extra></extra>\",\"legendgroup\":\"\\u0414\\u0435-\\u041c\\u043e\\u0439\\u043d\",\"marker\":{\"color\":\"#FFA15A\",\"symbol\":\"circle\"},\"mode\":\"markers\",\"name\":\"\\u0414\\u0435-\\u041c\\u043e\\u0439\\u043d\",\"orientation\":\"v\",\"showlegend\":true,\"x\":[217891],\"xaxis\":\"x\",\"y\":[65579],\"yaxis\":\"y\",\"type\":\"scatter\"},{\"hovertemplate\":\"\\u0421\\u0442\\u043e\\u043b\\u0438\\u0446\\u044f=\\u0422\\u043e\\u043f\\u0456\\u043a\\u0430<br>\\u041d\\u0430\\u0441\\u0435\\u043b\\u0435\\u043d\\u043d\\u044f=%{x}<br>\\u0414\\u043e\\u0445\\u0456\\u0434 \\u043d\\u0430 \\u0434\\u0443\\u0448\\u0443 \\u043d\\u0430\\u0441\\u0435\\u043b\\u0435\\u043d\\u043d\\u044f $ \\u043d\\u0430 \\u0440\\u0456\\u043a=%{y}<extra></extra>\",\"legendgroup\":\"\\u0422\\u043e\\u043f\\u0456\\u043a\\u0430\",\"marker\":{\"color\":\"#19d3f3\",\"symbol\":\"circle\"},\"mode\":\"markers\",\"name\":\"\\u0422\\u043e\\u043f\\u0456\\u043a\\u0430\",\"orientation\":\"v\",\"showlegend\":true,\"x\":[126587],\"xaxis\":\"x\",\"y\":[58197],\"yaxis\":\"y\",\"type\":\"scatter\"},{\"hovertemplate\":\"\\u0421\\u0442\\u043e\\u043b\\u0438\\u0446\\u044f=\\u0424\\u0440\\u0430\\u043d\\u043a\\u0444\\u043e\\u0440\\u0442<br>\\u041d\\u0430\\u0441\\u0435\\u043b\\u0435\\u043d\\u043d\\u044f=%{x}<br>\\u0414\\u043e\\u0445\\u0456\\u0434 \\u043d\\u0430 \\u0434\\u0443\\u0448\\u0443 \\u043d\\u0430\\u0441\\u0435\\u043b\\u0435\\u043d\\u043d\\u044f $ \\u043d\\u0430 \\u0440\\u0456\\u043a=%{y}<extra></extra>\",\"legendgroup\":\"\\u0424\\u0440\\u0430\\u043d\\u043a\\u0444\\u043e\\u0440\\u0442\",\"marker\":{\"color\":\"#FF6692\",\"symbol\":\"circle\"},\"mode\":\"markers\",\"name\":\"\\u0424\\u0440\\u0430\\u043d\\u043a\\u0444\\u043e\\u0440\\u0442\",\"orientation\":\"v\",\"showlegend\":true,\"x\":[28283],\"xaxis\":\"x\",\"y\":[46237],\"yaxis\":\"y\",\"type\":\"scatter\"},{\"hovertemplate\":\"\\u0421\\u0442\\u043e\\u043b\\u0438\\u0446\\u044f=\\u0411\\u0430\\u0442\\u043e\\u043d-\\u0420\\u0443\\u0436<br>\\u041d\\u0430\\u0441\\u0435\\u043b\\u0435\\u043d\\u043d\\u044f=%{x}<br>\\u0414\\u043e\\u0445\\u0456\\u0434 \\u043d\\u0430 \\u0434\\u0443\\u0448\\u0443 \\u043d\\u0430\\u0441\\u0435\\u043b\\u0435\\u043d\\u043d\\u044f $ \\u043d\\u0430 \\u0440\\u0456\\u043a=%{y}<extra></extra>\",\"legendgroup\":\"\\u0411\\u0430\\u0442\\u043e\\u043d-\\u0420\\u0443\\u0436\",\"marker\":{\"color\":\"#B6E880\",\"symbol\":\"circle\"},\"mode\":\"markers\",\"name\":\"\\u0411\\u0430\\u0442\\u043e\\u043d-\\u0420\\u0443\\u0436\",\"orientation\":\"v\",\"showlegend\":true,\"x\":[219531],\"xaxis\":\"x\",\"y\":[45426],\"yaxis\":\"y\",\"type\":\"scatter\"},{\"hovertemplate\":\"\\u0421\\u0442\\u043e\\u043b\\u0438\\u0446\\u044f=\\u0410\\u043d\\u043d\\u0430\\u043f\\u043e\\u043b\\u0456\\u0441<br>\\u041d\\u0430\\u0441\\u0435\\u043b\\u0435\\u043d\\u043d\\u044f=%{x}<br>\\u0414\\u043e\\u0445\\u0456\\u0434 \\u043d\\u0430 \\u0434\\u0443\\u0448\\u0443 \\u043d\\u0430\\u0441\\u0435\\u043b\\u0435\\u043d\\u043d\\u044f $ \\u043d\\u0430 \\u0440\\u0456\\u043a=%{y}<extra></extra>\",\"legendgroup\":\"\\u0410\\u043d\\u043d\\u0430\\u043f\\u043e\\u043b\\u0456\\u0441\",\"marker\":{\"color\":\"#FF97FF\",\"symbol\":\"circle\"},\"mode\":\"markers\",\"name\":\"\\u0410\\u043d\\u043d\\u0430\\u043f\\u043e\\u043b\\u0456\\u0441\",\"orientation\":\"v\",\"showlegend\":true,\"x\":[39139],\"xaxis\":\"x\",\"y\":[102199],\"yaxis\":\"y\",\"type\":\"scatter\"},{\"hovertemplate\":\"\\u0421\\u0442\\u043e\\u043b\\u0438\\u0446\\u044f=\\u0411\\u043e\\u0441\\u0442\\u043e\\u043d<br>\\u041d\\u0430\\u0441\\u0435\\u043b\\u0435\\u043d\\u043d\\u044f=%{x}<br>\\u0414\\u043e\\u0445\\u0456\\u0434 \\u043d\\u0430 \\u0434\\u0443\\u0448\\u0443 \\u043d\\u0430\\u0441\\u0435\\u043b\\u0435\\u043d\\u043d\\u044f $ \\u043d\\u0430 \\u0440\\u0456\\u043a=%{y}<extra></extra>\",\"legendgroup\":\"\\u0411\\u043e\\u0441\\u0442\\u043e\\u043d\",\"marker\":{\"color\":\"#FECB52\",\"symbol\":\"circle\"},\"mode\":\"markers\",\"name\":\"\\u0411\\u043e\\u0441\\u0442\\u043e\\u043d\",\"orientation\":\"v\",\"showlegend\":true,\"x\":[692600],\"xaxis\":\"x\",\"y\":[81827],\"yaxis\":\"y\",\"type\":\"scatter\"},{\"hovertemplate\":\"\\u0421\\u0442\\u043e\\u043b\\u0438\\u0446\\u044f=\\u041b\\u0430\\u043d\\u0441\\u0456\\u043d\\u0433<br>\\u041d\\u0430\\u0441\\u0435\\u043b\\u0435\\u043d\\u043d\\u044f=%{x}<br>\\u0414\\u043e\\u0445\\u0456\\u0434 \\u043d\\u0430 \\u0434\\u0443\\u0448\\u0443 \\u043d\\u0430\\u0441\\u0435\\u043b\\u0435\\u043d\\u043d\\u044f $ \\u043d\\u0430 \\u0440\\u0456\\u043a=%{y}<extra></extra>\",\"legendgroup\":\"\\u041b\\u0430\\u043d\\u0441\\u0456\\u043d\\u0433\",\"marker\":{\"color\":\"#636efa\",\"symbol\":\"circle\"},\"mode\":\"markers\",\"name\":\"\\u041b\\u0430\\u043d\\u0441\\u0456\\u043d\\u0433\",\"orientation\":\"v\",\"showlegend\":true,\"x\":[119128],\"xaxis\":\"x\",\"y\":[53579],\"yaxis\":\"y\",\"type\":\"scatter\"},{\"hovertemplate\":\"\\u0421\\u0442\\u043e\\u043b\\u0438\\u0446\\u044f=\\u0421\\u0435\\u043d\\u0442-\\u041f\\u043e\\u043b<br>\\u041d\\u0430\\u0441\\u0435\\u043b\\u0435\\u043d\\u043d\\u044f=%{x}<br>\\u0414\\u043e\\u0445\\u0456\\u0434 \\u043d\\u0430 \\u0434\\u0443\\u0448\\u0443 \\u043d\\u0430\\u0441\\u0435\\u043b\\u0435\\u043d\\u043d\\u044f $ \\u043d\\u0430 \\u0440\\u0456\\u043a=%{y}<extra></extra>\",\"legendgroup\":\"\\u0421\\u0435\\u043d\\u0442-\\u041f\\u043e\\u043b\",\"marker\":{\"color\":\"#EF553B\",\"symbol\":\"circle\"},\"mode\":\"markers\",\"name\":\"\\u0421\\u0435\\u043d\\u0442-\\u041f\\u043e\\u043b\",\"orientation\":\"v\",\"showlegend\":true,\"x\":[307695],\"xaxis\":\"x\",\"y\":[72629],\"yaxis\":\"y\",\"type\":\"scatter\"},{\"hovertemplate\":\"\\u0421\\u0442\\u043e\\u043b\\u0438\\u0446\\u044f=\\u0414\\u0436\\u0435\\u043a\\u0441\\u043e\\u043d<br>\\u041d\\u0430\\u0441\\u0435\\u043b\\u0435\\u043d\\u043d\\u044f=%{x}<br>\\u0414\\u043e\\u0445\\u0456\\u0434 \\u043d\\u0430 \\u0434\\u0443\\u0448\\u0443 \\u043d\\u0430\\u0441\\u0435\\u043b\\u0435\\u043d\\u043d\\u044f $ \\u043d\\u0430 \\u0440\\u0456\\u043a=%{y}<extra></extra>\",\"legendgroup\":\"\\u0414\\u0436\\u0435\\u043a\\u0441\\u043e\\u043d\",\"marker\":{\"color\":\"#00cc96\",\"symbol\":\"circle\"},\"mode\":\"markers\",\"name\":\"\\u0414\\u0436\\u0435\\u043a\\u0441\\u043e\\u043d\",\"orientation\":\"v\",\"showlegend\":true,\"x\":[143617],\"xaxis\":\"x\",\"y\":[38057],\"yaxis\":\"y\",\"type\":\"scatter\"},{\"hovertemplate\":\"\\u0421\\u0442\\u043e\\u043b\\u0438\\u0446\\u044f=\\u0414\\u0436\\u0435\\u0444\\u0444\\u0435\\u0440\\u0441\\u043e\\u043d-\\u0421\\u0456\\u0442\\u0456<br>\\u041d\\u0430\\u0441\\u0435\\u043b\\u0435\\u043d\\u043d\\u044f=%{x}<br>\\u0414\\u043e\\u0445\\u0456\\u0434 \\u043d\\u0430 \\u0434\\u0443\\u0448\\u0443 \\u043d\\u0430\\u0441\\u0435\\u043b\\u0435\\u043d\\u043d\\u044f $ \\u043d\\u0430 \\u0440\\u0456\\u043a=%{y}<extra></extra>\",\"legendgroup\":\"\\u0414\\u0436\\u0435\\u0444\\u0444\\u0435\\u0440\\u0441\\u043e\\u043d-\\u0421\\u0456\\u0442\\u0456\",\"marker\":{\"color\":\"#ab63fa\",\"symbol\":\"circle\"},\"mode\":\"markers\",\"name\":\"\\u0414\\u0436\\u0435\\u0444\\u0444\\u0435\\u0440\\u0441\\u043e\\u043d-\\u0421\\u0456\\u0442\\u0456\",\"orientation\":\"v\",\"showlegend\":true,\"x\":[43079],\"xaxis\":\"x\",\"y\":[57348],\"yaxis\":\"y\",\"type\":\"scatter\"},{\"hovertemplate\":\"\\u0421\\u0442\\u043e\\u043b\\u0438\\u0446\\u044f=\\u0413\\u0435\\u043b\\u0435\\u043d\\u0430<br>\\u041d\\u0430\\u0441\\u0435\\u043b\\u0435\\u043d\\u043d\\u044f=%{x}<br>\\u0414\\u043e\\u0445\\u0456\\u0434 \\u043d\\u0430 \\u0434\\u0443\\u0448\\u0443 \\u043d\\u0430\\u0441\\u0435\\u043b\\u0435\\u043d\\u043d\\u044f $ \\u043d\\u0430 \\u0440\\u0456\\u043a=%{y}<extra></extra>\",\"legendgroup\":\"\\u0413\\u0435\\u043b\\u0435\\u043d\\u0430\",\"marker\":{\"color\":\"#FFA15A\",\"symbol\":\"circle\"},\"mode\":\"markers\",\"name\":\"\\u0413\\u0435\\u043b\\u0435\\u043d\\u0430\",\"orientation\":\"v\",\"showlegend\":true,\"x\":[33188],\"xaxis\":\"x\",\"y\":[57134],\"yaxis\":\"y\",\"type\":\"scatter\"},{\"hovertemplate\":\"\\u0421\\u0442\\u043e\\u043b\\u0438\\u0446\\u044f=\\u041b\\u0456\\u043d\\u043a\\u043e\\u043b\\u044c\\u043d<br>\\u041d\\u0430\\u0441\\u0435\\u043b\\u0435\\u043d\\u043d\\u044f=%{x}<br>\\u0414\\u043e\\u0445\\u0456\\u0434 \\u043d\\u0430 \\u0434\\u0443\\u0448\\u0443 \\u043d\\u0430\\u0441\\u0435\\u043b\\u0435\\u043d\\u043d\\u044f $ \\u043d\\u0430 \\u0440\\u0456\\u043a=%{y}<extra></extra>\",\"legendgroup\":\"\\u041b\\u0456\\u043d\\u043a\\u043e\\u043b\\u044c\\u043d\",\"marker\":{\"color\":\"#19d3f3\",\"symbol\":\"circle\"},\"mode\":\"markers\",\"name\":\"\\u041b\\u0456\\u043d\\u043a\\u043e\\u043b\\u044c\\u043d\",\"orientation\":\"v\",\"showlegend\":true,\"x\":[287401],\"xaxis\":\"x\",\"y\":[60753],\"yaxis\":\"y\",\"type\":\"scatter\"},{\"hovertemplate\":\"\\u0421\\u0442\\u043e\\u043b\\u0438\\u0446\\u044f=\\u041a\\u0430\\u0440\\u0441\\u043e\\u043d-\\u0421\\u0456\\u0442\\u0456<br>\\u041d\\u0430\\u0441\\u0435\\u043b\\u0435\\u043d\\u043d\\u044f=%{x}<br>\\u0414\\u043e\\u0445\\u0456\\u0434 \\u043d\\u0430 \\u0434\\u0443\\u0448\\u0443 \\u043d\\u0430\\u0441\\u0435\\u043b\\u0435\\u043d\\u043d\\u044f $ \\u043d\\u0430 \\u0440\\u0456\\u043a=%{y}<extra></extra>\",\"legendgroup\":\"\\u041a\\u0430\\u0440\\u0441\\u043e\\u043d-\\u0421\\u0456\\u0442\\u0456\",\"marker\":{\"color\":\"#FF6692\",\"symbol\":\"circle\"},\"mode\":\"markers\",\"name\":\"\\u041a\\u0430\\u0440\\u0441\\u043e\\u043d-\\u0421\\u0456\\u0442\\u0456\",\"orientation\":\"v\",\"showlegend\":true,\"x\":[55414],\"xaxis\":\"x\",\"y\":[58507],\"yaxis\":\"y\",\"type\":\"scatter\"},{\"hovertemplate\":\"\\u0421\\u0442\\u043e\\u043b\\u0438\\u0446\\u044f=\\u041a\\u043e\\u043d\\u043a\\u043e\\u0440\\u0434<br>\\u041d\\u0430\\u0441\\u0435\\u043b\\u0435\\u043d\\u043d\\u044f=%{x}<br>\\u0414\\u043e\\u0445\\u0456\\u0434 \\u043d\\u0430 \\u0434\\u0443\\u0448\\u0443 \\u043d\\u0430\\u0441\\u0435\\u043b\\u0435\\u043d\\u043d\\u044f $ \\u043d\\u0430 \\u0440\\u0456\\u043a=%{y}<extra></extra>\",\"legendgroup\":\"\\u041a\\u043e\\u043d\\u043a\\u043e\\u0440\\u0434\",\"marker\":{\"color\":\"#B6E880\",\"symbol\":\"circle\"},\"mode\":\"markers\",\"name\":\"\\u041a\\u043e\\u043d\\u043a\\u043e\\u0440\\u0434\",\"orientation\":\"v\",\"showlegend\":true,\"x\":[43167],\"xaxis\":\"x\",\"y\":[66825],\"yaxis\":\"y\",\"type\":\"scatter\"},{\"hovertemplate\":\"\\u0421\\u0442\\u043e\\u043b\\u0438\\u0446\\u044f=\\u0422\\u0440\\u0435\\u043d\\u0442\\u043e\\u043d<br>\\u041d\\u0430\\u0441\\u0435\\u043b\\u0435\\u043d\\u043d\\u044f=%{x}<br>\\u0414\\u043e\\u0445\\u0456\\u0434 \\u043d\\u0430 \\u0434\\u0443\\u0448\\u0443 \\u043d\\u0430\\u0441\\u0435\\u043b\\u0435\\u043d\\u043d\\u044f $ \\u043d\\u0430 \\u0440\\u0456\\u043a=%{y}<extra></extra>\",\"legendgroup\":\"\\u0422\\u0440\\u0435\\u043d\\u0442\\u043e\\u043d\",\"marker\":{\"color\":\"#FF97FF\",\"symbol\":\"circle\"},\"mode\":\"markers\",\"name\":\"\\u0422\\u0440\\u0435\\u043d\\u0442\\u043e\\u043d\",\"orientation\":\"v\",\"showlegend\":true,\"x\":[83974],\"xaxis\":\"x\",\"y\":[37022],\"yaxis\":\"y\",\"type\":\"scatter\"},{\"hovertemplate\":\"\\u0421\\u0442\\u043e\\u043b\\u0438\\u0446\\u044f=\\u0421\\u0430\\u043d\\u0442\\u0430-\\u0424\\u0435<br>\\u041d\\u0430\\u0441\\u0435\\u043b\\u0435\\u043d\\u043d\\u044f=%{x}<br>\\u0414\\u043e\\u0445\\u0456\\u0434 \\u043d\\u0430 \\u0434\\u0443\\u0448\\u0443 \\u043d\\u0430\\u0441\\u0435\\u043b\\u0435\\u043d\\u043d\\u044f $ \\u043d\\u0430 \\u0440\\u0456\\u043a=%{y}<extra></extra>\",\"legendgroup\":\"\\u0421\\u0430\\u043d\\u0442\\u0430-\\u0424\\u0435\",\"marker\":{\"color\":\"#FECB52\",\"symbol\":\"circle\"},\"mode\":\"markers\",\"name\":\"\\u0421\\u0430\\u043d\\u0442\\u0430-\\u0424\\u0435\",\"orientation\":\"v\",\"showlegend\":true,\"x\":[87521],\"xaxis\":\"x\",\"y\":[58618],\"yaxis\":\"y\",\"type\":\"scatter\"},{\"hovertemplate\":\"\\u0421\\u0442\\u043e\\u043b\\u0438\\u0446\\u044f=\\u0410\\u043b\\u0431\\u0430\\u043d\\u0456<br>\\u041d\\u0430\\u0441\\u0435\\u043b\\u0435\\u043d\\u043d\\u044f=%{x}<br>\\u0414\\u043e\\u0445\\u0456\\u0434 \\u043d\\u0430 \\u0434\\u0443\\u0448\\u0443 \\u043d\\u0430\\u0441\\u0435\\u043b\\u0435\\u043d\\u043d\\u044f $ \\u043d\\u0430 \\u0440\\u0456\\u043a=%{y}<extra></extra>\",\"legendgroup\":\"\\u0410\\u043b\\u0431\\u0430\\u043d\\u0456\",\"marker\":{\"color\":\"#636efa\",\"symbol\":\"circle\"},\"mode\":\"markers\",\"name\":\"\\u0410\\u043b\\u0431\\u0430\\u043d\\u0456\",\"orientation\":\"v\",\"showlegend\":true,\"x\":[97856],\"xaxis\":\"x\",\"y\":[50405],\"yaxis\":\"y\",\"type\":\"scatter\"},{\"hovertemplate\":\"\\u0421\\u0442\\u043e\\u043b\\u0438\\u0446\\u044f=\\u0420\\u043e\\u043b\\u0456<br>\\u041d\\u0430\\u0441\\u0435\\u043b\\u0435\\u043d\\u043d\\u044f=%{x}<br>\\u0414\\u043e\\u0445\\u0456\\u0434 \\u043d\\u0430 \\u0434\\u0443\\u0448\\u0443 \\u043d\\u0430\\u0441\\u0435\\u043b\\u0435\\u043d\\u043d\\u044f $ \\u043d\\u0430 \\u0440\\u0456\\u043a=%{y}<extra></extra>\",\"legendgroup\":\"\\u0420\\u043e\\u043b\\u0456\",\"marker\":{\"color\":\"#EF553B\",\"symbol\":\"circle\"},\"mode\":\"markers\",\"name\":\"\\u0420\\u043e\\u043b\\u0456\",\"orientation\":\"v\",\"showlegend\":true,\"x\":[474069],\"xaxis\":\"x\",\"y\":[67146],\"yaxis\":\"y\",\"type\":\"scatter\"},{\"hovertemplate\":\"\\u0421\\u0442\\u043e\\u043b\\u0438\\u0446\\u044f=\\u0411\\u0456\\u0441\\u043c\\u0430\\u0440\\u043a<br>\\u041d\\u0430\\u0441\\u0435\\u043b\\u0435\\u043d\\u043d\\u044f=%{x}<br>\\u0414\\u043e\\u0445\\u0456\\u0434 \\u043d\\u0430 \\u0434\\u0443\\u0448\\u0443 \\u043d\\u0430\\u0441\\u0435\\u043b\\u0435\\u043d\\u043d\\u044f $ \\u043d\\u0430 \\u0440\\u0456\\u043a=%{y}<extra></extra>\",\"legendgroup\":\"\\u0411\\u0456\\u0441\\u043c\\u0430\\u0440\\u043a\",\"marker\":{\"color\":\"#00cc96\",\"symbol\":\"circle\"},\"mode\":\"markers\",\"name\":\"\\u0411\\u0456\\u0441\\u043c\\u0430\\u0440\\u043a\",\"orientation\":\"v\",\"showlegend\":true,\"x\":[73112],\"xaxis\":\"x\",\"y\":[66714],\"yaxis\":\"y\",\"type\":\"scatter\"},{\"hovertemplate\":\"\\u0421\\u0442\\u043e\\u043b\\u0438\\u0446\\u044f=\\u041a\\u043e\\u043b\\u0443\\u043c\\u0431\\u0443\\u0441<br>\\u041d\\u0430\\u0441\\u0435\\u043b\\u0435\\u043d\\u043d\\u044f=%{x}<br>\\u0414\\u043e\\u0445\\u0456\\u0434 \\u043d\\u0430 \\u0434\\u0443\\u0448\\u0443 \\u043d\\u0430\\u0441\\u0435\\u043b\\u0435\\u043d\\u043d\\u044f $ \\u043d\\u0430 \\u0440\\u0456\\u043a=%{y}<extra></extra>\",\"legendgroup\":\"\\u041a\\u043e\\u043b\\u0443\\u043c\\u0431\\u0443\\u0441\",\"marker\":{\"color\":\"#ab63fa\",\"symbol\":\"circle\"},\"mode\":\"markers\",\"name\":\"\\u041a\\u043e\\u043b\\u0443\\u043c\\u0431\\u0443\\u0441\",\"orientation\":\"v\",\"showlegend\":true,\"x\":[898553],\"xaxis\":\"x\",\"y\":[56273],\"yaxis\":\"y\",\"type\":\"scatter\"},{\"hovertemplate\":\"\\u0421\\u0442\\u043e\\u043b\\u0438\\u0446\\u044f=\\u041e\\u043a\\u043b\\u0430\\u0445\\u043e\\u043c\\u0430-\\u0421\\u0456\\u0442\\u0456<br>\\u041d\\u0430\\u0441\\u0435\\u043b\\u0435\\u043d\\u043d\\u044f=%{x}<br>\\u0414\\u043e\\u0445\\u0456\\u0434 \\u043d\\u0430 \\u0434\\u0443\\u0448\\u0443 \\u043d\\u0430\\u0441\\u0435\\u043b\\u0435\\u043d\\u043d\\u044f $ \\u043d\\u0430 \\u0440\\u0456\\u043a=%{y}<extra></extra>\",\"legendgroup\":\"\\u041e\\u043a\\u043b\\u0430\\u0445\\u043e\\u043c\\u0430-\\u0421\\u0456\\u0442\\u0456\",\"marker\":{\"color\":\"#FFA15A\",\"symbol\":\"circle\"},\"mode\":\"markers\",\"name\":\"\\u041e\\u043a\\u043b\\u0430\\u0445\\u043e\\u043c\\u0430-\\u0421\\u0456\\u0442\\u0456\",\"orientation\":\"v\",\"showlegend\":true,\"x\":[655057],\"xaxis\":\"x\",\"y\":[56132],\"yaxis\":\"y\",\"type\":\"scatter\"},{\"hovertemplate\":\"\\u0421\\u0442\\u043e\\u043b\\u0438\\u0446\\u044f=\\u0421\\u0435\\u0439\\u043b\\u0435\\u043c<br>\\u041d\\u0430\\u0441\\u0435\\u043b\\u0435\\u043d\\u043d\\u044f=%{x}<br>\\u0414\\u043e\\u0445\\u0456\\u0434 \\u043d\\u0430 \\u0434\\u0443\\u0448\\u0443 \\u043d\\u0430\\u0441\\u0435\\u043b\\u0435\\u043d\\u043d\\u044f $ \\u043d\\u0430 \\u0440\\u0456\\u043a=%{y}<extra></extra>\",\"legendgroup\":\"\\u0421\\u0435\\u0439\\u043b\\u0435\\u043c\",\"marker\":{\"color\":\"#19d3f3\",\"symbol\":\"circle\"},\"mode\":\"markers\",\"name\":\"\\u0421\\u0435\\u0439\\u043b\\u0435\\u043c\",\"orientation\":\"v\",\"showlegend\":true,\"x\":[174365],\"xaxis\":\"x\",\"y\":[56137],\"yaxis\":\"y\",\"type\":\"scatter\"},{\"hovertemplate\":\"\\u0421\\u0442\\u043e\\u043b\\u0438\\u0446\\u044f=\\u0413\\u0430\\u0440\\u0440\\u0456\\u0441\\u0431\\u0443\\u0440\\u0433<br>\\u041d\\u0430\\u0441\\u0435\\u043b\\u0435\\u043d\\u043d\\u044f=%{x}<br>\\u0414\\u043e\\u0445\\u0456\\u0434 \\u043d\\u0430 \\u0434\\u0443\\u0448\\u0443 \\u043d\\u0430\\u0441\\u0435\\u043b\\u0435\\u043d\\u043d\\u044f $ \\u043d\\u0430 \\u0440\\u0456\\u043a=%{y}<extra></extra>\",\"legendgroup\":\"\\u0413\\u0430\\u0440\\u0440\\u0456\\u0441\\u0431\\u0443\\u0440\\u0433\",\"marker\":{\"color\":\"#FF6692\",\"symbol\":\"circle\"},\"mode\":\"markers\",\"name\":\"\\u0413\\u0430\\u0440\\u0440\\u0456\\u0441\\u0431\\u0443\\u0440\\u0433\",\"orientation\":\"v\",\"showlegend\":true,\"x\":[49229],\"xaxis\":\"x\",\"y\":[37923],\"yaxis\":\"y\",\"type\":\"scatter\"},{\"hovertemplate\":\"\\u0421\\u0442\\u043e\\u043b\\u0438\\u0446\\u044f=\\u041f\\u0440\\u043e\\u0432\\u0456\\u0434\\u0435\\u043d\\u0441<br>\\u041d\\u0430\\u0441\\u0435\\u043b\\u0435\\u043d\\u043d\\u044f=%{x}<br>\\u0414\\u043e\\u0445\\u0456\\u0434 \\u043d\\u0430 \\u0434\\u0443\\u0448\\u0443 \\u043d\\u0430\\u0441\\u0435\\u043b\\u0435\\u043d\\u043d\\u044f $ \\u043d\\u0430 \\u0440\\u0456\\u043a=%{y}<extra></extra>\",\"legendgroup\":\"\\u041f\\u0440\\u043e\\u0432\\u0456\\u0434\\u0435\\u043d\\u0441\",\"marker\":{\"color\":\"#B6E880\",\"symbol\":\"circle\"},\"mode\":\"markers\",\"name\":\"\\u041f\\u0440\\u043e\\u0432\\u0456\\u0434\\u0435\\u043d\\u0441\",\"orientation\":\"v\",\"showlegend\":true,\"x\":[179335],\"xaxis\":\"x\",\"y\":[47825],\"yaxis\":\"y\",\"type\":\"scatter\"},{\"hovertemplate\":\"\\u0421\\u0442\\u043e\\u043b\\u0438\\u0446\\u044f=\\u041a\\u043e\\u043b\\u0443\\u043c\\u0431\\u0456\\u044f<br>\\u041d\\u0430\\u0441\\u0435\\u043b\\u0435\\u043d\\u043d\\u044f=%{x}<br>\\u0414\\u043e\\u0445\\u0456\\u0434 \\u043d\\u0430 \\u0434\\u0443\\u0448\\u0443 \\u043d\\u0430\\u0441\\u0435\\u043b\\u0435\\u043d\\u043d\\u044f $ \\u043d\\u0430 \\u0440\\u0456\\u043a=%{y}<extra></extra>\",\"legendgroup\":\"\\u041a\\u043e\\u043b\\u0443\\u043c\\u0431\\u0456\\u044f\",\"marker\":{\"color\":\"#FF97FF\",\"symbol\":\"circle\"},\"mode\":\"markers\",\"name\":\"\\u041a\\u043e\\u043b\\u0443\\u043c\\u0431\\u0456\\u044f\",\"orientation\":\"v\",\"showlegend\":true,\"x\":[133273],\"xaxis\":\"x\",\"y\":[53246],\"yaxis\":\"y\",\"type\":\"scatter\"},{\"hovertemplate\":\"\\u0421\\u0442\\u043e\\u043b\\u0438\\u0446\\u044f=\\u041f'\\u0454\\u0440<br>\\u041d\\u0430\\u0441\\u0435\\u043b\\u0435\\u043d\\u043d\\u044f=%{x}<br>\\u0414\\u043e\\u0445\\u0456\\u0434 \\u043d\\u0430 \\u0434\\u0443\\u0448\\u0443 \\u043d\\u0430\\u0441\\u0435\\u043b\\u0435\\u043d\\u043d\\u044f $ \\u043d\\u0430 \\u0440\\u0456\\u043a=%{y}<extra></extra>\",\"legendgroup\":\"\\u041f'\\u0454\\u0440\",\"marker\":{\"color\":\"#FECB52\",\"symbol\":\"circle\"},\"mode\":\"markers\",\"name\":\"\\u041f'\\u0454\\u0440\",\"orientation\":\"v\",\"showlegend\":true,\"x\":[14177],\"xaxis\":\"x\",\"y\":[60615],\"yaxis\":\"y\",\"type\":\"scatter\"},{\"hovertemplate\":\"\\u0421\\u0442\\u043e\\u043b\\u0438\\u0446\\u044f=\\u041d\\u0435\\u0448\\u0432\\u0456\\u043b\\u043b<br>\\u041d\\u0430\\u0441\\u0435\\u043b\\u0435\\u043d\\u043d\\u044f=%{x}<br>\\u0414\\u043e\\u0445\\u0456\\u0434 \\u043d\\u0430 \\u0434\\u0443\\u0448\\u0443 \\u043d\\u0430\\u0441\\u0435\\u043b\\u0435\\u043d\\u043d\\u044f $ \\u043d\\u0430 \\u0440\\u0456\\u043a=%{y}<extra></extra>\",\"legendgroup\":\"\\u041d\\u0435\\u0448\\u0432\\u0456\\u043b\\u043b\",\"marker\":{\"color\":\"#636efa\",\"symbol\":\"circle\"},\"mode\":\"markers\",\"name\":\"\\u041d\\u0435\\u0448\\u0432\\u0456\\u043b\\u043b\",\"orientation\":\"v\",\"showlegend\":true,\"x\":[694144],\"xaxis\":\"x\",\"y\":[65776],\"yaxis\":\"y\",\"type\":\"scatter\"},{\"hovertemplate\":\"\\u0421\\u0442\\u043e\\u043b\\u0438\\u0446\\u044f=\\u041e\\u0441\\u0442\\u0456\\u043d<br>\\u041d\\u0430\\u0441\\u0435\\u043b\\u0435\\u043d\\u043d\\u044f=%{x}<br>\\u0414\\u043e\\u0445\\u0456\\u0434 \\u043d\\u0430 \\u0434\\u0443\\u0448\\u0443 \\u043d\\u0430\\u0441\\u0435\\u043b\\u0435\\u043d\\u043d\\u044f $ \\u043d\\u0430 \\u0440\\u0456\\u043a=%{y}<extra></extra>\",\"legendgroup\":\"\\u041e\\u0441\\u0442\\u0456\\u043d\",\"marker\":{\"color\":\"#EF553B\",\"symbol\":\"circle\"},\"mode\":\"markers\",\"name\":\"\\u041e\\u0441\\u0442\\u0456\\u043d\",\"orientation\":\"v\",\"showlegend\":true,\"x\":[1012695],\"xaxis\":\"x\",\"y\":[65579],\"yaxis\":\"y\",\"type\":\"scatter\"},{\"hovertemplate\":\"\\u0421\\u0442\\u043e\\u043b\\u0438\\u0446\\u044f=\\u0421\\u043e\\u043b\\u0442-\\u041b\\u0435\\u0439\\u043a-\\u0421\\u0456\\u0442\\u0456<br>\\u041d\\u0430\\u0441\\u0435\\u043b\\u0435\\u043d\\u043d\\u044f=%{x}<br>\\u0414\\u043e\\u0445\\u0456\\u0434 \\u043d\\u0430 \\u0434\\u0443\\u0448\\u0443 \\u043d\\u0430\\u0441\\u0435\\u043b\\u0435\\u043d\\u043d\\u044f $ \\u043d\\u0430 \\u0440\\u0456\\u043a=%{y}<extra></extra>\",\"legendgroup\":\"\\u0421\\u043e\\u043b\\u0442-\\u041b\\u0435\\u0439\\u043a-\\u0421\\u0456\\u0442\\u0456\",\"marker\":{\"color\":\"#00cc96\",\"symbol\":\"circle\"},\"mode\":\"markers\",\"name\":\"\\u0421\\u043e\\u043b\\u0442-\\u041b\\u0435\\u0439\\u043a-\\u0421\\u0456\\u0442\\u0456\",\"orientation\":\"v\",\"showlegend\":true,\"x\":[200567],\"xaxis\":\"x\",\"y\":[68743],\"yaxis\":\"y\",\"type\":\"scatter\"},{\"hovertemplate\":\"\\u0421\\u0442\\u043e\\u043b\\u0438\\u0446\\u044f=\\u041c\\u043e\\u043d\\u0442\\u043f\\u0435\\u043b\\u044c\\u0454\\u0440<br>\\u041d\\u0430\\u0441\\u0435\\u043b\\u0435\\u043d\\u043d\\u044f=%{x}<br>\\u0414\\u043e\\u0445\\u0456\\u0434 \\u043d\\u0430 \\u0434\\u0443\\u0448\\u0443 \\u043d\\u0430\\u0441\\u0435\\u043b\\u0435\\u043d\\u043d\\u044f $ \\u043d\\u0430 \\u0440\\u0456\\u043a=%{y}<extra></extra>\",\"legendgroup\":\"\\u041c\\u043e\\u043d\\u0442\\u043f\\u0435\\u043b\\u044c\\u0454\\u0440\",\"marker\":{\"color\":\"#ab63fa\",\"symbol\":\"circle\"},\"mode\":\"markers\",\"name\":\"\\u041c\\u043e\\u043d\\u0442\\u043f\\u0435\\u043b\\u044c\\u0454\\u0440\",\"orientation\":\"v\",\"showlegend\":true,\"x\":[7436],\"xaxis\":\"x\",\"y\":[57065],\"yaxis\":\"y\",\"type\":\"scatter\"},{\"hovertemplate\":\"\\u0421\\u0442\\u043e\\u043b\\u0438\\u0446\\u044f=\\u0420\\u0456\\u0447\\u043c\\u043e\\u043d\\u0434<br>\\u041d\\u0430\\u0441\\u0435\\u043b\\u0435\\u043d\\u043d\\u044f=%{x}<br>\\u0414\\u043e\\u0445\\u0456\\u0434 \\u043d\\u0430 \\u0434\\u0443\\u0448\\u0443 \\u043d\\u0430\\u0441\\u0435\\u043b\\u0435\\u043d\\u043d\\u044f $ \\u043d\\u0430 \\u0440\\u0456\\u043a=%{y}<extra></extra>\",\"legendgroup\":\"\\u0420\\u0456\\u0447\\u043c\\u043e\\u043d\\u0434\",\"marker\":{\"color\":\"#FFA15A\",\"symbol\":\"circle\"},\"mode\":\"markers\",\"name\":\"\\u0420\\u0456\\u0447\\u043c\\u043e\\u043d\\u0434\",\"orientation\":\"v\",\"showlegend\":true,\"x\":[233170],\"xaxis\":\"x\",\"y\":[77378],\"yaxis\":\"y\",\"type\":\"scatter\"},{\"hovertemplate\":\"\\u0421\\u0442\\u043e\\u043b\\u0438\\u0446\\u044f=\\u041e\\u043b\\u0456\\u043c\\u043f\\u0456\\u044f<br>\\u041d\\u0430\\u0441\\u0435\\u043b\\u0435\\u043d\\u043d\\u044f=%{x}<br>\\u0414\\u043e\\u0445\\u0456\\u0434 \\u043d\\u0430 \\u0434\\u0443\\u0448\\u0443 \\u043d\\u0430\\u0441\\u0435\\u043b\\u0435\\u043d\\u043d\\u044f $ \\u043d\\u0430 \\u0440\\u0456\\u043a=%{y}<extra></extra>\",\"legendgroup\":\"\\u041e\\u043b\\u0456\\u043c\\u043f\\u0456\\u044f\",\"marker\":{\"color\":\"#19d3f3\",\"symbol\":\"circle\"},\"mode\":\"markers\",\"name\":\"\\u041e\\u043b\\u0456\\u043c\\u043f\\u0456\\u044f\",\"orientation\":\"v\",\"showlegend\":true,\"x\":[54905],\"xaxis\":\"x\",\"y\":[62577],\"yaxis\":\"y\",\"type\":\"scatter\"},{\"hovertemplate\":\"\\u0421\\u0442\\u043e\\u043b\\u0438\\u0446\\u044f=\\u0427\\u0430\\u0440\\u043b\\u0441\\u0442\\u043e\\u043d<br>\\u041d\\u0430\\u0441\\u0435\\u043b\\u0435\\u043d\\u043d\\u044f=%{x}<br>\\u0414\\u043e\\u0445\\u0456\\u0434 \\u043d\\u0430 \\u0434\\u0443\\u0448\\u0443 \\u043d\\u0430\\u0441\\u0435\\u043b\\u0435\\u043d\\u043d\\u044f $ \\u043d\\u0430 \\u0440\\u0456\\u043a=%{y}<extra></extra>\",\"legendgroup\":\"\\u0427\\u0430\\u0440\\u043b\\u0441\\u0442\\u043e\\u043d\",\"marker\":{\"color\":\"#FF6692\",\"symbol\":\"circle\"},\"mode\":\"markers\",\"name\":\"\\u0427\\u0430\\u0440\\u043b\\u0441\\u0442\\u043e\\u043d\",\"orientation\":\"v\",\"showlegend\":true,\"x\":[45879],\"xaxis\":\"x\",\"y\":[51809],\"yaxis\":\"y\",\"type\":\"scatter\"},{\"hovertemplate\":\"\\u0421\\u0442\\u043e\\u043b\\u0438\\u0446\\u044f=\\u041c\\u0435\\u0434\\u0456\\u0441\\u043e\\u043d<br>\\u041d\\u0430\\u0441\\u0435\\u043b\\u0435\\u043d\\u043d\\u044f=%{x}<br>\\u0414\\u043e\\u0445\\u0456\\u0434 \\u043d\\u0430 \\u0434\\u0443\\u0448\\u0443 \\u043d\\u0430\\u0441\\u0435\\u043b\\u0435\\u043d\\u043d\\u044f $ \\u043d\\u0430 \\u0440\\u0456\\u043a=%{y}<extra></extra>\",\"legendgroup\":\"\\u041c\\u0435\\u0434\\u0456\\u0441\\u043e\\u043d\",\"marker\":{\"color\":\"#B6E880\",\"symbol\":\"circle\"},\"mode\":\"markers\",\"name\":\"\\u041c\\u0435\\u0434\\u0456\\u0441\\u043e\\u043d\",\"orientation\":\"v\",\"showlegend\":true,\"x\":[259680],\"xaxis\":\"x\",\"y\":[68947],\"yaxis\":\"y\",\"type\":\"scatter\"},{\"hovertemplate\":\"\\u0421\\u0442\\u043e\\u043b\\u0438\\u0446\\u044f=\\u0428\\u0430\\u0439\\u0454\\u043d\\u043d<br>\\u041d\\u0430\\u0441\\u0435\\u043b\\u0435\\u043d\\u043d\\u044f=%{x}<br>\\u0414\\u043e\\u0445\\u0456\\u0434 \\u043d\\u0430 \\u0434\\u0443\\u0448\\u0443 \\u043d\\u0430\\u0441\\u0435\\u043b\\u0435\\u043d\\u043d\\u044f $ \\u043d\\u0430 \\u0440\\u0456\\u043a=%{y}<extra></extra>\",\"legendgroup\":\"\\u0428\\u0430\\u0439\\u0454\\u043d\\u043d\",\"marker\":{\"color\":\"#FF97FF\",\"symbol\":\"circle\"},\"mode\":\"markers\",\"name\":\"\\u0428\\u0430\\u0439\\u0454\\u043d\\u043d\",\"orientation\":\"v\",\"showlegend\":true,\"x\":[64019],\"xaxis\":\"x\",\"y\":[63094],\"yaxis\":\"y\",\"type\":\"scatter\"}],                        {\"template\":{\"data\":{\"histogram2dcontour\":[{\"type\":\"histogram2dcontour\",\"colorbar\":{\"outlinewidth\":0,\"ticks\":\"\"},\"colorscale\":[[0.0,\"#0d0887\"],[0.1111111111111111,\"#46039f\"],[0.2222222222222222,\"#7201a8\"],[0.3333333333333333,\"#9c179e\"],[0.4444444444444444,\"#bd3786\"],[0.5555555555555556,\"#d8576b\"],[0.6666666666666666,\"#ed7953\"],[0.7777777777777778,\"#fb9f3a\"],[0.8888888888888888,\"#fdca26\"],[1.0,\"#f0f921\"]]}],\"choropleth\":[{\"type\":\"choropleth\",\"colorbar\":{\"outlinewidth\":0,\"ticks\":\"\"}}],\"histogram2d\":[{\"type\":\"histogram2d\",\"colorbar\":{\"outlinewidth\":0,\"ticks\":\"\"},\"colorscale\":[[0.0,\"#0d0887\"],[0.1111111111111111,\"#46039f\"],[0.2222222222222222,\"#7201a8\"],[0.3333333333333333,\"#9c179e\"],[0.4444444444444444,\"#bd3786\"],[0.5555555555555556,\"#d8576b\"],[0.6666666666666666,\"#ed7953\"],[0.7777777777777778,\"#fb9f3a\"],[0.8888888888888888,\"#fdca26\"],[1.0,\"#f0f921\"]]}],\"heatmap\":[{\"type\":\"heatmap\",\"colorbar\":{\"outlinewidth\":0,\"ticks\":\"\"},\"colorscale\":[[0.0,\"#0d0887\"],[0.1111111111111111,\"#46039f\"],[0.2222222222222222,\"#7201a8\"],[0.3333333333333333,\"#9c179e\"],[0.4444444444444444,\"#bd3786\"],[0.5555555555555556,\"#d8576b\"],[0.6666666666666666,\"#ed7953\"],[0.7777777777777778,\"#fb9f3a\"],[0.8888888888888888,\"#fdca26\"],[1.0,\"#f0f921\"]]}],\"heatmapgl\":[{\"type\":\"heatmapgl\",\"colorbar\":{\"outlinewidth\":0,\"ticks\":\"\"},\"colorscale\":[[0.0,\"#0d0887\"],[0.1111111111111111,\"#46039f\"],[0.2222222222222222,\"#7201a8\"],[0.3333333333333333,\"#9c179e\"],[0.4444444444444444,\"#bd3786\"],[0.5555555555555556,\"#d8576b\"],[0.6666666666666666,\"#ed7953\"],[0.7777777777777778,\"#fb9f3a\"],[0.8888888888888888,\"#fdca26\"],[1.0,\"#f0f921\"]]}],\"contourcarpet\":[{\"type\":\"contourcarpet\",\"colorbar\":{\"outlinewidth\":0,\"ticks\":\"\"}}],\"contour\":[{\"type\":\"contour\",\"colorbar\":{\"outlinewidth\":0,\"ticks\":\"\"},\"colorscale\":[[0.0,\"#0d0887\"],[0.1111111111111111,\"#46039f\"],[0.2222222222222222,\"#7201a8\"],[0.3333333333333333,\"#9c179e\"],[0.4444444444444444,\"#bd3786\"],[0.5555555555555556,\"#d8576b\"],[0.6666666666666666,\"#ed7953\"],[0.7777777777777778,\"#fb9f3a\"],[0.8888888888888888,\"#fdca26\"],[1.0,\"#f0f921\"]]}],\"surface\":[{\"type\":\"surface\",\"colorbar\":{\"outlinewidth\":0,\"ticks\":\"\"},\"colorscale\":[[0.0,\"#0d0887\"],[0.1111111111111111,\"#46039f\"],[0.2222222222222222,\"#7201a8\"],[0.3333333333333333,\"#9c179e\"],[0.4444444444444444,\"#bd3786\"],[0.5555555555555556,\"#d8576b\"],[0.6666666666666666,\"#ed7953\"],[0.7777777777777778,\"#fb9f3a\"],[0.8888888888888888,\"#fdca26\"],[1.0,\"#f0f921\"]]}],\"mesh3d\":[{\"type\":\"mesh3d\",\"colorbar\":{\"outlinewidth\":0,\"ticks\":\"\"}}],\"scatter\":[{\"fillpattern\":{\"fillmode\":\"overlay\",\"size\":10,\"solidity\":0.2},\"type\":\"scatter\"}],\"parcoords\":[{\"type\":\"parcoords\",\"line\":{\"colorbar\":{\"outlinewidth\":0,\"ticks\":\"\"}}}],\"scatterpolargl\":[{\"type\":\"scatterpolargl\",\"marker\":{\"colorbar\":{\"outlinewidth\":0,\"ticks\":\"\"}}}],\"bar\":[{\"error_x\":{\"color\":\"#2a3f5f\"},\"error_y\":{\"color\":\"#2a3f5f\"},\"marker\":{\"line\":{\"color\":\"#E5ECF6\",\"width\":0.5},\"pattern\":{\"fillmode\":\"overlay\",\"size\":10,\"solidity\":0.2}},\"type\":\"bar\"}],\"scattergeo\":[{\"type\":\"scattergeo\",\"marker\":{\"colorbar\":{\"outlinewidth\":0,\"ticks\":\"\"}}}],\"scatterpolar\":[{\"type\":\"scatterpolar\",\"marker\":{\"colorbar\":{\"outlinewidth\":0,\"ticks\":\"\"}}}],\"histogram\":[{\"marker\":{\"pattern\":{\"fillmode\":\"overlay\",\"size\":10,\"solidity\":0.2}},\"type\":\"histogram\"}],\"scattergl\":[{\"type\":\"scattergl\",\"marker\":{\"colorbar\":{\"outlinewidth\":0,\"ticks\":\"\"}}}],\"scatter3d\":[{\"type\":\"scatter3d\",\"line\":{\"colorbar\":{\"outlinewidth\":0,\"ticks\":\"\"}},\"marker\":{\"colorbar\":{\"outlinewidth\":0,\"ticks\":\"\"}}}],\"scattermapbox\":[{\"type\":\"scattermapbox\",\"marker\":{\"colorbar\":{\"outlinewidth\":0,\"ticks\":\"\"}}}],\"scatterternary\":[{\"type\":\"scatterternary\",\"marker\":{\"colorbar\":{\"outlinewidth\":0,\"ticks\":\"\"}}}],\"scattercarpet\":[{\"type\":\"scattercarpet\",\"marker\":{\"colorbar\":{\"outlinewidth\":0,\"ticks\":\"\"}}}],\"carpet\":[{\"aaxis\":{\"endlinecolor\":\"#2a3f5f\",\"gridcolor\":\"white\",\"linecolor\":\"white\",\"minorgridcolor\":\"white\",\"startlinecolor\":\"#2a3f5f\"},\"baxis\":{\"endlinecolor\":\"#2a3f5f\",\"gridcolor\":\"white\",\"linecolor\":\"white\",\"minorgridcolor\":\"white\",\"startlinecolor\":\"#2a3f5f\"},\"type\":\"carpet\"}],\"table\":[{\"cells\":{\"fill\":{\"color\":\"#EBF0F8\"},\"line\":{\"color\":\"white\"}},\"header\":{\"fill\":{\"color\":\"#C8D4E3\"},\"line\":{\"color\":\"white\"}},\"type\":\"table\"}],\"barpolar\":[{\"marker\":{\"line\":{\"color\":\"#E5ECF6\",\"width\":0.5},\"pattern\":{\"fillmode\":\"overlay\",\"size\":10,\"solidity\":0.2}},\"type\":\"barpolar\"}],\"pie\":[{\"automargin\":true,\"type\":\"pie\"}]},\"layout\":{\"autotypenumbers\":\"strict\",\"colorway\":[\"#636efa\",\"#EF553B\",\"#00cc96\",\"#ab63fa\",\"#FFA15A\",\"#19d3f3\",\"#FF6692\",\"#B6E880\",\"#FF97FF\",\"#FECB52\"],\"font\":{\"color\":\"#2a3f5f\"},\"hovermode\":\"closest\",\"hoverlabel\":{\"align\":\"left\"},\"paper_bgcolor\":\"white\",\"plot_bgcolor\":\"#E5ECF6\",\"polar\":{\"bgcolor\":\"#E5ECF6\",\"angularaxis\":{\"gridcolor\":\"white\",\"linecolor\":\"white\",\"ticks\":\"\"},\"radialaxis\":{\"gridcolor\":\"white\",\"linecolor\":\"white\",\"ticks\":\"\"}},\"ternary\":{\"bgcolor\":\"#E5ECF6\",\"aaxis\":{\"gridcolor\":\"white\",\"linecolor\":\"white\",\"ticks\":\"\"},\"baxis\":{\"gridcolor\":\"white\",\"linecolor\":\"white\",\"ticks\":\"\"},\"caxis\":{\"gridcolor\":\"white\",\"linecolor\":\"white\",\"ticks\":\"\"}},\"coloraxis\":{\"colorbar\":{\"outlinewidth\":0,\"ticks\":\"\"}},\"colorscale\":{\"sequential\":[[0.0,\"#0d0887\"],[0.1111111111111111,\"#46039f\"],[0.2222222222222222,\"#7201a8\"],[0.3333333333333333,\"#9c179e\"],[0.4444444444444444,\"#bd3786\"],[0.5555555555555556,\"#d8576b\"],[0.6666666666666666,\"#ed7953\"],[0.7777777777777778,\"#fb9f3a\"],[0.8888888888888888,\"#fdca26\"],[1.0,\"#f0f921\"]],\"sequentialminus\":[[0.0,\"#0d0887\"],[0.1111111111111111,\"#46039f\"],[0.2222222222222222,\"#7201a8\"],[0.3333333333333333,\"#9c179e\"],[0.4444444444444444,\"#bd3786\"],[0.5555555555555556,\"#d8576b\"],[0.6666666666666666,\"#ed7953\"],[0.7777777777777778,\"#fb9f3a\"],[0.8888888888888888,\"#fdca26\"],[1.0,\"#f0f921\"]],\"diverging\":[[0,\"#8e0152\"],[0.1,\"#c51b7d\"],[0.2,\"#de77ae\"],[0.3,\"#f1b6da\"],[0.4,\"#fde0ef\"],[0.5,\"#f7f7f7\"],[0.6,\"#e6f5d0\"],[0.7,\"#b8e186\"],[0.8,\"#7fbc41\"],[0.9,\"#4d9221\"],[1,\"#276419\"]]},\"xaxis\":{\"gridcolor\":\"white\",\"linecolor\":\"white\",\"ticks\":\"\",\"title\":{\"standoff\":15},\"zerolinecolor\":\"white\",\"automargin\":true,\"zerolinewidth\":2},\"yaxis\":{\"gridcolor\":\"white\",\"linecolor\":\"white\",\"ticks\":\"\",\"title\":{\"standoff\":15},\"zerolinecolor\":\"white\",\"automargin\":true,\"zerolinewidth\":2},\"scene\":{\"xaxis\":{\"backgroundcolor\":\"#E5ECF6\",\"gridcolor\":\"white\",\"linecolor\":\"white\",\"showbackground\":true,\"ticks\":\"\",\"zerolinecolor\":\"white\",\"gridwidth\":2},\"yaxis\":{\"backgroundcolor\":\"#E5ECF6\",\"gridcolor\":\"white\",\"linecolor\":\"white\",\"showbackground\":true,\"ticks\":\"\",\"zerolinecolor\":\"white\",\"gridwidth\":2},\"zaxis\":{\"backgroundcolor\":\"#E5ECF6\",\"gridcolor\":\"white\",\"linecolor\":\"white\",\"showbackground\":true,\"ticks\":\"\",\"zerolinecolor\":\"white\",\"gridwidth\":2}},\"shapedefaults\":{\"line\":{\"color\":\"#2a3f5f\"}},\"annotationdefaults\":{\"arrowcolor\":\"#2a3f5f\",\"arrowhead\":0,\"arrowwidth\":1},\"geo\":{\"bgcolor\":\"white\",\"landcolor\":\"#E5ECF6\",\"subunitcolor\":\"white\",\"showland\":true,\"showlakes\":true,\"lakecolor\":\"white\"},\"title\":{\"x\":0.05},\"mapbox\":{\"style\":\"light\"}}},\"xaxis\":{\"anchor\":\"y\",\"domain\":[0.0,1.0],\"title\":{\"text\":\"\\u041d\\u0430\\u0441\\u0435\\u043b\\u0435\\u043d\\u043d\\u044f\"}},\"yaxis\":{\"anchor\":\"x\",\"domain\":[0.0,1.0],\"title\":{\"text\":\"\\u0414\\u043e\\u0445\\u0456\\u0434 \\u043d\\u0430 \\u0434\\u0443\\u0448\\u0443 \\u043d\\u0430\\u0441\\u0435\\u043b\\u0435\\u043d\\u043d\\u044f $ \\u043d\\u0430 \\u0440\\u0456\\u043a\"}},\"legend\":{\"title\":{\"text\":\"\\u0421\\u0442\\u043e\\u043b\\u0438\\u0446\\u044f\"},\"tracegroupgap\":0},\"title\":{\"text\":\"\\u0417\\u0430\\u043b\\u0435\\u0436\\u043d\\u0456\\u0441\\u0442\\u044c \\u043d\\u0430\\u0441\\u0435\\u043b\\u0435\\u043d\\u043d\\u044f \\u043c\\u0456\\u0441\\u0442\\u0430 \\u0432\\u0456\\u0434 \\u0441\\u0435\\u0440\\u0435\\u0434\\u043d\\u044c\\u043e\\u0433\\u043e \\u0434\\u043e\\u0445\\u043e\\u0434\\u0443\"}},                        {\"responsive\": true}                    ).then(function(){\n",
       "                            \n",
       "var gd = document.getElementById('73468954-5799-4d2b-96ed-0d741544e05d');\n",
       "var x = new MutationObserver(function (mutations, observer) {{\n",
       "        var display = window.getComputedStyle(gd).display;\n",
       "        if (!display || display === 'none') {{\n",
       "            console.log([gd, 'removed!']);\n",
       "            Plotly.purge(gd);\n",
       "            observer.disconnect();\n",
       "        }}\n",
       "}});\n",
       "\n",
       "// Listen for the removal of the full notebook cells\n",
       "var notebookContainer = gd.closest('#notebook-container');\n",
       "if (notebookContainer) {{\n",
       "    x.observe(notebookContainer, {childList: true});\n",
       "}}\n",
       "\n",
       "// Listen for the clearing of the current output cell\n",
       "var outputEl = gd.closest('.output');\n",
       "if (outputEl) {{\n",
       "    x.observe(outputEl, {childList: true});\n",
       "}}\n",
       "\n",
       "                        })                };                });            </script>        </div>"
      ]
     },
     "metadata": {},
     "output_type": "display_data"
    }
   ],
   "source": [
    "#Візуалізація залежності міста від середнього доходу населення\n",
    "px.scatter(data, x = 'Населення', y = 'Дохід на душу населення $ на рік', title = 'Залежність населення міста від середнього доходу', color='Столиця')"
   ]
  },
  {
   "cell_type": "code",
   "execution_count": 22,
   "id": "91245bf3",
   "metadata": {},
   "outputs": [
    {
     "data": {
      "application/vnd.plotly.v1+json": {
       "config": {
        "plotlyServerURL": "https://plot.ly"
       },
       "data": [
        {
         "legendgroup": "Монтгомері",
         "marker": {
          "color": "rgb(0, 0, 0)"
         },
         "mode": "markers",
         "name": "Монтгомері",
         "showlegend": true,
         "type": "scatter",
         "x": [
          198218
         ],
         "xaxis": "x",
         "y": [
          160.44
         ],
         "yaxis": "y"
        },
        {
         "legendgroup": "Джуно",
         "marker": {
          "color": "rgb(40, 80, 120)"
         },
         "mode": "markers",
         "name": "Джуно",
         "showlegend": true,
         "type": "scatter",
         "x": [
          32113
         ],
         "xaxis": "x",
         "y": [
          8.43
         ],
         "yaxis": "y"
        },
        {
         "legendgroup": "Фінікс",
         "marker": {
          "color": "rgb(80, 160, 240)"
         },
         "mode": "markers",
         "name": "Фінікс",
         "showlegend": true,
         "type": "scatter",
         "x": [
          1752316
         ],
         "xaxis": "x",
         "y": [
          1338.28
         ],
         "yaxis": "y"
        },
        {
         "legendgroup": "Літл-Рок",
         "marker": {
          "color": "rgb(120, 240, 105)"
         },
         "mode": "markers",
         "name": "Літл-Рок",
         "showlegend": true,
         "type": "scatter",
         "x": [
          197312
         ],
         "xaxis": "x",
         "y": [
          303.26
         ],
         "yaxis": "y"
        },
        {
         "legendgroup": "Сакраменто",
         "marker": {
          "color": "rgb(160, 65, 225)"
         },
         "mode": "markers",
         "name": "Сакраменто",
         "showlegend": true,
         "type": "scatter",
         "x": [
          524943
         ],
         "xaxis": "x",
         "y": [
          259.27
         ],
         "yaxis": "y"
        },
        {
         "legendgroup": "Денвер",
         "marker": {
          "color": "rgb(200, 145, 90)"
         },
         "mode": "markers",
         "name": "Денвер",
         "showlegend": true,
         "type": "scatter",
         "x": [
          735538
         ],
         "xaxis": "x",
         "y": [
          401.27
         ],
         "yaxis": "y"
        },
        {
         "legendgroup": "Гартфорд",
         "marker": {
          "color": "rgb(240, 225, 210)"
         },
         "mode": "markers",
         "name": "Гартфорд",
         "showlegend": true,
         "type": "scatter",
         "x": [
          122105
         ],
         "xaxis": "x",
         "y": [
          46.25
         ],
         "yaxis": "y"
        },
        {
         "legendgroup": "Дувер",
         "marker": {
          "color": "rgb(25, 50, 75)"
         },
         "mode": "markers",
         "name": "Дувер",
         "showlegend": true,
         "type": "scatter",
         "x": [
          38142
         ],
         "xaxis": "x",
         "y": [
          60.03
         ],
         "yaxis": "y"
        },
        {
         "legendgroup": "Таллахассі",
         "marker": {
          "color": "rgb(65, 130, 195)"
         },
         "mode": "markers",
         "name": "Таллахассі",
         "showlegend": true,
         "type": "scatter",
         "x": [
          199926
         ],
         "xaxis": "x",
         "y": [
          254.52
         ],
         "yaxis": "y"
        },
        {
         "legendgroup": "Атланта",
         "marker": {
          "color": "rgb(105, 210, 60)"
         },
         "mode": "markers",
         "name": "Атланта",
         "showlegend": true,
         "type": "scatter",
         "x": [
          498715
         ],
         "xaxis": "x",
         "y": [
          347.1
         ],
         "yaxis": "y"
        },
        {
         "legendgroup": "Гонолулу",
         "marker": {
          "color": "rgb(145, 35, 180)"
         },
         "mode": "markers",
         "name": "Гонолулу",
         "showlegend": true,
         "type": "scatter",
         "x": [
          347397
         ],
         "xaxis": "x",
         "y": [
          177.22
         ],
         "yaxis": "y"
        },
        {
         "legendgroup": "Бойсе",
         "marker": {
          "color": "rgb(185, 115, 45)"
         },
         "mode": "markers",
         "name": "Бойсе",
         "showlegend": true,
         "type": "scatter",
         "x": [
          240380
         ],
         "xaxis": "x",
         "y": [
          247.05
         ],
         "yaxis": "y"
        },
        {
         "legendgroup": "Спрінгфілд",
         "marker": {
          "color": "rgb(225, 195, 165)"
         },
         "mode": "markers",
         "name": "Спрінгфілд",
         "showlegend": true,
         "type": "scatter",
         "x": [
          115715
         ],
         "xaxis": "x",
         "y": [
          160.03
         ],
         "yaxis": "y"
        },
        {
         "legendgroup": "Індіанаполіс",
         "marker": {
          "color": "rgb(10, 20, 30)"
         },
         "mode": "markers",
         "name": "Індіанаполіс",
         "showlegend": true,
         "type": "scatter",
         "x": [
          876384
         ],
         "xaxis": "x",
         "y": [
          953.18
         ],
         "yaxis": "y"
        },
        {
         "legendgroup": "Де-Мойн",
         "marker": {
          "color": "rgb(50, 100, 150)"
         },
         "mode": "markers",
         "name": "Де-Мойн",
         "showlegend": true,
         "type": "scatter",
         "x": [
          217891
         ],
         "xaxis": "x",
         "y": [
          222.36
         ],
         "yaxis": "y"
        },
        {
         "legendgroup": "Топіка",
         "marker": {
          "color": "rgb(90, 180, 15)"
         },
         "mode": "markers",
         "name": "Топіка",
         "showlegend": true,
         "type": "scatter",
         "x": [
          126587
         ],
         "xaxis": "x",
         "y": [
          159.81
         ],
         "yaxis": "y"
        },
        {
         "legendgroup": "Франкфорт",
         "marker": {
          "color": "rgb(130, 5, 135)"
         },
         "mode": "markers",
         "name": "Франкфорт",
         "showlegend": true,
         "type": "scatter",
         "x": [
          28283
         ],
         "xaxis": "x",
         "y": [
          37.31
         ],
         "yaxis": "y"
        },
        {
         "legendgroup": "Батон-Руж",
         "marker": {
          "color": "rgb(170, 85, 0)"
         },
         "mode": "markers",
         "name": "Батон-Руж",
         "showlegend": true,
         "type": "scatter",
         "x": [
          219531
         ],
         "xaxis": "x",
         "y": [
          200.91
         ],
         "yaxis": "y"
        },
        {
         "legendgroup": "Аннаполіс",
         "marker": {
          "color": "rgb(210, 165, 120)"
         },
         "mode": "markers",
         "name": "Аннаполіс",
         "showlegend": true,
         "type": "scatter",
         "x": [
          39139
         ],
         "xaxis": "x",
         "y": [
          19.12
         ],
         "yaxis": "y"
        },
        {
         "legendgroup": "Бостон",
         "marker": {
          "color": "rgb(250, 245, 240)"
         },
         "mode": "markers",
         "name": "Бостон",
         "showlegend": true,
         "type": "scatter",
         "x": [
          692600
         ],
         "xaxis": "x",
         "y": [
          89.63
         ],
         "yaxis": "y"
        },
        {
         "legendgroup": "Лансінг",
         "marker": {
          "color": "rgb(35, 70, 105)"
         },
         "mode": "markers",
         "name": "Лансінг",
         "showlegend": true,
         "type": "scatter",
         "x": [
          119128
         ],
         "xaxis": "x",
         "y": [
          95.68
         ],
         "yaxis": "y"
        },
        {
         "legendgroup": "Сент-Пол",
         "marker": {
          "color": "rgb(75, 150, 225)"
         },
         "mode": "markers",
         "name": "Сент-Пол",
         "showlegend": true,
         "type": "scatter",
         "x": [
          307695
         ],
         "xaxis": "x",
         "y": [
          145.98
         ],
         "yaxis": "y"
        },
        {
         "legendgroup": "Джексон",
         "marker": {
          "color": "rgb(115, 230, 90)"
         },
         "mode": "markers",
         "name": "Джексон",
         "showlegend": true,
         "type": "scatter",
         "x": [
          143617
         ],
         "xaxis": "x",
         "y": [
          276.69
         ],
         "yaxis": "y"
        },
        {
         "legendgroup": "Джефферсон-Сіті",
         "marker": {
          "color": "rgb(155, 55, 210)"
         },
         "mode": "markers",
         "name": "Джефферсон-Сіті",
         "showlegend": true,
         "type": "scatter",
         "x": [
          43079
         ],
         "xaxis": "x",
         "y": [
          27.28
         ],
         "yaxis": "y"
        },
        {
         "legendgroup": "Гелена",
         "marker": {
          "color": "rgb(195, 135, 75)"
         },
         "mode": "markers",
         "name": "Гелена",
         "showlegend": true,
         "type": "scatter",
         "x": [
          33188
         ],
         "xaxis": "x",
         "y": [
          16.47
         ],
         "yaxis": "y"
        },
        {
         "legendgroup": "Лінкольн",
         "marker": {
          "color": "rgb(235, 215, 195)"
         },
         "mode": "markers",
         "name": "Лінкольн",
         "showlegend": true,
         "type": "scatter",
         "x": [
          287401
         ],
         "xaxis": "x",
         "y": [
          202.74
         ],
         "yaxis": "y"
        },
        {
         "legendgroup": "Карсон-Сіті",
         "marker": {
          "color": "rgb(20, 40, 60)"
         },
         "mode": "markers",
         "name": "Карсон-Сіті",
         "showlegend": true,
         "type": "scatter",
         "x": [
          55414
         ],
         "xaxis": "x",
         "y": [
          168.68
         ],
         "yaxis": "y"
        },
        {
         "legendgroup": "Конкорд",
         "marker": {
          "color": "rgb(60, 120, 180)"
         },
         "mode": "markers",
         "name": "Конкорд",
         "showlegend": true,
         "type": "scatter",
         "x": [
          43167
         ],
         "xaxis": "x",
         "y": [
          67.53
         ],
         "yaxis": "y"
        },
        {
         "legendgroup": "Трентон",
         "marker": {
          "color": "rgb(100, 200, 45)"
         },
         "mode": "markers",
         "name": "Трентон",
         "showlegend": true,
         "type": "scatter",
         "x": [
          83974
         ],
         "xaxis": "x",
         "y": [
          21.15
         ],
         "yaxis": "y"
        },
        {
         "legendgroup": "Санта-Фе",
         "marker": {
          "color": "rgb(140, 25, 165)"
         },
         "mode": "markers",
         "name": "Санта-Фе",
         "showlegend": true,
         "type": "scatter",
         "x": [
          87521
         ],
         "xaxis": "x",
         "y": [
          37.97
         ],
         "yaxis": "y"
        },
        {
         "legendgroup": "Албані",
         "marker": {
          "color": "rgb(180, 105, 30)"
         },
         "mode": "markers",
         "name": "Албані",
         "showlegend": true,
         "type": "scatter",
         "x": [
          97856
         ],
         "xaxis": "x",
         "y": [
          21.86
         ],
         "yaxis": "y"
        },
        {
         "legendgroup": "Ролі",
         "marker": {
          "color": "rgb(220, 185, 150)"
         },
         "mode": "markers",
         "name": "Ролі",
         "showlegend": true,
         "type": "scatter",
         "x": [
          474069
         ],
         "xaxis": "x",
         "y": [
          359.38
         ],
         "yaxis": "y"
        },
        {
         "legendgroup": "Бісмарк",
         "marker": {
          "color": "rgb(5, 10, 15)"
         },
         "mode": "markers",
         "name": "Бісмарк",
         "showlegend": true,
         "type": "scatter",
         "x": [
          73112
         ],
         "xaxis": "x",
         "y": [
          31.22
         ],
         "yaxis": "y"
        },
        {
         "legendgroup": "Колумбус",
         "marker": {
          "color": "rgb(45, 90, 135)"
         },
         "mode": "markers",
         "name": "Колумбус",
         "showlegend": true,
         "type": "scatter",
         "x": [
          898553
         ],
         "xaxis": "x",
         "y": [
          576.95
         ],
         "yaxis": "y"
        },
        {
         "legendgroup": "Оклахома-Сіті",
         "marker": {
          "color": "rgb(85, 170, 0)"
         },
         "mode": "markers",
         "name": "Оклахома-Сіті",
         "showlegend": true,
         "type": "scatter",
         "x": [
          655057
         ],
         "xaxis": "x",
         "y": [
          1571.18
         ],
         "yaxis": "y"
        },
        {
         "legendgroup": "Сейлем",
         "marker": {
          "color": "rgb(125, 250, 120)"
         },
         "mode": "markers",
         "name": "Сейлем",
         "showlegend": true,
         "type": "scatter",
         "x": [
          174365
         ],
         "xaxis": "x",
         "y": [
          126.05
         ],
         "yaxis": "y"
        },
        {
         "legendgroup": "Гаррісбург",
         "marker": {
          "color": "rgb(165, 75, 240)"
         },
         "mode": "markers",
         "name": "Гаррісбург",
         "showlegend": true,
         "type": "scatter",
         "x": [
          49229
         ],
         "xaxis": "x",
         "y": [
          21.76
         ],
         "yaxis": "y"
        },
        {
         "legendgroup": "Провіденс",
         "marker": {
          "color": "rgb(205, 155, 105)"
         },
         "mode": "markers",
         "name": "Провіденс",
         "showlegend": true,
         "type": "scatter",
         "x": [
          179335
         ],
         "xaxis": "x",
         "y": [
          53.13
         ],
         "yaxis": "y"
        },
        {
         "legendgroup": "Колумбія",
         "marker": {
          "color": "rgb(245, 235, 225)"
         },
         "mode": "markers",
         "name": "Колумбія",
         "showlegend": true,
         "type": "scatter",
         "x": [
          133273
         ],
         "xaxis": "x",
         "y": [
          133.13
         ],
         "yaxis": "y"
        },
        {
         "legendgroup": "П'єр",
         "marker": {
          "color": "rgb(30, 60, 90)"
         },
         "mode": "markers",
         "name": "П'єр",
         "showlegend": true,
         "type": "scatter",
         "x": [
          14177
         ],
         "xaxis": "x",
         "y": [
          17.07
         ],
         "yaxis": "y"
        },
        {
         "legendgroup": "Нешвілл",
         "marker": {
          "color": "rgb(70, 140, 210)"
         },
         "mode": "markers",
         "name": "Нешвілл",
         "showlegend": true,
         "type": "scatter",
         "x": [
          694144
         ],
         "xaxis": "x",
         "y": [
          1362.19
         ],
         "yaxis": "y"
        },
        {
         "legendgroup": "Остін",
         "marker": {
          "color": "rgb(110, 220, 75)"
         },
         "mode": "markers",
         "name": "Остін",
         "showlegend": true,
         "type": "scatter",
         "x": [
          1012695
         ],
         "xaxis": "x",
         "y": [
          332.21
         ],
         "yaxis": "y"
        },
        {
         "legendgroup": "Солт-Лейк-Сіті",
         "marker": {
          "color": "rgb(150, 45, 195)"
         },
         "mode": "markers",
         "name": "Солт-Лейк-Сіті",
         "showlegend": true,
         "type": "scatter",
         "x": [
          200567
         ],
         "xaxis": "x",
         "y": [
          285.91
         ],
         "yaxis": "y"
        },
        {
         "legendgroup": "Монтпельєр",
         "marker": {
          "color": "rgb(190, 125, 60)"
         },
         "mode": "markers",
         "name": "Монтпельєр",
         "showlegend": true,
         "type": "scatter",
         "x": [
          7436
         ],
         "xaxis": "x",
         "y": [
          10.33
         ],
         "yaxis": "y"
        },
        {
         "legendgroup": "Річмонд",
         "marker": {
          "color": "rgb(230, 205, 180)"
         },
         "mode": "markers",
         "name": "Річмонд",
         "showlegend": true,
         "type": "scatter",
         "x": [
          233170
         ],
         "xaxis": "x",
         "y": [
          162.08
         ],
         "yaxis": "y"
        },
        {
         "legendgroup": "Олімпія",
         "marker": {
          "color": "rgb(15, 30, 45)"
         },
         "mode": "markers",
         "name": "Олімпія",
         "showlegend": true,
         "type": "scatter",
         "x": [
          54905
         ],
         "xaxis": "x",
         "y": [
          50.67
         ],
         "yaxis": "y"
        },
        {
         "legendgroup": "Чарлстон",
         "marker": {
          "color": "rgb(55, 110, 165)"
         },
         "mode": "markers",
         "name": "Чарлстон",
         "showlegend": true,
         "type": "scatter",
         "x": [
          45879
         ],
         "xaxis": "x",
         "y": [
          33.87
         ],
         "yaxis": "y"
        },
        {
         "legendgroup": "Медісон",
         "marker": {
          "color": "rgb(95, 190, 30)"
         },
         "mode": "markers",
         "name": "Медісон",
         "showlegend": true,
         "type": "scatter",
         "x": [
          259680
         ],
         "xaxis": "x",
         "y": [
          148.63
         ],
         "yaxis": "y"
        },
        {
         "legendgroup": "Шайєнн",
         "marker": {
          "color": "rgb(135, 15, 150)"
         },
         "mode": "markers",
         "name": "Шайєнн",
         "showlegend": true,
         "type": "scatter",
         "x": [
          64019
         ],
         "xaxis": "x",
         "y": [
          61.56
         ],
         "yaxis": "y"
        },
        {
         "legendgroup": "Монтгомері",
         "marker": {
          "color": "rgb(0, 0, 0)"
         },
         "mode": "markers",
         "name": "Монтгомері",
         "showlegend": false,
         "type": "scatter",
         "x": [
          198218
         ],
         "xaxis": "x2",
         "y": [
          51113
         ],
         "yaxis": "y2"
        },
        {
         "legendgroup": "Джуно",
         "marker": {
          "color": "rgb(40, 80, 120)"
         },
         "mode": "markers",
         "name": "Джуно",
         "showlegend": false,
         "type": "scatter",
         "x": [
          32113
         ],
         "xaxis": "x2",
         "y": [
          85296
         ],
         "yaxis": "y2"
        },
        {
         "legendgroup": "Фінікс",
         "marker": {
          "color": "rgb(80, 160, 240)"
         },
         "mode": "markers",
         "name": "Фінікс",
         "showlegend": false,
         "type": "scatter",
         "x": [
          1752316
         ],
         "xaxis": "x2",
         "y": [
          65057
         ],
         "yaxis": "y2"
        },
        {
         "legendgroup": "Літл-Рок",
         "marker": {
          "color": "rgb(120, 240, 105)"
         },
         "mode": "markers",
         "name": "Літл-Рок",
         "showlegend": false,
         "type": "scatter",
         "x": [
          197312
         ],
         "xaxis": "x2",
         "y": [
          48892
         ],
         "yaxis": "y2"
        },
        {
         "legendgroup": "Сакраменто",
         "marker": {
          "color": "rgb(160, 65, 225)"
         },
         "mode": "markers",
         "name": "Сакраменто",
         "showlegend": false,
         "type": "scatter",
         "x": [
          524943
         ],
         "xaxis": "x2",
         "y": [
          76662
         ],
         "yaxis": "y2"
        },
        {
         "legendgroup": "Денвер",
         "marker": {
          "color": "rgb(200, 145, 90)"
         },
         "mode": "markers",
         "name": "Денвер",
         "showlegend": false,
         "type": "scatter",
         "x": [
          735538
         ],
         "xaxis": "x2",
         "y": [
          77398
         ],
         "yaxis": "y2"
        },
        {
         "legendgroup": "Гартфорд",
         "marker": {
          "color": "rgb(240, 225, 210)"
         },
         "mode": "markers",
         "name": "Гартфорд",
         "showlegend": false,
         "type": "scatter",
         "x": [
          122105
         ],
         "xaxis": "x2",
         "y": [
          44162
         ],
         "yaxis": "y2"
        },
        {
         "legendgroup": "Дувер",
         "marker": {
          "color": "rgb(25, 50, 75)"
         },
         "mode": "markers",
         "name": "Дувер",
         "showlegend": false,
         "type": "scatter",
         "x": [
          38142
         ],
         "xaxis": "x2",
         "y": [
          63273
         ],
         "yaxis": "y2"
        },
        {
         "legendgroup": "Таллахассі",
         "marker": {
          "color": "rgb(65, 130, 195)"
         },
         "mode": "markers",
         "name": "Таллахассі",
         "showlegend": false,
         "type": "scatter",
         "x": [
          199926
         ],
         "xaxis": "x2",
         "y": [
          46411
         ],
         "yaxis": "y2"
        },
        {
         "legendgroup": "Атланта",
         "marker": {
          "color": "rgb(105, 210, 60)"
         },
         "mode": "markers",
         "name": "Атланта",
         "showlegend": false,
         "type": "scatter",
         "x": [
          498715
         ],
         "xaxis": "x2",
         "y": [
          65345
         ],
         "yaxis": "y2"
        },
        {
         "legendgroup": "Гонолулу",
         "marker": {
          "color": "rgb(145, 35, 180)"
         },
         "mode": "markers",
         "name": "Гонолулу",
         "showlegend": false,
         "type": "scatter",
         "x": [
          347397
         ],
         "xaxis": "x2",
         "y": [
          80513
         ],
         "yaxis": "y2"
        },
        {
         "legendgroup": "Бойсе",
         "marker": {
          "color": "rgb(185, 115, 45)"
         },
         "mode": "markers",
         "name": "Бойсе",
         "showlegend": false,
         "type": "scatter",
         "x": [
          240380
         ],
         "xaxis": "x2",
         "y": [
          63918
         ],
         "yaxis": "y2"
        },
        {
         "legendgroup": "Спрінгфілд",
         "marker": {
          "color": "rgb(225, 195, 165)"
         },
         "mode": "markers",
         "name": "Спрінгфілд",
         "showlegend": false,
         "type": "scatter",
         "x": [
          115715
         ],
         "xaxis": "x2",
         "y": [
          59285
         ],
         "yaxis": "y2"
        },
        {
         "legendgroup": "Індіанаполіс",
         "marker": {
          "color": "rgb(10, 20, 30)"
         },
         "mode": "markers",
         "name": "Індіанаполіс",
         "showlegend": false,
         "type": "scatter",
         "x": [
          876384
         ],
         "xaxis": "x2",
         "y": [
          55752
         ],
         "yaxis": "y2"
        },
        {
         "legendgroup": "Де-Мойн",
         "marker": {
          "color": "rgb(50, 100, 150)"
         },
         "mode": "markers",
         "name": "Де-Мойн",
         "showlegend": false,
         "type": "scatter",
         "x": [
          217891
         ],
         "xaxis": "x2",
         "y": [
          65579
         ],
         "yaxis": "y2"
        },
        {
         "legendgroup": "Топіка",
         "marker": {
          "color": "rgb(90, 180, 15)"
         },
         "mode": "markers",
         "name": "Топіка",
         "showlegend": false,
         "type": "scatter",
         "x": [
          126587
         ],
         "xaxis": "x2",
         "y": [
          58197
         ],
         "yaxis": "y2"
        },
        {
         "legendgroup": "Франкфорт",
         "marker": {
          "color": "rgb(130, 5, 135)"
         },
         "mode": "markers",
         "name": "Франкфорт",
         "showlegend": false,
         "type": "scatter",
         "x": [
          28283
         ],
         "xaxis": "x2",
         "y": [
          46237
         ],
         "yaxis": "y2"
        },
        {
         "legendgroup": "Батон-Руж",
         "marker": {
          "color": "rgb(170, 85, 0)"
         },
         "mode": "markers",
         "name": "Батон-Руж",
         "showlegend": false,
         "type": "scatter",
         "x": [
          219531
         ],
         "xaxis": "x2",
         "y": [
          45426
         ],
         "yaxis": "y2"
        },
        {
         "legendgroup": "Аннаполіс",
         "marker": {
          "color": "rgb(210, 165, 120)"
         },
         "mode": "markers",
         "name": "Аннаполіс",
         "showlegend": false,
         "type": "scatter",
         "x": [
          39139
         ],
         "xaxis": "x2",
         "y": [
          102199
         ],
         "yaxis": "y2"
        },
        {
         "legendgroup": "Бостон",
         "marker": {
          "color": "rgb(250, 245, 240)"
         },
         "mode": "markers",
         "name": "Бостон",
         "showlegend": false,
         "type": "scatter",
         "x": [
          692600
         ],
         "xaxis": "x2",
         "y": [
          81827
         ],
         "yaxis": "y2"
        },
        {
         "legendgroup": "Лансінг",
         "marker": {
          "color": "rgb(35, 70, 105)"
         },
         "mode": "markers",
         "name": "Лансінг",
         "showlegend": false,
         "type": "scatter",
         "x": [
          119128
         ],
         "xaxis": "x2",
         "y": [
          53579
         ],
         "yaxis": "y2"
        },
        {
         "legendgroup": "Сент-Пол",
         "marker": {
          "color": "rgb(75, 150, 225)"
         },
         "mode": "markers",
         "name": "Сент-Пол",
         "showlegend": false,
         "type": "scatter",
         "x": [
          307695
         ],
         "xaxis": "x2",
         "y": [
          72629
         ],
         "yaxis": "y2"
        },
        {
         "legendgroup": "Джексон",
         "marker": {
          "color": "rgb(115, 230, 90)"
         },
         "mode": "markers",
         "name": "Джексон",
         "showlegend": false,
         "type": "scatter",
         "x": [
          143617
         ],
         "xaxis": "x2",
         "y": [
          38057
         ],
         "yaxis": "y2"
        },
        {
         "legendgroup": "Джефферсон-Сіті",
         "marker": {
          "color": "rgb(155, 55, 210)"
         },
         "mode": "markers",
         "name": "Джефферсон-Сіті",
         "showlegend": false,
         "type": "scatter",
         "x": [
          43079
         ],
         "xaxis": "x2",
         "y": [
          57348
         ],
         "yaxis": "y2"
        },
        {
         "legendgroup": "Гелена",
         "marker": {
          "color": "rgb(195, 135, 75)"
         },
         "mode": "markers",
         "name": "Гелена",
         "showlegend": false,
         "type": "scatter",
         "x": [
          33188
         ],
         "xaxis": "x2",
         "y": [
          57134
         ],
         "yaxis": "y2"
        },
        {
         "legendgroup": "Лінкольн",
         "marker": {
          "color": "rgb(235, 215, 195)"
         },
         "mode": "markers",
         "name": "Лінкольн",
         "showlegend": false,
         "type": "scatter",
         "x": [
          287401
         ],
         "xaxis": "x2",
         "y": [
          60753
         ],
         "yaxis": "y2"
        },
        {
         "legendgroup": "Карсон-Сіті",
         "marker": {
          "color": "rgb(20, 40, 60)"
         },
         "mode": "markers",
         "name": "Карсон-Сіті",
         "showlegend": false,
         "type": "scatter",
         "x": [
          55414
         ],
         "xaxis": "x2",
         "y": [
          58507
         ],
         "yaxis": "y2"
        },
        {
         "legendgroup": "Конкорд",
         "marker": {
          "color": "rgb(60, 120, 180)"
         },
         "mode": "markers",
         "name": "Конкорд",
         "showlegend": false,
         "type": "scatter",
         "x": [
          43167
         ],
         "xaxis": "x2",
         "y": [
          66825
         ],
         "yaxis": "y2"
        },
        {
         "legendgroup": "Трентон",
         "marker": {
          "color": "rgb(100, 200, 45)"
         },
         "mode": "markers",
         "name": "Трентон",
         "showlegend": false,
         "type": "scatter",
         "x": [
          83974
         ],
         "xaxis": "x2",
         "y": [
          37022
         ],
         "yaxis": "y2"
        },
        {
         "legendgroup": "Санта-Фе",
         "marker": {
          "color": "rgb(140, 25, 165)"
         },
         "mode": "markers",
         "name": "Санта-Фе",
         "showlegend": false,
         "type": "scatter",
         "x": [
          87521
         ],
         "xaxis": "x2",
         "y": [
          58618
         ],
         "yaxis": "y2"
        },
        {
         "legendgroup": "Албані",
         "marker": {
          "color": "rgb(180, 105, 30)"
         },
         "mode": "markers",
         "name": "Албані",
         "showlegend": false,
         "type": "scatter",
         "x": [
          97856
         ],
         "xaxis": "x2",
         "y": [
          50405
         ],
         "yaxis": "y2"
        },
        {
         "legendgroup": "Ролі",
         "marker": {
          "color": "rgb(220, 185, 150)"
         },
         "mode": "markers",
         "name": "Ролі",
         "showlegend": false,
         "type": "scatter",
         "x": [
          474069
         ],
         "xaxis": "x2",
         "y": [
          67146
         ],
         "yaxis": "y2"
        },
        {
         "legendgroup": "Бісмарк",
         "marker": {
          "color": "rgb(5, 10, 15)"
         },
         "mode": "markers",
         "name": "Бісмарк",
         "showlegend": false,
         "type": "scatter",
         "x": [
          73112
         ],
         "xaxis": "x2",
         "y": [
          66714
         ],
         "yaxis": "y2"
        },
        {
         "legendgroup": "Колумбус",
         "marker": {
          "color": "rgb(45, 90, 135)"
         },
         "mode": "markers",
         "name": "Колумбус",
         "showlegend": false,
         "type": "scatter",
         "x": [
          898553
         ],
         "xaxis": "x2",
         "y": [
          56273
         ],
         "yaxis": "y2"
        },
        {
         "legendgroup": "Оклахома-Сіті",
         "marker": {
          "color": "rgb(85, 170, 0)"
         },
         "mode": "markers",
         "name": "Оклахома-Сіті",
         "showlegend": false,
         "type": "scatter",
         "x": [
          655057
         ],
         "xaxis": "x2",
         "y": [
          56132
         ],
         "yaxis": "y2"
        },
        {
         "legendgroup": "Сейлем",
         "marker": {
          "color": "rgb(125, 250, 120)"
         },
         "mode": "markers",
         "name": "Сейлем",
         "showlegend": false,
         "type": "scatter",
         "x": [
          174365
         ],
         "xaxis": "x2",
         "y": [
          56137
         ],
         "yaxis": "y2"
        },
        {
         "legendgroup": "Гаррісбург",
         "marker": {
          "color": "rgb(165, 75, 240)"
         },
         "mode": "markers",
         "name": "Гаррісбург",
         "showlegend": false,
         "type": "scatter",
         "x": [
          49229
         ],
         "xaxis": "x2",
         "y": [
          37923
         ],
         "yaxis": "y2"
        },
        {
         "legendgroup": "Провіденс",
         "marker": {
          "color": "rgb(205, 155, 105)"
         },
         "mode": "markers",
         "name": "Провіденс",
         "showlegend": false,
         "type": "scatter",
         "x": [
          179335
         ],
         "xaxis": "x2",
         "y": [
          47825
         ],
         "yaxis": "y2"
        },
        {
         "legendgroup": "Колумбія",
         "marker": {
          "color": "rgb(245, 235, 225)"
         },
         "mode": "markers",
         "name": "Колумбія",
         "showlegend": false,
         "type": "scatter",
         "x": [
          133273
         ],
         "xaxis": "x2",
         "y": [
          53246
         ],
         "yaxis": "y2"
        },
        {
         "legendgroup": "П'єр",
         "marker": {
          "color": "rgb(30, 60, 90)"
         },
         "mode": "markers",
         "name": "П'єр",
         "showlegend": false,
         "type": "scatter",
         "x": [
          14177
         ],
         "xaxis": "x2",
         "y": [
          60615
         ],
         "yaxis": "y2"
        },
        {
         "legendgroup": "Нешвілл",
         "marker": {
          "color": "rgb(70, 140, 210)"
         },
         "mode": "markers",
         "name": "Нешвілл",
         "showlegend": false,
         "type": "scatter",
         "x": [
          694144
         ],
         "xaxis": "x2",
         "y": [
          65776
         ],
         "yaxis": "y2"
        },
        {
         "legendgroup": "Остін",
         "marker": {
          "color": "rgb(110, 220, 75)"
         },
         "mode": "markers",
         "name": "Остін",
         "showlegend": false,
         "type": "scatter",
         "x": [
          1012695
         ],
         "xaxis": "x2",
         "y": [
          65579
         ],
         "yaxis": "y2"
        },
        {
         "legendgroup": "Солт-Лейк-Сіті",
         "marker": {
          "color": "rgb(150, 45, 195)"
         },
         "mode": "markers",
         "name": "Солт-Лейк-Сіті",
         "showlegend": false,
         "type": "scatter",
         "x": [
          200567
         ],
         "xaxis": "x2",
         "y": [
          68743
         ],
         "yaxis": "y2"
        },
        {
         "legendgroup": "Монтпельєр",
         "marker": {
          "color": "rgb(190, 125, 60)"
         },
         "mode": "markers",
         "name": "Монтпельєр",
         "showlegend": false,
         "type": "scatter",
         "x": [
          7436
         ],
         "xaxis": "x2",
         "y": [
          57065
         ],
         "yaxis": "y2"
        },
        {
         "legendgroup": "Річмонд",
         "marker": {
          "color": "rgb(230, 205, 180)"
         },
         "mode": "markers",
         "name": "Річмонд",
         "showlegend": false,
         "type": "scatter",
         "x": [
          233170
         ],
         "xaxis": "x2",
         "y": [
          77378
         ],
         "yaxis": "y2"
        },
        {
         "legendgroup": "Олімпія",
         "marker": {
          "color": "rgb(15, 30, 45)"
         },
         "mode": "markers",
         "name": "Олімпія",
         "showlegend": false,
         "type": "scatter",
         "x": [
          54905
         ],
         "xaxis": "x2",
         "y": [
          62577
         ],
         "yaxis": "y2"
        },
        {
         "legendgroup": "Чарлстон",
         "marker": {
          "color": "rgb(55, 110, 165)"
         },
         "mode": "markers",
         "name": "Чарлстон",
         "showlegend": false,
         "type": "scatter",
         "x": [
          45879
         ],
         "xaxis": "x2",
         "y": [
          51809
         ],
         "yaxis": "y2"
        },
        {
         "legendgroup": "Медісон",
         "marker": {
          "color": "rgb(95, 190, 30)"
         },
         "mode": "markers",
         "name": "Медісон",
         "showlegend": false,
         "type": "scatter",
         "x": [
          259680
         ],
         "xaxis": "x2",
         "y": [
          68947
         ],
         "yaxis": "y2"
        },
        {
         "legendgroup": "Шайєнн",
         "marker": {
          "color": "rgb(135, 15, 150)"
         },
         "mode": "markers",
         "name": "Шайєнн",
         "showlegend": false,
         "type": "scatter",
         "x": [
          64019
         ],
         "xaxis": "x2",
         "y": [
          63094
         ],
         "yaxis": "y2"
        }
       ],
       "layout": {
        "annotations": [
         {
          "font": {
           "size": 16
          },
          "showarrow": false,
          "text": "Залежність населення від площі міста",
          "x": 0.225,
          "xanchor": "center",
          "xref": "paper",
          "y": 1,
          "yanchor": "bottom",
          "yref": "paper"
         },
         {
          "font": {
           "size": 16
          },
          "showarrow": false,
          "text": "Залежність населення від середнього доходу",
          "x": 0.775,
          "xanchor": "center",
          "xref": "paper",
          "y": 1,
          "yanchor": "bottom",
          "yref": "paper"
         }
        ],
        "template": {
         "data": {
          "bar": [
           {
            "error_x": {
             "color": "#2a3f5f"
            },
            "error_y": {
             "color": "#2a3f5f"
            },
            "marker": {
             "line": {
              "color": "#E5ECF6",
              "width": 0.5
             },
             "pattern": {
              "fillmode": "overlay",
              "size": 10,
              "solidity": 0.2
             }
            },
            "type": "bar"
           }
          ],
          "barpolar": [
           {
            "marker": {
             "line": {
              "color": "#E5ECF6",
              "width": 0.5
             },
             "pattern": {
              "fillmode": "overlay",
              "size": 10,
              "solidity": 0.2
             }
            },
            "type": "barpolar"
           }
          ],
          "carpet": [
           {
            "aaxis": {
             "endlinecolor": "#2a3f5f",
             "gridcolor": "white",
             "linecolor": "white",
             "minorgridcolor": "white",
             "startlinecolor": "#2a3f5f"
            },
            "baxis": {
             "endlinecolor": "#2a3f5f",
             "gridcolor": "white",
             "linecolor": "white",
             "minorgridcolor": "white",
             "startlinecolor": "#2a3f5f"
            },
            "type": "carpet"
           }
          ],
          "choropleth": [
           {
            "colorbar": {
             "outlinewidth": 0,
             "ticks": ""
            },
            "type": "choropleth"
           }
          ],
          "contour": [
           {
            "colorbar": {
             "outlinewidth": 0,
             "ticks": ""
            },
            "colorscale": [
             [
              0,
              "#0d0887"
             ],
             [
              0.1111111111111111,
              "#46039f"
             ],
             [
              0.2222222222222222,
              "#7201a8"
             ],
             [
              0.3333333333333333,
              "#9c179e"
             ],
             [
              0.4444444444444444,
              "#bd3786"
             ],
             [
              0.5555555555555556,
              "#d8576b"
             ],
             [
              0.6666666666666666,
              "#ed7953"
             ],
             [
              0.7777777777777778,
              "#fb9f3a"
             ],
             [
              0.8888888888888888,
              "#fdca26"
             ],
             [
              1,
              "#f0f921"
             ]
            ],
            "type": "contour"
           }
          ],
          "contourcarpet": [
           {
            "colorbar": {
             "outlinewidth": 0,
             "ticks": ""
            },
            "type": "contourcarpet"
           }
          ],
          "heatmap": [
           {
            "colorbar": {
             "outlinewidth": 0,
             "ticks": ""
            },
            "colorscale": [
             [
              0,
              "#0d0887"
             ],
             [
              0.1111111111111111,
              "#46039f"
             ],
             [
              0.2222222222222222,
              "#7201a8"
             ],
             [
              0.3333333333333333,
              "#9c179e"
             ],
             [
              0.4444444444444444,
              "#bd3786"
             ],
             [
              0.5555555555555556,
              "#d8576b"
             ],
             [
              0.6666666666666666,
              "#ed7953"
             ],
             [
              0.7777777777777778,
              "#fb9f3a"
             ],
             [
              0.8888888888888888,
              "#fdca26"
             ],
             [
              1,
              "#f0f921"
             ]
            ],
            "type": "heatmap"
           }
          ],
          "heatmapgl": [
           {
            "colorbar": {
             "outlinewidth": 0,
             "ticks": ""
            },
            "colorscale": [
             [
              0,
              "#0d0887"
             ],
             [
              0.1111111111111111,
              "#46039f"
             ],
             [
              0.2222222222222222,
              "#7201a8"
             ],
             [
              0.3333333333333333,
              "#9c179e"
             ],
             [
              0.4444444444444444,
              "#bd3786"
             ],
             [
              0.5555555555555556,
              "#d8576b"
             ],
             [
              0.6666666666666666,
              "#ed7953"
             ],
             [
              0.7777777777777778,
              "#fb9f3a"
             ],
             [
              0.8888888888888888,
              "#fdca26"
             ],
             [
              1,
              "#f0f921"
             ]
            ],
            "type": "heatmapgl"
           }
          ],
          "histogram": [
           {
            "marker": {
             "pattern": {
              "fillmode": "overlay",
              "size": 10,
              "solidity": 0.2
             }
            },
            "type": "histogram"
           }
          ],
          "histogram2d": [
           {
            "colorbar": {
             "outlinewidth": 0,
             "ticks": ""
            },
            "colorscale": [
             [
              0,
              "#0d0887"
             ],
             [
              0.1111111111111111,
              "#46039f"
             ],
             [
              0.2222222222222222,
              "#7201a8"
             ],
             [
              0.3333333333333333,
              "#9c179e"
             ],
             [
              0.4444444444444444,
              "#bd3786"
             ],
             [
              0.5555555555555556,
              "#d8576b"
             ],
             [
              0.6666666666666666,
              "#ed7953"
             ],
             [
              0.7777777777777778,
              "#fb9f3a"
             ],
             [
              0.8888888888888888,
              "#fdca26"
             ],
             [
              1,
              "#f0f921"
             ]
            ],
            "type": "histogram2d"
           }
          ],
          "histogram2dcontour": [
           {
            "colorbar": {
             "outlinewidth": 0,
             "ticks": ""
            },
            "colorscale": [
             [
              0,
              "#0d0887"
             ],
             [
              0.1111111111111111,
              "#46039f"
             ],
             [
              0.2222222222222222,
              "#7201a8"
             ],
             [
              0.3333333333333333,
              "#9c179e"
             ],
             [
              0.4444444444444444,
              "#bd3786"
             ],
             [
              0.5555555555555556,
              "#d8576b"
             ],
             [
              0.6666666666666666,
              "#ed7953"
             ],
             [
              0.7777777777777778,
              "#fb9f3a"
             ],
             [
              0.8888888888888888,
              "#fdca26"
             ],
             [
              1,
              "#f0f921"
             ]
            ],
            "type": "histogram2dcontour"
           }
          ],
          "mesh3d": [
           {
            "colorbar": {
             "outlinewidth": 0,
             "ticks": ""
            },
            "type": "mesh3d"
           }
          ],
          "parcoords": [
           {
            "line": {
             "colorbar": {
              "outlinewidth": 0,
              "ticks": ""
             }
            },
            "type": "parcoords"
           }
          ],
          "pie": [
           {
            "automargin": true,
            "type": "pie"
           }
          ],
          "scatter": [
           {
            "fillpattern": {
             "fillmode": "overlay",
             "size": 10,
             "solidity": 0.2
            },
            "type": "scatter"
           }
          ],
          "scatter3d": [
           {
            "line": {
             "colorbar": {
              "outlinewidth": 0,
              "ticks": ""
             }
            },
            "marker": {
             "colorbar": {
              "outlinewidth": 0,
              "ticks": ""
             }
            },
            "type": "scatter3d"
           }
          ],
          "scattercarpet": [
           {
            "marker": {
             "colorbar": {
              "outlinewidth": 0,
              "ticks": ""
             }
            },
            "type": "scattercarpet"
           }
          ],
          "scattergeo": [
           {
            "marker": {
             "colorbar": {
              "outlinewidth": 0,
              "ticks": ""
             }
            },
            "type": "scattergeo"
           }
          ],
          "scattergl": [
           {
            "marker": {
             "colorbar": {
              "outlinewidth": 0,
              "ticks": ""
             }
            },
            "type": "scattergl"
           }
          ],
          "scattermapbox": [
           {
            "marker": {
             "colorbar": {
              "outlinewidth": 0,
              "ticks": ""
             }
            },
            "type": "scattermapbox"
           }
          ],
          "scatterpolar": [
           {
            "marker": {
             "colorbar": {
              "outlinewidth": 0,
              "ticks": ""
             }
            },
            "type": "scatterpolar"
           }
          ],
          "scatterpolargl": [
           {
            "marker": {
             "colorbar": {
              "outlinewidth": 0,
              "ticks": ""
             }
            },
            "type": "scatterpolargl"
           }
          ],
          "scatterternary": [
           {
            "marker": {
             "colorbar": {
              "outlinewidth": 0,
              "ticks": ""
             }
            },
            "type": "scatterternary"
           }
          ],
          "surface": [
           {
            "colorbar": {
             "outlinewidth": 0,
             "ticks": ""
            },
            "colorscale": [
             [
              0,
              "#0d0887"
             ],
             [
              0.1111111111111111,
              "#46039f"
             ],
             [
              0.2222222222222222,
              "#7201a8"
             ],
             [
              0.3333333333333333,
              "#9c179e"
             ],
             [
              0.4444444444444444,
              "#bd3786"
             ],
             [
              0.5555555555555556,
              "#d8576b"
             ],
             [
              0.6666666666666666,
              "#ed7953"
             ],
             [
              0.7777777777777778,
              "#fb9f3a"
             ],
             [
              0.8888888888888888,
              "#fdca26"
             ],
             [
              1,
              "#f0f921"
             ]
            ],
            "type": "surface"
           }
          ],
          "table": [
           {
            "cells": {
             "fill": {
              "color": "#EBF0F8"
             },
             "line": {
              "color": "white"
             }
            },
            "header": {
             "fill": {
              "color": "#C8D4E3"
             },
             "line": {
              "color": "white"
             }
            },
            "type": "table"
           }
          ]
         },
         "layout": {
          "annotationdefaults": {
           "arrowcolor": "#2a3f5f",
           "arrowhead": 0,
           "arrowwidth": 1
          },
          "autotypenumbers": "strict",
          "coloraxis": {
           "colorbar": {
            "outlinewidth": 0,
            "ticks": ""
           }
          },
          "colorscale": {
           "diverging": [
            [
             0,
             "#8e0152"
            ],
            [
             0.1,
             "#c51b7d"
            ],
            [
             0.2,
             "#de77ae"
            ],
            [
             0.3,
             "#f1b6da"
            ],
            [
             0.4,
             "#fde0ef"
            ],
            [
             0.5,
             "#f7f7f7"
            ],
            [
             0.6,
             "#e6f5d0"
            ],
            [
             0.7,
             "#b8e186"
            ],
            [
             0.8,
             "#7fbc41"
            ],
            [
             0.9,
             "#4d9221"
            ],
            [
             1,
             "#276419"
            ]
           ],
           "sequential": [
            [
             0,
             "#0d0887"
            ],
            [
             0.1111111111111111,
             "#46039f"
            ],
            [
             0.2222222222222222,
             "#7201a8"
            ],
            [
             0.3333333333333333,
             "#9c179e"
            ],
            [
             0.4444444444444444,
             "#bd3786"
            ],
            [
             0.5555555555555556,
             "#d8576b"
            ],
            [
             0.6666666666666666,
             "#ed7953"
            ],
            [
             0.7777777777777778,
             "#fb9f3a"
            ],
            [
             0.8888888888888888,
             "#fdca26"
            ],
            [
             1,
             "#f0f921"
            ]
           ],
           "sequentialminus": [
            [
             0,
             "#0d0887"
            ],
            [
             0.1111111111111111,
             "#46039f"
            ],
            [
             0.2222222222222222,
             "#7201a8"
            ],
            [
             0.3333333333333333,
             "#9c179e"
            ],
            [
             0.4444444444444444,
             "#bd3786"
            ],
            [
             0.5555555555555556,
             "#d8576b"
            ],
            [
             0.6666666666666666,
             "#ed7953"
            ],
            [
             0.7777777777777778,
             "#fb9f3a"
            ],
            [
             0.8888888888888888,
             "#fdca26"
            ],
            [
             1,
             "#f0f921"
            ]
           ]
          },
          "colorway": [
           "#636efa",
           "#EF553B",
           "#00cc96",
           "#ab63fa",
           "#FFA15A",
           "#19d3f3",
           "#FF6692",
           "#B6E880",
           "#FF97FF",
           "#FECB52"
          ],
          "font": {
           "color": "#2a3f5f"
          },
          "geo": {
           "bgcolor": "white",
           "lakecolor": "white",
           "landcolor": "#E5ECF6",
           "showlakes": true,
           "showland": true,
           "subunitcolor": "white"
          },
          "hoverlabel": {
           "align": "left"
          },
          "hovermode": "closest",
          "mapbox": {
           "style": "light"
          },
          "paper_bgcolor": "white",
          "plot_bgcolor": "#E5ECF6",
          "polar": {
           "angularaxis": {
            "gridcolor": "white",
            "linecolor": "white",
            "ticks": ""
           },
           "bgcolor": "#E5ECF6",
           "radialaxis": {
            "gridcolor": "white",
            "linecolor": "white",
            "ticks": ""
           }
          },
          "scene": {
           "xaxis": {
            "backgroundcolor": "#E5ECF6",
            "gridcolor": "white",
            "gridwidth": 2,
            "linecolor": "white",
            "showbackground": true,
            "ticks": "",
            "zerolinecolor": "white"
           },
           "yaxis": {
            "backgroundcolor": "#E5ECF6",
            "gridcolor": "white",
            "gridwidth": 2,
            "linecolor": "white",
            "showbackground": true,
            "ticks": "",
            "zerolinecolor": "white"
           },
           "zaxis": {
            "backgroundcolor": "#E5ECF6",
            "gridcolor": "white",
            "gridwidth": 2,
            "linecolor": "white",
            "showbackground": true,
            "ticks": "",
            "zerolinecolor": "white"
           }
          },
          "shapedefaults": {
           "line": {
            "color": "#2a3f5f"
           }
          },
          "ternary": {
           "aaxis": {
            "gridcolor": "white",
            "linecolor": "white",
            "ticks": ""
           },
           "baxis": {
            "gridcolor": "white",
            "linecolor": "white",
            "ticks": ""
           },
           "bgcolor": "#E5ECF6",
           "caxis": {
            "gridcolor": "white",
            "linecolor": "white",
            "ticks": ""
           }
          },
          "title": {
           "x": 0.05
          },
          "xaxis": {
           "automargin": true,
           "gridcolor": "white",
           "linecolor": "white",
           "ticks": "",
           "title": {
            "standoff": 15
           },
           "zerolinecolor": "white",
           "zerolinewidth": 2
          },
          "yaxis": {
           "automargin": true,
           "gridcolor": "white",
           "linecolor": "white",
           "ticks": "",
           "title": {
            "standoff": 15
           },
           "zerolinecolor": "white",
           "zerolinewidth": 2
          }
         }
        },
        "xaxis": {
         "anchor": "y",
         "domain": [
          0,
          0.45
         ],
         "title": {
          "text": "Кількість населення"
         }
        },
        "xaxis2": {
         "anchor": "y2",
         "domain": [
          0.55,
          1
         ],
         "title": {
          "text": "Кількість населення"
         }
        },
        "yaxis": {
         "anchor": "x",
         "domain": [
          0,
          1
         ],
         "title": {
          "text": "Площа міста (км²)"
         }
        },
        "yaxis2": {
         "anchor": "x2",
         "domain": [
          0,
          1
         ],
         "title": {
          "text": "Середній дохід"
         }
        }
       }
      },
      "text/html": [
       "<div>                            <div id=\"41069d26-5caa-407b-9b12-a6795907cef8\" class=\"plotly-graph-div\" style=\"height:525px; width:100%;\"></div>            <script type=\"text/javascript\">                require([\"plotly\"], function(Plotly) {                    window.PLOTLYENV=window.PLOTLYENV || {};                                    if (document.getElementById(\"41069d26-5caa-407b-9b12-a6795907cef8\")) {                    Plotly.newPlot(                        \"41069d26-5caa-407b-9b12-a6795907cef8\",                        [{\"legendgroup\":\"\\u041c\\u043e\\u043d\\u0442\\u0433\\u043e\\u043c\\u0435\\u0440\\u0456\",\"marker\":{\"color\":\"rgb(0, 0, 0)\"},\"mode\":\"markers\",\"name\":\"\\u041c\\u043e\\u043d\\u0442\\u0433\\u043e\\u043c\\u0435\\u0440\\u0456\",\"showlegend\":true,\"x\":[198218],\"y\":[160.44],\"type\":\"scatter\",\"xaxis\":\"x\",\"yaxis\":\"y\"},{\"legendgroup\":\"\\u0414\\u0436\\u0443\\u043d\\u043e\",\"marker\":{\"color\":\"rgb(40, 80, 120)\"},\"mode\":\"markers\",\"name\":\"\\u0414\\u0436\\u0443\\u043d\\u043e\",\"showlegend\":true,\"x\":[32113],\"y\":[8.43],\"type\":\"scatter\",\"xaxis\":\"x\",\"yaxis\":\"y\"},{\"legendgroup\":\"\\u0424\\u0456\\u043d\\u0456\\u043a\\u0441\",\"marker\":{\"color\":\"rgb(80, 160, 240)\"},\"mode\":\"markers\",\"name\":\"\\u0424\\u0456\\u043d\\u0456\\u043a\\u0441\",\"showlegend\":true,\"x\":[1752316],\"y\":[1338.28],\"type\":\"scatter\",\"xaxis\":\"x\",\"yaxis\":\"y\"},{\"legendgroup\":\"\\u041b\\u0456\\u0442\\u043b-\\u0420\\u043e\\u043a\",\"marker\":{\"color\":\"rgb(120, 240, 105)\"},\"mode\":\"markers\",\"name\":\"\\u041b\\u0456\\u0442\\u043b-\\u0420\\u043e\\u043a\",\"showlegend\":true,\"x\":[197312],\"y\":[303.26],\"type\":\"scatter\",\"xaxis\":\"x\",\"yaxis\":\"y\"},{\"legendgroup\":\"\\u0421\\u0430\\u043a\\u0440\\u0430\\u043c\\u0435\\u043d\\u0442\\u043e\",\"marker\":{\"color\":\"rgb(160, 65, 225)\"},\"mode\":\"markers\",\"name\":\"\\u0421\\u0430\\u043a\\u0440\\u0430\\u043c\\u0435\\u043d\\u0442\\u043e\",\"showlegend\":true,\"x\":[524943],\"y\":[259.27],\"type\":\"scatter\",\"xaxis\":\"x\",\"yaxis\":\"y\"},{\"legendgroup\":\"\\u0414\\u0435\\u043d\\u0432\\u0435\\u0440\",\"marker\":{\"color\":\"rgb(200, 145, 90)\"},\"mode\":\"markers\",\"name\":\"\\u0414\\u0435\\u043d\\u0432\\u0435\\u0440\",\"showlegend\":true,\"x\":[735538],\"y\":[401.27],\"type\":\"scatter\",\"xaxis\":\"x\",\"yaxis\":\"y\"},{\"legendgroup\":\"\\u0413\\u0430\\u0440\\u0442\\u0444\\u043e\\u0440\\u0434\",\"marker\":{\"color\":\"rgb(240, 225, 210)\"},\"mode\":\"markers\",\"name\":\"\\u0413\\u0430\\u0440\\u0442\\u0444\\u043e\\u0440\\u0434\",\"showlegend\":true,\"x\":[122105],\"y\":[46.25],\"type\":\"scatter\",\"xaxis\":\"x\",\"yaxis\":\"y\"},{\"legendgroup\":\"\\u0414\\u0443\\u0432\\u0435\\u0440\",\"marker\":{\"color\":\"rgb(25, 50, 75)\"},\"mode\":\"markers\",\"name\":\"\\u0414\\u0443\\u0432\\u0435\\u0440\",\"showlegend\":true,\"x\":[38142],\"y\":[60.03],\"type\":\"scatter\",\"xaxis\":\"x\",\"yaxis\":\"y\"},{\"legendgroup\":\"\\u0422\\u0430\\u043b\\u043b\\u0430\\u0445\\u0430\\u0441\\u0441\\u0456\",\"marker\":{\"color\":\"rgb(65, 130, 195)\"},\"mode\":\"markers\",\"name\":\"\\u0422\\u0430\\u043b\\u043b\\u0430\\u0445\\u0430\\u0441\\u0441\\u0456\",\"showlegend\":true,\"x\":[199926],\"y\":[254.52],\"type\":\"scatter\",\"xaxis\":\"x\",\"yaxis\":\"y\"},{\"legendgroup\":\"\\u0410\\u0442\\u043b\\u0430\\u043d\\u0442\\u0430\",\"marker\":{\"color\":\"rgb(105, 210, 60)\"},\"mode\":\"markers\",\"name\":\"\\u0410\\u0442\\u043b\\u0430\\u043d\\u0442\\u0430\",\"showlegend\":true,\"x\":[498715],\"y\":[347.1],\"type\":\"scatter\",\"xaxis\":\"x\",\"yaxis\":\"y\"},{\"legendgroup\":\"\\u0413\\u043e\\u043d\\u043e\\u043b\\u0443\\u043b\\u0443\",\"marker\":{\"color\":\"rgb(145, 35, 180)\"},\"mode\":\"markers\",\"name\":\"\\u0413\\u043e\\u043d\\u043e\\u043b\\u0443\\u043b\\u0443\",\"showlegend\":true,\"x\":[347397],\"y\":[177.22],\"type\":\"scatter\",\"xaxis\":\"x\",\"yaxis\":\"y\"},{\"legendgroup\":\"\\u0411\\u043e\\u0439\\u0441\\u0435\",\"marker\":{\"color\":\"rgb(185, 115, 45)\"},\"mode\":\"markers\",\"name\":\"\\u0411\\u043e\\u0439\\u0441\\u0435\",\"showlegend\":true,\"x\":[240380],\"y\":[247.05],\"type\":\"scatter\",\"xaxis\":\"x\",\"yaxis\":\"y\"},{\"legendgroup\":\"\\u0421\\u043f\\u0440\\u0456\\u043d\\u0433\\u0444\\u0456\\u043b\\u0434\",\"marker\":{\"color\":\"rgb(225, 195, 165)\"},\"mode\":\"markers\",\"name\":\"\\u0421\\u043f\\u0440\\u0456\\u043d\\u0433\\u0444\\u0456\\u043b\\u0434\",\"showlegend\":true,\"x\":[115715],\"y\":[160.03],\"type\":\"scatter\",\"xaxis\":\"x\",\"yaxis\":\"y\"},{\"legendgroup\":\"\\u0406\\u043d\\u0434\\u0456\\u0430\\u043d\\u0430\\u043f\\u043e\\u043b\\u0456\\u0441\",\"marker\":{\"color\":\"rgb(10, 20, 30)\"},\"mode\":\"markers\",\"name\":\"\\u0406\\u043d\\u0434\\u0456\\u0430\\u043d\\u0430\\u043f\\u043e\\u043b\\u0456\\u0441\",\"showlegend\":true,\"x\":[876384],\"y\":[953.18],\"type\":\"scatter\",\"xaxis\":\"x\",\"yaxis\":\"y\"},{\"legendgroup\":\"\\u0414\\u0435-\\u041c\\u043e\\u0439\\u043d\",\"marker\":{\"color\":\"rgb(50, 100, 150)\"},\"mode\":\"markers\",\"name\":\"\\u0414\\u0435-\\u041c\\u043e\\u0439\\u043d\",\"showlegend\":true,\"x\":[217891],\"y\":[222.36],\"type\":\"scatter\",\"xaxis\":\"x\",\"yaxis\":\"y\"},{\"legendgroup\":\"\\u0422\\u043e\\u043f\\u0456\\u043a\\u0430\",\"marker\":{\"color\":\"rgb(90, 180, 15)\"},\"mode\":\"markers\",\"name\":\"\\u0422\\u043e\\u043f\\u0456\\u043a\\u0430\",\"showlegend\":true,\"x\":[126587],\"y\":[159.81],\"type\":\"scatter\",\"xaxis\":\"x\",\"yaxis\":\"y\"},{\"legendgroup\":\"\\u0424\\u0440\\u0430\\u043d\\u043a\\u0444\\u043e\\u0440\\u0442\",\"marker\":{\"color\":\"rgb(130, 5, 135)\"},\"mode\":\"markers\",\"name\":\"\\u0424\\u0440\\u0430\\u043d\\u043a\\u0444\\u043e\\u0440\\u0442\",\"showlegend\":true,\"x\":[28283],\"y\":[37.31],\"type\":\"scatter\",\"xaxis\":\"x\",\"yaxis\":\"y\"},{\"legendgroup\":\"\\u0411\\u0430\\u0442\\u043e\\u043d-\\u0420\\u0443\\u0436\",\"marker\":{\"color\":\"rgb(170, 85, 0)\"},\"mode\":\"markers\",\"name\":\"\\u0411\\u0430\\u0442\\u043e\\u043d-\\u0420\\u0443\\u0436\",\"showlegend\":true,\"x\":[219531],\"y\":[200.91],\"type\":\"scatter\",\"xaxis\":\"x\",\"yaxis\":\"y\"},{\"legendgroup\":\"\\u0410\\u043d\\u043d\\u0430\\u043f\\u043e\\u043b\\u0456\\u0441\",\"marker\":{\"color\":\"rgb(210, 165, 120)\"},\"mode\":\"markers\",\"name\":\"\\u0410\\u043d\\u043d\\u0430\\u043f\\u043e\\u043b\\u0456\\u0441\",\"showlegend\":true,\"x\":[39139],\"y\":[19.12],\"type\":\"scatter\",\"xaxis\":\"x\",\"yaxis\":\"y\"},{\"legendgroup\":\"\\u0411\\u043e\\u0441\\u0442\\u043e\\u043d\",\"marker\":{\"color\":\"rgb(250, 245, 240)\"},\"mode\":\"markers\",\"name\":\"\\u0411\\u043e\\u0441\\u0442\\u043e\\u043d\",\"showlegend\":true,\"x\":[692600],\"y\":[89.63],\"type\":\"scatter\",\"xaxis\":\"x\",\"yaxis\":\"y\"},{\"legendgroup\":\"\\u041b\\u0430\\u043d\\u0441\\u0456\\u043d\\u0433\",\"marker\":{\"color\":\"rgb(35, 70, 105)\"},\"mode\":\"markers\",\"name\":\"\\u041b\\u0430\\u043d\\u0441\\u0456\\u043d\\u0433\",\"showlegend\":true,\"x\":[119128],\"y\":[95.68],\"type\":\"scatter\",\"xaxis\":\"x\",\"yaxis\":\"y\"},{\"legendgroup\":\"\\u0421\\u0435\\u043d\\u0442-\\u041f\\u043e\\u043b\",\"marker\":{\"color\":\"rgb(75, 150, 225)\"},\"mode\":\"markers\",\"name\":\"\\u0421\\u0435\\u043d\\u0442-\\u041f\\u043e\\u043b\",\"showlegend\":true,\"x\":[307695],\"y\":[145.98],\"type\":\"scatter\",\"xaxis\":\"x\",\"yaxis\":\"y\"},{\"legendgroup\":\"\\u0414\\u0436\\u0435\\u043a\\u0441\\u043e\\u043d\",\"marker\":{\"color\":\"rgb(115, 230, 90)\"},\"mode\":\"markers\",\"name\":\"\\u0414\\u0436\\u0435\\u043a\\u0441\\u043e\\u043d\",\"showlegend\":true,\"x\":[143617],\"y\":[276.69],\"type\":\"scatter\",\"xaxis\":\"x\",\"yaxis\":\"y\"},{\"legendgroup\":\"\\u0414\\u0436\\u0435\\u0444\\u0444\\u0435\\u0440\\u0441\\u043e\\u043d-\\u0421\\u0456\\u0442\\u0456\",\"marker\":{\"color\":\"rgb(155, 55, 210)\"},\"mode\":\"markers\",\"name\":\"\\u0414\\u0436\\u0435\\u0444\\u0444\\u0435\\u0440\\u0441\\u043e\\u043d-\\u0421\\u0456\\u0442\\u0456\",\"showlegend\":true,\"x\":[43079],\"y\":[27.28],\"type\":\"scatter\",\"xaxis\":\"x\",\"yaxis\":\"y\"},{\"legendgroup\":\"\\u0413\\u0435\\u043b\\u0435\\u043d\\u0430\",\"marker\":{\"color\":\"rgb(195, 135, 75)\"},\"mode\":\"markers\",\"name\":\"\\u0413\\u0435\\u043b\\u0435\\u043d\\u0430\",\"showlegend\":true,\"x\":[33188],\"y\":[16.47],\"type\":\"scatter\",\"xaxis\":\"x\",\"yaxis\":\"y\"},{\"legendgroup\":\"\\u041b\\u0456\\u043d\\u043a\\u043e\\u043b\\u044c\\u043d\",\"marker\":{\"color\":\"rgb(235, 215, 195)\"},\"mode\":\"markers\",\"name\":\"\\u041b\\u0456\\u043d\\u043a\\u043e\\u043b\\u044c\\u043d\",\"showlegend\":true,\"x\":[287401],\"y\":[202.74],\"type\":\"scatter\",\"xaxis\":\"x\",\"yaxis\":\"y\"},{\"legendgroup\":\"\\u041a\\u0430\\u0440\\u0441\\u043e\\u043d-\\u0421\\u0456\\u0442\\u0456\",\"marker\":{\"color\":\"rgb(20, 40, 60)\"},\"mode\":\"markers\",\"name\":\"\\u041a\\u0430\\u0440\\u0441\\u043e\\u043d-\\u0421\\u0456\\u0442\\u0456\",\"showlegend\":true,\"x\":[55414],\"y\":[168.68],\"type\":\"scatter\",\"xaxis\":\"x\",\"yaxis\":\"y\"},{\"legendgroup\":\"\\u041a\\u043e\\u043d\\u043a\\u043e\\u0440\\u0434\",\"marker\":{\"color\":\"rgb(60, 120, 180)\"},\"mode\":\"markers\",\"name\":\"\\u041a\\u043e\\u043d\\u043a\\u043e\\u0440\\u0434\",\"showlegend\":true,\"x\":[43167],\"y\":[67.53],\"type\":\"scatter\",\"xaxis\":\"x\",\"yaxis\":\"y\"},{\"legendgroup\":\"\\u0422\\u0440\\u0435\\u043d\\u0442\\u043e\\u043d\",\"marker\":{\"color\":\"rgb(100, 200, 45)\"},\"mode\":\"markers\",\"name\":\"\\u0422\\u0440\\u0435\\u043d\\u0442\\u043e\\u043d\",\"showlegend\":true,\"x\":[83974],\"y\":[21.15],\"type\":\"scatter\",\"xaxis\":\"x\",\"yaxis\":\"y\"},{\"legendgroup\":\"\\u0421\\u0430\\u043d\\u0442\\u0430-\\u0424\\u0435\",\"marker\":{\"color\":\"rgb(140, 25, 165)\"},\"mode\":\"markers\",\"name\":\"\\u0421\\u0430\\u043d\\u0442\\u0430-\\u0424\\u0435\",\"showlegend\":true,\"x\":[87521],\"y\":[37.97],\"type\":\"scatter\",\"xaxis\":\"x\",\"yaxis\":\"y\"},{\"legendgroup\":\"\\u0410\\u043b\\u0431\\u0430\\u043d\\u0456\",\"marker\":{\"color\":\"rgb(180, 105, 30)\"},\"mode\":\"markers\",\"name\":\"\\u0410\\u043b\\u0431\\u0430\\u043d\\u0456\",\"showlegend\":true,\"x\":[97856],\"y\":[21.86],\"type\":\"scatter\",\"xaxis\":\"x\",\"yaxis\":\"y\"},{\"legendgroup\":\"\\u0420\\u043e\\u043b\\u0456\",\"marker\":{\"color\":\"rgb(220, 185, 150)\"},\"mode\":\"markers\",\"name\":\"\\u0420\\u043e\\u043b\\u0456\",\"showlegend\":true,\"x\":[474069],\"y\":[359.38],\"type\":\"scatter\",\"xaxis\":\"x\",\"yaxis\":\"y\"},{\"legendgroup\":\"\\u0411\\u0456\\u0441\\u043c\\u0430\\u0440\\u043a\",\"marker\":{\"color\":\"rgb(5, 10, 15)\"},\"mode\":\"markers\",\"name\":\"\\u0411\\u0456\\u0441\\u043c\\u0430\\u0440\\u043a\",\"showlegend\":true,\"x\":[73112],\"y\":[31.22],\"type\":\"scatter\",\"xaxis\":\"x\",\"yaxis\":\"y\"},{\"legendgroup\":\"\\u041a\\u043e\\u043b\\u0443\\u043c\\u0431\\u0443\\u0441\",\"marker\":{\"color\":\"rgb(45, 90, 135)\"},\"mode\":\"markers\",\"name\":\"\\u041a\\u043e\\u043b\\u0443\\u043c\\u0431\\u0443\\u0441\",\"showlegend\":true,\"x\":[898553],\"y\":[576.95],\"type\":\"scatter\",\"xaxis\":\"x\",\"yaxis\":\"y\"},{\"legendgroup\":\"\\u041e\\u043a\\u043b\\u0430\\u0445\\u043e\\u043c\\u0430-\\u0421\\u0456\\u0442\\u0456\",\"marker\":{\"color\":\"rgb(85, 170, 0)\"},\"mode\":\"markers\",\"name\":\"\\u041e\\u043a\\u043b\\u0430\\u0445\\u043e\\u043c\\u0430-\\u0421\\u0456\\u0442\\u0456\",\"showlegend\":true,\"x\":[655057],\"y\":[1571.18],\"type\":\"scatter\",\"xaxis\":\"x\",\"yaxis\":\"y\"},{\"legendgroup\":\"\\u0421\\u0435\\u0439\\u043b\\u0435\\u043c\",\"marker\":{\"color\":\"rgb(125, 250, 120)\"},\"mode\":\"markers\",\"name\":\"\\u0421\\u0435\\u0439\\u043b\\u0435\\u043c\",\"showlegend\":true,\"x\":[174365],\"y\":[126.05],\"type\":\"scatter\",\"xaxis\":\"x\",\"yaxis\":\"y\"},{\"legendgroup\":\"\\u0413\\u0430\\u0440\\u0440\\u0456\\u0441\\u0431\\u0443\\u0440\\u0433\",\"marker\":{\"color\":\"rgb(165, 75, 240)\"},\"mode\":\"markers\",\"name\":\"\\u0413\\u0430\\u0440\\u0440\\u0456\\u0441\\u0431\\u0443\\u0440\\u0433\",\"showlegend\":true,\"x\":[49229],\"y\":[21.76],\"type\":\"scatter\",\"xaxis\":\"x\",\"yaxis\":\"y\"},{\"legendgroup\":\"\\u041f\\u0440\\u043e\\u0432\\u0456\\u0434\\u0435\\u043d\\u0441\",\"marker\":{\"color\":\"rgb(205, 155, 105)\"},\"mode\":\"markers\",\"name\":\"\\u041f\\u0440\\u043e\\u0432\\u0456\\u0434\\u0435\\u043d\\u0441\",\"showlegend\":true,\"x\":[179335],\"y\":[53.13],\"type\":\"scatter\",\"xaxis\":\"x\",\"yaxis\":\"y\"},{\"legendgroup\":\"\\u041a\\u043e\\u043b\\u0443\\u043c\\u0431\\u0456\\u044f\",\"marker\":{\"color\":\"rgb(245, 235, 225)\"},\"mode\":\"markers\",\"name\":\"\\u041a\\u043e\\u043b\\u0443\\u043c\\u0431\\u0456\\u044f\",\"showlegend\":true,\"x\":[133273],\"y\":[133.13],\"type\":\"scatter\",\"xaxis\":\"x\",\"yaxis\":\"y\"},{\"legendgroup\":\"\\u041f'\\u0454\\u0440\",\"marker\":{\"color\":\"rgb(30, 60, 90)\"},\"mode\":\"markers\",\"name\":\"\\u041f'\\u0454\\u0440\",\"showlegend\":true,\"x\":[14177],\"y\":[17.07],\"type\":\"scatter\",\"xaxis\":\"x\",\"yaxis\":\"y\"},{\"legendgroup\":\"\\u041d\\u0435\\u0448\\u0432\\u0456\\u043b\\u043b\",\"marker\":{\"color\":\"rgb(70, 140, 210)\"},\"mode\":\"markers\",\"name\":\"\\u041d\\u0435\\u0448\\u0432\\u0456\\u043b\\u043b\",\"showlegend\":true,\"x\":[694144],\"y\":[1362.19],\"type\":\"scatter\",\"xaxis\":\"x\",\"yaxis\":\"y\"},{\"legendgroup\":\"\\u041e\\u0441\\u0442\\u0456\\u043d\",\"marker\":{\"color\":\"rgb(110, 220, 75)\"},\"mode\":\"markers\",\"name\":\"\\u041e\\u0441\\u0442\\u0456\\u043d\",\"showlegend\":true,\"x\":[1012695],\"y\":[332.21],\"type\":\"scatter\",\"xaxis\":\"x\",\"yaxis\":\"y\"},{\"legendgroup\":\"\\u0421\\u043e\\u043b\\u0442-\\u041b\\u0435\\u0439\\u043a-\\u0421\\u0456\\u0442\\u0456\",\"marker\":{\"color\":\"rgb(150, 45, 195)\"},\"mode\":\"markers\",\"name\":\"\\u0421\\u043e\\u043b\\u0442-\\u041b\\u0435\\u0439\\u043a-\\u0421\\u0456\\u0442\\u0456\",\"showlegend\":true,\"x\":[200567],\"y\":[285.91],\"type\":\"scatter\",\"xaxis\":\"x\",\"yaxis\":\"y\"},{\"legendgroup\":\"\\u041c\\u043e\\u043d\\u0442\\u043f\\u0435\\u043b\\u044c\\u0454\\u0440\",\"marker\":{\"color\":\"rgb(190, 125, 60)\"},\"mode\":\"markers\",\"name\":\"\\u041c\\u043e\\u043d\\u0442\\u043f\\u0435\\u043b\\u044c\\u0454\\u0440\",\"showlegend\":true,\"x\":[7436],\"y\":[10.33],\"type\":\"scatter\",\"xaxis\":\"x\",\"yaxis\":\"y\"},{\"legendgroup\":\"\\u0420\\u0456\\u0447\\u043c\\u043e\\u043d\\u0434\",\"marker\":{\"color\":\"rgb(230, 205, 180)\"},\"mode\":\"markers\",\"name\":\"\\u0420\\u0456\\u0447\\u043c\\u043e\\u043d\\u0434\",\"showlegend\":true,\"x\":[233170],\"y\":[162.08],\"type\":\"scatter\",\"xaxis\":\"x\",\"yaxis\":\"y\"},{\"legendgroup\":\"\\u041e\\u043b\\u0456\\u043c\\u043f\\u0456\\u044f\",\"marker\":{\"color\":\"rgb(15, 30, 45)\"},\"mode\":\"markers\",\"name\":\"\\u041e\\u043b\\u0456\\u043c\\u043f\\u0456\\u044f\",\"showlegend\":true,\"x\":[54905],\"y\":[50.67],\"type\":\"scatter\",\"xaxis\":\"x\",\"yaxis\":\"y\"},{\"legendgroup\":\"\\u0427\\u0430\\u0440\\u043b\\u0441\\u0442\\u043e\\u043d\",\"marker\":{\"color\":\"rgb(55, 110, 165)\"},\"mode\":\"markers\",\"name\":\"\\u0427\\u0430\\u0440\\u043b\\u0441\\u0442\\u043e\\u043d\",\"showlegend\":true,\"x\":[45879],\"y\":[33.87],\"type\":\"scatter\",\"xaxis\":\"x\",\"yaxis\":\"y\"},{\"legendgroup\":\"\\u041c\\u0435\\u0434\\u0456\\u0441\\u043e\\u043d\",\"marker\":{\"color\":\"rgb(95, 190, 30)\"},\"mode\":\"markers\",\"name\":\"\\u041c\\u0435\\u0434\\u0456\\u0441\\u043e\\u043d\",\"showlegend\":true,\"x\":[259680],\"y\":[148.63],\"type\":\"scatter\",\"xaxis\":\"x\",\"yaxis\":\"y\"},{\"legendgroup\":\"\\u0428\\u0430\\u0439\\u0454\\u043d\\u043d\",\"marker\":{\"color\":\"rgb(135, 15, 150)\"},\"mode\":\"markers\",\"name\":\"\\u0428\\u0430\\u0439\\u0454\\u043d\\u043d\",\"showlegend\":true,\"x\":[64019],\"y\":[61.56],\"type\":\"scatter\",\"xaxis\":\"x\",\"yaxis\":\"y\"},{\"legendgroup\":\"\\u041c\\u043e\\u043d\\u0442\\u0433\\u043e\\u043c\\u0435\\u0440\\u0456\",\"marker\":{\"color\":\"rgb(0, 0, 0)\"},\"mode\":\"markers\",\"name\":\"\\u041c\\u043e\\u043d\\u0442\\u0433\\u043e\\u043c\\u0435\\u0440\\u0456\",\"showlegend\":false,\"x\":[198218],\"y\":[51113],\"type\":\"scatter\",\"xaxis\":\"x2\",\"yaxis\":\"y2\"},{\"legendgroup\":\"\\u0414\\u0436\\u0443\\u043d\\u043e\",\"marker\":{\"color\":\"rgb(40, 80, 120)\"},\"mode\":\"markers\",\"name\":\"\\u0414\\u0436\\u0443\\u043d\\u043e\",\"showlegend\":false,\"x\":[32113],\"y\":[85296],\"type\":\"scatter\",\"xaxis\":\"x2\",\"yaxis\":\"y2\"},{\"legendgroup\":\"\\u0424\\u0456\\u043d\\u0456\\u043a\\u0441\",\"marker\":{\"color\":\"rgb(80, 160, 240)\"},\"mode\":\"markers\",\"name\":\"\\u0424\\u0456\\u043d\\u0456\\u043a\\u0441\",\"showlegend\":false,\"x\":[1752316],\"y\":[65057],\"type\":\"scatter\",\"xaxis\":\"x2\",\"yaxis\":\"y2\"},{\"legendgroup\":\"\\u041b\\u0456\\u0442\\u043b-\\u0420\\u043e\\u043a\",\"marker\":{\"color\":\"rgb(120, 240, 105)\"},\"mode\":\"markers\",\"name\":\"\\u041b\\u0456\\u0442\\u043b-\\u0420\\u043e\\u043a\",\"showlegend\":false,\"x\":[197312],\"y\":[48892],\"type\":\"scatter\",\"xaxis\":\"x2\",\"yaxis\":\"y2\"},{\"legendgroup\":\"\\u0421\\u0430\\u043a\\u0440\\u0430\\u043c\\u0435\\u043d\\u0442\\u043e\",\"marker\":{\"color\":\"rgb(160, 65, 225)\"},\"mode\":\"markers\",\"name\":\"\\u0421\\u0430\\u043a\\u0440\\u0430\\u043c\\u0435\\u043d\\u0442\\u043e\",\"showlegend\":false,\"x\":[524943],\"y\":[76662],\"type\":\"scatter\",\"xaxis\":\"x2\",\"yaxis\":\"y2\"},{\"legendgroup\":\"\\u0414\\u0435\\u043d\\u0432\\u0435\\u0440\",\"marker\":{\"color\":\"rgb(200, 145, 90)\"},\"mode\":\"markers\",\"name\":\"\\u0414\\u0435\\u043d\\u0432\\u0435\\u0440\",\"showlegend\":false,\"x\":[735538],\"y\":[77398],\"type\":\"scatter\",\"xaxis\":\"x2\",\"yaxis\":\"y2\"},{\"legendgroup\":\"\\u0413\\u0430\\u0440\\u0442\\u0444\\u043e\\u0440\\u0434\",\"marker\":{\"color\":\"rgb(240, 225, 210)\"},\"mode\":\"markers\",\"name\":\"\\u0413\\u0430\\u0440\\u0442\\u0444\\u043e\\u0440\\u0434\",\"showlegend\":false,\"x\":[122105],\"y\":[44162],\"type\":\"scatter\",\"xaxis\":\"x2\",\"yaxis\":\"y2\"},{\"legendgroup\":\"\\u0414\\u0443\\u0432\\u0435\\u0440\",\"marker\":{\"color\":\"rgb(25, 50, 75)\"},\"mode\":\"markers\",\"name\":\"\\u0414\\u0443\\u0432\\u0435\\u0440\",\"showlegend\":false,\"x\":[38142],\"y\":[63273],\"type\":\"scatter\",\"xaxis\":\"x2\",\"yaxis\":\"y2\"},{\"legendgroup\":\"\\u0422\\u0430\\u043b\\u043b\\u0430\\u0445\\u0430\\u0441\\u0441\\u0456\",\"marker\":{\"color\":\"rgb(65, 130, 195)\"},\"mode\":\"markers\",\"name\":\"\\u0422\\u0430\\u043b\\u043b\\u0430\\u0445\\u0430\\u0441\\u0441\\u0456\",\"showlegend\":false,\"x\":[199926],\"y\":[46411],\"type\":\"scatter\",\"xaxis\":\"x2\",\"yaxis\":\"y2\"},{\"legendgroup\":\"\\u0410\\u0442\\u043b\\u0430\\u043d\\u0442\\u0430\",\"marker\":{\"color\":\"rgb(105, 210, 60)\"},\"mode\":\"markers\",\"name\":\"\\u0410\\u0442\\u043b\\u0430\\u043d\\u0442\\u0430\",\"showlegend\":false,\"x\":[498715],\"y\":[65345],\"type\":\"scatter\",\"xaxis\":\"x2\",\"yaxis\":\"y2\"},{\"legendgroup\":\"\\u0413\\u043e\\u043d\\u043e\\u043b\\u0443\\u043b\\u0443\",\"marker\":{\"color\":\"rgb(145, 35, 180)\"},\"mode\":\"markers\",\"name\":\"\\u0413\\u043e\\u043d\\u043e\\u043b\\u0443\\u043b\\u0443\",\"showlegend\":false,\"x\":[347397],\"y\":[80513],\"type\":\"scatter\",\"xaxis\":\"x2\",\"yaxis\":\"y2\"},{\"legendgroup\":\"\\u0411\\u043e\\u0439\\u0441\\u0435\",\"marker\":{\"color\":\"rgb(185, 115, 45)\"},\"mode\":\"markers\",\"name\":\"\\u0411\\u043e\\u0439\\u0441\\u0435\",\"showlegend\":false,\"x\":[240380],\"y\":[63918],\"type\":\"scatter\",\"xaxis\":\"x2\",\"yaxis\":\"y2\"},{\"legendgroup\":\"\\u0421\\u043f\\u0440\\u0456\\u043d\\u0433\\u0444\\u0456\\u043b\\u0434\",\"marker\":{\"color\":\"rgb(225, 195, 165)\"},\"mode\":\"markers\",\"name\":\"\\u0421\\u043f\\u0440\\u0456\\u043d\\u0433\\u0444\\u0456\\u043b\\u0434\",\"showlegend\":false,\"x\":[115715],\"y\":[59285],\"type\":\"scatter\",\"xaxis\":\"x2\",\"yaxis\":\"y2\"},{\"legendgroup\":\"\\u0406\\u043d\\u0434\\u0456\\u0430\\u043d\\u0430\\u043f\\u043e\\u043b\\u0456\\u0441\",\"marker\":{\"color\":\"rgb(10, 20, 30)\"},\"mode\":\"markers\",\"name\":\"\\u0406\\u043d\\u0434\\u0456\\u0430\\u043d\\u0430\\u043f\\u043e\\u043b\\u0456\\u0441\",\"showlegend\":false,\"x\":[876384],\"y\":[55752],\"type\":\"scatter\",\"xaxis\":\"x2\",\"yaxis\":\"y2\"},{\"legendgroup\":\"\\u0414\\u0435-\\u041c\\u043e\\u0439\\u043d\",\"marker\":{\"color\":\"rgb(50, 100, 150)\"},\"mode\":\"markers\",\"name\":\"\\u0414\\u0435-\\u041c\\u043e\\u0439\\u043d\",\"showlegend\":false,\"x\":[217891],\"y\":[65579],\"type\":\"scatter\",\"xaxis\":\"x2\",\"yaxis\":\"y2\"},{\"legendgroup\":\"\\u0422\\u043e\\u043f\\u0456\\u043a\\u0430\",\"marker\":{\"color\":\"rgb(90, 180, 15)\"},\"mode\":\"markers\",\"name\":\"\\u0422\\u043e\\u043f\\u0456\\u043a\\u0430\",\"showlegend\":false,\"x\":[126587],\"y\":[58197],\"type\":\"scatter\",\"xaxis\":\"x2\",\"yaxis\":\"y2\"},{\"legendgroup\":\"\\u0424\\u0440\\u0430\\u043d\\u043a\\u0444\\u043e\\u0440\\u0442\",\"marker\":{\"color\":\"rgb(130, 5, 135)\"},\"mode\":\"markers\",\"name\":\"\\u0424\\u0440\\u0430\\u043d\\u043a\\u0444\\u043e\\u0440\\u0442\",\"showlegend\":false,\"x\":[28283],\"y\":[46237],\"type\":\"scatter\",\"xaxis\":\"x2\",\"yaxis\":\"y2\"},{\"legendgroup\":\"\\u0411\\u0430\\u0442\\u043e\\u043d-\\u0420\\u0443\\u0436\",\"marker\":{\"color\":\"rgb(170, 85, 0)\"},\"mode\":\"markers\",\"name\":\"\\u0411\\u0430\\u0442\\u043e\\u043d-\\u0420\\u0443\\u0436\",\"showlegend\":false,\"x\":[219531],\"y\":[45426],\"type\":\"scatter\",\"xaxis\":\"x2\",\"yaxis\":\"y2\"},{\"legendgroup\":\"\\u0410\\u043d\\u043d\\u0430\\u043f\\u043e\\u043b\\u0456\\u0441\",\"marker\":{\"color\":\"rgb(210, 165, 120)\"},\"mode\":\"markers\",\"name\":\"\\u0410\\u043d\\u043d\\u0430\\u043f\\u043e\\u043b\\u0456\\u0441\",\"showlegend\":false,\"x\":[39139],\"y\":[102199],\"type\":\"scatter\",\"xaxis\":\"x2\",\"yaxis\":\"y2\"},{\"legendgroup\":\"\\u0411\\u043e\\u0441\\u0442\\u043e\\u043d\",\"marker\":{\"color\":\"rgb(250, 245, 240)\"},\"mode\":\"markers\",\"name\":\"\\u0411\\u043e\\u0441\\u0442\\u043e\\u043d\",\"showlegend\":false,\"x\":[692600],\"y\":[81827],\"type\":\"scatter\",\"xaxis\":\"x2\",\"yaxis\":\"y2\"},{\"legendgroup\":\"\\u041b\\u0430\\u043d\\u0441\\u0456\\u043d\\u0433\",\"marker\":{\"color\":\"rgb(35, 70, 105)\"},\"mode\":\"markers\",\"name\":\"\\u041b\\u0430\\u043d\\u0441\\u0456\\u043d\\u0433\",\"showlegend\":false,\"x\":[119128],\"y\":[53579],\"type\":\"scatter\",\"xaxis\":\"x2\",\"yaxis\":\"y2\"},{\"legendgroup\":\"\\u0421\\u0435\\u043d\\u0442-\\u041f\\u043e\\u043b\",\"marker\":{\"color\":\"rgb(75, 150, 225)\"},\"mode\":\"markers\",\"name\":\"\\u0421\\u0435\\u043d\\u0442-\\u041f\\u043e\\u043b\",\"showlegend\":false,\"x\":[307695],\"y\":[72629],\"type\":\"scatter\",\"xaxis\":\"x2\",\"yaxis\":\"y2\"},{\"legendgroup\":\"\\u0414\\u0436\\u0435\\u043a\\u0441\\u043e\\u043d\",\"marker\":{\"color\":\"rgb(115, 230, 90)\"},\"mode\":\"markers\",\"name\":\"\\u0414\\u0436\\u0435\\u043a\\u0441\\u043e\\u043d\",\"showlegend\":false,\"x\":[143617],\"y\":[38057],\"type\":\"scatter\",\"xaxis\":\"x2\",\"yaxis\":\"y2\"},{\"legendgroup\":\"\\u0414\\u0436\\u0435\\u0444\\u0444\\u0435\\u0440\\u0441\\u043e\\u043d-\\u0421\\u0456\\u0442\\u0456\",\"marker\":{\"color\":\"rgb(155, 55, 210)\"},\"mode\":\"markers\",\"name\":\"\\u0414\\u0436\\u0435\\u0444\\u0444\\u0435\\u0440\\u0441\\u043e\\u043d-\\u0421\\u0456\\u0442\\u0456\",\"showlegend\":false,\"x\":[43079],\"y\":[57348],\"type\":\"scatter\",\"xaxis\":\"x2\",\"yaxis\":\"y2\"},{\"legendgroup\":\"\\u0413\\u0435\\u043b\\u0435\\u043d\\u0430\",\"marker\":{\"color\":\"rgb(195, 135, 75)\"},\"mode\":\"markers\",\"name\":\"\\u0413\\u0435\\u043b\\u0435\\u043d\\u0430\",\"showlegend\":false,\"x\":[33188],\"y\":[57134],\"type\":\"scatter\",\"xaxis\":\"x2\",\"yaxis\":\"y2\"},{\"legendgroup\":\"\\u041b\\u0456\\u043d\\u043a\\u043e\\u043b\\u044c\\u043d\",\"marker\":{\"color\":\"rgb(235, 215, 195)\"},\"mode\":\"markers\",\"name\":\"\\u041b\\u0456\\u043d\\u043a\\u043e\\u043b\\u044c\\u043d\",\"showlegend\":false,\"x\":[287401],\"y\":[60753],\"type\":\"scatter\",\"xaxis\":\"x2\",\"yaxis\":\"y2\"},{\"legendgroup\":\"\\u041a\\u0430\\u0440\\u0441\\u043e\\u043d-\\u0421\\u0456\\u0442\\u0456\",\"marker\":{\"color\":\"rgb(20, 40, 60)\"},\"mode\":\"markers\",\"name\":\"\\u041a\\u0430\\u0440\\u0441\\u043e\\u043d-\\u0421\\u0456\\u0442\\u0456\",\"showlegend\":false,\"x\":[55414],\"y\":[58507],\"type\":\"scatter\",\"xaxis\":\"x2\",\"yaxis\":\"y2\"},{\"legendgroup\":\"\\u041a\\u043e\\u043d\\u043a\\u043e\\u0440\\u0434\",\"marker\":{\"color\":\"rgb(60, 120, 180)\"},\"mode\":\"markers\",\"name\":\"\\u041a\\u043e\\u043d\\u043a\\u043e\\u0440\\u0434\",\"showlegend\":false,\"x\":[43167],\"y\":[66825],\"type\":\"scatter\",\"xaxis\":\"x2\",\"yaxis\":\"y2\"},{\"legendgroup\":\"\\u0422\\u0440\\u0435\\u043d\\u0442\\u043e\\u043d\",\"marker\":{\"color\":\"rgb(100, 200, 45)\"},\"mode\":\"markers\",\"name\":\"\\u0422\\u0440\\u0435\\u043d\\u0442\\u043e\\u043d\",\"showlegend\":false,\"x\":[83974],\"y\":[37022],\"type\":\"scatter\",\"xaxis\":\"x2\",\"yaxis\":\"y2\"},{\"legendgroup\":\"\\u0421\\u0430\\u043d\\u0442\\u0430-\\u0424\\u0435\",\"marker\":{\"color\":\"rgb(140, 25, 165)\"},\"mode\":\"markers\",\"name\":\"\\u0421\\u0430\\u043d\\u0442\\u0430-\\u0424\\u0435\",\"showlegend\":false,\"x\":[87521],\"y\":[58618],\"type\":\"scatter\",\"xaxis\":\"x2\",\"yaxis\":\"y2\"},{\"legendgroup\":\"\\u0410\\u043b\\u0431\\u0430\\u043d\\u0456\",\"marker\":{\"color\":\"rgb(180, 105, 30)\"},\"mode\":\"markers\",\"name\":\"\\u0410\\u043b\\u0431\\u0430\\u043d\\u0456\",\"showlegend\":false,\"x\":[97856],\"y\":[50405],\"type\":\"scatter\",\"xaxis\":\"x2\",\"yaxis\":\"y2\"},{\"legendgroup\":\"\\u0420\\u043e\\u043b\\u0456\",\"marker\":{\"color\":\"rgb(220, 185, 150)\"},\"mode\":\"markers\",\"name\":\"\\u0420\\u043e\\u043b\\u0456\",\"showlegend\":false,\"x\":[474069],\"y\":[67146],\"type\":\"scatter\",\"xaxis\":\"x2\",\"yaxis\":\"y2\"},{\"legendgroup\":\"\\u0411\\u0456\\u0441\\u043c\\u0430\\u0440\\u043a\",\"marker\":{\"color\":\"rgb(5, 10, 15)\"},\"mode\":\"markers\",\"name\":\"\\u0411\\u0456\\u0441\\u043c\\u0430\\u0440\\u043a\",\"showlegend\":false,\"x\":[73112],\"y\":[66714],\"type\":\"scatter\",\"xaxis\":\"x2\",\"yaxis\":\"y2\"},{\"legendgroup\":\"\\u041a\\u043e\\u043b\\u0443\\u043c\\u0431\\u0443\\u0441\",\"marker\":{\"color\":\"rgb(45, 90, 135)\"},\"mode\":\"markers\",\"name\":\"\\u041a\\u043e\\u043b\\u0443\\u043c\\u0431\\u0443\\u0441\",\"showlegend\":false,\"x\":[898553],\"y\":[56273],\"type\":\"scatter\",\"xaxis\":\"x2\",\"yaxis\":\"y2\"},{\"legendgroup\":\"\\u041e\\u043a\\u043b\\u0430\\u0445\\u043e\\u043c\\u0430-\\u0421\\u0456\\u0442\\u0456\",\"marker\":{\"color\":\"rgb(85, 170, 0)\"},\"mode\":\"markers\",\"name\":\"\\u041e\\u043a\\u043b\\u0430\\u0445\\u043e\\u043c\\u0430-\\u0421\\u0456\\u0442\\u0456\",\"showlegend\":false,\"x\":[655057],\"y\":[56132],\"type\":\"scatter\",\"xaxis\":\"x2\",\"yaxis\":\"y2\"},{\"legendgroup\":\"\\u0421\\u0435\\u0439\\u043b\\u0435\\u043c\",\"marker\":{\"color\":\"rgb(125, 250, 120)\"},\"mode\":\"markers\",\"name\":\"\\u0421\\u0435\\u0439\\u043b\\u0435\\u043c\",\"showlegend\":false,\"x\":[174365],\"y\":[56137],\"type\":\"scatter\",\"xaxis\":\"x2\",\"yaxis\":\"y2\"},{\"legendgroup\":\"\\u0413\\u0430\\u0440\\u0440\\u0456\\u0441\\u0431\\u0443\\u0440\\u0433\",\"marker\":{\"color\":\"rgb(165, 75, 240)\"},\"mode\":\"markers\",\"name\":\"\\u0413\\u0430\\u0440\\u0440\\u0456\\u0441\\u0431\\u0443\\u0440\\u0433\",\"showlegend\":false,\"x\":[49229],\"y\":[37923],\"type\":\"scatter\",\"xaxis\":\"x2\",\"yaxis\":\"y2\"},{\"legendgroup\":\"\\u041f\\u0440\\u043e\\u0432\\u0456\\u0434\\u0435\\u043d\\u0441\",\"marker\":{\"color\":\"rgb(205, 155, 105)\"},\"mode\":\"markers\",\"name\":\"\\u041f\\u0440\\u043e\\u0432\\u0456\\u0434\\u0435\\u043d\\u0441\",\"showlegend\":false,\"x\":[179335],\"y\":[47825],\"type\":\"scatter\",\"xaxis\":\"x2\",\"yaxis\":\"y2\"},{\"legendgroup\":\"\\u041a\\u043e\\u043b\\u0443\\u043c\\u0431\\u0456\\u044f\",\"marker\":{\"color\":\"rgb(245, 235, 225)\"},\"mode\":\"markers\",\"name\":\"\\u041a\\u043e\\u043b\\u0443\\u043c\\u0431\\u0456\\u044f\",\"showlegend\":false,\"x\":[133273],\"y\":[53246],\"type\":\"scatter\",\"xaxis\":\"x2\",\"yaxis\":\"y2\"},{\"legendgroup\":\"\\u041f'\\u0454\\u0440\",\"marker\":{\"color\":\"rgb(30, 60, 90)\"},\"mode\":\"markers\",\"name\":\"\\u041f'\\u0454\\u0440\",\"showlegend\":false,\"x\":[14177],\"y\":[60615],\"type\":\"scatter\",\"xaxis\":\"x2\",\"yaxis\":\"y2\"},{\"legendgroup\":\"\\u041d\\u0435\\u0448\\u0432\\u0456\\u043b\\u043b\",\"marker\":{\"color\":\"rgb(70, 140, 210)\"},\"mode\":\"markers\",\"name\":\"\\u041d\\u0435\\u0448\\u0432\\u0456\\u043b\\u043b\",\"showlegend\":false,\"x\":[694144],\"y\":[65776],\"type\":\"scatter\",\"xaxis\":\"x2\",\"yaxis\":\"y2\"},{\"legendgroup\":\"\\u041e\\u0441\\u0442\\u0456\\u043d\",\"marker\":{\"color\":\"rgb(110, 220, 75)\"},\"mode\":\"markers\",\"name\":\"\\u041e\\u0441\\u0442\\u0456\\u043d\",\"showlegend\":false,\"x\":[1012695],\"y\":[65579],\"type\":\"scatter\",\"xaxis\":\"x2\",\"yaxis\":\"y2\"},{\"legendgroup\":\"\\u0421\\u043e\\u043b\\u0442-\\u041b\\u0435\\u0439\\u043a-\\u0421\\u0456\\u0442\\u0456\",\"marker\":{\"color\":\"rgb(150, 45, 195)\"},\"mode\":\"markers\",\"name\":\"\\u0421\\u043e\\u043b\\u0442-\\u041b\\u0435\\u0439\\u043a-\\u0421\\u0456\\u0442\\u0456\",\"showlegend\":false,\"x\":[200567],\"y\":[68743],\"type\":\"scatter\",\"xaxis\":\"x2\",\"yaxis\":\"y2\"},{\"legendgroup\":\"\\u041c\\u043e\\u043d\\u0442\\u043f\\u0435\\u043b\\u044c\\u0454\\u0440\",\"marker\":{\"color\":\"rgb(190, 125, 60)\"},\"mode\":\"markers\",\"name\":\"\\u041c\\u043e\\u043d\\u0442\\u043f\\u0435\\u043b\\u044c\\u0454\\u0440\",\"showlegend\":false,\"x\":[7436],\"y\":[57065],\"type\":\"scatter\",\"xaxis\":\"x2\",\"yaxis\":\"y2\"},{\"legendgroup\":\"\\u0420\\u0456\\u0447\\u043c\\u043e\\u043d\\u0434\",\"marker\":{\"color\":\"rgb(230, 205, 180)\"},\"mode\":\"markers\",\"name\":\"\\u0420\\u0456\\u0447\\u043c\\u043e\\u043d\\u0434\",\"showlegend\":false,\"x\":[233170],\"y\":[77378],\"type\":\"scatter\",\"xaxis\":\"x2\",\"yaxis\":\"y2\"},{\"legendgroup\":\"\\u041e\\u043b\\u0456\\u043c\\u043f\\u0456\\u044f\",\"marker\":{\"color\":\"rgb(15, 30, 45)\"},\"mode\":\"markers\",\"name\":\"\\u041e\\u043b\\u0456\\u043c\\u043f\\u0456\\u044f\",\"showlegend\":false,\"x\":[54905],\"y\":[62577],\"type\":\"scatter\",\"xaxis\":\"x2\",\"yaxis\":\"y2\"},{\"legendgroup\":\"\\u0427\\u0430\\u0440\\u043b\\u0441\\u0442\\u043e\\u043d\",\"marker\":{\"color\":\"rgb(55, 110, 165)\"},\"mode\":\"markers\",\"name\":\"\\u0427\\u0430\\u0440\\u043b\\u0441\\u0442\\u043e\\u043d\",\"showlegend\":false,\"x\":[45879],\"y\":[51809],\"type\":\"scatter\",\"xaxis\":\"x2\",\"yaxis\":\"y2\"},{\"legendgroup\":\"\\u041c\\u0435\\u0434\\u0456\\u0441\\u043e\\u043d\",\"marker\":{\"color\":\"rgb(95, 190, 30)\"},\"mode\":\"markers\",\"name\":\"\\u041c\\u0435\\u0434\\u0456\\u0441\\u043e\\u043d\",\"showlegend\":false,\"x\":[259680],\"y\":[68947],\"type\":\"scatter\",\"xaxis\":\"x2\",\"yaxis\":\"y2\"},{\"legendgroup\":\"\\u0428\\u0430\\u0439\\u0454\\u043d\\u043d\",\"marker\":{\"color\":\"rgb(135, 15, 150)\"},\"mode\":\"markers\",\"name\":\"\\u0428\\u0430\\u0439\\u0454\\u043d\\u043d\",\"showlegend\":false,\"x\":[64019],\"y\":[63094],\"type\":\"scatter\",\"xaxis\":\"x2\",\"yaxis\":\"y2\"}],                        {\"template\":{\"data\":{\"histogram2dcontour\":[{\"type\":\"histogram2dcontour\",\"colorbar\":{\"outlinewidth\":0,\"ticks\":\"\"},\"colorscale\":[[0.0,\"#0d0887\"],[0.1111111111111111,\"#46039f\"],[0.2222222222222222,\"#7201a8\"],[0.3333333333333333,\"#9c179e\"],[0.4444444444444444,\"#bd3786\"],[0.5555555555555556,\"#d8576b\"],[0.6666666666666666,\"#ed7953\"],[0.7777777777777778,\"#fb9f3a\"],[0.8888888888888888,\"#fdca26\"],[1.0,\"#f0f921\"]]}],\"choropleth\":[{\"type\":\"choropleth\",\"colorbar\":{\"outlinewidth\":0,\"ticks\":\"\"}}],\"histogram2d\":[{\"type\":\"histogram2d\",\"colorbar\":{\"outlinewidth\":0,\"ticks\":\"\"},\"colorscale\":[[0.0,\"#0d0887\"],[0.1111111111111111,\"#46039f\"],[0.2222222222222222,\"#7201a8\"],[0.3333333333333333,\"#9c179e\"],[0.4444444444444444,\"#bd3786\"],[0.5555555555555556,\"#d8576b\"],[0.6666666666666666,\"#ed7953\"],[0.7777777777777778,\"#fb9f3a\"],[0.8888888888888888,\"#fdca26\"],[1.0,\"#f0f921\"]]}],\"heatmap\":[{\"type\":\"heatmap\",\"colorbar\":{\"outlinewidth\":0,\"ticks\":\"\"},\"colorscale\":[[0.0,\"#0d0887\"],[0.1111111111111111,\"#46039f\"],[0.2222222222222222,\"#7201a8\"],[0.3333333333333333,\"#9c179e\"],[0.4444444444444444,\"#bd3786\"],[0.5555555555555556,\"#d8576b\"],[0.6666666666666666,\"#ed7953\"],[0.7777777777777778,\"#fb9f3a\"],[0.8888888888888888,\"#fdca26\"],[1.0,\"#f0f921\"]]}],\"heatmapgl\":[{\"type\":\"heatmapgl\",\"colorbar\":{\"outlinewidth\":0,\"ticks\":\"\"},\"colorscale\":[[0.0,\"#0d0887\"],[0.1111111111111111,\"#46039f\"],[0.2222222222222222,\"#7201a8\"],[0.3333333333333333,\"#9c179e\"],[0.4444444444444444,\"#bd3786\"],[0.5555555555555556,\"#d8576b\"],[0.6666666666666666,\"#ed7953\"],[0.7777777777777778,\"#fb9f3a\"],[0.8888888888888888,\"#fdca26\"],[1.0,\"#f0f921\"]]}],\"contourcarpet\":[{\"type\":\"contourcarpet\",\"colorbar\":{\"outlinewidth\":0,\"ticks\":\"\"}}],\"contour\":[{\"type\":\"contour\",\"colorbar\":{\"outlinewidth\":0,\"ticks\":\"\"},\"colorscale\":[[0.0,\"#0d0887\"],[0.1111111111111111,\"#46039f\"],[0.2222222222222222,\"#7201a8\"],[0.3333333333333333,\"#9c179e\"],[0.4444444444444444,\"#bd3786\"],[0.5555555555555556,\"#d8576b\"],[0.6666666666666666,\"#ed7953\"],[0.7777777777777778,\"#fb9f3a\"],[0.8888888888888888,\"#fdca26\"],[1.0,\"#f0f921\"]]}],\"surface\":[{\"type\":\"surface\",\"colorbar\":{\"outlinewidth\":0,\"ticks\":\"\"},\"colorscale\":[[0.0,\"#0d0887\"],[0.1111111111111111,\"#46039f\"],[0.2222222222222222,\"#7201a8\"],[0.3333333333333333,\"#9c179e\"],[0.4444444444444444,\"#bd3786\"],[0.5555555555555556,\"#d8576b\"],[0.6666666666666666,\"#ed7953\"],[0.7777777777777778,\"#fb9f3a\"],[0.8888888888888888,\"#fdca26\"],[1.0,\"#f0f921\"]]}],\"mesh3d\":[{\"type\":\"mesh3d\",\"colorbar\":{\"outlinewidth\":0,\"ticks\":\"\"}}],\"scatter\":[{\"fillpattern\":{\"fillmode\":\"overlay\",\"size\":10,\"solidity\":0.2},\"type\":\"scatter\"}],\"parcoords\":[{\"type\":\"parcoords\",\"line\":{\"colorbar\":{\"outlinewidth\":0,\"ticks\":\"\"}}}],\"scatterpolargl\":[{\"type\":\"scatterpolargl\",\"marker\":{\"colorbar\":{\"outlinewidth\":0,\"ticks\":\"\"}}}],\"bar\":[{\"error_x\":{\"color\":\"#2a3f5f\"},\"error_y\":{\"color\":\"#2a3f5f\"},\"marker\":{\"line\":{\"color\":\"#E5ECF6\",\"width\":0.5},\"pattern\":{\"fillmode\":\"overlay\",\"size\":10,\"solidity\":0.2}},\"type\":\"bar\"}],\"scattergeo\":[{\"type\":\"scattergeo\",\"marker\":{\"colorbar\":{\"outlinewidth\":0,\"ticks\":\"\"}}}],\"scatterpolar\":[{\"type\":\"scatterpolar\",\"marker\":{\"colorbar\":{\"outlinewidth\":0,\"ticks\":\"\"}}}],\"histogram\":[{\"marker\":{\"pattern\":{\"fillmode\":\"overlay\",\"size\":10,\"solidity\":0.2}},\"type\":\"histogram\"}],\"scattergl\":[{\"type\":\"scattergl\",\"marker\":{\"colorbar\":{\"outlinewidth\":0,\"ticks\":\"\"}}}],\"scatter3d\":[{\"type\":\"scatter3d\",\"line\":{\"colorbar\":{\"outlinewidth\":0,\"ticks\":\"\"}},\"marker\":{\"colorbar\":{\"outlinewidth\":0,\"ticks\":\"\"}}}],\"scattermapbox\":[{\"type\":\"scattermapbox\",\"marker\":{\"colorbar\":{\"outlinewidth\":0,\"ticks\":\"\"}}}],\"scatterternary\":[{\"type\":\"scatterternary\",\"marker\":{\"colorbar\":{\"outlinewidth\":0,\"ticks\":\"\"}}}],\"scattercarpet\":[{\"type\":\"scattercarpet\",\"marker\":{\"colorbar\":{\"outlinewidth\":0,\"ticks\":\"\"}}}],\"carpet\":[{\"aaxis\":{\"endlinecolor\":\"#2a3f5f\",\"gridcolor\":\"white\",\"linecolor\":\"white\",\"minorgridcolor\":\"white\",\"startlinecolor\":\"#2a3f5f\"},\"baxis\":{\"endlinecolor\":\"#2a3f5f\",\"gridcolor\":\"white\",\"linecolor\":\"white\",\"minorgridcolor\":\"white\",\"startlinecolor\":\"#2a3f5f\"},\"type\":\"carpet\"}],\"table\":[{\"cells\":{\"fill\":{\"color\":\"#EBF0F8\"},\"line\":{\"color\":\"white\"}},\"header\":{\"fill\":{\"color\":\"#C8D4E3\"},\"line\":{\"color\":\"white\"}},\"type\":\"table\"}],\"barpolar\":[{\"marker\":{\"line\":{\"color\":\"#E5ECF6\",\"width\":0.5},\"pattern\":{\"fillmode\":\"overlay\",\"size\":10,\"solidity\":0.2}},\"type\":\"barpolar\"}],\"pie\":[{\"automargin\":true,\"type\":\"pie\"}]},\"layout\":{\"autotypenumbers\":\"strict\",\"colorway\":[\"#636efa\",\"#EF553B\",\"#00cc96\",\"#ab63fa\",\"#FFA15A\",\"#19d3f3\",\"#FF6692\",\"#B6E880\",\"#FF97FF\",\"#FECB52\"],\"font\":{\"color\":\"#2a3f5f\"},\"hovermode\":\"closest\",\"hoverlabel\":{\"align\":\"left\"},\"paper_bgcolor\":\"white\",\"plot_bgcolor\":\"#E5ECF6\",\"polar\":{\"bgcolor\":\"#E5ECF6\",\"angularaxis\":{\"gridcolor\":\"white\",\"linecolor\":\"white\",\"ticks\":\"\"},\"radialaxis\":{\"gridcolor\":\"white\",\"linecolor\":\"white\",\"ticks\":\"\"}},\"ternary\":{\"bgcolor\":\"#E5ECF6\",\"aaxis\":{\"gridcolor\":\"white\",\"linecolor\":\"white\",\"ticks\":\"\"},\"baxis\":{\"gridcolor\":\"white\",\"linecolor\":\"white\",\"ticks\":\"\"},\"caxis\":{\"gridcolor\":\"white\",\"linecolor\":\"white\",\"ticks\":\"\"}},\"coloraxis\":{\"colorbar\":{\"outlinewidth\":0,\"ticks\":\"\"}},\"colorscale\":{\"sequential\":[[0.0,\"#0d0887\"],[0.1111111111111111,\"#46039f\"],[0.2222222222222222,\"#7201a8\"],[0.3333333333333333,\"#9c179e\"],[0.4444444444444444,\"#bd3786\"],[0.5555555555555556,\"#d8576b\"],[0.6666666666666666,\"#ed7953\"],[0.7777777777777778,\"#fb9f3a\"],[0.8888888888888888,\"#fdca26\"],[1.0,\"#f0f921\"]],\"sequentialminus\":[[0.0,\"#0d0887\"],[0.1111111111111111,\"#46039f\"],[0.2222222222222222,\"#7201a8\"],[0.3333333333333333,\"#9c179e\"],[0.4444444444444444,\"#bd3786\"],[0.5555555555555556,\"#d8576b\"],[0.6666666666666666,\"#ed7953\"],[0.7777777777777778,\"#fb9f3a\"],[0.8888888888888888,\"#fdca26\"],[1.0,\"#f0f921\"]],\"diverging\":[[0,\"#8e0152\"],[0.1,\"#c51b7d\"],[0.2,\"#de77ae\"],[0.3,\"#f1b6da\"],[0.4,\"#fde0ef\"],[0.5,\"#f7f7f7\"],[0.6,\"#e6f5d0\"],[0.7,\"#b8e186\"],[0.8,\"#7fbc41\"],[0.9,\"#4d9221\"],[1,\"#276419\"]]},\"xaxis\":{\"gridcolor\":\"white\",\"linecolor\":\"white\",\"ticks\":\"\",\"title\":{\"standoff\":15},\"zerolinecolor\":\"white\",\"automargin\":true,\"zerolinewidth\":2},\"yaxis\":{\"gridcolor\":\"white\",\"linecolor\":\"white\",\"ticks\":\"\",\"title\":{\"standoff\":15},\"zerolinecolor\":\"white\",\"automargin\":true,\"zerolinewidth\":2},\"scene\":{\"xaxis\":{\"backgroundcolor\":\"#E5ECF6\",\"gridcolor\":\"white\",\"linecolor\":\"white\",\"showbackground\":true,\"ticks\":\"\",\"zerolinecolor\":\"white\",\"gridwidth\":2},\"yaxis\":{\"backgroundcolor\":\"#E5ECF6\",\"gridcolor\":\"white\",\"linecolor\":\"white\",\"showbackground\":true,\"ticks\":\"\",\"zerolinecolor\":\"white\",\"gridwidth\":2},\"zaxis\":{\"backgroundcolor\":\"#E5ECF6\",\"gridcolor\":\"white\",\"linecolor\":\"white\",\"showbackground\":true,\"ticks\":\"\",\"zerolinecolor\":\"white\",\"gridwidth\":2}},\"shapedefaults\":{\"line\":{\"color\":\"#2a3f5f\"}},\"annotationdefaults\":{\"arrowcolor\":\"#2a3f5f\",\"arrowhead\":0,\"arrowwidth\":1},\"geo\":{\"bgcolor\":\"white\",\"landcolor\":\"#E5ECF6\",\"subunitcolor\":\"white\",\"showland\":true,\"showlakes\":true,\"lakecolor\":\"white\"},\"title\":{\"x\":0.05},\"mapbox\":{\"style\":\"light\"}}},\"xaxis\":{\"anchor\":\"y\",\"domain\":[0.0,0.45],\"title\":{\"text\":\"\\u041a\\u0456\\u043b\\u044c\\u043a\\u0456\\u0441\\u0442\\u044c \\u043d\\u0430\\u0441\\u0435\\u043b\\u0435\\u043d\\u043d\\u044f\"}},\"yaxis\":{\"anchor\":\"x\",\"domain\":[0.0,1.0],\"title\":{\"text\":\"\\u041f\\u043b\\u043e\\u0449\\u0430 \\u043c\\u0456\\u0441\\u0442\\u0430 (\\u043a\\u043c\\u00b2)\"}},\"xaxis2\":{\"anchor\":\"y2\",\"domain\":[0.55,1.0],\"title\":{\"text\":\"\\u041a\\u0456\\u043b\\u044c\\u043a\\u0456\\u0441\\u0442\\u044c \\u043d\\u0430\\u0441\\u0435\\u043b\\u0435\\u043d\\u043d\\u044f\"}},\"yaxis2\":{\"anchor\":\"x2\",\"domain\":[0.0,1.0],\"title\":{\"text\":\"\\u0421\\u0435\\u0440\\u0435\\u0434\\u043d\\u0456\\u0439 \\u0434\\u043e\\u0445\\u0456\\u0434\"}},\"annotations\":[{\"font\":{\"size\":16},\"showarrow\":false,\"text\":\"\\u0417\\u0430\\u043b\\u0435\\u0436\\u043d\\u0456\\u0441\\u0442\\u044c \\u043d\\u0430\\u0441\\u0435\\u043b\\u0435\\u043d\\u043d\\u044f \\u0432\\u0456\\u0434 \\u043f\\u043b\\u043e\\u0449\\u0456 \\u043c\\u0456\\u0441\\u0442\\u0430\",\"x\":0.225,\"xanchor\":\"center\",\"xref\":\"paper\",\"y\":1.0,\"yanchor\":\"bottom\",\"yref\":\"paper\"},{\"font\":{\"size\":16},\"showarrow\":false,\"text\":\"\\u0417\\u0430\\u043b\\u0435\\u0436\\u043d\\u0456\\u0441\\u0442\\u044c \\u043d\\u0430\\u0441\\u0435\\u043b\\u0435\\u043d\\u043d\\u044f \\u0432\\u0456\\u0434 \\u0441\\u0435\\u0440\\u0435\\u0434\\u043d\\u044c\\u043e\\u0433\\u043e \\u0434\\u043e\\u0445\\u043e\\u0434\\u0443\",\"x\":0.775,\"xanchor\":\"center\",\"xref\":\"paper\",\"y\":1.0,\"yanchor\":\"bottom\",\"yref\":\"paper\"}]},                        {\"responsive\": true}                    ).then(function(){\n",
       "                            \n",
       "var gd = document.getElementById('41069d26-5caa-407b-9b12-a6795907cef8');\n",
       "var x = new MutationObserver(function (mutations, observer) {{\n",
       "        var display = window.getComputedStyle(gd).display;\n",
       "        if (!display || display === 'none') {{\n",
       "            console.log([gd, 'removed!']);\n",
       "            Plotly.purge(gd);\n",
       "            observer.disconnect();\n",
       "        }}\n",
       "}});\n",
       "\n",
       "// Listen for the removal of the full notebook cells\n",
       "var notebookContainer = gd.closest('#notebook-container');\n",
       "if (notebookContainer) {{\n",
       "    x.observe(notebookContainer, {childList: true});\n",
       "}}\n",
       "\n",
       "// Listen for the clearing of the current output cell\n",
       "var outputEl = gd.closest('.output');\n",
       "if (outputEl) {{\n",
       "    x.observe(outputEl, {childList: true});\n",
       "}}\n",
       "\n",
       "                        })                };                });            </script>        </div>"
      ]
     },
     "metadata": {},
     "output_type": "display_data"
    }
   ],
   "source": [
    "# Помістив графіки на один малюнок\n",
    "\n",
    "# вибираємо міста для легенди\n",
    "cities = data['Столиця'].unique()\n",
    "\n",
    "# створюємо словник з кольорами для кожного міста\n",
    "color_map = {city: f\"rgb({i * 40 % 255}, {i * 80 % 255}, {i * 120 % 255})\" for i, city in enumerate(cities)}\n",
    "\n",
    "fig = make_subplots(rows=1, cols=2, subplot_titles=('Залежність населення від площі міста', 'Залежність населення від середнього доходу'))\n",
    "fig.update_xaxes(title_text='Кількість населення', row=1, col=1)\n",
    "fig.update_yaxes(title_text='Площа міста (км²)', row=1, col=1)\n",
    "fig.update_xaxes(title_text='Кількість населення', row=1, col=2)\n",
    "fig.update_yaxes(title_text='Середній дохід', row=1, col=2)\n",
    "\n",
    "# Додаємо графік для площі території\n",
    "for i, city in enumerate(cities):\n",
    "    fig.add_trace(\n",
    "        go.Scatter(\n",
    "            x=data.loc[data['Столиця']==city, 'Населення'],\n",
    "            y=data.loc[data['Столиця']==city, 'Площа території км.кв.'],\n",
    "            mode='markers',\n",
    "            name=city,\n",
    "            marker_color=color_map[city],\n",
    "            legendgroup=city,\n",
    "            showlegend=True,\n",
    "        ),\n",
    "        row=1,\n",
    "        col=1\n",
    "    )\n",
    "\n",
    "# Додаємо графік для середнього доходу\n",
    "for i, city in enumerate(cities):\n",
    "    fig.add_trace(\n",
    "        go.Scatter(\n",
    "            x=data.loc[data['Столиця']==city, 'Населення'],\n",
    "            y=data.loc[data['Столиця']==city, 'Дохід на душу населення $ на рік'],\n",
    "            mode='markers',\n",
    "            name=city,\n",
    "            marker_color=color_map[city],\n",
    "            legendgroup=city,\n",
    "            showlegend=False,\n",
    "        ),\n",
    "        row=1,\n",
    "        col=2\n",
    "    )\n",
    "\n",
    "# Функція для легенди, щоб при натисканні були зміни на обох графіках\n",
    "def update_visibility(trace, visible):\n",
    "    for i in range(len(fig['data'])):\n",
    "        if trace['legendgroup'] == fig['data'][i]['legendgroup']:\n",
    "            fig['data'][i]['visible'] = visible\n",
    "\n",
    "for i in range(len(fig['data'])):\n",
    "    fig.data[i].on_click(update_visibility)\n",
    "\n",
    "fig.show()"
   ]
  },
  {
   "cell_type": "code",
   "execution_count": 23,
   "id": "86163c65",
   "metadata": {},
   "outputs": [
    {
     "data": {
      "application/vnd.plotly.v1+json": {
       "config": {
        "plotlyServerURL": "https://plot.ly"
       },
       "data": [
        {
         "coloraxis": "coloraxis",
         "hovertemplate": "x: %{x}<br>y: %{y}<br>color: %{z}<extra></extra>",
         "name": "0",
         "type": "heatmap",
         "x": [
          "Населення",
          "Дохід на душу населення $ на рік",
          "Площа території км.кв."
         ],
         "xaxis": "x",
         "y": [
          "Населення",
          "Дохід на душу населення $ на рік",
          "Площа території км.кв."
         ],
         "yaxis": "y",
         "z": [
          [
           1,
           0.20172110675735647,
           0.7601859647803185
          ],
          [
           0.20172110675735647,
           1,
           0.029498760794004476
          ],
          [
           0.7601859647803185,
           0.029498760794004476,
           1
          ]
         ]
        }
       ],
       "layout": {
        "coloraxis": {
         "colorscale": [
          [
           0,
           "rgb(5,48,97)"
          ],
          [
           0.1,
           "rgb(33,102,172)"
          ],
          [
           0.2,
           "rgb(67,147,195)"
          ],
          [
           0.3,
           "rgb(146,197,222)"
          ],
          [
           0.4,
           "rgb(209,229,240)"
          ],
          [
           0.5,
           "rgb(247,247,247)"
          ],
          [
           0.6,
           "rgb(253,219,199)"
          ],
          [
           0.7,
           "rgb(244,165,130)"
          ],
          [
           0.8,
           "rgb(214,96,77)"
          ],
          [
           0.9,
           "rgb(178,24,43)"
          ],
          [
           1,
           "rgb(103,0,31)"
          ]
         ]
        },
        "margin": {
         "t": 60
        },
        "template": {
         "data": {
          "bar": [
           {
            "error_x": {
             "color": "#2a3f5f"
            },
            "error_y": {
             "color": "#2a3f5f"
            },
            "marker": {
             "line": {
              "color": "#E5ECF6",
              "width": 0.5
             },
             "pattern": {
              "fillmode": "overlay",
              "size": 10,
              "solidity": 0.2
             }
            },
            "type": "bar"
           }
          ],
          "barpolar": [
           {
            "marker": {
             "line": {
              "color": "#E5ECF6",
              "width": 0.5
             },
             "pattern": {
              "fillmode": "overlay",
              "size": 10,
              "solidity": 0.2
             }
            },
            "type": "barpolar"
           }
          ],
          "carpet": [
           {
            "aaxis": {
             "endlinecolor": "#2a3f5f",
             "gridcolor": "white",
             "linecolor": "white",
             "minorgridcolor": "white",
             "startlinecolor": "#2a3f5f"
            },
            "baxis": {
             "endlinecolor": "#2a3f5f",
             "gridcolor": "white",
             "linecolor": "white",
             "minorgridcolor": "white",
             "startlinecolor": "#2a3f5f"
            },
            "type": "carpet"
           }
          ],
          "choropleth": [
           {
            "colorbar": {
             "outlinewidth": 0,
             "ticks": ""
            },
            "type": "choropleth"
           }
          ],
          "contour": [
           {
            "colorbar": {
             "outlinewidth": 0,
             "ticks": ""
            },
            "colorscale": [
             [
              0,
              "#0d0887"
             ],
             [
              0.1111111111111111,
              "#46039f"
             ],
             [
              0.2222222222222222,
              "#7201a8"
             ],
             [
              0.3333333333333333,
              "#9c179e"
             ],
             [
              0.4444444444444444,
              "#bd3786"
             ],
             [
              0.5555555555555556,
              "#d8576b"
             ],
             [
              0.6666666666666666,
              "#ed7953"
             ],
             [
              0.7777777777777778,
              "#fb9f3a"
             ],
             [
              0.8888888888888888,
              "#fdca26"
             ],
             [
              1,
              "#f0f921"
             ]
            ],
            "type": "contour"
           }
          ],
          "contourcarpet": [
           {
            "colorbar": {
             "outlinewidth": 0,
             "ticks": ""
            },
            "type": "contourcarpet"
           }
          ],
          "heatmap": [
           {
            "colorbar": {
             "outlinewidth": 0,
             "ticks": ""
            },
            "colorscale": [
             [
              0,
              "#0d0887"
             ],
             [
              0.1111111111111111,
              "#46039f"
             ],
             [
              0.2222222222222222,
              "#7201a8"
             ],
             [
              0.3333333333333333,
              "#9c179e"
             ],
             [
              0.4444444444444444,
              "#bd3786"
             ],
             [
              0.5555555555555556,
              "#d8576b"
             ],
             [
              0.6666666666666666,
              "#ed7953"
             ],
             [
              0.7777777777777778,
              "#fb9f3a"
             ],
             [
              0.8888888888888888,
              "#fdca26"
             ],
             [
              1,
              "#f0f921"
             ]
            ],
            "type": "heatmap"
           }
          ],
          "heatmapgl": [
           {
            "colorbar": {
             "outlinewidth": 0,
             "ticks": ""
            },
            "colorscale": [
             [
              0,
              "#0d0887"
             ],
             [
              0.1111111111111111,
              "#46039f"
             ],
             [
              0.2222222222222222,
              "#7201a8"
             ],
             [
              0.3333333333333333,
              "#9c179e"
             ],
             [
              0.4444444444444444,
              "#bd3786"
             ],
             [
              0.5555555555555556,
              "#d8576b"
             ],
             [
              0.6666666666666666,
              "#ed7953"
             ],
             [
              0.7777777777777778,
              "#fb9f3a"
             ],
             [
              0.8888888888888888,
              "#fdca26"
             ],
             [
              1,
              "#f0f921"
             ]
            ],
            "type": "heatmapgl"
           }
          ],
          "histogram": [
           {
            "marker": {
             "pattern": {
              "fillmode": "overlay",
              "size": 10,
              "solidity": 0.2
             }
            },
            "type": "histogram"
           }
          ],
          "histogram2d": [
           {
            "colorbar": {
             "outlinewidth": 0,
             "ticks": ""
            },
            "colorscale": [
             [
              0,
              "#0d0887"
             ],
             [
              0.1111111111111111,
              "#46039f"
             ],
             [
              0.2222222222222222,
              "#7201a8"
             ],
             [
              0.3333333333333333,
              "#9c179e"
             ],
             [
              0.4444444444444444,
              "#bd3786"
             ],
             [
              0.5555555555555556,
              "#d8576b"
             ],
             [
              0.6666666666666666,
              "#ed7953"
             ],
             [
              0.7777777777777778,
              "#fb9f3a"
             ],
             [
              0.8888888888888888,
              "#fdca26"
             ],
             [
              1,
              "#f0f921"
             ]
            ],
            "type": "histogram2d"
           }
          ],
          "histogram2dcontour": [
           {
            "colorbar": {
             "outlinewidth": 0,
             "ticks": ""
            },
            "colorscale": [
             [
              0,
              "#0d0887"
             ],
             [
              0.1111111111111111,
              "#46039f"
             ],
             [
              0.2222222222222222,
              "#7201a8"
             ],
             [
              0.3333333333333333,
              "#9c179e"
             ],
             [
              0.4444444444444444,
              "#bd3786"
             ],
             [
              0.5555555555555556,
              "#d8576b"
             ],
             [
              0.6666666666666666,
              "#ed7953"
             ],
             [
              0.7777777777777778,
              "#fb9f3a"
             ],
             [
              0.8888888888888888,
              "#fdca26"
             ],
             [
              1,
              "#f0f921"
             ]
            ],
            "type": "histogram2dcontour"
           }
          ],
          "mesh3d": [
           {
            "colorbar": {
             "outlinewidth": 0,
             "ticks": ""
            },
            "type": "mesh3d"
           }
          ],
          "parcoords": [
           {
            "line": {
             "colorbar": {
              "outlinewidth": 0,
              "ticks": ""
             }
            },
            "type": "parcoords"
           }
          ],
          "pie": [
           {
            "automargin": true,
            "type": "pie"
           }
          ],
          "scatter": [
           {
            "fillpattern": {
             "fillmode": "overlay",
             "size": 10,
             "solidity": 0.2
            },
            "type": "scatter"
           }
          ],
          "scatter3d": [
           {
            "line": {
             "colorbar": {
              "outlinewidth": 0,
              "ticks": ""
             }
            },
            "marker": {
             "colorbar": {
              "outlinewidth": 0,
              "ticks": ""
             }
            },
            "type": "scatter3d"
           }
          ],
          "scattercarpet": [
           {
            "marker": {
             "colorbar": {
              "outlinewidth": 0,
              "ticks": ""
             }
            },
            "type": "scattercarpet"
           }
          ],
          "scattergeo": [
           {
            "marker": {
             "colorbar": {
              "outlinewidth": 0,
              "ticks": ""
             }
            },
            "type": "scattergeo"
           }
          ],
          "scattergl": [
           {
            "marker": {
             "colorbar": {
              "outlinewidth": 0,
              "ticks": ""
             }
            },
            "type": "scattergl"
           }
          ],
          "scattermapbox": [
           {
            "marker": {
             "colorbar": {
              "outlinewidth": 0,
              "ticks": ""
             }
            },
            "type": "scattermapbox"
           }
          ],
          "scatterpolar": [
           {
            "marker": {
             "colorbar": {
              "outlinewidth": 0,
              "ticks": ""
             }
            },
            "type": "scatterpolar"
           }
          ],
          "scatterpolargl": [
           {
            "marker": {
             "colorbar": {
              "outlinewidth": 0,
              "ticks": ""
             }
            },
            "type": "scatterpolargl"
           }
          ],
          "scatterternary": [
           {
            "marker": {
             "colorbar": {
              "outlinewidth": 0,
              "ticks": ""
             }
            },
            "type": "scatterternary"
           }
          ],
          "surface": [
           {
            "colorbar": {
             "outlinewidth": 0,
             "ticks": ""
            },
            "colorscale": [
             [
              0,
              "#0d0887"
             ],
             [
              0.1111111111111111,
              "#46039f"
             ],
             [
              0.2222222222222222,
              "#7201a8"
             ],
             [
              0.3333333333333333,
              "#9c179e"
             ],
             [
              0.4444444444444444,
              "#bd3786"
             ],
             [
              0.5555555555555556,
              "#d8576b"
             ],
             [
              0.6666666666666666,
              "#ed7953"
             ],
             [
              0.7777777777777778,
              "#fb9f3a"
             ],
             [
              0.8888888888888888,
              "#fdca26"
             ],
             [
              1,
              "#f0f921"
             ]
            ],
            "type": "surface"
           }
          ],
          "table": [
           {
            "cells": {
             "fill": {
              "color": "#EBF0F8"
             },
             "line": {
              "color": "white"
             }
            },
            "header": {
             "fill": {
              "color": "#C8D4E3"
             },
             "line": {
              "color": "white"
             }
            },
            "type": "table"
           }
          ]
         },
         "layout": {
          "annotationdefaults": {
           "arrowcolor": "#2a3f5f",
           "arrowhead": 0,
           "arrowwidth": 1
          },
          "autotypenumbers": "strict",
          "coloraxis": {
           "colorbar": {
            "outlinewidth": 0,
            "ticks": ""
           }
          },
          "colorscale": {
           "diverging": [
            [
             0,
             "#8e0152"
            ],
            [
             0.1,
             "#c51b7d"
            ],
            [
             0.2,
             "#de77ae"
            ],
            [
             0.3,
             "#f1b6da"
            ],
            [
             0.4,
             "#fde0ef"
            ],
            [
             0.5,
             "#f7f7f7"
            ],
            [
             0.6,
             "#e6f5d0"
            ],
            [
             0.7,
             "#b8e186"
            ],
            [
             0.8,
             "#7fbc41"
            ],
            [
             0.9,
             "#4d9221"
            ],
            [
             1,
             "#276419"
            ]
           ],
           "sequential": [
            [
             0,
             "#0d0887"
            ],
            [
             0.1111111111111111,
             "#46039f"
            ],
            [
             0.2222222222222222,
             "#7201a8"
            ],
            [
             0.3333333333333333,
             "#9c179e"
            ],
            [
             0.4444444444444444,
             "#bd3786"
            ],
            [
             0.5555555555555556,
             "#d8576b"
            ],
            [
             0.6666666666666666,
             "#ed7953"
            ],
            [
             0.7777777777777778,
             "#fb9f3a"
            ],
            [
             0.8888888888888888,
             "#fdca26"
            ],
            [
             1,
             "#f0f921"
            ]
           ],
           "sequentialminus": [
            [
             0,
             "#0d0887"
            ],
            [
             0.1111111111111111,
             "#46039f"
            ],
            [
             0.2222222222222222,
             "#7201a8"
            ],
            [
             0.3333333333333333,
             "#9c179e"
            ],
            [
             0.4444444444444444,
             "#bd3786"
            ],
            [
             0.5555555555555556,
             "#d8576b"
            ],
            [
             0.6666666666666666,
             "#ed7953"
            ],
            [
             0.7777777777777778,
             "#fb9f3a"
            ],
            [
             0.8888888888888888,
             "#fdca26"
            ],
            [
             1,
             "#f0f921"
            ]
           ]
          },
          "colorway": [
           "#636efa",
           "#EF553B",
           "#00cc96",
           "#ab63fa",
           "#FFA15A",
           "#19d3f3",
           "#FF6692",
           "#B6E880",
           "#FF97FF",
           "#FECB52"
          ],
          "font": {
           "color": "#2a3f5f"
          },
          "geo": {
           "bgcolor": "white",
           "lakecolor": "white",
           "landcolor": "#E5ECF6",
           "showlakes": true,
           "showland": true,
           "subunitcolor": "white"
          },
          "hoverlabel": {
           "align": "left"
          },
          "hovermode": "closest",
          "mapbox": {
           "style": "light"
          },
          "paper_bgcolor": "white",
          "plot_bgcolor": "#E5ECF6",
          "polar": {
           "angularaxis": {
            "gridcolor": "white",
            "linecolor": "white",
            "ticks": ""
           },
           "bgcolor": "#E5ECF6",
           "radialaxis": {
            "gridcolor": "white",
            "linecolor": "white",
            "ticks": ""
           }
          },
          "scene": {
           "xaxis": {
            "backgroundcolor": "#E5ECF6",
            "gridcolor": "white",
            "gridwidth": 2,
            "linecolor": "white",
            "showbackground": true,
            "ticks": "",
            "zerolinecolor": "white"
           },
           "yaxis": {
            "backgroundcolor": "#E5ECF6",
            "gridcolor": "white",
            "gridwidth": 2,
            "linecolor": "white",
            "showbackground": true,
            "ticks": "",
            "zerolinecolor": "white"
           },
           "zaxis": {
            "backgroundcolor": "#E5ECF6",
            "gridcolor": "white",
            "gridwidth": 2,
            "linecolor": "white",
            "showbackground": true,
            "ticks": "",
            "zerolinecolor": "white"
           }
          },
          "shapedefaults": {
           "line": {
            "color": "#2a3f5f"
           }
          },
          "ternary": {
           "aaxis": {
            "gridcolor": "white",
            "linecolor": "white",
            "ticks": ""
           },
           "baxis": {
            "gridcolor": "white",
            "linecolor": "white",
            "ticks": ""
           },
           "bgcolor": "#E5ECF6",
           "caxis": {
            "gridcolor": "white",
            "linecolor": "white",
            "ticks": ""
           }
          },
          "title": {
           "x": 0.05
          },
          "xaxis": {
           "automargin": true,
           "gridcolor": "white",
           "linecolor": "white",
           "ticks": "",
           "title": {
            "standoff": 15
           },
           "zerolinecolor": "white",
           "zerolinewidth": 2
          },
          "yaxis": {
           "automargin": true,
           "gridcolor": "white",
           "linecolor": "white",
           "ticks": "",
           "title": {
            "standoff": 15
           },
           "zerolinecolor": "white",
           "zerolinewidth": 2
          }
         }
        },
        "xaxis": {
         "anchor": "y",
         "constrain": "domain",
         "domain": [
          0,
          1
         ],
         "scaleanchor": "y"
        },
        "yaxis": {
         "anchor": "x",
         "autorange": "reversed",
         "constrain": "domain",
         "domain": [
          0,
          1
         ]
        }
       }
      },
      "text/html": [
       "<div>                            <div id=\"dd60e4d0-aee4-4daa-908a-c2bba7965c49\" class=\"plotly-graph-div\" style=\"height:525px; width:100%;\"></div>            <script type=\"text/javascript\">                require([\"plotly\"], function(Plotly) {                    window.PLOTLYENV=window.PLOTLYENV || {};                                    if (document.getElementById(\"dd60e4d0-aee4-4daa-908a-c2bba7965c49\")) {                    Plotly.newPlot(                        \"dd60e4d0-aee4-4daa-908a-c2bba7965c49\",                        [{\"coloraxis\":\"coloraxis\",\"name\":\"0\",\"x\":[\"\\u041d\\u0430\\u0441\\u0435\\u043b\\u0435\\u043d\\u043d\\u044f\",\"\\u0414\\u043e\\u0445\\u0456\\u0434 \\u043d\\u0430 \\u0434\\u0443\\u0448\\u0443 \\u043d\\u0430\\u0441\\u0435\\u043b\\u0435\\u043d\\u043d\\u044f $ \\u043d\\u0430 \\u0440\\u0456\\u043a\",\"\\u041f\\u043b\\u043e\\u0449\\u0430 \\u0442\\u0435\\u0440\\u0438\\u0442\\u043e\\u0440\\u0456\\u0457 \\u043a\\u043c.\\u043a\\u0432.\"],\"y\":[\"\\u041d\\u0430\\u0441\\u0435\\u043b\\u0435\\u043d\\u043d\\u044f\",\"\\u0414\\u043e\\u0445\\u0456\\u0434 \\u043d\\u0430 \\u0434\\u0443\\u0448\\u0443 \\u043d\\u0430\\u0441\\u0435\\u043b\\u0435\\u043d\\u043d\\u044f $ \\u043d\\u0430 \\u0440\\u0456\\u043a\",\"\\u041f\\u043b\\u043e\\u0449\\u0430 \\u0442\\u0435\\u0440\\u0438\\u0442\\u043e\\u0440\\u0456\\u0457 \\u043a\\u043c.\\u043a\\u0432.\"],\"z\":[[1.0,0.20172110675735647,0.7601859647803185],[0.20172110675735647,1.0,0.029498760794004476],[0.7601859647803185,0.029498760794004476,1.0]],\"type\":\"heatmap\",\"xaxis\":\"x\",\"yaxis\":\"y\",\"hovertemplate\":\"x: %{x}<br>y: %{y}<br>color: %{z}<extra></extra>\"}],                        {\"template\":{\"data\":{\"histogram2dcontour\":[{\"type\":\"histogram2dcontour\",\"colorbar\":{\"outlinewidth\":0,\"ticks\":\"\"},\"colorscale\":[[0.0,\"#0d0887\"],[0.1111111111111111,\"#46039f\"],[0.2222222222222222,\"#7201a8\"],[0.3333333333333333,\"#9c179e\"],[0.4444444444444444,\"#bd3786\"],[0.5555555555555556,\"#d8576b\"],[0.6666666666666666,\"#ed7953\"],[0.7777777777777778,\"#fb9f3a\"],[0.8888888888888888,\"#fdca26\"],[1.0,\"#f0f921\"]]}],\"choropleth\":[{\"type\":\"choropleth\",\"colorbar\":{\"outlinewidth\":0,\"ticks\":\"\"}}],\"histogram2d\":[{\"type\":\"histogram2d\",\"colorbar\":{\"outlinewidth\":0,\"ticks\":\"\"},\"colorscale\":[[0.0,\"#0d0887\"],[0.1111111111111111,\"#46039f\"],[0.2222222222222222,\"#7201a8\"],[0.3333333333333333,\"#9c179e\"],[0.4444444444444444,\"#bd3786\"],[0.5555555555555556,\"#d8576b\"],[0.6666666666666666,\"#ed7953\"],[0.7777777777777778,\"#fb9f3a\"],[0.8888888888888888,\"#fdca26\"],[1.0,\"#f0f921\"]]}],\"heatmap\":[{\"type\":\"heatmap\",\"colorbar\":{\"outlinewidth\":0,\"ticks\":\"\"},\"colorscale\":[[0.0,\"#0d0887\"],[0.1111111111111111,\"#46039f\"],[0.2222222222222222,\"#7201a8\"],[0.3333333333333333,\"#9c179e\"],[0.4444444444444444,\"#bd3786\"],[0.5555555555555556,\"#d8576b\"],[0.6666666666666666,\"#ed7953\"],[0.7777777777777778,\"#fb9f3a\"],[0.8888888888888888,\"#fdca26\"],[1.0,\"#f0f921\"]]}],\"heatmapgl\":[{\"type\":\"heatmapgl\",\"colorbar\":{\"outlinewidth\":0,\"ticks\":\"\"},\"colorscale\":[[0.0,\"#0d0887\"],[0.1111111111111111,\"#46039f\"],[0.2222222222222222,\"#7201a8\"],[0.3333333333333333,\"#9c179e\"],[0.4444444444444444,\"#bd3786\"],[0.5555555555555556,\"#d8576b\"],[0.6666666666666666,\"#ed7953\"],[0.7777777777777778,\"#fb9f3a\"],[0.8888888888888888,\"#fdca26\"],[1.0,\"#f0f921\"]]}],\"contourcarpet\":[{\"type\":\"contourcarpet\",\"colorbar\":{\"outlinewidth\":0,\"ticks\":\"\"}}],\"contour\":[{\"type\":\"contour\",\"colorbar\":{\"outlinewidth\":0,\"ticks\":\"\"},\"colorscale\":[[0.0,\"#0d0887\"],[0.1111111111111111,\"#46039f\"],[0.2222222222222222,\"#7201a8\"],[0.3333333333333333,\"#9c179e\"],[0.4444444444444444,\"#bd3786\"],[0.5555555555555556,\"#d8576b\"],[0.6666666666666666,\"#ed7953\"],[0.7777777777777778,\"#fb9f3a\"],[0.8888888888888888,\"#fdca26\"],[1.0,\"#f0f921\"]]}],\"surface\":[{\"type\":\"surface\",\"colorbar\":{\"outlinewidth\":0,\"ticks\":\"\"},\"colorscale\":[[0.0,\"#0d0887\"],[0.1111111111111111,\"#46039f\"],[0.2222222222222222,\"#7201a8\"],[0.3333333333333333,\"#9c179e\"],[0.4444444444444444,\"#bd3786\"],[0.5555555555555556,\"#d8576b\"],[0.6666666666666666,\"#ed7953\"],[0.7777777777777778,\"#fb9f3a\"],[0.8888888888888888,\"#fdca26\"],[1.0,\"#f0f921\"]]}],\"mesh3d\":[{\"type\":\"mesh3d\",\"colorbar\":{\"outlinewidth\":0,\"ticks\":\"\"}}],\"scatter\":[{\"fillpattern\":{\"fillmode\":\"overlay\",\"size\":10,\"solidity\":0.2},\"type\":\"scatter\"}],\"parcoords\":[{\"type\":\"parcoords\",\"line\":{\"colorbar\":{\"outlinewidth\":0,\"ticks\":\"\"}}}],\"scatterpolargl\":[{\"type\":\"scatterpolargl\",\"marker\":{\"colorbar\":{\"outlinewidth\":0,\"ticks\":\"\"}}}],\"bar\":[{\"error_x\":{\"color\":\"#2a3f5f\"},\"error_y\":{\"color\":\"#2a3f5f\"},\"marker\":{\"line\":{\"color\":\"#E5ECF6\",\"width\":0.5},\"pattern\":{\"fillmode\":\"overlay\",\"size\":10,\"solidity\":0.2}},\"type\":\"bar\"}],\"scattergeo\":[{\"type\":\"scattergeo\",\"marker\":{\"colorbar\":{\"outlinewidth\":0,\"ticks\":\"\"}}}],\"scatterpolar\":[{\"type\":\"scatterpolar\",\"marker\":{\"colorbar\":{\"outlinewidth\":0,\"ticks\":\"\"}}}],\"histogram\":[{\"marker\":{\"pattern\":{\"fillmode\":\"overlay\",\"size\":10,\"solidity\":0.2}},\"type\":\"histogram\"}],\"scattergl\":[{\"type\":\"scattergl\",\"marker\":{\"colorbar\":{\"outlinewidth\":0,\"ticks\":\"\"}}}],\"scatter3d\":[{\"type\":\"scatter3d\",\"line\":{\"colorbar\":{\"outlinewidth\":0,\"ticks\":\"\"}},\"marker\":{\"colorbar\":{\"outlinewidth\":0,\"ticks\":\"\"}}}],\"scattermapbox\":[{\"type\":\"scattermapbox\",\"marker\":{\"colorbar\":{\"outlinewidth\":0,\"ticks\":\"\"}}}],\"scatterternary\":[{\"type\":\"scatterternary\",\"marker\":{\"colorbar\":{\"outlinewidth\":0,\"ticks\":\"\"}}}],\"scattercarpet\":[{\"type\":\"scattercarpet\",\"marker\":{\"colorbar\":{\"outlinewidth\":0,\"ticks\":\"\"}}}],\"carpet\":[{\"aaxis\":{\"endlinecolor\":\"#2a3f5f\",\"gridcolor\":\"white\",\"linecolor\":\"white\",\"minorgridcolor\":\"white\",\"startlinecolor\":\"#2a3f5f\"},\"baxis\":{\"endlinecolor\":\"#2a3f5f\",\"gridcolor\":\"white\",\"linecolor\":\"white\",\"minorgridcolor\":\"white\",\"startlinecolor\":\"#2a3f5f\"},\"type\":\"carpet\"}],\"table\":[{\"cells\":{\"fill\":{\"color\":\"#EBF0F8\"},\"line\":{\"color\":\"white\"}},\"header\":{\"fill\":{\"color\":\"#C8D4E3\"},\"line\":{\"color\":\"white\"}},\"type\":\"table\"}],\"barpolar\":[{\"marker\":{\"line\":{\"color\":\"#E5ECF6\",\"width\":0.5},\"pattern\":{\"fillmode\":\"overlay\",\"size\":10,\"solidity\":0.2}},\"type\":\"barpolar\"}],\"pie\":[{\"automargin\":true,\"type\":\"pie\"}]},\"layout\":{\"autotypenumbers\":\"strict\",\"colorway\":[\"#636efa\",\"#EF553B\",\"#00cc96\",\"#ab63fa\",\"#FFA15A\",\"#19d3f3\",\"#FF6692\",\"#B6E880\",\"#FF97FF\",\"#FECB52\"],\"font\":{\"color\":\"#2a3f5f\"},\"hovermode\":\"closest\",\"hoverlabel\":{\"align\":\"left\"},\"paper_bgcolor\":\"white\",\"plot_bgcolor\":\"#E5ECF6\",\"polar\":{\"bgcolor\":\"#E5ECF6\",\"angularaxis\":{\"gridcolor\":\"white\",\"linecolor\":\"white\",\"ticks\":\"\"},\"radialaxis\":{\"gridcolor\":\"white\",\"linecolor\":\"white\",\"ticks\":\"\"}},\"ternary\":{\"bgcolor\":\"#E5ECF6\",\"aaxis\":{\"gridcolor\":\"white\",\"linecolor\":\"white\",\"ticks\":\"\"},\"baxis\":{\"gridcolor\":\"white\",\"linecolor\":\"white\",\"ticks\":\"\"},\"caxis\":{\"gridcolor\":\"white\",\"linecolor\":\"white\",\"ticks\":\"\"}},\"coloraxis\":{\"colorbar\":{\"outlinewidth\":0,\"ticks\":\"\"}},\"colorscale\":{\"sequential\":[[0.0,\"#0d0887\"],[0.1111111111111111,\"#46039f\"],[0.2222222222222222,\"#7201a8\"],[0.3333333333333333,\"#9c179e\"],[0.4444444444444444,\"#bd3786\"],[0.5555555555555556,\"#d8576b\"],[0.6666666666666666,\"#ed7953\"],[0.7777777777777778,\"#fb9f3a\"],[0.8888888888888888,\"#fdca26\"],[1.0,\"#f0f921\"]],\"sequentialminus\":[[0.0,\"#0d0887\"],[0.1111111111111111,\"#46039f\"],[0.2222222222222222,\"#7201a8\"],[0.3333333333333333,\"#9c179e\"],[0.4444444444444444,\"#bd3786\"],[0.5555555555555556,\"#d8576b\"],[0.6666666666666666,\"#ed7953\"],[0.7777777777777778,\"#fb9f3a\"],[0.8888888888888888,\"#fdca26\"],[1.0,\"#f0f921\"]],\"diverging\":[[0,\"#8e0152\"],[0.1,\"#c51b7d\"],[0.2,\"#de77ae\"],[0.3,\"#f1b6da\"],[0.4,\"#fde0ef\"],[0.5,\"#f7f7f7\"],[0.6,\"#e6f5d0\"],[0.7,\"#b8e186\"],[0.8,\"#7fbc41\"],[0.9,\"#4d9221\"],[1,\"#276419\"]]},\"xaxis\":{\"gridcolor\":\"white\",\"linecolor\":\"white\",\"ticks\":\"\",\"title\":{\"standoff\":15},\"zerolinecolor\":\"white\",\"automargin\":true,\"zerolinewidth\":2},\"yaxis\":{\"gridcolor\":\"white\",\"linecolor\":\"white\",\"ticks\":\"\",\"title\":{\"standoff\":15},\"zerolinecolor\":\"white\",\"automargin\":true,\"zerolinewidth\":2},\"scene\":{\"xaxis\":{\"backgroundcolor\":\"#E5ECF6\",\"gridcolor\":\"white\",\"linecolor\":\"white\",\"showbackground\":true,\"ticks\":\"\",\"zerolinecolor\":\"white\",\"gridwidth\":2},\"yaxis\":{\"backgroundcolor\":\"#E5ECF6\",\"gridcolor\":\"white\",\"linecolor\":\"white\",\"showbackground\":true,\"ticks\":\"\",\"zerolinecolor\":\"white\",\"gridwidth\":2},\"zaxis\":{\"backgroundcolor\":\"#E5ECF6\",\"gridcolor\":\"white\",\"linecolor\":\"white\",\"showbackground\":true,\"ticks\":\"\",\"zerolinecolor\":\"white\",\"gridwidth\":2}},\"shapedefaults\":{\"line\":{\"color\":\"#2a3f5f\"}},\"annotationdefaults\":{\"arrowcolor\":\"#2a3f5f\",\"arrowhead\":0,\"arrowwidth\":1},\"geo\":{\"bgcolor\":\"white\",\"landcolor\":\"#E5ECF6\",\"subunitcolor\":\"white\",\"showland\":true,\"showlakes\":true,\"lakecolor\":\"white\"},\"title\":{\"x\":0.05},\"mapbox\":{\"style\":\"light\"}}},\"xaxis\":{\"anchor\":\"y\",\"domain\":[0.0,1.0],\"scaleanchor\":\"y\",\"constrain\":\"domain\"},\"yaxis\":{\"anchor\":\"x\",\"domain\":[0.0,1.0],\"autorange\":\"reversed\",\"constrain\":\"domain\"},\"coloraxis\":{\"colorscale\":[[0.0,\"rgb(5,48,97)\"],[0.1,\"rgb(33,102,172)\"],[0.2,\"rgb(67,147,195)\"],[0.3,\"rgb(146,197,222)\"],[0.4,\"rgb(209,229,240)\"],[0.5,\"rgb(247,247,247)\"],[0.6,\"rgb(253,219,199)\"],[0.7,\"rgb(244,165,130)\"],[0.8,\"rgb(214,96,77)\"],[0.9,\"rgb(178,24,43)\"],[1.0,\"rgb(103,0,31)\"]]},\"margin\":{\"t\":60}},                        {\"responsive\": true}                    ).then(function(){\n",
       "                            \n",
       "var gd = document.getElementById('dd60e4d0-aee4-4daa-908a-c2bba7965c49');\n",
       "var x = new MutationObserver(function (mutations, observer) {{\n",
       "        var display = window.getComputedStyle(gd).display;\n",
       "        if (!display || display === 'none') {{\n",
       "            console.log([gd, 'removed!']);\n",
       "            Plotly.purge(gd);\n",
       "            observer.disconnect();\n",
       "        }}\n",
       "}});\n",
       "\n",
       "// Listen for the removal of the full notebook cells\n",
       "var notebookContainer = gd.closest('#notebook-container');\n",
       "if (notebookContainer) {{\n",
       "    x.observe(notebookContainer, {childList: true});\n",
       "}}\n",
       "\n",
       "// Listen for the clearing of the current output cell\n",
       "var outputEl = gd.closest('.output');\n",
       "if (outputEl) {{\n",
       "    x.observe(outputEl, {childList: true});\n",
       "}}\n",
       "\n",
       "                        })                };                });            </script>        </div>"
      ]
     },
     "metadata": {},
     "output_type": "display_data"
    }
   ],
   "source": [
    "#Матриця кореляції та візуалізація через heatmap\n",
    "corr_matrix = data.corr()\n",
    "\n",
    "fig = px.imshow(corr_matrix,\n",
    "                x=corr_matrix.columns,\n",
    "                y=corr_matrix.columns,\n",
    "                color_continuous_scale='RdBu_r')\n",
    "\n",
    "fig.show()"
   ]
  },
  {
   "cell_type": "code",
   "execution_count": 24,
   "id": "8680afc0",
   "metadata": {},
   "outputs": [
    {
     "name": "stdout",
     "output_type": "stream",
     "text": [
      "Defaulting to user installation because normal site-packages is not writeable\n",
      "Requirement already satisfied: sweetviz in c:\\users\\bilyi\\appdata\\roaming\\python\\python39\\site-packages (2.1.4)\n",
      "Requirement already satisfied: matplotlib>=3.1.3 in c:\\anaconda3\\lib\\site-packages (from sweetviz) (3.5.2)\n",
      "Requirement already satisfied: tqdm>=4.43.0 in c:\\anaconda3\\lib\\site-packages (from sweetviz) (4.64.1)\n",
      "Requirement already satisfied: importlib-resources>=1.2.0 in c:\\users\\bilyi\\appdata\\roaming\\python\\python39\\site-packages (from sweetviz) (5.12.0)\n",
      "Requirement already satisfied: jinja2>=2.11.1 in c:\\anaconda3\\lib\\site-packages (from sweetviz) (2.11.3)\n",
      "Requirement already satisfied: scipy>=1.3.2 in c:\\anaconda3\\lib\\site-packages (from sweetviz) (1.9.1)\n",
      "Requirement already satisfied: pandas!=1.0.0,!=1.0.1,!=1.0.2,>=0.25.3 in c:\\anaconda3\\lib\\site-packages (from sweetviz) (1.4.4)\n",
      "Requirement already satisfied: numpy>=1.16.0 in c:\\anaconda3\\lib\\site-packages (from sweetviz) (1.21.5)\n",
      "Requirement already satisfied: zipp>=3.1.0 in c:\\anaconda3\\lib\\site-packages (from importlib-resources>=1.2.0->sweetviz) (3.8.0)\n",
      "Requirement already satisfied: MarkupSafe>=0.23 in c:\\anaconda3\\lib\\site-packages (from jinja2>=2.11.1->sweetviz) (2.0.1)\n",
      "Requirement already satisfied: cycler>=0.10 in c:\\anaconda3\\lib\\site-packages (from matplotlib>=3.1.3->sweetviz) (0.11.0)\n",
      "Requirement already satisfied: fonttools>=4.22.0 in c:\\anaconda3\\lib\\site-packages (from matplotlib>=3.1.3->sweetviz) (4.25.0)\n",
      "Requirement already satisfied: packaging>=20.0 in c:\\anaconda3\\lib\\site-packages (from matplotlib>=3.1.3->sweetviz) (21.3)\n",
      "Requirement already satisfied: kiwisolver>=1.0.1 in c:\\anaconda3\\lib\\site-packages (from matplotlib>=3.1.3->sweetviz) (1.4.2)\n",
      "Requirement already satisfied: pyparsing>=2.2.1 in c:\\anaconda3\\lib\\site-packages (from matplotlib>=3.1.3->sweetviz) (3.0.9)\n",
      "Requirement already satisfied: python-dateutil>=2.7 in c:\\anaconda3\\lib\\site-packages (from matplotlib>=3.1.3->sweetviz) (2.8.2)\n",
      "Requirement already satisfied: pillow>=6.2.0 in c:\\anaconda3\\lib\\site-packages (from matplotlib>=3.1.3->sweetviz) (9.2.0)\n",
      "Requirement already satisfied: pytz>=2020.1 in c:\\anaconda3\\lib\\site-packages (from pandas!=1.0.0,!=1.0.1,!=1.0.2,>=0.25.3->sweetviz) (2022.1)\n",
      "Requirement already satisfied: colorama in c:\\anaconda3\\lib\\site-packages (from tqdm>=4.43.0->sweetviz) (0.4.5)\n",
      "Requirement already satisfied: six>=1.5 in c:\\anaconda3\\lib\\site-packages (from python-dateutil>=2.7->matplotlib>=3.1.3->sweetviz) (1.16.0)\n"
     ]
    },
    {
     "data": {
      "application/vnd.jupyter.widget-view+json": {
       "model_id": "3a3d66aa4d7d4a158e88ff61b7d6af42",
       "version_major": 2,
       "version_minor": 0
      },
      "text/plain": [
       "                                             |                                             | [  0%]   00:00 ->…"
      ]
     },
     "metadata": {},
     "output_type": "display_data"
    },
    {
     "name": "stdout",
     "output_type": "stream",
     "text": [
      "Report SWEETVIZ_REPORT.html was generated! NOTEBOOK/COLAB USERS: the web browser MAY not pop up, regardless, the report IS saved in your notebook/colab files.\n"
     ]
    }
   ],
   "source": [
    "#звіт про таблицю за допомогою sweetviz\n",
    "!pip install sweetviz\n",
    "import sweetviz as sv\n",
    "\n",
    "report_sweetviz = sv.analyze(data)\n",
    "report_sweetviz.show_html()"
   ]
  },
  {
   "cell_type": "code",
   "execution_count": 25,
   "id": "5e860891",
   "metadata": {},
   "outputs": [
    {
     "name": "stdout",
     "output_type": "stream",
     "text": [
      "Defaulting to user installation because normal site-packages is not writeable\n",
      "Requirement already satisfied: pandas-profiling in c:\\users\\bilyi\\appdata\\roaming\\python\\python39\\site-packages (3.6.6)\n",
      "Requirement already satisfied: ydata-profiling in c:\\users\\bilyi\\appdata\\roaming\\python\\python39\\site-packages (from pandas-profiling) (4.1.2)\n",
      "Requirement already satisfied: typeguard<2.14,>=2.13.2 in c:\\users\\bilyi\\appdata\\roaming\\python\\python39\\site-packages (from ydata-profiling->pandas-profiling) (2.13.3)\n",
      "Requirement already satisfied: numpy<1.24,>=1.16.0 in c:\\anaconda3\\lib\\site-packages (from ydata-profiling->pandas-profiling) (1.21.5)\n",
      "Requirement already satisfied: scipy<1.10,>=1.4.1 in c:\\anaconda3\\lib\\site-packages (from ydata-profiling->pandas-profiling) (1.9.1)\n",
      "Requirement already satisfied: phik<0.13,>=0.11.1 in c:\\users\\bilyi\\appdata\\roaming\\python\\python39\\site-packages (from ydata-profiling->pandas-profiling) (0.12.3)\n",
      "Requirement already satisfied: requests<2.29,>=2.24.0 in c:\\anaconda3\\lib\\site-packages (from ydata-profiling->pandas-profiling) (2.28.1)\n",
      "Requirement already satisfied: imagehash==4.3.1 in c:\\users\\bilyi\\appdata\\roaming\\python\\python39\\site-packages (from ydata-profiling->pandas-profiling) (4.3.1)\n",
      "Requirement already satisfied: htmlmin==0.1.12 in c:\\users\\bilyi\\appdata\\roaming\\python\\python39\\site-packages (from ydata-profiling->pandas-profiling) (0.1.12)\n",
      "Requirement already satisfied: pydantic<1.11,>=1.8.1 in c:\\users\\bilyi\\appdata\\roaming\\python\\python39\\site-packages (from ydata-profiling->pandas-profiling) (1.10.7)\n",
      "Requirement already satisfied: multimethod<1.10,>=1.4 in c:\\users\\bilyi\\appdata\\roaming\\python\\python39\\site-packages (from ydata-profiling->pandas-profiling) (1.9.1)\n",
      "Requirement already satisfied: jinja2<3.2,>=2.11.1 in c:\\anaconda3\\lib\\site-packages (from ydata-profiling->pandas-profiling) (2.11.3)\n",
      "Requirement already satisfied: matplotlib<3.7,>=3.2 in c:\\anaconda3\\lib\\site-packages (from ydata-profiling->pandas-profiling) (3.5.2)\n",
      "Requirement already satisfied: tqdm<4.65,>=4.48.2 in c:\\anaconda3\\lib\\site-packages (from ydata-profiling->pandas-profiling) (4.64.1)\n",
      "Requirement already satisfied: seaborn<0.13,>=0.10.1 in c:\\anaconda3\\lib\\site-packages (from ydata-profiling->pandas-profiling) (0.11.2)\n",
      "Requirement already satisfied: visions[type_image_path]==0.7.5 in c:\\users\\bilyi\\appdata\\roaming\\python\\python39\\site-packages (from ydata-profiling->pandas-profiling) (0.7.5)\n",
      "Requirement already satisfied: statsmodels<0.14,>=0.13.2 in c:\\anaconda3\\lib\\site-packages (from ydata-profiling->pandas-profiling) (0.13.2)\n",
      "Requirement already satisfied: PyYAML<6.1,>=5.0.0 in c:\\anaconda3\\lib\\site-packages (from ydata-profiling->pandas-profiling) (6.0)\n",
      "Requirement already satisfied: pandas!=1.4.0,<1.6,>1.1 in c:\\anaconda3\\lib\\site-packages (from ydata-profiling->pandas-profiling) (1.4.4)\n",
      "Requirement already satisfied: PyWavelets in c:\\anaconda3\\lib\\site-packages (from imagehash==4.3.1->ydata-profiling->pandas-profiling) (1.3.0)\n",
      "Requirement already satisfied: pillow in c:\\anaconda3\\lib\\site-packages (from imagehash==4.3.1->ydata-profiling->pandas-profiling) (9.2.0)\n",
      "Requirement already satisfied: attrs>=19.3.0 in c:\\anaconda3\\lib\\site-packages (from visions[type_image_path]==0.7.5->ydata-profiling->pandas-profiling) (21.4.0)\n",
      "Requirement already satisfied: networkx>=2.4 in c:\\anaconda3\\lib\\site-packages (from visions[type_image_path]==0.7.5->ydata-profiling->pandas-profiling) (2.8.4)\n",
      "Requirement already satisfied: tangled-up-in-unicode>=0.0.4 in c:\\users\\bilyi\\appdata\\roaming\\python\\python39\\site-packages (from visions[type_image_path]==0.7.5->ydata-profiling->pandas-profiling) (0.2.0)\n",
      "Requirement already satisfied: MarkupSafe>=0.23 in c:\\anaconda3\\lib\\site-packages (from jinja2<3.2,>=2.11.1->ydata-profiling->pandas-profiling) (2.0.1)\n",
      "Requirement already satisfied: packaging>=20.0 in c:\\anaconda3\\lib\\site-packages (from matplotlib<3.7,>=3.2->ydata-profiling->pandas-profiling) (21.3)\n",
      "Requirement already satisfied: fonttools>=4.22.0 in c:\\anaconda3\\lib\\site-packages (from matplotlib<3.7,>=3.2->ydata-profiling->pandas-profiling) (4.25.0)\n",
      "Requirement already satisfied: pyparsing>=2.2.1 in c:\\anaconda3\\lib\\site-packages (from matplotlib<3.7,>=3.2->ydata-profiling->pandas-profiling) (3.0.9)\n",
      "Requirement already satisfied: python-dateutil>=2.7 in c:\\anaconda3\\lib\\site-packages (from matplotlib<3.7,>=3.2->ydata-profiling->pandas-profiling) (2.8.2)\n",
      "Requirement already satisfied: kiwisolver>=1.0.1 in c:\\anaconda3\\lib\\site-packages (from matplotlib<3.7,>=3.2->ydata-profiling->pandas-profiling) (1.4.2)\n",
      "Requirement already satisfied: cycler>=0.10 in c:\\anaconda3\\lib\\site-packages (from matplotlib<3.7,>=3.2->ydata-profiling->pandas-profiling) (0.11.0)\n",
      "Requirement already satisfied: pytz>=2020.1 in c:\\anaconda3\\lib\\site-packages (from pandas!=1.4.0,<1.6,>1.1->ydata-profiling->pandas-profiling) (2022.1)\n",
      "Requirement already satisfied: joblib>=0.14.1 in c:\\anaconda3\\lib\\site-packages (from phik<0.13,>=0.11.1->ydata-profiling->pandas-profiling) (1.1.0)\n",
      "Requirement already satisfied: typing-extensions>=4.2.0 in c:\\anaconda3\\lib\\site-packages (from pydantic<1.11,>=1.8.1->ydata-profiling->pandas-profiling) (4.3.0)\n",
      "Requirement already satisfied: idna<4,>=2.5 in c:\\anaconda3\\lib\\site-packages (from requests<2.29,>=2.24.0->ydata-profiling->pandas-profiling) (3.3)\n",
      "Requirement already satisfied: certifi>=2017.4.17 in c:\\anaconda3\\lib\\site-packages (from requests<2.29,>=2.24.0->ydata-profiling->pandas-profiling) (2022.9.14)\n",
      "Requirement already satisfied: charset-normalizer<3,>=2 in c:\\anaconda3\\lib\\site-packages (from requests<2.29,>=2.24.0->ydata-profiling->pandas-profiling) (2.0.4)\n",
      "Requirement already satisfied: urllib3<1.27,>=1.21.1 in c:\\anaconda3\\lib\\site-packages (from requests<2.29,>=2.24.0->ydata-profiling->pandas-profiling) (1.26.11)\n",
      "Requirement already satisfied: patsy>=0.5.2 in c:\\anaconda3\\lib\\site-packages (from statsmodels<0.14,>=0.13.2->ydata-profiling->pandas-profiling) (0.5.2)\n",
      "Requirement already satisfied: colorama in c:\\anaconda3\\lib\\site-packages (from tqdm<4.65,>=4.48.2->ydata-profiling->pandas-profiling) (0.4.5)\n",
      "Requirement already satisfied: six in c:\\anaconda3\\lib\\site-packages (from patsy>=0.5.2->statsmodels<0.14,>=0.13.2->ydata-profiling->pandas-profiling) (1.16.0)\n"
     ]
    },
    {
     "data": {
      "application/vnd.jupyter.widget-view+json": {
       "model_id": "c87420daaf5340929a6e4a2b3230f440",
       "version_major": 2,
       "version_minor": 0
      },
      "text/plain": [
       "Summarize dataset:   0%|          | 0/5 [00:00<?, ?it/s]"
      ]
     },
     "metadata": {},
     "output_type": "display_data"
    },
    {
     "data": {
      "application/vnd.jupyter.widget-view+json": {
       "model_id": "799428949c9a4e58825de4ec24a4ad6a",
       "version_major": 2,
       "version_minor": 0
      },
      "text/plain": [
       "Generate report structure:   0%|          | 0/1 [00:00<?, ?it/s]"
      ]
     },
     "metadata": {},
     "output_type": "display_data"
    },
    {
     "data": {
      "application/vnd.jupyter.widget-view+json": {
       "model_id": "0bba9ea2812047678d45e14c96cd7f0c",
       "version_major": 2,
       "version_minor": 0
      },
      "text/plain": [
       "Render HTML:   0%|          | 0/1 [00:00<?, ?it/s]"
      ]
     },
     "metadata": {},
     "output_type": "display_data"
    },
    {
     "data": {
      "application/vnd.jupyter.widget-view+json": {
       "model_id": "b614603d373e45058a19b597a3deb4a8",
       "version_major": 2,
       "version_minor": 0
      },
      "text/plain": [
       "Export report to file:   0%|          | 0/1 [00:00<?, ?it/s]"
      ]
     },
     "metadata": {},
     "output_type": "display_data"
    }
   ],
   "source": [
    "#звіт про таблицю за допомогою pandas-profilling\n",
    "!pip install pandas-profiling\n",
    "from pandas_profiling import ProfileReport\n",
    "\n",
    "report_pp = ProfileReport(data)\n",
    "report_pp.to_file(\"report_pp.html\")"
   ]
  },
  {
   "cell_type": "code",
   "execution_count": 27,
   "id": "887b5bc5",
   "metadata": {},
   "outputs": [
    {
     "data": {
      "text/plain": [
       "\"\\nSweetviz та pandas-proffiling це дві прекрасні інструменти (бібліотеки), які допомагають візуалізувати данні.\\nНа мою думку sweetviz є інструментом для швидкого огляду даних, який показує дані про мінімальне та максимальне значення, \\nа також деякі інші статистичні характеристики, такі як середнє значення, медіана, стандартне відхилення тощо.\\nТакож важливим моментом є те, що він дає можливість побудувати графіки розподілу для кожного числового стовпця. \\nЩо в свою чергу дозволяє більш детально дослідити розподіл даних та виявити викиди.\\nPandas-proffiling в свою чергу дає більше статистичних характеристик. Візуалізує деякі залежности.\\nРобить матрицю кореляції та візуалізує на heatmap. Хоча візаулізація є і в Sweetviz, але на мою думку в pandas-proffiling\\nце виглядаэ більш детально. Також важливим є те що в pandas-profilling можна швидко побачити кореляцію між різними типами\\nданих, що на мою думку є дуже важливим для дослідження взаємозв'язків між ними.\\nВисновок.\\nSweetviz є більш спрощеною та швидкою альтернативою, що дає можливість одразу отримати загальну картину даних \\nза допомогою великої кількості графіків, діаграм та таблиць. У той же час, pandas-profiling є більш гнучким та розширеним \\nінструментом, що дає більше можливостей для налаштування та підгонки звітів під потреби конкретної аналітичної задачі.\\n\""
      ]
     },
     "execution_count": 27,
     "metadata": {},
     "output_type": "execute_result"
    }
   ],
   "source": [
    "\"\"\"\n",
    "Sweetviz та pandas-proffiling це дві прекрасні інструменти (бібліотеки), які допомагають візуалізувати данні.\n",
    "На мою думку sweetviz є інструментом для швидкого огляду даних, який показує дані про мінімальне та максимальне значення, \n",
    "а також деякі інші статистичні характеристики, такі як середнє значення, медіана, стандартне відхилення тощо.\n",
    "Також важливим моментом є те, що він дає можливість побудувати графіки розподілу для кожного числового стовпця. \n",
    "Що в свою чергу дозволяє більш детально дослідити розподіл даних та виявити викиди.\n",
    "Pandas-proffiling в свою чергу дає більше статистичних характеристик. Візуалізує деякі залежности.\n",
    "Робить матрицю кореляції та візуалізує на heatmap. Хоча візаулізація є і в Sweetviz, але на мою думку в pandas-proffiling\n",
    "це виглядаэ більш детально. Також важливим є те що в pandas-profilling можна швидко побачити кореляцію між різними типами\n",
    "даних, що на мою думку є дуже важливим для дослідження взаємозв'язків між ними.\n",
    "Висновок.\n",
    "Sweetviz є більш спрощеною та швидкою альтернативою, що дає можливість одразу отримати загальну картину даних \n",
    "за допомогою великої кількості графіків, діаграм та таблиць. У той же час, pandas-profiling є більш гнучким та розширеним \n",
    "інструментом, що дає більше можливостей для налаштування та підгонки звітів під потреби конкретної аналітичної задачі.\n",
    "\"\"\""
   ]
  },
  {
   "cell_type": "code",
   "execution_count": null,
   "id": "c5a491e9",
   "metadata": {},
   "outputs": [],
   "source": []
  }
 ],
 "metadata": {
  "kernelspec": {
   "display_name": "Python 3 (ipykernel)",
   "language": "python",
   "name": "python3"
  },
  "language_info": {
   "codemirror_mode": {
    "name": "ipython",
    "version": 3
   },
   "file_extension": ".py",
   "mimetype": "text/x-python",
   "name": "python",
   "nbconvert_exporter": "python",
   "pygments_lexer": "ipython3",
   "version": "3.9.13"
  }
 },
 "nbformat": 4,
 "nbformat_minor": 5
}
